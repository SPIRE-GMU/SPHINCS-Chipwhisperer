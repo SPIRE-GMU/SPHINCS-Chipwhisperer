{
 "cells": [
  {
   "cell_type": "markdown",
   "id": "9704d6e3",
   "metadata": {},
   "source": [
    "**Setup the cw**"
   ]
  },
  {
   "cell_type": "markdown",
   "id": "8fad08f6",
   "metadata": {},
   "source": [
    "CRYPTO_TARGET='SPHINCSplus'\n",
    "PLATFORM='CW308_STM32F3'"
   ]
  },
  {
   "cell_type": "code",
   "execution_count": 974,
   "id": "4a583355",
   "metadata": {},
   "outputs": [],
   "source": [
    "import time\n",
    "import chipwhisperer as cw\n",
    "scope = cw.scope()\n",
    "target = cw.target(scope, cw.targets.SimpleSerial) #cw.targets.SimpleSerial can be omitted\n",
    "scope.default_setup()"
   ]
  },
  {
   "cell_type": "markdown",
   "id": "07c201dc",
   "metadata": {},
   "source": [
    "**Compile the code**"
   ]
  },
  {
   "cell_type": "code",
   "execution_count": 1153,
   "id": "53cbc119",
   "metadata": {},
   "outputs": [
    {
     "name": "stdout",
     "output_type": "stream",
     "text": [
      "SS_VER set to SS_VER_1_1\n",
      "SS_VER set to SS_VER_1_1\n",
      "Blank crypto options, building for AES128\n",
      "SS_VER set to SS_VER_1_1\n",
      "SS_VER set to SS_VER_1_1\n",
      "Blank crypto options, building for AES128\n",
      "make[1]: '.dep' is up to date.\n",
      "SS_VER set to SS_VER_1_1\n",
      "SS_VER set to SS_VER_1_1\n",
      "Blank crypto options, building for AES128\n",
      ".\n",
      "Welcome to another exciting ChipWhisperer target build!!\n",
      "arm-none-eabi-gcc (15:10.3-2021.07-4) 10.3.1 20210621 (release)\n",
      "Copyright (C) 2020 Free Software Foundation, Inc.\n",
      "This is free software; see the source for copying conditions.  There is NO\n",
      "warranty; not even for MERCHANTABILITY or FITNESS FOR A PARTICULAR PURPOSE.\n",
      "\n",
      ".\n",
      "Compiling:\n",
      "-en     simpleserial-sphincsplus.c ...\n",
      "-e Done!\n",
      ".\n",
      "Compiling:\n",
      "-en     .././simpleserial/simpleserial.c ...\n",
      "-e Done!\n",
      ".\n",
      "Compiling:\n",
      "-en     .././hal/stm32f3/stm32f3_hal.c ...\n",
      "-e Done!\n",
      ".\n",
      "Compiling:\n",
      "-en     .././hal/stm32f3/stm32f3_hal_lowlevel.c ...\n",
      "-e Done!\n",
      ".\n",
      "Compiling:\n",
      "-en     .././hal/stm32f3/stm32f3_sysmem.c ...\n",
      "-e Done!\n",
      ".\n",
      "Compiling:\n",
      "-en     .././crypto/SPHINCSplus/address.c ...\n",
      "-e Done!\n",
      ".\n",
      "Compiling:\n",
      "-en     .././crypto/SPHINCSplus/randombytes.c ...\n",
      "-e Done!\n",
      ".\n",
      "Compiling:\n",
      "-en     .././crypto/SPHINCSplus/merkle.c ...\n",
      "-e Done!\n",
      ".\n",
      "Compiling:\n",
      "-en     .././crypto/SPHINCSplus/wots.c ...\n",
      "-e Done!\n",
      ".\n",
      "Compiling:\n",
      "-en     .././crypto/SPHINCSplus/wotsx1.c ...\n",
      "-e Done!\n",
      ".\n",
      "Compiling:\n",
      "-en     .././crypto/SPHINCSplus/utils.c ...\n",
      "-e Done!\n",
      ".\n",
      "Compiling:\n",
      "-en     .././crypto/SPHINCSplus/utilsx1.c ...\n",
      "-e Done!\n",
      ".\n",
      "Compiling:\n",
      "-en     .././crypto/SPHINCSplus/fors.c ...\n",
      "-e Done!\n",
      ".\n",
      "Compiling:\n",
      "-en     .././crypto/SPHINCSplus/sign.c ...\n",
      "-e Done!\n",
      ".\n",
      "Compiling:\n",
      "-en     .././crypto/SPHINCSplus/fips202.c ...\n",
      "-e Done!\n",
      ".\n",
      "Compiling:\n",
      "-en     .././crypto/SPHINCSplus/hash_shake256.c ...\n",
      "-e Done!\n",
      ".\n",
      "Compiling:\n",
      "-en     .././crypto/SPHINCSplus/thash_shake256_simple.c ...\n",
      "-e Done!\n",
      ".\n",
      "Assembling: .././hal/stm32f3/stm32f3_startup.S\n",
      "arm-none-eabi-gcc -c -mcpu=cortex-m4 -I. -x assembler-with-cpp -mthumb -mfloat-abi=soft -fmessage-length=0 -ffunction-sections -DF_CPU=7372800 -Wa,-gstabs,-adhlns=objdir-CW308_STM32F3/stm32f3_startup.lst -I.././simpleserial/ -I.././hal -I.././hal/stm32f3 -I.././hal/stm32f3/CMSIS -I.././hal/stm32f3/CMSIS/core -I.././hal/stm32f3/CMSIS/device -I.././hal/stm32f4/Legacy -I.././simpleserial/ -I.././crypto/ -I.././crypto/SPHINCSplus -I.././crypto/keccak .././hal/stm32f3/stm32f3_startup.S -o objdir-CW308_STM32F3/stm32f3_startup.o\n",
      ".\n",
      "LINKING:\n",
      "-en     simpleserial-sphincsplus-CW308_STM32F3.elf ...\n",
      "-e Done!\n",
      ".\n",
      "Creating load file for Flash: simpleserial-sphincsplus-CW308_STM32F3.hex\n",
      "arm-none-eabi-objcopy -O ihex -R .eeprom -R .fuse -R .lock -R .signature simpleserial-sphincsplus-CW308_STM32F3.elf simpleserial-sphincsplus-CW308_STM32F3.hex\n",
      ".\n",
      "Creating load file for Flash: simpleserial-sphincsplus-CW308_STM32F3.bin\n",
      "arm-none-eabi-objcopy -O binary -R .eeprom -R .fuse -R .lock -R .signature simpleserial-sphincsplus-CW308_STM32F3.elf simpleserial-sphincsplus-CW308_STM32F3.bin\n",
      ".\n",
      "Creating load file for EEPROM: simpleserial-sphincsplus-CW308_STM32F3.eep\n",
      "arm-none-eabi-objcopy -j .eeprom --set-section-flags=.eeprom=\"alloc,load\" \\\n",
      "--change-section-lma .eeprom=0 --no-change-warnings -O ihex simpleserial-sphincsplus-CW308_STM32F3.elf simpleserial-sphincsplus-CW308_STM32F3.eep || exit 0\n",
      ".\n",
      "Creating Extended Listing: simpleserial-sphincsplus-CW308_STM32F3.lss\n",
      "arm-none-eabi-objdump -h -S -z simpleserial-sphincsplus-CW308_STM32F3.elf > simpleserial-sphincsplus-CW308_STM32F3.lss\n",
      ".\n",
      "Creating Symbol Table: simpleserial-sphincsplus-CW308_STM32F3.sym\n",
      "arm-none-eabi-nm -n simpleserial-sphincsplus-CW308_STM32F3.elf > simpleserial-sphincsplus-CW308_STM32F3.sym\n",
      "SS_VER set to SS_VER_1_1\n",
      "SS_VER set to SS_VER_1_1\n",
      "Blank crypto options, building for AES128\n",
      "Size after:\n",
      "   text\t   data\t    bss\t    dec\t    hex\tfilename\n",
      "  14180\t    168\t  25608\t  39956\t   9c14\tsimpleserial-sphincsplus-CW308_STM32F3.elf\n",
      "+--------------------------------------------------------\n",
      "+ Default target does full rebuild each time.\n",
      "+ Specify buildtarget == allquick == to avoid full rebuild\n",
      "+--------------------------------------------------------\n",
      "+--------------------------------------------------------\n",
      "+ Built for platform CW308T: STM32F3 Target with:\n",
      "+ CRYPTO_TARGET = SPHINCSplus\n",
      "+ CRYPTO_OPTIONS = AES128C\n",
      "+--------------------------------------------------------\n"
     ]
    }
   ],
   "source": [
    "%%bash\n",
    "#please find your own sphincsplus\n",
    "\n",
    "cd ../../hardware/victims/firmware/simpleserial-sphincsplus/\n",
    "\n",
    "# make PLATFORM='CW308_STM32F3' CRYPTO_TARGET=SPHINCSplus\n",
    "make PLATFORM='CW308_STM32F3' CRYPTO_TARGET=SPHINCSplus\n",
    "\n"
   ]
  },
  {
   "cell_type": "markdown",
   "id": "34e21943",
   "metadata": {},
   "source": [
    "**Program**"
   ]
  },
  {
   "cell_type": "code",
   "execution_count": 1154,
   "id": "b65ef218",
   "metadata": {},
   "outputs": [
    {
     "name": "stdout",
     "output_type": "stream",
     "text": [
      "Detected unknown STM32F ID: 0x446\n",
      "Extended erase (0x44), this can take ten seconds or more\n",
      "Attempting to program 14351 bytes at 0x8000000\n",
      "STM32F Programming flash...\n",
      "STM32F Reading flash...\n",
      "Verified flash OK, 14351 bytes\n"
     ]
    }
   ],
   "source": [
    "#please find your .hex file after compilation\n",
    "cw.program_target(scope, cw.programmers.STM32FProgrammer, \"/home/z/chipwhisperer/hardware/victims/firmware/simpleserial-sphincsplus/simpleserial-sphincsplus-CW308_STM32F3.hex\")\n"
   ]
  },
  {
   "cell_type": "markdown",
   "id": "735627dc",
   "metadata": {},
   "source": [
    "**Communicate with target**"
   ]
  },
  {
   "cell_type": "code",
   "execution_count": 317,
   "id": "99b168a9",
   "metadata": {},
   "outputs": [
    {
     "name": "stdout",
     "output_type": "stream",
     "text": [
      "ûº\"\u0000\u0001áSPHINCS+\n",
      "\n"
     ]
    }
   ],
   "source": [
    "print(target.read())"
   ]
  },
  {
   "cell_type": "code",
   "execution_count": 349,
   "id": "0c218137",
   "metadata": {},
   "outputs": [],
   "source": [
    "msg = bytearray([3]*32) #simpleserial uses bytearrays\n",
    "scope.arm()\n",
    "target.simpleserial_write('a', msg)\n"
   ]
  },
  {
   "cell_type": "code",
   "execution_count": 350,
   "id": "8d6e3201",
   "metadata": {},
   "outputs": [
    {
     "name": "stdout",
     "output_type": "stream",
     "text": [
      "rC133656B89672C806A7FB33407D5920415BEFA83AB0470D2FBC117733C8BF95E\n",
      "z00\n",
      "\n"
     ]
    }
   ],
   "source": [
    "print(target.read(5000,1000))\n"
   ]
  },
  {
   "cell_type": "code",
   "execution_count": 10,
   "id": "9d49b7f0",
   "metadata": {},
   "outputs": [],
   "source": [
    "msg = bytearray([3]*32) #simpleserial uses bytearrays\n",
    "scope.arm()\n",
    "target.simpleserial_write('b', msg)\n",
    "# ret = scope.capture()"
   ]
  },
  {
   "cell_type": "code",
   "execution_count": 12,
   "id": "a754eab0",
   "metadata": {},
   "outputs": [
    {
     "name": "stdout",
     "output_type": "stream",
     "text": [
      "r506F1095CEED10943AAD60476F8E14B46752A6F6714863C4A3B255B3796C67CC\n",
      "rF9CE02E17F02CB7FD23089875611C63A511387709EC8BAD0E7A203BF2F8F5976\n",
      "z00\n",
      "\n"
     ]
    }
   ],
   "source": [
    "#returns wots pk and first 32-byte signature\n",
    "#please wait about 1 seconds before read\n",
    "print(target.read(5000,1000))"
   ]
  },
  {
   "cell_type": "code",
   "execution_count": 322,
   "id": "bf4d93c5",
   "metadata": {},
   "outputs": [],
   "source": [
    "msg1 = 32*b'\\x00'\n",
    "msg = bytearray(msg1) #simpleserial uses bytearrays\n",
    "target.simpleserial_write('c', msg1)\n"
   ]
  },
  {
   "cell_type": "code",
   "execution_count": 331,
   "id": "13889388",
   "metadata": {},
   "outputs": [
    {
     "name": "stdout",
     "output_type": "stream",
     "text": [
      "rE4E882DE28650A2BBDCF78DC24C91976E15CA409D405C53E2C0B7FFFC46CD260\n",
      "z00\n",
      "\n"
     ]
    }
   ],
   "source": [
    "#please wait about 1 min before read\n",
    "print(target.read(5000,1000))\n"
   ]
  },
  {
   "cell_type": "code",
   "execution_count": 25,
   "id": "b7d021be",
   "metadata": {
    "scrolled": true
   },
   "outputs": [
    {
     "name": "stdout",
     "output_type": "stream",
     "text": [
      "rE4E882DE28650A2BBDCF78DC24C91976E15CA409D405C53E2C0B7FFFC46CD260\n",
      "z00\n",
      "\n"
     ]
    }
   ],
   "source": [
    "#read the root of merkel, which takes about 30 seconds. \n",
    "print(target.read(5000,1000))\n"
   ]
  },
  {
   "cell_type": "markdown",
   "id": "16356c7b",
   "metadata": {},
   "source": [
    "***Obtain a faulty WOTS by sending glitch***"
   ]
  },
  {
   "cell_type": "markdown",
   "id": "421fe3a6",
   "metadata": {},
   "source": [
    "***to save time, here we use hash as an example, you may switch to WOTS by changing command 'a' to 'c'***"
   ]
  },
  {
   "cell_type": "code",
   "execution_count": 416,
   "id": "7c95eebf",
   "metadata": {},
   "outputs": [],
   "source": [
    "msg = bytearray([3]*32) #simpleserial uses bytearrays\n",
    "scope.arm()\n",
    "target.simpleserial_write('a', msg)\n",
    "ret = scope.capture()\n"
   ]
  },
  {
   "cell_type": "code",
   "execution_count": 417,
   "id": "7247e494",
   "metadata": {},
   "outputs": [],
   "source": [
    "#please wait around 1 min before read back\n",
    "result = target.simpleserial_read_witherrors('r',32 , glitch_timeout=10)\n"
   ]
  },
  {
   "cell_type": "code",
   "execution_count": 418,
   "id": "bb5d7536",
   "metadata": {},
   "outputs": [
    {
     "name": "stdout",
     "output_type": "stream",
     "text": [
      "{'valid': True, 'payload': bytearray(b'\\xc13ek\\x89g,\\x80j\\x7f\\xb34\\x07\\xd5\\x92\\x04\\x15\\xbe\\xfa\\x83\\xab\\x04p\\xd2\\xfb\\xc1\\x17s<\\x8b\\xf9^'), 'full_response': 'rC133656B89672C806A7FB33407D5920415BEFA83AB0470D2FBC117733C8BF95E\\n', 'rv': 0}\n"
     ]
    }
   ],
   "source": [
    "print(result)"
   ]
  },
  {
   "cell_type": "code",
   "execution_count": 419,
   "id": "f5e264c1",
   "metadata": {},
   "outputs": [
    {
     "name": "stdout",
     "output_type": "stream",
     "text": [
      "c133656b89672c806a7fb33407d5920415befa83ab0470d2fbc117733c8bf95e\n"
     ]
    }
   ],
   "source": [
    "payload = result['payload'].hex()\n",
    "print(payload)"
   ]
  },
  {
   "cell_type": "markdown",
   "id": "656bf689",
   "metadata": {},
   "source": [
    "***Having an expection output, glitching begins***"
   ]
  },
  {
   "cell_type": "code",
   "execution_count": 469,
   "id": "a66613f2",
   "metadata": {},
   "outputs": [],
   "source": [
    "scope.glitch.clk_src = \"clkgen\"\n",
    "scope.glitch.trigger_src = \"ext_single\" # glitch only after scope.arm() called\n",
    "scope.glitch.output = \"clock_xor\" # glitch_out = clk ^ glitch\n",
    "\n",
    "scope.io.hs2 = \"glitch\"\n",
    "# scope.glitch.ext_offset = 8\n",
    "# scope.glitch.offset = 5\n",
    "# scope.glitch.width = 20\n",
    "scope.glitch.repeat = 10"
   ]
  },
  {
   "cell_type": "code",
   "execution_count": 489,
   "id": "124ef393",
   "metadata": {},
   "outputs": [],
   "source": [
    "collections = { 'faulty': [], 'reset': [],'valid': []}"
   ]
  },
  {
   "cell_type": "code",
   "execution_count": 482,
   "id": "d8cb762f",
   "metadata": {},
   "outputs": [],
   "source": []
  },
  {
   "cell_type": "code",
   "execution_count": 491,
   "id": "c1bafbc0",
   "metadata": {},
   "outputs": [
    {
     "name": "stderr",
     "output_type": "stream",
     "text": [
      "(ChipWhisperer Glitch WARNING|File ChipWhispererGlitch.py:934) Negative offsets <-45 may result in double glitches!\n",
      "(ChipWhisperer Glitch WARNING|File ChipWhispererGlitch.py:759) Partial reconfiguration for width = 0 may not work\n",
      "(ChipWhisperer Glitch WARNING|File ChipWhispererGlitch.py:934) Negative offsets <-45 may result in double glitches!\n",
      "(ChipWhisperer Glitch WARNING|File ChipWhispererGlitch.py:759) Partial reconfiguration for width = 0 may not work\n",
      "(ChipWhisperer Glitch WARNING|File ChipWhispererGlitch.py:759) Partial reconfiguration for width = 0 may not work\n",
      "(ChipWhisperer Glitch WARNING|File ChipWhispererGlitch.py:759) Partial reconfiguration for width = 0 may not work\n",
      "(ChipWhisperer Glitch WARNING|File ChipWhispererGlitch.py:759) Partial reconfiguration for width = 0 may not work\n",
      "(ChipWhisperer Glitch WARNING|File ChipWhispererGlitch.py:759) Partial reconfiguration for width = 0 may not work\n",
      "(ChipWhisperer Glitch WARNING|File ChipWhispererGlitch.py:759) Partial reconfiguration for width = 0 may not work\n",
      "(ChipWhisperer Glitch WARNING|File ChipWhispererGlitch.py:759) Partial reconfiguration for width = 0 may not work\n",
      "(ChipWhisperer Glitch WARNING|File ChipWhispererGlitch.py:759) Partial reconfiguration for width = 0 may not work\n",
      "(ChipWhisperer Glitch WARNING|File ChipWhispererGlitch.py:759) Partial reconfiguration for width = 0 may not work\n",
      "(ChipWhisperer Glitch WARNING|File ChipWhispererGlitch.py:759) Partial reconfiguration for width = 0 may not work\n",
      "(ChipWhisperer Glitch WARNING|File ChipWhispererGlitch.py:759) Partial reconfiguration for width = 0 may not work\n",
      "(ChipWhisperer Glitch WARNING|File ChipWhispererGlitch.py:759) Partial reconfiguration for width = 0 may not work\n",
      "(ChipWhisperer Glitch WARNING|File ChipWhispererGlitch.py:759) Partial reconfiguration for width = 0 may not work\n",
      "(ChipWhisperer Glitch WARNING|File ChipWhispererGlitch.py:759) Partial reconfiguration for width = 0 may not work\n",
      "(ChipWhisperer Glitch WARNING|File ChipWhispererGlitch.py:759) Partial reconfiguration for width = 0 may not work\n",
      "(ChipWhisperer Glitch WARNING|File ChipWhispererGlitch.py:759) Partial reconfiguration for width = 0 may not work\n"
     ]
    },
    {
     "name": "stdout",
     "output_type": "stream",
     "text": [
      "Trigger still high!\n",
      "Trigger still high!\n",
      "Trigger still high!\n"
     ]
    },
    {
     "name": "stderr",
     "output_type": "stream",
     "text": [
      "(ChipWhisperer Glitch WARNING|File ChipWhispererGlitch.py:759) Partial reconfiguration for width = 0 may not work\n"
     ]
    },
    {
     "name": "stdout",
     "output_type": "stream",
     "text": [
      "Trigger still high!\n",
      "Trigger still high!\n",
      "Trigger still high!\n",
      "Trigger still high!\n",
      "Trigger still high!\n"
     ]
    },
    {
     "name": "stderr",
     "output_type": "stream",
     "text": [
      "(ChipWhisperer Glitch WARNING|File ChipWhispererGlitch.py:759) Partial reconfiguration for width = 0 may not work\n"
     ]
    },
    {
     "name": "stdout",
     "output_type": "stream",
     "text": [
      "Trigger still high!\n",
      "Trigger still high!\n",
      "Trigger still high!\n",
      "Trigger still high!\n",
      "Trigger still high!\n"
     ]
    },
    {
     "name": "stderr",
     "output_type": "stream",
     "text": [
      "(ChipWhisperer Glitch WARNING|File ChipWhispererGlitch.py:759) Partial reconfiguration for width = 0 may not work\n"
     ]
    },
    {
     "name": "stdout",
     "output_type": "stream",
     "text": [
      "Trigger still high!\n",
      "Trigger still high!\n",
      "Trigger still high!\n",
      "Trigger still high!\n",
      "Trigger still high!\n"
     ]
    },
    {
     "name": "stderr",
     "output_type": "stream",
     "text": [
      "(ChipWhisperer Glitch WARNING|File ChipWhispererGlitch.py:759) Partial reconfiguration for width = 0 may not work\n"
     ]
    },
    {
     "name": "stdout",
     "output_type": "stream",
     "text": [
      "Trigger still high!\n",
      "Trigger still high!\n",
      "Trigger still high!\n",
      "Trigger still high!\n"
     ]
    },
    {
     "name": "stderr",
     "output_type": "stream",
     "text": [
      "(ChipWhisperer Glitch WARNING|File ChipWhispererGlitch.py:759) Partial reconfiguration for width = 0 may not work\n"
     ]
    },
    {
     "name": "stdout",
     "output_type": "stream",
     "text": [
      "Trigger still high!\n",
      "Trigger still high!\n",
      "Trigger still high!\n",
      "Trigger still high!\n",
      "Trigger still high!\n"
     ]
    },
    {
     "name": "stderr",
     "output_type": "stream",
     "text": [
      "(ChipWhisperer Glitch WARNING|File ChipWhispererGlitch.py:759) Partial reconfiguration for width = 0 may not work\n"
     ]
    },
    {
     "name": "stdout",
     "output_type": "stream",
     "text": [
      "Trigger still high!\n",
      "Trigger still high!\n",
      "Trigger still high!\n",
      "Trigger still high!\n",
      "Trigger still high!\n",
      "Trigger still high!\n"
     ]
    },
    {
     "name": "stderr",
     "output_type": "stream",
     "text": [
      "(ChipWhisperer Glitch WARNING|File ChipWhispererGlitch.py:759) Partial reconfiguration for width = 0 may not work\n"
     ]
    },
    {
     "name": "stdout",
     "output_type": "stream",
     "text": [
      "Trigger still high!\n",
      "Trigger still high!\n",
      "Trigger still high!\n",
      "Trigger still high!\n",
      "Trigger still high!\n"
     ]
    },
    {
     "name": "stderr",
     "output_type": "stream",
     "text": [
      "(ChipWhisperer Glitch WARNING|File ChipWhispererGlitch.py:762) Partial reconfiguration for offset = 0 may not work\n",
      "(ChipWhisperer Glitch WARNING|File ChipWhispererGlitch.py:759) Partial reconfiguration for width = 0 may not work\n",
      "(ChipWhisperer Glitch WARNING|File ChipWhispererGlitch.py:762) Partial reconfiguration for offset = 0 may not work\n",
      "(ChipWhisperer Glitch WARNING|File ChipWhispererGlitch.py:762) Partial reconfiguration for offset = 0 may not work\n"
     ]
    },
    {
     "name": "stdout",
     "output_type": "stream",
     "text": [
      "Trigger still high!\n"
     ]
    },
    {
     "name": "stderr",
     "output_type": "stream",
     "text": [
      "(ChipWhisperer Glitch WARNING|File ChipWhispererGlitch.py:762) Partial reconfiguration for offset = 0 may not work\n",
      "(ChipWhisperer Glitch WARNING|File ChipWhispererGlitch.py:762) Partial reconfiguration for offset = 0 may not work\n",
      "(ChipWhisperer Glitch WARNING|File ChipWhispererGlitch.py:762) Partial reconfiguration for offset = 0 may not work\n",
      "(ChipWhisperer Glitch WARNING|File ChipWhispererGlitch.py:762) Partial reconfiguration for offset = 0 may not work\n",
      "(ChipWhisperer Glitch WARNING|File ChipWhispererGlitch.py:762) Partial reconfiguration for offset = 0 may not work\n"
     ]
    },
    {
     "name": "stdout",
     "output_type": "stream",
     "text": [
      "2 0 10 0 e04e1b1061072a0b4f787d7ccee1121b8298144342974eb0f0a45b758f1b6c7e\n"
     ]
    },
    {
     "name": "stderr",
     "output_type": "stream",
     "text": [
      "(ChipWhisperer Glitch WARNING|File ChipWhispererGlitch.py:762) Partial reconfiguration for offset = 0 may not work\n"
     ]
    },
    {
     "name": "stdout",
     "output_type": "stream",
     "text": [
      "Trigger still high!\n"
     ]
    },
    {
     "name": "stderr",
     "output_type": "stream",
     "text": [
      "(ChipWhisperer Glitch WARNING|File ChipWhispererGlitch.py:762) Partial reconfiguration for offset = 0 may not work\n",
      "(ChipWhisperer Glitch WARNING|File ChipWhispererGlitch.py:762) Partial reconfiguration for offset = 0 may not work\n"
     ]
    },
    {
     "name": "stdout",
     "output_type": "stream",
     "text": [
      "2 0 16 0 db2c69070d48c0118d684ff9af2fd26eb7bca4e27dca0f042f4a49a460f072f4\n"
     ]
    },
    {
     "name": "stderr",
     "output_type": "stream",
     "text": [
      "(ChipWhisperer Glitch WARNING|File ChipWhispererGlitch.py:762) Partial reconfiguration for offset = 0 may not work\n"
     ]
    },
    {
     "name": "stdout",
     "output_type": "stream",
     "text": [
      "Trigger still high!\n"
     ]
    },
    {
     "name": "stderr",
     "output_type": "stream",
     "text": [
      "(ChipWhisperer Glitch WARNING|File ChipWhispererGlitch.py:762) Partial reconfiguration for offset = 0 may not work\n",
      "(ChipWhisperer Glitch WARNING|File ChipWhispererGlitch.py:762) Partial reconfiguration for offset = 0 may not work\n",
      "(ChipWhisperer Glitch WARNING|File ChipWhispererGlitch.py:762) Partial reconfiguration for offset = 0 may not work\n",
      "(ChipWhisperer Glitch WARNING|File ChipWhispererGlitch.py:762) Partial reconfiguration for offset = 0 may not work\n",
      "(ChipWhisperer Glitch WARNING|File ChipWhispererGlitch.py:762) Partial reconfiguration for offset = 0 may not work\n",
      "(ChipWhisperer Glitch WARNING|File ChipWhispererGlitch.py:762) Partial reconfiguration for offset = 0 may not work\n",
      "(ChipWhisperer Glitch WARNING|File ChipWhispererGlitch.py:762) Partial reconfiguration for offset = 0 may not work\n"
     ]
    },
    {
     "name": "stdout",
     "output_type": "stream",
     "text": [
      "Trigger still high!\n"
     ]
    },
    {
     "name": "stderr",
     "output_type": "stream",
     "text": [
      "(ChipWhisperer Glitch WARNING|File ChipWhispererGlitch.py:762) Partial reconfiguration for offset = 0 may not work\n"
     ]
    },
    {
     "name": "stdout",
     "output_type": "stream",
     "text": [
      "Trigger still high!\n"
     ]
    },
    {
     "name": "stderr",
     "output_type": "stream",
     "text": [
      "(ChipWhisperer Glitch WARNING|File ChipWhispererGlitch.py:762) Partial reconfiguration for offset = 0 may not work\n",
      "(ChipWhisperer Glitch WARNING|File ChipWhispererGlitch.py:762) Partial reconfiguration for offset = 0 may not work\n",
      "(ChipWhisperer Glitch WARNING|File ChipWhispererGlitch.py:762) Partial reconfiguration for offset = 0 may not work\n",
      "(ChipWhisperer Glitch WARNING|File ChipWhispererGlitch.py:762) Partial reconfiguration for offset = 0 may not work\n",
      "(ChipWhisperer Glitch WARNING|File ChipWhispererGlitch.py:762) Partial reconfiguration for offset = 0 may not work\n",
      "(ChipWhisperer Glitch WARNING|File ChipWhispererGlitch.py:759) Partial reconfiguration for width = 0 may not work\n"
     ]
    },
    {
     "name": "stdout",
     "output_type": "stream",
     "text": [
      "Trigger still high!\n",
      "Trigger still high!\n",
      "Trigger still high!\n",
      "Trigger still high!\n",
      "Trigger still high!\n"
     ]
    },
    {
     "name": "stderr",
     "output_type": "stream",
     "text": [
      "(ChipWhisperer Glitch WARNING|File ChipWhispererGlitch.py:759) Partial reconfiguration for width = 0 may not work\n"
     ]
    },
    {
     "name": "stdout",
     "output_type": "stream",
     "text": [
      "Trigger still high!\n",
      "Trigger still high!\n",
      "Trigger still high!\n",
      "Trigger still high!\n"
     ]
    },
    {
     "name": "stderr",
     "output_type": "stream",
     "text": [
      "(ChipWhisperer Glitch WARNING|File ChipWhispererGlitch.py:759) Partial reconfiguration for width = 0 may not work\n"
     ]
    },
    {
     "name": "stdout",
     "output_type": "stream",
     "text": [
      "Trigger still high!\n",
      "Trigger still high!\n",
      "Trigger still high!\n"
     ]
    },
    {
     "name": "stderr",
     "output_type": "stream",
     "text": [
      "(ChipWhisperer Glitch WARNING|File ChipWhispererGlitch.py:759) Partial reconfiguration for width = 0 may not work\n"
     ]
    },
    {
     "name": "stdout",
     "output_type": "stream",
     "text": [
      "Trigger still high!\n",
      "Trigger still high!\n"
     ]
    },
    {
     "name": "stderr",
     "output_type": "stream",
     "text": [
      "(ChipWhisperer Glitch WARNING|File ChipWhispererGlitch.py:759) Partial reconfiguration for width = 0 may not work\n"
     ]
    },
    {
     "name": "stdout",
     "output_type": "stream",
     "text": [
      "Trigger still high!\n"
     ]
    },
    {
     "name": "stderr",
     "output_type": "stream",
     "text": [
      "(ChipWhisperer Glitch WARNING|File ChipWhispererGlitch.py:759) Partial reconfiguration for width = 0 may not work\n"
     ]
    },
    {
     "name": "stdout",
     "output_type": "stream",
     "text": [
      "Trigger still high!\n"
     ]
    },
    {
     "name": "stderr",
     "output_type": "stream",
     "text": [
      "(ChipWhisperer Glitch WARNING|File ChipWhispererGlitch.py:759) Partial reconfiguration for width = 0 may not work\n"
     ]
    },
    {
     "name": "stdout",
     "output_type": "stream",
     "text": [
      "Trigger still high!\n"
     ]
    },
    {
     "name": "stderr",
     "output_type": "stream",
     "text": [
      "(ChipWhisperer Glitch WARNING|File ChipWhispererGlitch.py:759) Partial reconfiguration for width = 0 may not work\n",
      "(ChipWhisperer Glitch WARNING|File ChipWhispererGlitch.py:759) Partial reconfiguration for width = 0 may not work\n",
      "(ChipWhisperer Glitch WARNING|File ChipWhispererGlitch.py:759) Partial reconfiguration for width = 0 may not work\n",
      "(ChipWhisperer Glitch WARNING|File ChipWhispererGlitch.py:759) Partial reconfiguration for width = 0 may not work\n",
      "(ChipWhisperer Glitch WARNING|File ChipWhispererGlitch.py:759) Partial reconfiguration for width = 0 may not work\n",
      "(ChipWhisperer Glitch WARNING|File ChipWhispererGlitch.py:759) Partial reconfiguration for width = 0 may not work\n",
      "(ChipWhisperer Glitch WARNING|File ChipWhispererGlitch.py:759) Partial reconfiguration for width = 0 may not work\n",
      "(ChipWhisperer Glitch WARNING|File ChipWhispererGlitch.py:759) Partial reconfiguration for width = 0 may not work\n",
      "(ChipWhisperer Glitch WARNING|File ChipWhispererGlitch.py:759) Partial reconfiguration for width = 0 may not work\n"
     ]
    },
    {
     "name": "stdout",
     "output_type": "stream",
     "text": [
      "Trigger still high!\n"
     ]
    },
    {
     "name": "stderr",
     "output_type": "stream",
     "text": [
      "(ChipWhisperer Glitch WARNING|File ChipWhispererGlitch.py:759) Partial reconfiguration for width = 0 may not work\n"
     ]
    },
    {
     "name": "stdout",
     "output_type": "stream",
     "text": [
      "Trigger still high!\n"
     ]
    },
    {
     "name": "stderr",
     "output_type": "stream",
     "text": [
      "(ChipWhisperer Glitch WARNING|File ChipWhispererGlitch.py:759) Partial reconfiguration for width = 0 may not work\n",
      "(ChipWhisperer Glitch WARNING|File ChipWhispererGlitch.py:759) Partial reconfiguration for width = 0 may not work\n",
      "(ChipWhisperer Glitch WARNING|File ChipWhispererGlitch.py:759) Partial reconfiguration for width = 0 may not work\n",
      "(ChipWhisperer Glitch WARNING|File ChipWhispererGlitch.py:759) Partial reconfiguration for width = 0 may not work\n",
      "(ChipWhisperer Glitch WARNING|File ChipWhispererGlitch.py:759) Partial reconfiguration for width = 0 may not work\n",
      "(ChipWhisperer Glitch WARNING|File ChipWhispererGlitch.py:759) Partial reconfiguration for width = 0 may not work\n",
      "(ChipWhisperer Glitch WARNING|File ChipWhispererGlitch.py:934) Negative offsets <-45 may result in double glitches!\n",
      "(ChipWhisperer Glitch WARNING|File ChipWhispererGlitch.py:759) Partial reconfiguration for width = 0 may not work\n"
     ]
    },
    {
     "name": "stdout",
     "output_type": "stream",
     "text": [
      "Trigger still high!\n"
     ]
    },
    {
     "name": "stderr",
     "output_type": "stream",
     "text": [
      "(ChipWhisperer Glitch WARNING|File ChipWhispererGlitch.py:934) Negative offsets <-45 may result in double glitches!\n",
      "(ChipWhisperer Glitch WARNING|File ChipWhispererGlitch.py:759) Partial reconfiguration for width = 0 may not work\n",
      "(ChipWhisperer Glitch WARNING|File ChipWhispererGlitch.py:759) Partial reconfiguration for width = 0 may not work\n",
      "(ChipWhisperer Glitch WARNING|File ChipWhispererGlitch.py:759) Partial reconfiguration for width = 0 may not work\n",
      "(ChipWhisperer Glitch WARNING|File ChipWhispererGlitch.py:759) Partial reconfiguration for width = 0 may not work\n",
      "(ChipWhisperer Glitch WARNING|File ChipWhispererGlitch.py:759) Partial reconfiguration for width = 0 may not work\n",
      "(ChipWhisperer Glitch WARNING|File ChipWhispererGlitch.py:759) Partial reconfiguration for width = 0 may not work\n",
      "(ChipWhisperer Glitch WARNING|File ChipWhispererGlitch.py:759) Partial reconfiguration for width = 0 may not work\n",
      "(ChipWhisperer Glitch WARNING|File ChipWhispererGlitch.py:759) Partial reconfiguration for width = 0 may not work\n",
      "(ChipWhisperer Glitch WARNING|File ChipWhispererGlitch.py:759) Partial reconfiguration for width = 0 may not work\n",
      "(ChipWhisperer Glitch WARNING|File ChipWhispererGlitch.py:759) Partial reconfiguration for width = 0 may not work\n"
     ]
    },
    {
     "name": "stdout",
     "output_type": "stream",
     "text": [
      "Trigger still high!\n"
     ]
    },
    {
     "name": "stderr",
     "output_type": "stream",
     "text": [
      "(ChipWhisperer Glitch WARNING|File ChipWhispererGlitch.py:759) Partial reconfiguration for width = 0 may not work\n",
      "(ChipWhisperer Glitch WARNING|File ChipWhispererGlitch.py:759) Partial reconfiguration for width = 0 may not work\n",
      "(ChipWhisperer Glitch WARNING|File ChipWhispererGlitch.py:759) Partial reconfiguration for width = 0 may not work\n",
      "(ChipWhisperer Glitch WARNING|File ChipWhispererGlitch.py:759) Partial reconfiguration for width = 0 may not work\n",
      "(ChipWhisperer Glitch WARNING|File ChipWhispererGlitch.py:759) Partial reconfiguration for width = 0 may not work\n",
      "(ChipWhisperer Glitch WARNING|File ChipWhispererGlitch.py:759) Partial reconfiguration for width = 0 may not work\n"
     ]
    },
    {
     "name": "stdout",
     "output_type": "stream",
     "text": [
      "Trigger still high!\n",
      "Trigger still high!\n",
      "Trigger still high!\n",
      "Trigger still high!\n"
     ]
    },
    {
     "name": "stderr",
     "output_type": "stream",
     "text": [
      "(ChipWhisperer Glitch WARNING|File ChipWhispererGlitch.py:759) Partial reconfiguration for width = 0 may not work\n"
     ]
    },
    {
     "name": "stdout",
     "output_type": "stream",
     "text": [
      "Trigger still high!\n",
      "Trigger still high!\n",
      "Trigger still high!\n",
      "Trigger still high!\n",
      "Trigger still high!\n"
     ]
    },
    {
     "name": "stderr",
     "output_type": "stream",
     "text": [
      "(ChipWhisperer Glitch WARNING|File ChipWhispererGlitch.py:759) Partial reconfiguration for width = 0 may not work\n"
     ]
    },
    {
     "name": "stdout",
     "output_type": "stream",
     "text": [
      "Trigger still high!\n",
      "Trigger still high!\n",
      "Trigger still high!\n",
      "Trigger still high!\n"
     ]
    },
    {
     "name": "stderr",
     "output_type": "stream",
     "text": [
      "(ChipWhisperer Glitch WARNING|File ChipWhispererGlitch.py:759) Partial reconfiguration for width = 0 may not work\n"
     ]
    },
    {
     "name": "stdout",
     "output_type": "stream",
     "text": [
      "Trigger still high!\n",
      "Trigger still high!\n",
      "Trigger still high!\n",
      "Trigger still high!\n"
     ]
    },
    {
     "name": "stderr",
     "output_type": "stream",
     "text": [
      "(ChipWhisperer Glitch WARNING|File ChipWhispererGlitch.py:759) Partial reconfiguration for width = 0 may not work\n"
     ]
    },
    {
     "name": "stdout",
     "output_type": "stream",
     "text": [
      "Trigger still high!\n",
      "Trigger still high!\n",
      "Trigger still high!\n",
      "Trigger still high!\n"
     ]
    },
    {
     "name": "stderr",
     "output_type": "stream",
     "text": [
      "(ChipWhisperer Glitch WARNING|File ChipWhispererGlitch.py:759) Partial reconfiguration for width = 0 may not work\n"
     ]
    },
    {
     "name": "stdout",
     "output_type": "stream",
     "text": [
      "Trigger still high!\n",
      "Trigger still high!\n",
      "Trigger still high!\n",
      "Trigger still high!\n"
     ]
    },
    {
     "name": "stderr",
     "output_type": "stream",
     "text": [
      "(ChipWhisperer Glitch WARNING|File ChipWhispererGlitch.py:759) Partial reconfiguration for width = 0 may not work\n"
     ]
    },
    {
     "name": "stdout",
     "output_type": "stream",
     "text": [
      "3 -4 2 0 1030000000000000000000000000000000000000000000000000000000000000\n",
      "Trigger still high!\n",
      "Trigger still high!\n",
      "Trigger still high!\n",
      "Trigger still high!\n",
      "Trigger still high!\n"
     ]
    },
    {
     "name": "stderr",
     "output_type": "stream",
     "text": [
      "(ChipWhisperer Glitch WARNING|File ChipWhispererGlitch.py:759) Partial reconfiguration for width = 0 may not work\n"
     ]
    },
    {
     "name": "stdout",
     "output_type": "stream",
     "text": [
      "Trigger still high!\n",
      "Trigger still high!\n",
      "Trigger still high!\n",
      "Trigger still high!\n",
      "Trigger still high!\n"
     ]
    },
    {
     "name": "stderr",
     "output_type": "stream",
     "text": [
      "(ChipWhisperer Glitch WARNING|File ChipWhispererGlitch.py:762) Partial reconfiguration for offset = 0 may not work\n",
      "(ChipWhisperer Glitch WARNING|File ChipWhispererGlitch.py:759) Partial reconfiguration for width = 0 may not work\n",
      "(ChipWhisperer Glitch WARNING|File ChipWhispererGlitch.py:762) Partial reconfiguration for offset = 0 may not work\n",
      "(ChipWhisperer Glitch WARNING|File ChipWhispererGlitch.py:762) Partial reconfiguration for offset = 0 may not work\n",
      "(ChipWhisperer Glitch WARNING|File ChipWhispererGlitch.py:762) Partial reconfiguration for offset = 0 may not work\n",
      "(ChipWhisperer Glitch WARNING|File ChipWhispererGlitch.py:762) Partial reconfiguration for offset = 0 may not work\n",
      "(ChipWhisperer Glitch WARNING|File ChipWhispererGlitch.py:762) Partial reconfiguration for offset = 0 may not work\n"
     ]
    },
    {
     "name": "stdout",
     "output_type": "stream",
     "text": [
      "Trigger still high!\n"
     ]
    },
    {
     "name": "stderr",
     "output_type": "stream",
     "text": [
      "(ChipWhisperer Glitch WARNING|File ChipWhispererGlitch.py:762) Partial reconfiguration for offset = 0 may not work\n",
      "(ChipWhisperer Glitch WARNING|File ChipWhispererGlitch.py:762) Partial reconfiguration for offset = 0 may not work\n",
      "(ChipWhisperer Glitch WARNING|File ChipWhispererGlitch.py:762) Partial reconfiguration for offset = 0 may not work\n",
      "(ChipWhisperer Glitch WARNING|File ChipWhispererGlitch.py:762) Partial reconfiguration for offset = 0 may not work\n"
     ]
    },
    {
     "name": "stdout",
     "output_type": "stream",
     "text": [
      "Trigger still high!\n"
     ]
    },
    {
     "name": "stderr",
     "output_type": "stream",
     "text": [
      "(ChipWhisperer Glitch WARNING|File ChipWhispererGlitch.py:762) Partial reconfiguration for offset = 0 may not work\n"
     ]
    },
    {
     "name": "stdout",
     "output_type": "stream",
     "text": [
      "Trigger still high!\n"
     ]
    },
    {
     "name": "stderr",
     "output_type": "stream",
     "text": [
      "(ChipWhisperer Glitch WARNING|File ChipWhispererGlitch.py:762) Partial reconfiguration for offset = 0 may not work\n",
      "(ChipWhisperer Glitch WARNING|File ChipWhispererGlitch.py:762) Partial reconfiguration for offset = 0 may not work\n",
      "(ChipWhisperer Glitch WARNING|File ChipWhispererGlitch.py:762) Partial reconfiguration for offset = 0 may not work\n",
      "(ChipWhisperer Glitch WARNING|File ChipWhispererGlitch.py:762) Partial reconfiguration for offset = 0 may not work\n",
      "(ChipWhisperer Glitch WARNING|File ChipWhispererGlitch.py:762) Partial reconfiguration for offset = 0 may not work\n",
      "(ChipWhisperer Glitch WARNING|File ChipWhispererGlitch.py:762) Partial reconfiguration for offset = 0 may not work\n",
      "(ChipWhisperer Glitch WARNING|File ChipWhispererGlitch.py:762) Partial reconfiguration for offset = 0 may not work\n"
     ]
    },
    {
     "name": "stdout",
     "output_type": "stream",
     "text": [
      "Trigger still high!\n"
     ]
    },
    {
     "name": "stderr",
     "output_type": "stream",
     "text": [
      "(ChipWhisperer Glitch WARNING|File ChipWhispererGlitch.py:762) Partial reconfiguration for offset = 0 may not work\n",
      "(ChipWhisperer Glitch WARNING|File ChipWhispererGlitch.py:762) Partial reconfiguration for offset = 0 may not work\n",
      "(ChipWhisperer Glitch WARNING|File ChipWhispererGlitch.py:762) Partial reconfiguration for offset = 0 may not work\n",
      "(ChipWhisperer Glitch WARNING|File ChipWhispererGlitch.py:762) Partial reconfiguration for offset = 0 may not work\n",
      "(ChipWhisperer Glitch WARNING|File ChipWhispererGlitch.py:762) Partial reconfiguration for offset = 0 may not work\n",
      "(ChipWhisperer Glitch WARNING|File ChipWhispererGlitch.py:762) Partial reconfiguration for offset = 0 may not work\n",
      "(ChipWhisperer Glitch WARNING|File ChipWhispererGlitch.py:762) Partial reconfiguration for offset = 0 may not work\n"
     ]
    },
    {
     "name": "stdout",
     "output_type": "stream",
     "text": [
      "Trigger still high!\n"
     ]
    },
    {
     "name": "stderr",
     "output_type": "stream",
     "text": [
      "(ChipWhisperer Glitch WARNING|File ChipWhispererGlitch.py:759) Partial reconfiguration for width = 0 may not work\n"
     ]
    },
    {
     "name": "stdout",
     "output_type": "stream",
     "text": [
      "Trigger still high!\n",
      "Trigger still high!\n",
      "Trigger still high!\n",
      "Trigger still high!\n",
      "Trigger still high!\n"
     ]
    },
    {
     "name": "stderr",
     "output_type": "stream",
     "text": [
      "(ChipWhisperer Glitch WARNING|File ChipWhispererGlitch.py:759) Partial reconfiguration for width = 0 may not work\n"
     ]
    },
    {
     "name": "stdout",
     "output_type": "stream",
     "text": [
      "Trigger still high!\n",
      "Trigger still high!\n",
      "Trigger still high!\n",
      "Trigger still high!\n"
     ]
    },
    {
     "name": "stderr",
     "output_type": "stream",
     "text": [
      "(ChipWhisperer Glitch WARNING|File ChipWhispererGlitch.py:759) Partial reconfiguration for width = 0 may not work\n"
     ]
    },
    {
     "name": "stdout",
     "output_type": "stream",
     "text": [
      "Trigger still high!\n",
      "Trigger still high!\n",
      "Trigger still high!\n"
     ]
    },
    {
     "name": "stderr",
     "output_type": "stream",
     "text": [
      "(ChipWhisperer Glitch WARNING|File ChipWhispererGlitch.py:759) Partial reconfiguration for width = 0 may not work\n"
     ]
    },
    {
     "name": "stdout",
     "output_type": "stream",
     "text": [
      "Trigger still high!\n",
      "Trigger still high!\n"
     ]
    },
    {
     "name": "stderr",
     "output_type": "stream",
     "text": [
      "(ChipWhisperer Glitch WARNING|File ChipWhispererGlitch.py:759) Partial reconfiguration for width = 0 may not work\n"
     ]
    },
    {
     "name": "stdout",
     "output_type": "stream",
     "text": [
      "Trigger still high!\n"
     ]
    },
    {
     "name": "stderr",
     "output_type": "stream",
     "text": [
      "(ChipWhisperer Glitch WARNING|File ChipWhispererGlitch.py:759) Partial reconfiguration for width = 0 may not work\n",
      "(ChipWhisperer Glitch WARNING|File ChipWhispererGlitch.py:759) Partial reconfiguration for width = 0 may not work\n"
     ]
    },
    {
     "name": "stdout",
     "output_type": "stream",
     "text": [
      "Trigger still high!\n"
     ]
    },
    {
     "name": "stderr",
     "output_type": "stream",
     "text": [
      "(ChipWhisperer Glitch WARNING|File ChipWhispererGlitch.py:759) Partial reconfiguration for width = 0 may not work\n",
      "(ChipWhisperer Glitch WARNING|File ChipWhispererGlitch.py:759) Partial reconfiguration for width = 0 may not work\n",
      "(ChipWhisperer Glitch WARNING|File ChipWhispererGlitch.py:759) Partial reconfiguration for width = 0 may not work\n",
      "(ChipWhisperer Glitch WARNING|File ChipWhispererGlitch.py:759) Partial reconfiguration for width = 0 may not work\n",
      "(ChipWhisperer Glitch WARNING|File ChipWhispererGlitch.py:759) Partial reconfiguration for width = 0 may not work\n",
      "(ChipWhisperer Glitch WARNING|File ChipWhispererGlitch.py:759) Partial reconfiguration for width = 0 may not work\n"
     ]
    },
    {
     "name": "stdout",
     "output_type": "stream",
     "text": [
      "Trigger still high!\n"
     ]
    },
    {
     "name": "stderr",
     "output_type": "stream",
     "text": [
      "(ChipWhisperer Glitch WARNING|File ChipWhispererGlitch.py:759) Partial reconfiguration for width = 0 may not work\n",
      "(ChipWhisperer Glitch WARNING|File ChipWhispererGlitch.py:759) Partial reconfiguration for width = 0 may not work\n",
      "(ChipWhisperer Glitch WARNING|File ChipWhispererGlitch.py:759) Partial reconfiguration for width = 0 may not work\n",
      "(ChipWhisperer Glitch WARNING|File ChipWhispererGlitch.py:759) Partial reconfiguration for width = 0 may not work\n",
      "(ChipWhisperer Glitch WARNING|File ChipWhispererGlitch.py:759) Partial reconfiguration for width = 0 may not work\n",
      "(ChipWhisperer Glitch WARNING|File ChipWhispererGlitch.py:759) Partial reconfiguration for width = 0 may not work\n",
      "(ChipWhisperer Glitch WARNING|File ChipWhispererGlitch.py:759) Partial reconfiguration for width = 0 may not work\n",
      "(ChipWhisperer Glitch WARNING|File ChipWhispererGlitch.py:759) Partial reconfiguration for width = 0 may not work\n",
      "(ChipWhisperer Glitch WARNING|File ChipWhispererGlitch.py:759) Partial reconfiguration for width = 0 may not work\n",
      "(ChipWhisperer Glitch WARNING|File ChipWhispererGlitch.py:759) Partial reconfiguration for width = 0 may not work\n",
      "(ChipWhisperer Glitch WARNING|File ChipWhispererGlitch.py:934) Negative offsets <-45 may result in double glitches!\n",
      "(ChipWhisperer Glitch WARNING|File ChipWhispererGlitch.py:759) Partial reconfiguration for width = 0 may not work\n",
      "(ChipWhisperer Glitch WARNING|File ChipWhispererGlitch.py:934) Negative offsets <-45 may result in double glitches!\n",
      "(ChipWhisperer Glitch WARNING|File ChipWhispererGlitch.py:759) Partial reconfiguration for width = 0 may not work\n",
      "(ChipWhisperer Glitch WARNING|File ChipWhispererGlitch.py:759) Partial reconfiguration for width = 0 may not work\n",
      "(ChipWhisperer Glitch WARNING|File ChipWhispererGlitch.py:759) Partial reconfiguration for width = 0 may not work\n",
      "(ChipWhisperer Glitch WARNING|File ChipWhispererGlitch.py:759) Partial reconfiguration for width = 0 may not work\n",
      "(ChipWhisperer Glitch WARNING|File ChipWhispererGlitch.py:759) Partial reconfiguration for width = 0 may not work\n",
      "(ChipWhisperer Glitch WARNING|File ChipWhispererGlitch.py:759) Partial reconfiguration for width = 0 may not work\n"
     ]
    },
    {
     "name": "stdout",
     "output_type": "stream",
     "text": [
      "Trigger still high!\n"
     ]
    },
    {
     "name": "stderr",
     "output_type": "stream",
     "text": [
      "(ChipWhisperer Glitch WARNING|File ChipWhispererGlitch.py:759) Partial reconfiguration for width = 0 may not work\n",
      "(ChipWhisperer Glitch WARNING|File ChipWhispererGlitch.py:759) Partial reconfiguration for width = 0 may not work\n",
      "(ChipWhisperer Glitch WARNING|File ChipWhispererGlitch.py:759) Partial reconfiguration for width = 0 may not work\n",
      "(ChipWhisperer Glitch WARNING|File ChipWhispererGlitch.py:759) Partial reconfiguration for width = 0 may not work\n"
     ]
    },
    {
     "name": "stdout",
     "output_type": "stream",
     "text": [
      "Trigger still high!\n"
     ]
    },
    {
     "name": "stderr",
     "output_type": "stream",
     "text": [
      "(ChipWhisperer Glitch WARNING|File ChipWhispererGlitch.py:759) Partial reconfiguration for width = 0 may not work\n",
      "(ChipWhisperer Glitch WARNING|File ChipWhispererGlitch.py:759) Partial reconfiguration for width = 0 may not work\n",
      "(ChipWhisperer Glitch WARNING|File ChipWhispererGlitch.py:759) Partial reconfiguration for width = 0 may not work\n",
      "(ChipWhisperer Glitch WARNING|File ChipWhispererGlitch.py:759) Partial reconfiguration for width = 0 may not work\n",
      "(ChipWhisperer Glitch WARNING|File ChipWhispererGlitch.py:759) Partial reconfiguration for width = 0 may not work\n",
      "(ChipWhisperer Glitch WARNING|File ChipWhispererGlitch.py:759) Partial reconfiguration for width = 0 may not work\n"
     ]
    },
    {
     "name": "stdout",
     "output_type": "stream",
     "text": [
      "Trigger still high!\n",
      "Trigger still high!\n",
      "Trigger still high!\n"
     ]
    },
    {
     "name": "stderr",
     "output_type": "stream",
     "text": [
      "(ChipWhisperer Glitch WARNING|File ChipWhispererGlitch.py:759) Partial reconfiguration for width = 0 may not work\n"
     ]
    },
    {
     "name": "stdout",
     "output_type": "stream",
     "text": [
      "Trigger still high!\n",
      "Trigger still high!\n",
      "Trigger still high!\n",
      "Trigger still high!\n",
      "Trigger still high!\n"
     ]
    },
    {
     "name": "stderr",
     "output_type": "stream",
     "text": [
      "(ChipWhisperer Glitch WARNING|File ChipWhispererGlitch.py:759) Partial reconfiguration for width = 0 may not work\n"
     ]
    },
    {
     "name": "stdout",
     "output_type": "stream",
     "text": [
      "Trigger still high!\n",
      "Trigger still high!\n",
      "Trigger still high!\n",
      "Trigger still high!\n",
      "Trigger still high!\n"
     ]
    },
    {
     "name": "stderr",
     "output_type": "stream",
     "text": [
      "(ChipWhisperer Glitch WARNING|File ChipWhispererGlitch.py:759) Partial reconfiguration for width = 0 may not work\n"
     ]
    },
    {
     "name": "stdout",
     "output_type": "stream",
     "text": [
      "Trigger still high!\n",
      "Trigger still high!\n",
      "Trigger still high!\n",
      "Trigger still high!\n",
      "Trigger still high!\n"
     ]
    },
    {
     "name": "stderr",
     "output_type": "stream",
     "text": [
      "(ChipWhisperer Glitch WARNING|File ChipWhispererGlitch.py:759) Partial reconfiguration for width = 0 may not work\n"
     ]
    },
    {
     "name": "stdout",
     "output_type": "stream",
     "text": [
      "Trigger still high!\n",
      "Trigger still high!\n",
      "Trigger still high!\n",
      "Trigger still high!\n"
     ]
    },
    {
     "name": "stderr",
     "output_type": "stream",
     "text": [
      "(ChipWhisperer Glitch WARNING|File ChipWhispererGlitch.py:759) Partial reconfiguration for width = 0 may not work\n"
     ]
    },
    {
     "name": "stdout",
     "output_type": "stream",
     "text": [
      "Trigger still high!\n",
      "Trigger still high!\n",
      "Trigger still high!\n",
      "Trigger still high!\n",
      "Trigger still high!\n"
     ]
    },
    {
     "name": "stderr",
     "output_type": "stream",
     "text": [
      "(ChipWhisperer Glitch WARNING|File ChipWhispererGlitch.py:759) Partial reconfiguration for width = 0 may not work\n"
     ]
    },
    {
     "name": "stdout",
     "output_type": "stream",
     "text": [
      "Trigger still high!\n",
      "Trigger still high!\n",
      "Trigger still high!\n",
      "Trigger still high!\n",
      "Trigger still high!\n",
      "Trigger still high!\n"
     ]
    },
    {
     "name": "stderr",
     "output_type": "stream",
     "text": [
      "(ChipWhisperer Glitch WARNING|File ChipWhispererGlitch.py:759) Partial reconfiguration for width = 0 may not work\n"
     ]
    },
    {
     "name": "stdout",
     "output_type": "stream",
     "text": [
      "Trigger still high!\n",
      "Trigger still high!\n",
      "Trigger still high!\n",
      "Trigger still high!\n",
      "Trigger still high!\n",
      "Trigger still high!\n",
      "Trigger still high!\n",
      "Trigger still high!\n"
     ]
    },
    {
     "name": "stderr",
     "output_type": "stream",
     "text": [
      "(ChipWhisperer Glitch WARNING|File ChipWhispererGlitch.py:762) Partial reconfiguration for offset = 0 may not work\n",
      "(ChipWhisperer Glitch WARNING|File ChipWhispererGlitch.py:759) Partial reconfiguration for width = 0 may not work\n",
      "(ChipWhisperer Glitch WARNING|File ChipWhispererGlitch.py:762) Partial reconfiguration for offset = 0 may not work\n",
      "(ChipWhisperer Glitch WARNING|File ChipWhispererGlitch.py:762) Partial reconfiguration for offset = 0 may not work\n"
     ]
    },
    {
     "name": "stdout",
     "output_type": "stream",
     "text": [
      "4 -2 46 0 5280b9a9e4e003784e5523d3beffaec5e5f2e4787b41057f48ee4a3b4b8739e8\n"
     ]
    },
    {
     "name": "stderr",
     "output_type": "stream",
     "text": [
      "(ChipWhisperer Glitch WARNING|File ChipWhispererGlitch.py:762) Partial reconfiguration for offset = 0 may not work\n",
      "(ChipWhisperer Glitch WARNING|File ChipWhispererGlitch.py:762) Partial reconfiguration for offset = 0 may not work\n",
      "(ChipWhisperer Glitch WARNING|File ChipWhispererGlitch.py:762) Partial reconfiguration for offset = 0 may not work\n"
     ]
    },
    {
     "name": "stdout",
     "output_type": "stream",
     "text": [
      "Trigger still high!\n"
     ]
    },
    {
     "name": "stderr",
     "output_type": "stream",
     "text": [
      "(ChipWhisperer Glitch WARNING|File ChipWhispererGlitch.py:762) Partial reconfiguration for offset = 0 may not work\n",
      "(ChipWhisperer Glitch WARNING|File ChipWhispererGlitch.py:762) Partial reconfiguration for offset = 0 may not work\n",
      "(ChipWhisperer Glitch WARNING|File ChipWhispererGlitch.py:762) Partial reconfiguration for offset = 0 may not work\n",
      "(ChipWhisperer Glitch WARNING|File ChipWhispererGlitch.py:762) Partial reconfiguration for offset = 0 may not work\n",
      "(ChipWhisperer Glitch WARNING|File ChipWhispererGlitch.py:762) Partial reconfiguration for offset = 0 may not work\n",
      "(ChipWhisperer Glitch WARNING|File ChipWhispererGlitch.py:762) Partial reconfiguration for offset = 0 may not work\n",
      "(ChipWhisperer Glitch WARNING|File ChipWhispererGlitch.py:762) Partial reconfiguration for offset = 0 may not work\n",
      "(ChipWhisperer Glitch WARNING|File ChipWhispererGlitch.py:762) Partial reconfiguration for offset = 0 may not work\n",
      "(ChipWhisperer Glitch WARNING|File ChipWhispererGlitch.py:762) Partial reconfiguration for offset = 0 may not work\n",
      "(ChipWhisperer Glitch WARNING|File ChipWhispererGlitch.py:762) Partial reconfiguration for offset = 0 may not work\n",
      "(ChipWhisperer Glitch WARNING|File ChipWhispererGlitch.py:762) Partial reconfiguration for offset = 0 may not work\n",
      "(ChipWhisperer Glitch WARNING|File ChipWhispererGlitch.py:762) Partial reconfiguration for offset = 0 may not work\n",
      "(ChipWhisperer Glitch WARNING|File ChipWhispererGlitch.py:762) Partial reconfiguration for offset = 0 may not work\n",
      "(ChipWhisperer Glitch WARNING|File ChipWhispererGlitch.py:762) Partial reconfiguration for offset = 0 may not work\n",
      "(ChipWhisperer Glitch WARNING|File ChipWhispererGlitch.py:762) Partial reconfiguration for offset = 0 may not work\n",
      "(ChipWhisperer Glitch WARNING|File ChipWhispererGlitch.py:762) Partial reconfiguration for offset = 0 may not work\n",
      "(ChipWhisperer Glitch WARNING|File ChipWhispererGlitch.py:762) Partial reconfiguration for offset = 0 may not work\n",
      "(ChipWhisperer Glitch WARNING|File ChipWhispererGlitch.py:762) Partial reconfiguration for offset = 0 may not work\n",
      "(ChipWhisperer Glitch WARNING|File ChipWhispererGlitch.py:762) Partial reconfiguration for offset = 0 may not work\n",
      "(ChipWhisperer Glitch WARNING|File ChipWhispererGlitch.py:759) Partial reconfiguration for width = 0 may not work\n"
     ]
    },
    {
     "name": "stdout",
     "output_type": "stream",
     "text": [
      "Trigger still high!\n",
      "Trigger still high!\n",
      "Trigger still high!\n",
      "Trigger still high!\n",
      "Trigger still high!\n"
     ]
    },
    {
     "name": "stderr",
     "output_type": "stream",
     "text": [
      "(ChipWhisperer Glitch WARNING|File ChipWhispererGlitch.py:759) Partial reconfiguration for width = 0 may not work\n"
     ]
    },
    {
     "name": "stdout",
     "output_type": "stream",
     "text": [
      "Trigger still high!\n",
      "Trigger still high!\n",
      "Trigger still high!\n",
      "Trigger still high!\n"
     ]
    },
    {
     "name": "stderr",
     "output_type": "stream",
     "text": [
      "(ChipWhisperer Glitch WARNING|File ChipWhispererGlitch.py:759) Partial reconfiguration for width = 0 may not work\n"
     ]
    },
    {
     "name": "stdout",
     "output_type": "stream",
     "text": [
      "Trigger still high!\n",
      "Trigger still high!\n",
      "Trigger still high!\n"
     ]
    },
    {
     "name": "stderr",
     "output_type": "stream",
     "text": [
      "(ChipWhisperer Glitch WARNING|File ChipWhispererGlitch.py:759) Partial reconfiguration for width = 0 may not work\n"
     ]
    },
    {
     "name": "stdout",
     "output_type": "stream",
     "text": [
      "Trigger still high!\n",
      "Trigger still high!\n"
     ]
    },
    {
     "name": "stderr",
     "output_type": "stream",
     "text": [
      "(ChipWhisperer Glitch WARNING|File ChipWhispererGlitch.py:759) Partial reconfiguration for width = 0 may not work\n"
     ]
    },
    {
     "name": "stdout",
     "output_type": "stream",
     "text": [
      "Trigger still high!\n"
     ]
    },
    {
     "name": "stderr",
     "output_type": "stream",
     "text": [
      "(ChipWhisperer Glitch WARNING|File ChipWhispererGlitch.py:759) Partial reconfiguration for width = 0 may not work\n"
     ]
    },
    {
     "name": "stdout",
     "output_type": "stream",
     "text": [
      "Trigger still high!\n"
     ]
    },
    {
     "name": "stderr",
     "output_type": "stream",
     "text": [
      "(ChipWhisperer Glitch WARNING|File ChipWhispererGlitch.py:759) Partial reconfiguration for width = 0 may not work\n"
     ]
    },
    {
     "name": "stdout",
     "output_type": "stream",
     "text": [
      "Trigger still high!\n"
     ]
    },
    {
     "name": "stderr",
     "output_type": "stream",
     "text": [
      "(ChipWhisperer Glitch WARNING|File ChipWhispererGlitch.py:759) Partial reconfiguration for width = 0 may not work\n",
      "(ChipWhisperer Glitch WARNING|File ChipWhispererGlitch.py:759) Partial reconfiguration for width = 0 may not work\n",
      "(ChipWhisperer Glitch WARNING|File ChipWhispererGlitch.py:759) Partial reconfiguration for width = 0 may not work\n"
     ]
    },
    {
     "name": "stdout",
     "output_type": "stream",
     "text": [
      "Trigger still high!\n"
     ]
    },
    {
     "name": "stderr",
     "output_type": "stream",
     "text": [
      "(ChipWhisperer Glitch WARNING|File ChipWhispererGlitch.py:759) Partial reconfiguration for width = 0 may not work\n",
      "(ChipWhisperer Glitch WARNING|File ChipWhispererGlitch.py:759) Partial reconfiguration for width = 0 may not work\n",
      "(ChipWhisperer Glitch WARNING|File ChipWhispererGlitch.py:759) Partial reconfiguration for width = 0 may not work\n",
      "(ChipWhisperer Glitch WARNING|File ChipWhispererGlitch.py:759) Partial reconfiguration for width = 0 may not work\n",
      "(ChipWhisperer Glitch WARNING|File ChipWhispererGlitch.py:759) Partial reconfiguration for width = 0 may not work\n",
      "(ChipWhisperer Glitch WARNING|File ChipWhispererGlitch.py:759) Partial reconfiguration for width = 0 may not work\n",
      "(ChipWhisperer Glitch WARNING|File ChipWhispererGlitch.py:759) Partial reconfiguration for width = 0 may not work\n",
      "(ChipWhisperer Glitch WARNING|File ChipWhispererGlitch.py:759) Partial reconfiguration for width = 0 may not work\n",
      "(ChipWhisperer Glitch WARNING|File ChipWhispererGlitch.py:759) Partial reconfiguration for width = 0 may not work\n",
      "(ChipWhisperer Glitch WARNING|File ChipWhispererGlitch.py:759) Partial reconfiguration for width = 0 may not work\n",
      "(ChipWhisperer Glitch WARNING|File ChipWhispererGlitch.py:759) Partial reconfiguration for width = 0 may not work\n",
      "(ChipWhisperer Glitch WARNING|File ChipWhispererGlitch.py:759) Partial reconfiguration for width = 0 may not work\n",
      "(ChipWhisperer Glitch WARNING|File ChipWhispererGlitch.py:759) Partial reconfiguration for width = 0 may not work\n",
      "(ChipWhisperer Glitch WARNING|File ChipWhispererGlitch.py:934) Negative offsets <-45 may result in double glitches!\n",
      "(ChipWhisperer Glitch WARNING|File ChipWhispererGlitch.py:759) Partial reconfiguration for width = 0 may not work\n"
     ]
    },
    {
     "name": "stdout",
     "output_type": "stream",
     "text": [
      "Trigger still high!\n"
     ]
    },
    {
     "name": "stderr",
     "output_type": "stream",
     "text": [
      "(ChipWhisperer Glitch WARNING|File ChipWhispererGlitch.py:934) Negative offsets <-45 may result in double glitches!\n",
      "(ChipWhisperer Glitch WARNING|File ChipWhispererGlitch.py:759) Partial reconfiguration for width = 0 may not work\n",
      "(ChipWhisperer Glitch WARNING|File ChipWhispererGlitch.py:759) Partial reconfiguration for width = 0 may not work\n",
      "(ChipWhisperer Glitch WARNING|File ChipWhispererGlitch.py:759) Partial reconfiguration for width = 0 may not work\n",
      "(ChipWhisperer Glitch WARNING|File ChipWhispererGlitch.py:759) Partial reconfiguration for width = 0 may not work\n",
      "(ChipWhisperer Glitch WARNING|File ChipWhispererGlitch.py:759) Partial reconfiguration for width = 0 may not work\n",
      "(ChipWhisperer Glitch WARNING|File ChipWhispererGlitch.py:759) Partial reconfiguration for width = 0 may not work\n",
      "(ChipWhisperer Glitch WARNING|File ChipWhispererGlitch.py:759) Partial reconfiguration for width = 0 may not work\n",
      "(ChipWhisperer Glitch WARNING|File ChipWhispererGlitch.py:759) Partial reconfiguration for width = 0 may not work\n",
      "(ChipWhisperer Glitch WARNING|File ChipWhispererGlitch.py:759) Partial reconfiguration for width = 0 may not work\n",
      "(ChipWhisperer Glitch WARNING|File ChipWhispererGlitch.py:759) Partial reconfiguration for width = 0 may not work\n",
      "(ChipWhisperer Glitch WARNING|File ChipWhispererGlitch.py:759) Partial reconfiguration for width = 0 may not work\n",
      "(ChipWhisperer Glitch WARNING|File ChipWhispererGlitch.py:759) Partial reconfiguration for width = 0 may not work\n",
      "(ChipWhisperer Glitch WARNING|File ChipWhispererGlitch.py:759) Partial reconfiguration for width = 0 may not work\n",
      "(ChipWhisperer Glitch WARNING|File ChipWhispererGlitch.py:759) Partial reconfiguration for width = 0 may not work\n",
      "(ChipWhisperer Glitch WARNING|File ChipWhispererGlitch.py:759) Partial reconfiguration for width = 0 may not work\n",
      "(ChipWhisperer Glitch WARNING|File ChipWhispererGlitch.py:759) Partial reconfiguration for width = 0 may not work\n"
     ]
    },
    {
     "name": "stdout",
     "output_type": "stream",
     "text": [
      "Trigger still high!\n",
      "Trigger still high!\n",
      "5 -16 6 0 14d77f329021492f528d049aee9a1d632912817bb8807eaab3c350124fc1de33\n",
      "Trigger still high!\n"
     ]
    },
    {
     "name": "stderr",
     "output_type": "stream",
     "text": [
      "(ChipWhisperer Glitch WARNING|File ChipWhispererGlitch.py:759) Partial reconfiguration for width = 0 may not work\n"
     ]
    },
    {
     "name": "stdout",
     "output_type": "stream",
     "text": [
      "Trigger still high!\n",
      "Trigger still high!\n",
      "Trigger still high!\n",
      "Trigger still high!\n",
      "Trigger still high!\n"
     ]
    },
    {
     "name": "stderr",
     "output_type": "stream",
     "text": [
      "(ChipWhisperer Glitch WARNING|File ChipWhispererGlitch.py:759) Partial reconfiguration for width = 0 may not work\n"
     ]
    },
    {
     "name": "stdout",
     "output_type": "stream",
     "text": [
      "Trigger still high!\n",
      "Trigger still high!\n",
      "Trigger still high!\n",
      "Trigger still high!\n",
      "Trigger still high!\n",
      "Trigger still high!\n"
     ]
    },
    {
     "name": "stderr",
     "output_type": "stream",
     "text": [
      "(ChipWhisperer Glitch WARNING|File ChipWhispererGlitch.py:759) Partial reconfiguration for width = 0 may not work\n"
     ]
    },
    {
     "name": "stdout",
     "output_type": "stream",
     "text": [
      "Trigger still high!\n",
      "Trigger still high!\n",
      "Trigger still high!\n",
      "Trigger still high!\n"
     ]
    },
    {
     "name": "stderr",
     "output_type": "stream",
     "text": [
      "(ChipWhisperer Glitch WARNING|File ChipWhispererGlitch.py:759) Partial reconfiguration for width = 0 may not work\n"
     ]
    },
    {
     "name": "stdout",
     "output_type": "stream",
     "text": [
      "Trigger still high!\n",
      "Trigger still high!\n",
      "Trigger still high!\n",
      "Trigger still high!\n",
      "Trigger still high!\n"
     ]
    },
    {
     "name": "stderr",
     "output_type": "stream",
     "text": [
      "(ChipWhisperer Glitch WARNING|File ChipWhispererGlitch.py:759) Partial reconfiguration for width = 0 may not work\n"
     ]
    },
    {
     "name": "stdout",
     "output_type": "stream",
     "text": [
      "Trigger still high!\n",
      "Trigger still high!\n",
      "Trigger still high!\n",
      "Trigger still high!\n",
      "Trigger still high!\n"
     ]
    },
    {
     "name": "stderr",
     "output_type": "stream",
     "text": [
      "(ChipWhisperer Glitch WARNING|File ChipWhispererGlitch.py:759) Partial reconfiguration for width = 0 may not work\n"
     ]
    },
    {
     "name": "stdout",
     "output_type": "stream",
     "text": [
      "Trigger still high!\n",
      "Trigger still high!\n",
      "Trigger still high!\n",
      "Trigger still high!\n",
      "Trigger still high!\n",
      "Trigger still high!\n"
     ]
    },
    {
     "name": "stderr",
     "output_type": "stream",
     "text": [
      "(ChipWhisperer Glitch WARNING|File ChipWhispererGlitch.py:759) Partial reconfiguration for width = 0 may not work\n"
     ]
    },
    {
     "name": "stdout",
     "output_type": "stream",
     "text": [
      "Trigger still high!\n",
      "Trigger still high!\n",
      "Trigger still high!\n"
     ]
    },
    {
     "name": "stderr",
     "output_type": "stream",
     "text": [
      "(ChipWhisperer Glitch WARNING|File ChipWhispererGlitch.py:762) Partial reconfiguration for offset = 0 may not work\n",
      "(ChipWhisperer Glitch WARNING|File ChipWhispererGlitch.py:759) Partial reconfiguration for width = 0 may not work\n",
      "(ChipWhisperer Glitch WARNING|File ChipWhispererGlitch.py:762) Partial reconfiguration for offset = 0 may not work\n",
      "(ChipWhisperer Glitch WARNING|File ChipWhispererGlitch.py:762) Partial reconfiguration for offset = 0 may not work\n"
     ]
    },
    {
     "name": "stdout",
     "output_type": "stream",
     "text": [
      "Trigger still high!\n"
     ]
    },
    {
     "name": "stderr",
     "output_type": "stream",
     "text": [
      "(ChipWhisperer Glitch WARNING|File ChipWhispererGlitch.py:762) Partial reconfiguration for offset = 0 may not work\n",
      "(ChipWhisperer Glitch WARNING|File ChipWhispererGlitch.py:762) Partial reconfiguration for offset = 0 may not work\n",
      "(ChipWhisperer Glitch WARNING|File ChipWhispererGlitch.py:762) Partial reconfiguration for offset = 0 may not work\n",
      "(ChipWhisperer Glitch WARNING|File ChipWhispererGlitch.py:762) Partial reconfiguration for offset = 0 may not work\n",
      "(ChipWhisperer Glitch WARNING|File ChipWhispererGlitch.py:762) Partial reconfiguration for offset = 0 may not work\n",
      "(ChipWhisperer Glitch WARNING|File ChipWhispererGlitch.py:762) Partial reconfiguration for offset = 0 may not work\n"
     ]
    },
    {
     "name": "stdout",
     "output_type": "stream",
     "text": [
      "Trigger still high!\n"
     ]
    },
    {
     "name": "stderr",
     "output_type": "stream",
     "text": [
      "(ChipWhisperer Glitch WARNING|File ChipWhispererGlitch.py:762) Partial reconfiguration for offset = 0 may not work\n",
      "(ChipWhisperer Glitch WARNING|File ChipWhispererGlitch.py:762) Partial reconfiguration for offset = 0 may not work\n",
      "(ChipWhisperer Glitch WARNING|File ChipWhispererGlitch.py:762) Partial reconfiguration for offset = 0 may not work\n",
      "(ChipWhisperer Glitch WARNING|File ChipWhispererGlitch.py:762) Partial reconfiguration for offset = 0 may not work\n",
      "(ChipWhisperer Glitch WARNING|File ChipWhispererGlitch.py:762) Partial reconfiguration for offset = 0 may not work\n",
      "(ChipWhisperer Glitch WARNING|File ChipWhispererGlitch.py:762) Partial reconfiguration for offset = 0 may not work\n",
      "(ChipWhisperer Glitch WARNING|File ChipWhispererGlitch.py:762) Partial reconfiguration for offset = 0 may not work\n"
     ]
    },
    {
     "name": "stdout",
     "output_type": "stream",
     "text": [
      "Trigger still high!\n"
     ]
    },
    {
     "name": "stderr",
     "output_type": "stream",
     "text": [
      "(ChipWhisperer Glitch WARNING|File ChipWhispererGlitch.py:762) Partial reconfiguration for offset = 0 may not work\n",
      "(ChipWhisperer Glitch WARNING|File ChipWhispererGlitch.py:762) Partial reconfiguration for offset = 0 may not work\n"
     ]
    },
    {
     "name": "stdout",
     "output_type": "stream",
     "text": [
      "Trigger still high!\n"
     ]
    },
    {
     "name": "stderr",
     "output_type": "stream",
     "text": [
      "(ChipWhisperer Glitch WARNING|File ChipWhispererGlitch.py:762) Partial reconfiguration for offset = 0 may not work\n"
     ]
    },
    {
     "name": "stdout",
     "output_type": "stream",
     "text": [
      "Trigger still high!\n"
     ]
    },
    {
     "name": "stderr",
     "output_type": "stream",
     "text": [
      "(ChipWhisperer Glitch WARNING|File ChipWhispererGlitch.py:762) Partial reconfiguration for offset = 0 may not work\n",
      "(ChipWhisperer Glitch WARNING|File ChipWhispererGlitch.py:762) Partial reconfiguration for offset = 0 may not work\n",
      "(ChipWhisperer Glitch WARNING|File ChipWhispererGlitch.py:762) Partial reconfiguration for offset = 0 may not work\n",
      "(ChipWhisperer Glitch WARNING|File ChipWhispererGlitch.py:762) Partial reconfiguration for offset = 0 may not work\n",
      "(ChipWhisperer Glitch WARNING|File ChipWhispererGlitch.py:762) Partial reconfiguration for offset = 0 may not work\n"
     ]
    },
    {
     "name": "stdout",
     "output_type": "stream",
     "text": [
      "Trigger still high!\n"
     ]
    },
    {
     "name": "stderr",
     "output_type": "stream",
     "text": [
      "(ChipWhisperer Glitch WARNING|File ChipWhispererGlitch.py:762) Partial reconfiguration for offset = 0 may not work\n",
      "(ChipWhisperer Glitch WARNING|File ChipWhispererGlitch.py:759) Partial reconfiguration for width = 0 may not work\n"
     ]
    },
    {
     "name": "stdout",
     "output_type": "stream",
     "text": [
      "Trigger still high!\n",
      "Trigger still high!\n",
      "Trigger still high!\n",
      "Trigger still high!\n",
      "Trigger still high!\n"
     ]
    },
    {
     "name": "stderr",
     "output_type": "stream",
     "text": [
      "(ChipWhisperer Glitch WARNING|File ChipWhispererGlitch.py:759) Partial reconfiguration for width = 0 may not work\n"
     ]
    },
    {
     "name": "stdout",
     "output_type": "stream",
     "text": [
      "Trigger still high!\n",
      "Trigger still high!\n",
      "Trigger still high!\n",
      "Trigger still high!\n"
     ]
    },
    {
     "name": "stderr",
     "output_type": "stream",
     "text": [
      "(ChipWhisperer Glitch WARNING|File ChipWhispererGlitch.py:759) Partial reconfiguration for width = 0 may not work\n"
     ]
    },
    {
     "name": "stdout",
     "output_type": "stream",
     "text": [
      "Trigger still high!\n",
      "Trigger still high!\n",
      "Trigger still high!\n"
     ]
    },
    {
     "name": "stderr",
     "output_type": "stream",
     "text": [
      "(ChipWhisperer Glitch WARNING|File ChipWhispererGlitch.py:759) Partial reconfiguration for width = 0 may not work\n"
     ]
    },
    {
     "name": "stdout",
     "output_type": "stream",
     "text": [
      "Trigger still high!\n",
      "Trigger still high!\n"
     ]
    },
    {
     "name": "stderr",
     "output_type": "stream",
     "text": [
      "(ChipWhisperer Glitch WARNING|File ChipWhispererGlitch.py:759) Partial reconfiguration for width = 0 may not work\n"
     ]
    },
    {
     "name": "stdout",
     "output_type": "stream",
     "text": [
      "Trigger still high!\n"
     ]
    },
    {
     "name": "stderr",
     "output_type": "stream",
     "text": [
      "(ChipWhisperer Glitch WARNING|File ChipWhispererGlitch.py:759) Partial reconfiguration for width = 0 may not work\n",
      "(ChipWhisperer Glitch WARNING|File ChipWhispererGlitch.py:759) Partial reconfiguration for width = 0 may not work\n"
     ]
    },
    {
     "name": "stdout",
     "output_type": "stream",
     "text": [
      "Trigger still high!\n"
     ]
    },
    {
     "name": "stderr",
     "output_type": "stream",
     "text": [
      "(ChipWhisperer Glitch WARNING|File ChipWhispererGlitch.py:759) Partial reconfiguration for width = 0 may not work\n",
      "(ChipWhisperer Glitch WARNING|File ChipWhispererGlitch.py:759) Partial reconfiguration for width = 0 may not work\n",
      "(ChipWhisperer Glitch WARNING|File ChipWhispererGlitch.py:759) Partial reconfiguration for width = 0 may not work\n"
     ]
    },
    {
     "name": "stdout",
     "output_type": "stream",
     "text": [
      "Trigger still high!\n"
     ]
    },
    {
     "name": "stderr",
     "output_type": "stream",
     "text": [
      "(ChipWhisperer Glitch WARNING|File ChipWhispererGlitch.py:759) Partial reconfiguration for width = 0 may not work\n",
      "(ChipWhisperer Glitch WARNING|File ChipWhispererGlitch.py:759) Partial reconfiguration for width = 0 may not work\n",
      "(ChipWhisperer Glitch WARNING|File ChipWhispererGlitch.py:759) Partial reconfiguration for width = 0 may not work\n",
      "(ChipWhisperer Glitch WARNING|File ChipWhispererGlitch.py:759) Partial reconfiguration for width = 0 may not work\n",
      "(ChipWhisperer Glitch WARNING|File ChipWhispererGlitch.py:759) Partial reconfiguration for width = 0 may not work\n",
      "(ChipWhisperer Glitch WARNING|File ChipWhispererGlitch.py:759) Partial reconfiguration for width = 0 may not work\n",
      "(ChipWhisperer Glitch WARNING|File ChipWhispererGlitch.py:759) Partial reconfiguration for width = 0 may not work\n",
      "(ChipWhisperer Glitch WARNING|File ChipWhispererGlitch.py:759) Partial reconfiguration for width = 0 may not work\n",
      "(ChipWhisperer Glitch WARNING|File ChipWhispererGlitch.py:759) Partial reconfiguration for width = 0 may not work\n",
      "(ChipWhisperer Glitch WARNING|File ChipWhispererGlitch.py:759) Partial reconfiguration for width = 0 may not work\n",
      "(ChipWhisperer Glitch WARNING|File ChipWhispererGlitch.py:759) Partial reconfiguration for width = 0 may not work\n",
      "(ChipWhisperer Glitch WARNING|File ChipWhispererGlitch.py:759) Partial reconfiguration for width = 0 may not work\n",
      "(ChipWhisperer Glitch WARNING|File ChipWhispererGlitch.py:759) Partial reconfiguration for width = 0 may not work\n"
     ]
    },
    {
     "name": "stdout",
     "output_type": "stream",
     "text": [
      "Done glitching\n"
     ]
    },
    {
     "data": {
      "image/png": "[encoded data removed]",
      "text/plain": [
       "<Figure size 640x480 with 1 Axes>"
      ]
     },
     "metadata": {},
     "output_type": "display_data"
    }
   ],
   "source": [
    "import chipwhisperer.common.results.glitch as glitch\n",
    "from tqdm.notebook import trange\n",
    "import struct\n",
    "\n",
    "\n",
    "%matplotlib inline\n",
    "import matplotlib.pyplot as plt\n",
    "fig = plt.figure()\n",
    "\n",
    "\n",
    "# gc.set_range(\"width\", 0, 48)\n",
    "# gc.set_range(\"offset\", -48, 48)\n",
    "\n",
    "\n",
    "import time\n",
    "TIMES = 1\n",
    "msg = bytearray([3]*32) #simpleserial uses bytearrays\n",
    "for lext in range(2,6,1):\n",
    "            scope.glitch.ext_offset = lext\n",
    "\n",
    "            # Useless for voltage glitching\n",
    "            for loff in range(-48, 48, 2):\n",
    "                scope.glitch.offset = loff\n",
    "\n",
    "                # Almost always INVALID after 23\n",
    "                for lwid in range(0, 48, 2):\n",
    "                    scope.glitch.width = lwid\n",
    "\n",
    "                    for i in range(TIMES):                       \n",
    "                        if scope.adc.state:\n",
    "                            # can detect crash here (fast) before timing out (slow)\n",
    "                            print(\"Trigger still high!\")\n",
    "                            collections['reset'] += [(lext, loff, lwid)]\n",
    "                            plt.plot(lwid, loff, 'xr', alpha=1)\n",
    "#                             fig.canvas.draw()\n",
    "                            #record and reboot\n",
    "                            scope.io.nrst = False\n",
    "                            time.sleep(0.05)\n",
    "                            scope.io.nrst = \"high_z\"\n",
    "                            time.sleep(0.05)\n",
    "                        \n",
    "                        scope.arm()\n",
    "                        target.simpleserial_write('a', msg)\n",
    "                        ret = scope.capture()\n",
    "\n",
    "                        time.sleep(0.1) #wait 1 min long time for WOTS\n",
    "                        result = target.simpleserial_read_witherrors('r', 32, glitch_timeout=10)\n",
    " \n",
    "                        if ret: #true means wime out\n",
    "                            print('Timeout - no trigger')       \n",
    "                            collections['reset'] += [(lext, loff, lwid)]\n",
    "                            plt.plot(scope.glitch.width, scope.glitch.offset, 'xr', alpha=1)\n",
    "#                             fig.canvas.draw()\n",
    "                            #record and reboot\n",
    "                            scope.io.nrst = False\n",
    "                            time.sleep(0.05)\n",
    "                            scope.io.nrst = \"high_z\"\n",
    "                            time.sleep(0.05)\n",
    "                        else:\n",
    "                            if result['valid'] is True:\n",
    "                                collections['valid'] += [(lext, loff, lwid)]\n",
    "                                if result['payload'] :\n",
    "                                    payload = result['payload'].hex()\n",
    "#                                   if payload[:64] != 'e4e882de28650a2bbdcf78dc24c91976e15ca409d405c53e2c0b7fffc46cd260': #exepection for WOTS\n",
    "                                    if payload[:64] != 'c133656b89672c806a7fb33407d5920415befa83ab0470d2fbc117733c8bf95e':\n",
    "                                        print(lext,loff,lwid,i,payload[:64])\n",
    "                                        collections['faulty'] += [(lext, loff, lwid)]\n",
    "                                        plt.plot(scope.glitch.width, scope.glitch.offset, '+g',alpha=1)\n",
    "                                        fig.canvas.draw()\n",
    "                            else: #reboot\n",
    "#                                 scope.io.nrst = False\n",
    "#                                 time.sleep(0.05)\n",
    "#                                 scope.io.nrst = \"high_z\"\n",
    "#                                 time.sleep(0.05) \n",
    "                                collections['reset'] += [(lext, loff, lwid)]\n",
    "                               \n",
    "#                              \n",
    "print(\"Done glitching\")"
   ]
  },
  {
   "cell_type": "markdown",
   "id": "75ba6dd3",
   "metadata": {},
   "source": [
    "***plus '+' means successful Fault Injections match signaures***"
   ]
  },
  {
   "cell_type": "code",
   "execution_count": 492,
   "id": "e5c49f7d",
   "metadata": {},
   "outputs": [
    {
     "name": "stdout",
     "output_type": "stream",
     "text": [
      "{'faulty': [(2, 0, 10), (2, 0, 16), (3, -4, 2), (4, -2, 46), (5, -16, 6)], 'reset': [(2, -16, 2), (2, -16, 4), (2, -16, 4), (2, -16, 6), (2, -16, 14), (2, -16, 16), (2, -14, 2), (2, -14, 4), (2, -14, 4), (2, -14, 6), (2, -14, 6), (2, -14, 8), (2, -14, 8), (2, -14, 10), (2, -14, 10), (2, -14, 12), (2, -12, 2), (2, -12, 4), (2, -12, 4), (2, -12, 6), (2, -12, 6), (2, -12, 8), (2, -12, 8), (2, -12, 10), (2, -12, 14), (2, -12, 16), (2, -10, 2), (2, -10, 4), (2, -10, 4), (2, -10, 6), (2, -10, 6), (2, -10, 8), (2, -10, 12), (2, -10, 14), (2, -10, 14), (2, -10, 16), (2, -8, 2), (2, -8, 4), (2, -8, 4), (2, -8, 6), (2, -8, 12), (2, -8, 14), (2, -8, 14), (2, -8, 16), (2, -6, 2), (2, -6, 4), (2, -6, 10), (2, -6, 12), (2, -6, 12), (2, -6, 14), (2, -6, 14), (2, -6, 16), (2, -6, 16), (2, -6, 18), (2, -4, 2), (2, -4, 4), (2, -4, 8), (2, -4, 10), (2, -4, 10), (2, -4, 12), (2, -4, 12), (2, -4, 14), (2, -4, 14), (2, -4, 16), (2, -4, 16), (2, -4, 18), (2, -2, 4), (2, -2, 6), (2, -2, 12), (2, -2, 14), (2, -2, 14), (2, -2, 16), (2, -2, 38), (2, -2, 40), (2, -2, 44), (2, -2, 46), (2, 0, 0), (2, 0, 2), (2, 0, 12), (2, 0, 14), (2, 0, 18), (2, 0, 20), (2, 0, 32), (2, 0, 34), (2, 0, 34), (2, 0, 36), (2, 2, 4), (2, 2, 6), (2, 2, 6), (2, 2, 8), (2, 2, 8), (2, 2, 10), (2, 2, 10), (2, 2, 12), (2, 2, 12), (2, 2, 14), (2, 4, 4), (2, 4, 6), (2, 4, 6), (2, 4, 8), (2, 4, 8), (2, 4, 10), (2, 4, 10), (2, 4, 12), (2, 6, 4), (2, 6, 6), (2, 6, 6), (2, 6, 8), (2, 6, 8), (2, 6, 10), (2, 8, 4), (2, 8, 6), (2, 8, 6), (2, 8, 8), (2, 10, 4), (2, 10, 6), (2, 12, 2), (2, 12, 4), (2, 14, 2), (2, 14, 4), (2, 32, 2), (2, 32, 4), (2, 34, 2), (2, 34, 4), (3, -48, 2), (3, -48, 4), (3, -28, 2), (3, -28, 4), (3, -16, 2), (3, -16, 4), (3, -16, 4), (3, -16, 6), (3, -16, 6), (3, -16, 8), (3, -16, 14), (3, -16, 16), (3, -14, 2), (3, -14, 4), (3, -14, 4), (3, -14, 6), (3, -14, 6), (3, -14, 8), (3, -14, 8), (3, -14, 10), (3, -14, 10), (3, -14, 12), (3, -12, 4), (3, -12, 6), (3, -12, 6), (3, -12, 8), (3, -12, 8), (3, -12, 10), (3, -12, 14), (3, -12, 16), (3, -10, 4), (3, -10, 6), (3, -10, 6), (3, -10, 8), (3, -10, 12), (3, -10, 14), (3, -10, 14), (3, -10, 16), (3, -8, 4), (3, -8, 6), (3, -8, 10), (3, -8, 12), (3, -8, 12), (3, -8, 14), (3, -8, 14), (3, -8, 16), (3, -6, 10), (3, -6, 12), (3, -6, 12), (3, -6, 14), (3, -6, 14), (3, -6, 16), (3, -6, 16), (3, -6, 18), (3, -4, 8), (3, -4, 10), (3, -4, 10), (3, -4, 12), (3, -4, 12), (3, -4, 14), (3, -4, 14), (3, -4, 16), (3, -4, 16), (3, -4, 18), (3, -2, 4), (3, -2, 6), (3, -2, 8), (3, -2, 10), (3, -2, 10), (3, -2, 12), (3, -2, 14), (3, -2, 16), (3, -2, 16), (3, -2, 18), (3, 0, 6), (3, 0, 8), (3, 0, 14), (3, 0, 16), (3, 0, 16), (3, 0, 18), (3, 0, 30), (3, 0, 32), (3, 0, 44), (3, 0, 46), (3, 2, 4), (3, 2, 6), (3, 2, 6), (3, 2, 8), (3, 2, 8), (3, 2, 10), (3, 2, 10), (3, 2, 12), (3, 2, 12), (3, 2, 14), (3, 4, 4), (3, 4, 6), (3, 4, 6), (3, 4, 8), (3, 4, 8), (3, 4, 10), (3, 4, 10), (3, 4, 12), (3, 6, 4), (3, 6, 6), (3, 6, 6), (3, 6, 8), (3, 6, 8), (3, 6, 10), (3, 8, 4), (3, 8, 6), (3, 8, 6), (3, 8, 8), (3, 10, 4), (3, 10, 6), (3, 14, 2), (3, 14, 4), (3, 26, 22), (3, 26, 24), (4, -36, 34), (4, -36, 36), (4, -28, 2), (4, -28, 4), (4, -16, 2), (4, -16, 4), (4, -16, 4), (4, -16, 6), (4, -16, 6), (4, -16, 8), (4, -14, 2), (4, -14, 4), (4, -14, 4), (4, -14, 6), (4, -14, 6), (4, -14, 8), (4, -14, 8), (4, -14, 10), (4, -14, 10), (4, -14, 12), (4, -12, 2), (4, -12, 4), (4, -12, 4), (4, -12, 6), (4, -12, 6), (4, -12, 8), (4, -12, 8), (4, -12, 10), (4, -12, 14), (4, -12, 16), (4, -10, 2), (4, -10, 4), (4, -10, 4), (4, -10, 6), (4, -10, 6), (4, -10, 8), (4, -10, 12), (4, -10, 14), (4, -10, 14), (4, -10, 16), (4, -8, 2), (4, -8, 4), (4, -8, 4), (4, -8, 6), (4, -8, 12), (4, -8, 14), (4, -8, 14), (4, -8, 16), (4, -6, 2), (4, -6, 4), (4, -6, 10), (4, -6, 12), (4, -6, 12), (4, -6, 14), (4, -6, 14), (4, -6, 16), (4, -6, 16), (4, -6, 18), (4, -4, 2), (4, -4, 4), (4, -4, 8), (4, -4, 10), (4, -4, 10), (4, -4, 12), (4, -4, 12), (4, -4, 14), (4, -4, 14), (4, -4, 16), (4, -4, 16), (4, -4, 18), (4, -2, 4), (4, -2, 6), (4, -2, 6), (4, -2, 8), (4, -2, 8), (4, -2, 10), (4, -2, 10), (4, -2, 12), (4, -2, 14), (4, -2, 16), (4, -2, 16), (4, -2, 18), (4, -2, 34), (4, -2, 36), (4, -2, 42), (4, -2, 44), (4, 0, 6), (4, 0, 8), (4, 2, 4), (4, 2, 6), (4, 2, 6), (4, 2, 8), (4, 2, 8), (4, 2, 10), (4, 2, 10), (4, 2, 12), (4, 2, 12), (4, 2, 14), (4, 4, 4), (4, 4, 6), (4, 4, 6), (4, 4, 8), (4, 4, 8), (4, 4, 10), (4, 4, 10), (4, 4, 12), (4, 6, 4), (4, 6, 6), (4, 6, 6), (4, 6, 8), (4, 6, 8), (4, 6, 10), (4, 8, 4), (4, 8, 6), (4, 8, 6), (4, 8, 8), (4, 10, 4), (4, 10, 6), (4, 12, 2), (4, 12, 4), (4, 14, 2), (4, 14, 4), (4, 20, 28), (4, 20, 30), (5, -48, 2), (5, -48, 4), (5, -16, 2), (5, -16, 4), (5, -16, 4), (5, -16, 6), (5, -16, 14), (5, -16, 16), (5, -14, 2), (5, -14, 4), (5, -14, 4), (5, -14, 6), (5, -14, 6), (5, -14, 8), (5, -14, 8), (5, -14, 10), (5, -14, 10), (5, -14, 12), (5, -12, 2), (5, -12, 4), (5, -12, 4), (5, -12, 6), (5, -12, 6), (5, -12, 8), (5, -12, 8), (5, -12, 10), (5, -12, 10), (5, -12, 12), (5, -12, 14), (5, -12, 16), (5, -10, 4), (5, -10, 6), (5, -10, 6), (5, -10, 8), (5, -10, 12), (5, -10, 14), (5, -10, 14), (5, -10, 16), (5, -8, 2), (5, -8, 4), (5, -8, 4), (5, -8, 6), (5, -8, 10), (5, -8, 12), (5, -8, 12), (5, -8, 14), (5, -8, 14), (5, -8, 16), (5, -6, 2), (5, -6, 4), (5, -6, 10), (5, -6, 12), (5, -6, 12), (5, -6, 14), (5, -6, 14), (5, -6, 16), (5, -6, 16), (5, -6, 18), (5, -4, 2), (5, -4, 4), (5, -4, 8), (5, -4, 10), (5, -4, 10), (5, -4, 12), (5, -4, 12), (5, -4, 14), (5, -4, 14), (5, -4, 16), (5, -4, 16), (5, -4, 18), (5, -2, 4), (5, -2, 6), (5, -2, 10), (5, -2, 12), (5, -2, 18), (5, -2, 20), (5, 0, 0), (5, 0, 2), (5, 0, 12), (5, 0, 14), (5, 0, 26), (5, 0, 28), (5, 0, 30), (5, 0, 32), (5, 0, 32), (5, 0, 34), (5, 0, 42), (5, 0, 44), (5, 2, 4), (5, 2, 6), (5, 2, 6), (5, 2, 8), (5, 2, 8), (5, 2, 10), (5, 2, 10), (5, 2, 12), (5, 2, 12), (5, 2, 14), (5, 4, 4), (5, 4, 6), (5, 4, 6), (5, 4, 8), (5, 4, 8), (5, 4, 10), (5, 4, 10), (5, 4, 12), (5, 6, 4), (5, 6, 6), (5, 6, 6), (5, 6, 8), (5, 6, 8), (5, 6, 10), (5, 8, 4), (5, 8, 6), (5, 8, 6), (5, 8, 8), (5, 10, 4), (5, 10, 6), (5, 14, 2), (5, 14, 4), (5, 20, 28), (5, 20, 30)], 'valid': [(2, -48, 0), (2, -48, 2), (2, -48, 4), (2, -48, 6), (2, -48, 8), (2, -48, 10), (2, -48, 12), (2, -48, 14), (2, -48, 16), (2, -48, 18), (2, -48, 20), (2, -48, 22), (2, -48, 24), (2, -48, 26), (2, -48, 28), (2, -48, 30), (2, -48, 32), (2, -48, 34), (2, -48, 36), (2, -48, 38), (2, -48, 40), (2, -48, 42), (2, -48, 44), (2, -48, 46), (2, -46, 0), (2, -46, 2), (2, -46, 4), (2, -46, 6), (2, -46, 8), (2, -46, 10), (2, -46, 12), (2, -46, 14), (2, -46, 16), (2, -46, 18), (2, -46, 20), (2, -46, 22), (2, -46, 24), (2, -46, 26), (2, -46, 28), (2, -46, 30), (2, -46, 32), (2, -46, 34), (2, -46, 36), (2, -46, 38), (2, -46, 40), (2, -46, 42), (2, -46, 44), (2, -46, 46), (2, -44, 0), (2, -44, 2), (2, -44, 4), (2, -44, 6), (2, -44, 8), (2, -44, 10), (2, -44, 12), (2, -44, 14), (2, -44, 16), (2, -44, 18), (2, -44, 20), (2, -44, 22), (2, -44, 24), (2, -44, 26), (2, -44, 28), (2, -44, 30), (2, -44, 32), (2, -44, 34), (2, -44, 36), (2, -44, 38), (2, -44, 40), (2, -44, 42), (2, -44, 44), (2, -44, 46), (2, -42, 0), (2, -42, 2), (2, -42, 4), (2, -42, 6), (2, -42, 8), (2, -42, 10), (2, -42, 12), (2, -42, 14), (2, -42, 16), (2, -42, 18), (2, -42, 20), (2, -42, 22), (2, -42, 24), (2, -42, 26), (2, -42, 28), (2, -42, 30), (2, -42, 32), (2, -42, 34), (2, -42, 36), (2, -42, 38), (2, -42, 40), (2, -42, 42), (2, -42, 44), (2, -42, 46), (2, -40, 0), (2, -40, 2), (2, -40, 4), (2, -40, 6), (2, -40, 8), (2, -40, 10), (2, -40, 12), (2, -40, 14), (2, -40, 16), (2, -40, 18), (2, -40, 20), (2, -40, 22), (2, -40, 24), (2, -40, 26), (2, -40, 28), (2, -40, 30), (2, -40, 32), (2, -40, 34), (2, -40, 36), (2, -40, 38), (2, -40, 40), (2, -40, 42), (2, -40, 44), (2, -40, 46), (2, -38, 0), (2, -38, 2), (2, -38, 4), (2, -38, 6), (2, -38, 8), (2, -38, 10), (2, -38, 12), (2, -38, 14), (2, -38, 16), (2, -38, 18), (2, -38, 20), (2, -38, 22), (2, -38, 24), (2, -38, 26), (2, -38, 28), (2, -38, 30), (2, -38, 32), (2, -38, 34), (2, -38, 36), (2, -38, 38), (2, -38, 40), (2, -38, 42), (2, -38, 44), (2, -38, 46), (2, -36, 0), (2, -36, 2), (2, -36, 4), (2, -36, 6), (2, -36, 8), (2, -36, 10), (2, -36, 12), (2, -36, 14), (2, -36, 16), (2, -36, 18), (2, -36, 20), (2, -36, 22), (2, -36, 24), (2, -36, 26), (2, -36, 28), (2, -36, 30), (2, -36, 32), (2, -36, 34), (2, -36, 36), (2, -36, 38), (2, -36, 40), (2, -36, 42), (2, -36, 44), (2, -36, 46), (2, -34, 0), (2, -34, 2), (2, -34, 4), (2, -34, 6), (2, -34, 8), (2, -34, 10), (2, -34, 12), (2, -34, 14), (2, -34, 16), (2, -34, 18), (2, -34, 20), (2, -34, 22), (2, -34, 24), (2, -34, 26), (2, -34, 28), (2, -34, 30), (2, -34, 32), (2, -34, 34), (2, -34, 36), (2, -34, 38), (2, -34, 40), (2, -34, 42), (2, -34, 44), (2, -34, 46), (2, -32, 0), (2, -32, 2), (2, -32, 4), (2, -32, 6), (2, -32, 8), (2, -32, 10), (2, -32, 12), (2, -32, 14), (2, -32, 16), (2, -32, 18), (2, -32, 20), (2, -32, 22), (2, -32, 24), (2, -32, 26), (2, -32, 28), (2, -32, 30), (2, -32, 32), (2, -32, 34), (2, -32, 36), (2, -32, 38), (2, -32, 40), (2, -32, 42), (2, -32, 44), (2, -32, 46), (2, -30, 0), (2, -30, 2), (2, -30, 4), (2, -30, 6), (2, -30, 8), (2, -30, 10), (2, -30, 12), (2, -30, 14), (2, -30, 16), (2, -30, 18), (2, -30, 20), (2, -30, 22), (2, -30, 24), (2, -30, 26), (2, -30, 28), (2, -30, 30), (2, -30, 32), (2, -30, 34), (2, -30, 36), (2, -30, 38), (2, -30, 40), (2, -30, 42), (2, -30, 44), (2, -30, 46), (2, -28, 0), (2, -28, 2), (2, -28, 4), (2, -28, 6), (2, -28, 8), (2, -28, 10), (2, -28, 12), (2, -28, 14), (2, -28, 16), (2, -28, 18), (2, -28, 20), (2, -28, 22), (2, -28, 24), (2, -28, 26), (2, -28, 28), (2, -28, 30), (2, -28, 32), (2, -28, 34), (2, -28, 36), (2, -28, 38), (2, -28, 40), (2, -28, 42), (2, -28, 44), (2, -28, 46), (2, -26, 0), (2, -26, 2), (2, -26, 4), (2, -26, 6), (2, -26, 8), (2, -26, 10), (2, -26, 12), (2, -26, 14), (2, -26, 16), (2, -26, 18), (2, -26, 20), (2, -26, 22), (2, -26, 24), (2, -26, 26), (2, -26, 28), (2, -26, 30), (2, -26, 32), (2, -26, 34), (2, -26, 36), (2, -26, 38), (2, -26, 40), (2, -26, 42), (2, -26, 44), (2, -26, 46), (2, -24, 0), (2, -24, 2), (2, -24, 4), (2, -24, 6), (2, -24, 8), (2, -24, 10), (2, -24, 12), (2, -24, 14), (2, -24, 16), (2, -24, 18), (2, -24, 20), (2, -24, 22), (2, -24, 24), (2, -24, 26), (2, -24, 28), (2, -24, 30), (2, -24, 32), (2, -24, 34), (2, -24, 36), (2, -24, 38), (2, -24, 40), (2, -24, 42), (2, -24, 44), (2, -24, 46), (2, -22, 0), (2, -22, 2), (2, -22, 4), (2, -22, 6), (2, -22, 8), (2, -22, 10), (2, -22, 12), (2, -22, 14), (2, -22, 16), (2, -22, 18), (2, -22, 20), (2, -22, 22), (2, -22, 24), (2, -22, 26), (2, -22, 28), (2, -22, 30), (2, -22, 32), (2, -22, 34), (2, -22, 36), (2, -22, 38), (2, -22, 40), (2, -22, 42), (2, -22, 44), (2, -22, 46), (2, -20, 0), (2, -20, 2), (2, -20, 4), (2, -20, 6), (2, -20, 8), (2, -20, 10), (2, -20, 12), (2, -20, 14), (2, -20, 16), (2, -20, 18), (2, -20, 20), (2, -20, 22), (2, -20, 24), (2, -20, 26), (2, -20, 28), (2, -20, 30), (2, -20, 32), (2, -20, 34), (2, -20, 36), (2, -20, 38), (2, -20, 40), (2, -20, 42), (2, -20, 44), (2, -20, 46), (2, -18, 0), (2, -18, 2), (2, -18, 4), (2, -18, 6), (2, -18, 8), (2, -18, 10), (2, -18, 12), (2, -18, 14), (2, -18, 16), (2, -18, 18), (2, -18, 20), (2, -18, 22), (2, -18, 24), (2, -18, 26), (2, -18, 28), (2, -18, 30), (2, -18, 32), (2, -18, 34), (2, -18, 36), (2, -18, 38), (2, -18, 40), (2, -18, 42), (2, -18, 44), (2, -18, 46), (2, -16, 0), (2, -16, 6), (2, -16, 8), (2, -16, 10), (2, -16, 12), (2, -16, 16), (2, -16, 18), (2, -16, 20), (2, -16, 22), (2, -16, 24), (2, -16, 26), (2, -16, 28), (2, -16, 30), (2, -16, 32), (2, -16, 34), (2, -16, 36), (2, -16, 38), (2, -16, 40), (2, -16, 42), (2, -16, 44), (2, -16, 46), (2, -14, 0), (2, -14, 12), (2, -14, 14), (2, -14, 16), (2, -14, 18), (2, -14, 20), (2, -14, 22), (2, -14, 24), (2, -14, 26), (2, -14, 28), (2, -14, 30), (2, -14, 32), (2, -14, 34), (2, -14, 36), (2, -14, 38), (2, -14, 40), (2, -14, 42), (2, -14, 44), (2, -14, 46), (2, -12, 0), (2, -12, 10), (2, -12, 12), (2, -12, 16), (2, -12, 18), (2, -12, 20), (2, -12, 22), (2, -12, 24), (2, -12, 26), (2, -12, 28), (2, -12, 30), (2, -12, 32), (2, -12, 34), (2, -12, 36), (2, -12, 38), (2, -12, 40), (2, -12, 42), (2, -12, 44), (2, -12, 46), (2, -10, 0), (2, -10, 8), (2, -10, 10), (2, -10, 16), (2, -10, 18), (2, -10, 20), (2, -10, 22), (2, -10, 24), (2, -10, 26), (2, -10, 28), (2, -10, 30), (2, -10, 32), (2, -10, 34), (2, -10, 36), (2, -10, 38), (2, -10, 40), (2, -10, 42), (2, -10, 44), (2, -10, 46), (2, -8, 0), (2, -8, 6), (2, -8, 8), (2, -8, 10), (2, -8, 16), (2, -8, 18), (2, -8, 20), (2, -8, 22), (2, -8, 24), (2, -8, 26), (2, -8, 28), (2, -8, 30), (2, -8, 32), (2, -8, 34), (2, -8, 36), (2, -8, 38), (2, -8, 40), (2, -8, 42), (2, -8, 44), (2, -8, 46), (2, -6, 0), (2, -6, 4), (2, -6, 6), (2, -6, 8), (2, -6, 18), (2, -6, 20), (2, -6, 22), (2, -6, 24), (2, -6, 26), (2, -6, 28), (2, -6, 30), (2, -6, 32), (2, -6, 34), (2, -6, 36), (2, -6, 38), (2, -6, 40), (2, -6, 42), (2, -6, 44), (2, -6, 46), (2, -4, 0), (2, -4, 4), (2, -4, 6), (2, -4, 18), (2, -4, 20), (2, -4, 22), (2, -4, 24), (2, -4, 26), (2, -4, 28), (2, -4, 30), (2, -4, 32), (2, -4, 34), (2, -4, 36), (2, -4, 38), (2, -4, 40), (2, -4, 42), (2, -4, 44), (2, -4, 46), (2, -2, 0), (2, -2, 2), (2, -2, 6), (2, -2, 8), (2, -2, 10), (2, -2, 16), (2, -2, 18), (2, -2, 20), (2, -2, 22), (2, -2, 24), (2, -2, 26), (2, -2, 28), (2, -2, 30), (2, -2, 32), (2, -2, 34), (2, -2, 36), (2, -2, 40), (2, -2, 42), (2, -2, 46), (2, 0, 2), (2, 0, 4), (2, 0, 6), (2, 0, 8), (2, 0, 10), (2, 0, 14), (2, 0, 16), (2, 0, 20), (2, 0, 22), (2, 0, 24), (2, 0, 26), (2, 0, 28), (2, 0, 30), (2, 0, 36), (2, 0, 38), (2, 0, 40), (2, 0, 42), (2, 0, 44), (2, 0, 46), (2, 2, 0), (2, 2, 2), (2, 2, 14), (2, 2, 16), (2, 2, 18), (2, 2, 20), (2, 2, 22), (2, 2, 24), (2, 2, 26), (2, 2, 28), (2, 2, 30), (2, 2, 32), (2, 2, 34), (2, 2, 36), (2, 2, 38), (2, 2, 40), (2, 2, 42), (2, 2, 44), (2, 2, 46), (2, 4, 0), (2, 4, 2), (2, 4, 12), (2, 4, 14), (2, 4, 16), (2, 4, 18), (2, 4, 20), (2, 4, 22), (2, 4, 24), (2, 4, 26), (2, 4, 28), (2, 4, 30), (2, 4, 32), (2, 4, 34), (2, 4, 36), (2, 4, 38), (2, 4, 40), (2, 4, 42), (2, 4, 44), (2, 4, 46), (2, 6, 0), (2, 6, 2), (2, 6, 10), (2, 6, 12), (2, 6, 14), (2, 6, 16), (2, 6, 18), (2, 6, 20), (2, 6, 22), (2, 6, 24), (2, 6, 26), (2, 6, 28), (2, 6, 30), (2, 6, 32), (2, 6, 34), (2, 6, 36), (2, 6, 38), (2, 6, 40), (2, 6, 42), (2, 6, 44), (2, 6, 46), (2, 8, 0), (2, 8, 2), (2, 8, 8), (2, 8, 10), (2, 8, 12), (2, 8, 14), (2, 8, 16), (2, 8, 18), (2, 8, 20), (2, 8, 22), (2, 8, 24), (2, 8, 26), (2, 8, 28), (2, 8, 30), (2, 8, 32), (2, 8, 34), (2, 8, 36), (2, 8, 38), (2, 8, 40), (2, 8, 42), (2, 8, 44), (2, 8, 46), (2, 10, 0), (2, 10, 2), (2, 10, 6), (2, 10, 8), (2, 10, 10), (2, 10, 12), (2, 10, 14), (2, 10, 16), (2, 10, 18), (2, 10, 20), (2, 10, 22), (2, 10, 24), (2, 10, 26), (2, 10, 28), (2, 10, 30), (2, 10, 32), (2, 10, 34), (2, 10, 36), (2, 10, 38), (2, 10, 40), (2, 10, 42), (2, 10, 44), (2, 10, 46), (2, 12, 0), (2, 12, 4), (2, 12, 6), (2, 12, 8), (2, 12, 10), (2, 12, 12), (2, 12, 14), (2, 12, 16), (2, 12, 18), (2, 12, 20), (2, 12, 22), (2, 12, 24), (2, 12, 26), (2, 12, 28), (2, 12, 30), (2, 12, 32), (2, 12, 34), (2, 12, 36), (2, 12, 38), (2, 12, 40), (2, 12, 42), (2, 12, 44), (2, 12, 46), (2, 14, 0), (2, 14, 4), (2, 14, 6), (2, 14, 8), (2, 14, 10), (2, 14, 12), (2, 14, 14), (2, 14, 16), (2, 14, 18), (2, 14, 20), (2, 14, 22), (2, 14, 24), (2, 14, 26), (2, 14, 28), (2, 14, 30), (2, 14, 32), (2, 14, 34), (2, 14, 36), (2, 14, 38), (2, 14, 40), (2, 14, 42), (2, 14, 44), (2, 14, 46), (2, 16, 0), (2, 16, 2), (2, 16, 4), (2, 16, 6), (2, 16, 8), (2, 16, 10), (2, 16, 12), (2, 16, 14), (2, 16, 16), (2, 16, 18), (2, 16, 20), (2, 16, 22), (2, 16, 24), (2, 16, 26), (2, 16, 28), (2, 16, 30), (2, 16, 32), (2, 16, 34), (2, 16, 36), (2, 16, 38), (2, 16, 40), (2, 16, 42), (2, 16, 44), (2, 16, 46), (2, 18, 0), (2, 18, 2), (2, 18, 4), (2, 18, 6), (2, 18, 8), (2, 18, 10), (2, 18, 12), (2, 18, 14), (2, 18, 16), (2, 18, 18), (2, 18, 20), (2, 18, 22), (2, 18, 24), (2, 18, 26), (2, 18, 28), (2, 18, 30), (2, 18, 32), (2, 18, 34), (2, 18, 36), (2, 18, 38), (2, 18, 40), (2, 18, 42), (2, 18, 44), (2, 18, 46), (2, 20, 0), (2, 20, 2), (2, 20, 4), (2, 20, 6), (2, 20, 8), (2, 20, 10), (2, 20, 12), (2, 20, 14), (2, 20, 16), (2, 20, 18), (2, 20, 20), (2, 20, 22), (2, 20, 24), (2, 20, 26), (2, 20, 28), (2, 20, 30), (2, 20, 32), (2, 20, 34), (2, 20, 36), (2, 20, 38), (2, 20, 40), (2, 20, 42), (2, 20, 44), (2, 20, 46), (2, 22, 0), (2, 22, 2), (2, 22, 4), (2, 22, 6), (2, 22, 8), (2, 22, 10), (2, 22, 12), (2, 22, 14), (2, 22, 16), (2, 22, 18), (2, 22, 20), (2, 22, 22), (2, 22, 24), (2, 22, 26), (2, 22, 28), (2, 22, 30), (2, 22, 32), (2, 22, 34), (2, 22, 36), (2, 22, 38), (2, 22, 40), (2, 22, 42), (2, 22, 44), (2, 22, 46), (2, 24, 0), (2, 24, 2), (2, 24, 4), (2, 24, 6), (2, 24, 8), (2, 24, 10), (2, 24, 12), (2, 24, 14), (2, 24, 16), (2, 24, 18), (2, 24, 20), (2, 24, 22), (2, 24, 24), (2, 24, 26), (2, 24, 28), (2, 24, 30), (2, 24, 32), (2, 24, 34), (2, 24, 36), (2, 24, 38), (2, 24, 40), (2, 24, 42), (2, 24, 44), (2, 24, 46), (2, 26, 0), (2, 26, 2), (2, 26, 4), (2, 26, 6), (2, 26, 8), (2, 26, 10), (2, 26, 12), (2, 26, 14), (2, 26, 16), (2, 26, 18), (2, 26, 20), (2, 26, 22), (2, 26, 24), (2, 26, 26), (2, 26, 28), (2, 26, 30), (2, 26, 32), (2, 26, 34), (2, 26, 36), (2, 26, 38), (2, 26, 40), (2, 26, 42), (2, 26, 44), (2, 26, 46), (2, 28, 0), (2, 28, 2), (2, 28, 4), (2, 28, 6), (2, 28, 8), (2, 28, 10), (2, 28, 12), (2, 28, 14), (2, 28, 16), (2, 28, 18), (2, 28, 20), (2, 28, 22), (2, 28, 24), (2, 28, 26), (2, 28, 28), (2, 28, 30), (2, 28, 32), (2, 28, 34), (2, 28, 36), (2, 28, 38), (2, 28, 40), (2, 28, 42), (2, 28, 44), (2, 28, 46), (2, 30, 0), (2, 30, 2), (2, 30, 4), (2, 30, 6), (2, 30, 8), (2, 30, 10), (2, 30, 12), (2, 30, 14), (2, 30, 16), (2, 30, 18), (2, 30, 20), (2, 30, 22), (2, 30, 24), (2, 30, 26), (2, 30, 28), (2, 30, 30), (2, 30, 32), (2, 30, 34), (2, 30, 36), (2, 30, 38), (2, 30, 40), (2, 30, 42), (2, 30, 44), (2, 30, 46), (2, 32, 0), (2, 32, 4), (2, 32, 6), (2, 32, 8), (2, 32, 10), (2, 32, 12), (2, 32, 14), (2, 32, 16), (2, 32, 18), (2, 32, 20), (2, 32, 22), (2, 32, 24), (2, 32, 26), (2, 32, 28), (2, 32, 30), (2, 32, 32), (2, 32, 34), (2, 32, 36), (2, 32, 38), (2, 32, 40), (2, 32, 42), (2, 32, 44), (2, 32, 46), (2, 34, 0), (2, 34, 4), (2, 34, 6), (2, 34, 8), (2, 34, 10), (2, 34, 12), (2, 34, 14), (2, 34, 16), (2, 34, 18), (2, 34, 20), (2, 34, 22), (2, 34, 24), (2, 34, 26), (2, 34, 28), (2, 34, 30), (2, 34, 32), (2, 34, 34), (2, 34, 36), (2, 34, 38), (2, 34, 40), (2, 34, 42), (2, 34, 44), (2, 34, 46), (2, 36, 0), (2, 36, 2), (2, 36, 4), (2, 36, 6), (2, 36, 8), (2, 36, 10), (2, 36, 12), (2, 36, 14), (2, 36, 16), (2, 36, 18), (2, 36, 20), (2, 36, 22), (2, 36, 24), (2, 36, 26), (2, 36, 28), (2, 36, 30), (2, 36, 32), (2, 36, 34), (2, 36, 36), (2, 36, 38), (2, 36, 40), (2, 36, 42), (2, 36, 44), (2, 36, 46), (2, 38, 0), (2, 38, 2), (2, 38, 4), (2, 38, 6), (2, 38, 8), (2, 38, 10), (2, 38, 12), (2, 38, 14), (2, 38, 16), (2, 38, 18), (2, 38, 20), (2, 38, 22), (2, 38, 24), (2, 38, 26), (2, 38, 28), (2, 38, 30), (2, 38, 32), (2, 38, 34), (2, 38, 36), (2, 38, 38), (2, 38, 40), (2, 38, 42), (2, 38, 44), (2, 38, 46), (2, 40, 0), (2, 40, 2), (2, 40, 4), (2, 40, 6), (2, 40, 8), (2, 40, 10), (2, 40, 12), (2, 40, 14), (2, 40, 16), (2, 40, 18), (2, 40, 20), (2, 40, 22), (2, 40, 24), (2, 40, 26), (2, 40, 28), (2, 40, 30), (2, 40, 32), (2, 40, 34), (2, 40, 36), (2, 40, 38), (2, 40, 40), (2, 40, 42), (2, 40, 44), (2, 40, 46), (2, 42, 0), (2, 42, 2), (2, 42, 4), (2, 42, 6), (2, 42, 8), (2, 42, 10), (2, 42, 12), (2, 42, 14), (2, 42, 16), (2, 42, 18), (2, 42, 20), (2, 42, 22), (2, 42, 24), (2, 42, 26), (2, 42, 28), (2, 42, 30), (2, 42, 32), (2, 42, 34), (2, 42, 36), (2, 42, 38), (2, 42, 40), (2, 42, 42), (2, 42, 44), (2, 42, 46), (2, 44, 0), (2, 44, 2), (2, 44, 4), (2, 44, 6), (2, 44, 8), (2, 44, 10), (2, 44, 12), (2, 44, 14), (2, 44, 16), (2, 44, 18), (2, 44, 20), (2, 44, 22), (2, 44, 24), (2, 44, 26), (2, 44, 28), (2, 44, 30), (2, 44, 32), (2, 44, 34), (2, 44, 36), (2, 44, 38), (2, 44, 40), (2, 44, 42), (2, 44, 44), (2, 44, 46), (2, 46, 0), (2, 46, 2), (2, 46, 4), (2, 46, 6), (2, 46, 8), (2, 46, 10), (2, 46, 12), (2, 46, 14), (2, 46, 16), (2, 46, 18), (2, 46, 20), (2, 46, 22), (2, 46, 24), (2, 46, 26), (2, 46, 28), (2, 46, 30), (2, 46, 32), (2, 46, 34), (2, 46, 36), (2, 46, 38), (2, 46, 40), (2, 46, 42), (2, 46, 44), (2, 46, 46), (3, -48, 0), (3, -48, 4), (3, -48, 6), (3, -48, 8), (3, -48, 10), (3, -48, 12), (3, -48, 14), (3, -48, 16), (3, -48, 18), (3, -48, 20), (3, -48, 22), (3, -48, 24), (3, -48, 26), (3, -48, 28), (3, -48, 30), (3, -48, 32), (3, -48, 34), (3, -48, 36), (3, -48, 38), (3, -48, 40), (3, -48, 42), (3, -48, 44), (3, -48, 46), (3, -46, 0), (3, -46, 2), (3, -46, 4), (3, -46, 6), (3, -46, 8), (3, -46, 10), (3, -46, 12), (3, -46, 14), (3, -46, 16), (3, -46, 18), (3, -46, 20), (3, -46, 22), (3, -46, 24), (3, -46, 26), (3, -46, 28), (3, -46, 30), (3, -46, 32), (3, -46, 34), (3, -46, 36), (3, -46, 38), (3, -46, 40), (3, -46, 42), (3, -46, 44), (3, -46, 46), (3, -44, 0), (3, -44, 2), (3, -44, 4), (3, -44, 6), (3, -44, 8), (3, -44, 10), (3, -44, 12), (3, -44, 14), (3, -44, 16), (3, -44, 18), (3, -44, 20), (3, -44, 22), (3, -44, 24), (3, -44, 26), (3, -44, 28), (3, -44, 30), (3, -44, 32), (3, -44, 34), (3, -44, 36), (3, -44, 38), (3, -44, 40), (3, -44, 42), (3, -44, 44), (3, -44, 46), (3, -42, 0), (3, -42, 2), (3, -42, 4), (3, -42, 6), (3, -42, 8), (3, -42, 10), (3, -42, 12), (3, -42, 14), (3, -42, 16), (3, -42, 18), (3, -42, 20), (3, -42, 22), (3, -42, 24), (3, -42, 26), (3, -42, 28), (3, -42, 30), (3, -42, 32), (3, -42, 34), (3, -42, 36), (3, -42, 38), (3, -42, 40), (3, -42, 42), (3, -42, 44), (3, -42, 46), (3, -40, 0), (3, -40, 2), (3, -40, 4), (3, -40, 6), (3, -40, 8), (3, -40, 10), (3, -40, 12), (3, -40, 14), (3, -40, 16), (3, -40, 18), (3, -40, 20), (3, -40, 22), (3, -40, 24), (3, -40, 26), (3, -40, 28), (3, -40, 30), (3, -40, 32), (3, -40, 34), (3, -40, 36), (3, -40, 38), (3, -40, 40), (3, -40, 42), (3, -40, 44), (3, -40, 46), (3, -38, 0), (3, -38, 2), (3, -38, 4), (3, -38, 6), (3, -38, 8), (3, -38, 10), (3, -38, 12), (3, -38, 14), (3, -38, 16), (3, -38, 18), (3, -38, 20), (3, -38, 22), (3, -38, 24), (3, -38, 26), (3, -38, 28), (3, -38, 30), (3, -38, 32), (3, -38, 34), (3, -38, 36), (3, -38, 38), (3, -38, 40), (3, -38, 42), (3, -38, 44), (3, -38, 46), (3, -36, 0), (3, -36, 2), (3, -36, 4), (3, -36, 6), (3, -36, 8), (3, -36, 10), (3, -36, 12), (3, -36, 14), (3, -36, 16), (3, -36, 18), (3, -36, 20), (3, -36, 22), (3, -36, 24), (3, -36, 26), (3, -36, 28), (3, -36, 30), (3, -36, 32), (3, -36, 34), (3, -36, 36), (3, -36, 38), (3, -36, 40), (3, -36, 42), (3, -36, 44), (3, -36, 46), (3, -34, 0), (3, -34, 2), (3, -34, 4), (3, -34, 6), (3, -34, 8), (3, -34, 10), (3, -34, 12), (3, -34, 14), (3, -34, 16), (3, -34, 18), (3, -34, 20), (3, -34, 22), (3, -34, 24), (3, -34, 26), (3, -34, 28), (3, -34, 30), (3, -34, 32), (3, -34, 34), (3, -34, 36), (3, -34, 38), (3, -34, 40), (3, -34, 42), (3, -34, 44), (3, -34, 46), (3, -32, 0), (3, -32, 2), (3, -32, 4), (3, -32, 6), (3, -32, 8), (3, -32, 10), (3, -32, 12), (3, -32, 14), (3, -32, 16), (3, -32, 18), (3, -32, 20), (3, -32, 22), (3, -32, 24), (3, -32, 26), (3, -32, 28), (3, -32, 30), (3, -32, 32), (3, -32, 34), (3, -32, 36), (3, -32, 38), (3, -32, 40), (3, -32, 42), (3, -32, 44), (3, -32, 46), (3, -30, 0), (3, -30, 2), (3, -30, 4), (3, -30, 6), (3, -30, 8), (3, -30, 10), (3, -30, 12), (3, -30, 14), (3, -30, 16), (3, -30, 18), (3, -30, 20), (3, -30, 22), (3, -30, 24), (3, -30, 26), (3, -30, 28), (3, -30, 30), (3, -30, 32), (3, -30, 34), (3, -30, 36), (3, -30, 38), (3, -30, 40), (3, -30, 42), (3, -30, 44), (3, -30, 46), (3, -28, 0), (3, -28, 4), (3, -28, 6), (3, -28, 8), (3, -28, 10), (3, -28, 12), (3, -28, 14), (3, -28, 16), (3, -28, 18), (3, -28, 20), (3, -28, 22), (3, -28, 24), (3, -28, 26), (3, -28, 28), (3, -28, 30), (3, -28, 32), (3, -28, 34), (3, -28, 36), (3, -28, 38), (3, -28, 40), (3, -28, 42), (3, -28, 44), (3, -28, 46), (3, -26, 0), (3, -26, 2), (3, -26, 4), (3, -26, 6), (3, -26, 8), (3, -26, 10), (3, -26, 12), (3, -26, 14), (3, -26, 16), (3, -26, 18), (3, -26, 20), (3, -26, 22), (3, -26, 24), (3, -26, 26), (3, -26, 28), (3, -26, 30), (3, -26, 32), (3, -26, 34), (3, -26, 36), (3, -26, 38), (3, -26, 40), (3, -26, 42), (3, -26, 44), (3, -26, 46), (3, -24, 0), (3, -24, 2), (3, -24, 4), (3, -24, 6), (3, -24, 8), (3, -24, 10), (3, -24, 12), (3, -24, 14), (3, -24, 16), (3, -24, 18), (3, -24, 20), (3, -24, 22), (3, -24, 24), (3, -24, 26), (3, -24, 28), (3, -24, 30), (3, -24, 32), (3, -24, 34), (3, -24, 36), (3, -24, 38), (3, -24, 40), (3, -24, 42), (3, -24, 44), (3, -24, 46), (3, -22, 0), (3, -22, 2), (3, -22, 4), (3, -22, 6), (3, -22, 8), (3, -22, 10), (3, -22, 12), (3, -22, 14), (3, -22, 16), (3, -22, 18), (3, -22, 20), (3, -22, 22), (3, -22, 24), (3, -22, 26), (3, -22, 28), (3, -22, 30), (3, -22, 32), (3, -22, 34), (3, -22, 36), (3, -22, 38), (3, -22, 40), (3, -22, 42), (3, -22, 44), (3, -22, 46), (3, -20, 0), (3, -20, 2), (3, -20, 4), (3, -20, 6), (3, -20, 8), (3, -20, 10), (3, -20, 12), (3, -20, 14), (3, -20, 16), (3, -20, 18), (3, -20, 20), (3, -20, 22), (3, -20, 24), (3, -20, 26), (3, -20, 28), (3, -20, 30), (3, -20, 32), (3, -20, 34), (3, -20, 36), (3, -20, 38), (3, -20, 40), (3, -20, 42), (3, -20, 44), (3, -20, 46), (3, -18, 0), (3, -18, 2), (3, -18, 4), (3, -18, 6), (3, -18, 8), (3, -18, 10), (3, -18, 12), (3, -18, 14), (3, -18, 16), (3, -18, 18), (3, -18, 20), (3, -18, 22), (3, -18, 24), (3, -18, 26), (3, -18, 28), (3, -18, 30), (3, -18, 32), (3, -18, 34), (3, -18, 36), (3, -18, 38), (3, -18, 40), (3, -18, 42), (3, -18, 44), (3, -18, 46), (3, -16, 0), (3, -16, 8), (3, -16, 10), (3, -16, 12), (3, -16, 16), (3, -16, 18), (3, -16, 20), (3, -16, 22), (3, -16, 24), (3, -16, 26), (3, -16, 28), (3, -16, 30), (3, -16, 32), (3, -16, 34), (3, -16, 36), (3, -16, 38), (3, -16, 40), (3, -16, 42), (3, -16, 44), (3, -16, 46), (3, -14, 0), (3, -14, 12), (3, -14, 14), (3, -14, 16), (3, -14, 18), (3, -14, 20), (3, -14, 22), (3, -14, 24), (3, -14, 26), (3, -14, 28), (3, -14, 30), (3, -14, 32), (3, -14, 34), (3, -14, 36), (3, -14, 38), (3, -14, 40), (3, -14, 42), (3, -14, 44), (3, -14, 46), (3, -12, 0), (3, -12, 2), (3, -12, 10), (3, -12, 12), (3, -12, 16), (3, -12, 18), (3, -12, 20), (3, -12, 22), (3, -12, 24), (3, -12, 26), (3, -12, 28), (3, -12, 30), (3, -12, 32), (3, -12, 34), (3, -12, 36), (3, -12, 38), (3, -12, 40), (3, -12, 42), (3, -12, 44), (3, -12, 46), (3, -10, 0), (3, -10, 2), (3, -10, 8), (3, -10, 10), (3, -10, 16), (3, -10, 18), (3, -10, 20), (3, -10, 22), (3, -10, 24), (3, -10, 26), (3, -10, 28), (3, -10, 30), (3, -10, 32), (3, -10, 34), (3, -10, 36), (3, -10, 38), (3, -10, 40), (3, -10, 42), (3, -10, 44), (3, -10, 46), (3, -8, 0), (3, -8, 2), (3, -8, 6), (3, -8, 8), (3, -8, 16), (3, -8, 18), (3, -8, 20), (3, -8, 22), (3, -8, 24), (3, -8, 26), (3, -8, 28), (3, -8, 30), (3, -8, 32), (3, -8, 34), (3, -8, 36), (3, -8, 38), (3, -8, 40), (3, -8, 42), (3, -8, 44), (3, -8, 46), (3, -6, 0), (3, -6, 2), (3, -6, 4), (3, -6, 6), (3, -6, 8), (3, -6, 18), (3, -6, 20), (3, -6, 22), (3, -6, 24), (3, -6, 26), (3, -6, 28), (3, -6, 30), (3, -6, 32), (3, -6, 34), (3, -6, 36), (3, -6, 38), (3, -6, 40), (3, -6, 42), (3, -6, 44), (3, -6, 46), (3, -4, 0), (3, -4, 2), (3, -4, 4), (3, -4, 6), (3, -4, 18), (3, -4, 20), (3, -4, 22), (3, -4, 24), (3, -4, 26), (3, -4, 28), (3, -4, 30), (3, -4, 32), (3, -4, 34), (3, -4, 36), (3, -4, 38), (3, -4, 40), (3, -4, 42), (3, -4, 44), (3, -4, 46), (3, -2, 0), (3, -2, 2), (3, -2, 6), (3, -2, 12), (3, -2, 18), (3, -2, 20), (3, -2, 22), (3, -2, 24), (3, -2, 26), (3, -2, 28), (3, -2, 30), (3, -2, 32), (3, -2, 34), (3, -2, 36), (3, -2, 38), (3, -2, 40), (3, -2, 42), (3, -2, 44), (3, -2, 46), (3, 0, 0), (3, 0, 2), (3, 0, 4), (3, 0, 8), (3, 0, 10), (3, 0, 12), (3, 0, 18), (3, 0, 20), (3, 0, 22), (3, 0, 24), (3, 0, 26), (3, 0, 28), (3, 0, 32), (3, 0, 34), (3, 0, 36), (3, 0, 38), (3, 0, 40), (3, 0, 42), (3, 0, 46), (3, 2, 0), (3, 2, 2), (3, 2, 14), (3, 2, 16), (3, 2, 18), (3, 2, 20), (3, 2, 22), (3, 2, 24), (3, 2, 26), (3, 2, 28), (3, 2, 30), (3, 2, 32), (3, 2, 34), (3, 2, 36), (3, 2, 38), (3, 2, 40), (3, 2, 42), (3, 2, 44), (3, 2, 46), (3, 4, 0), (3, 4, 2), (3, 4, 12), (3, 4, 14), (3, 4, 16), (3, 4, 18), (3, 4, 20), (3, 4, 22), (3, 4, 24), (3, 4, 26), (3, 4, 28), (3, 4, 30), (3, 4, 32), (3, 4, 34), (3, 4, 36), (3, 4, 38), (3, 4, 40), (3, 4, 42), (3, 4, 44), (3, 4, 46), (3, 6, 0), (3, 6, 2), (3, 6, 10), (3, 6, 12), (3, 6, 14), (3, 6, 16), (3, 6, 18), (3, 6, 20), (3, 6, 22), (3, 6, 24), (3, 6, 26), (3, 6, 28), (3, 6, 30), (3, 6, 32), (3, 6, 34), (3, 6, 36), (3, 6, 38), (3, 6, 40), (3, 6, 42), (3, 6, 44), (3, 6, 46), (3, 8, 0), (3, 8, 2), (3, 8, 8), (3, 8, 10), (3, 8, 12), (3, 8, 14), (3, 8, 16), (3, 8, 18), (3, 8, 20), (3, 8, 22), (3, 8, 24), (3, 8, 26), (3, 8, 28), (3, 8, 30), (3, 8, 32), (3, 8, 34), (3, 8, 36), (3, 8, 38), (3, 8, 40), (3, 8, 42), (3, 8, 44), (3, 8, 46), (3, 10, 0), (3, 10, 2), (3, 10, 6), (3, 10, 8), (3, 10, 10), (3, 10, 12), (3, 10, 14), (3, 10, 16), (3, 10, 18), (3, 10, 20), (3, 10, 22), (3, 10, 24), (3, 10, 26), (3, 10, 28), (3, 10, 30), (3, 10, 32), (3, 10, 34), (3, 10, 36), (3, 10, 38), (3, 10, 40), (3, 10, 42), (3, 10, 44), (3, 10, 46), (3, 12, 0), (3, 12, 2), (3, 12, 4), (3, 12, 6), (3, 12, 8), (3, 12, 10), (3, 12, 12), (3, 12, 14), (3, 12, 16), (3, 12, 18), (3, 12, 20), (3, 12, 22), (3, 12, 24), (3, 12, 26), (3, 12, 28), (3, 12, 30), (3, 12, 32), (3, 12, 34), (3, 12, 36), (3, 12, 38), (3, 12, 40), (3, 12, 42), (3, 12, 44), (3, 12, 46), (3, 14, 0), (3, 14, 4), (3, 14, 6), (3, 14, 8), (3, 14, 10), (3, 14, 12), (3, 14, 14), (3, 14, 16), (3, 14, 18), (3, 14, 20), (3, 14, 22), (3, 14, 24), (3, 14, 26), (3, 14, 28), (3, 14, 30), (3, 14, 32), (3, 14, 34), (3, 14, 36), (3, 14, 38), (3, 14, 40), (3, 14, 42), (3, 14, 44), (3, 14, 46), (3, 16, 0), (3, 16, 2), (3, 16, 4), (3, 16, 6), (3, 16, 8), (3, 16, 10), (3, 16, 12), (3, 16, 14), (3, 16, 16), (3, 16, 18), (3, 16, 20), (3, 16, 22), (3, 16, 24), (3, 16, 26), (3, 16, 28), (3, 16, 30), (3, 16, 32), (3, 16, 34), (3, 16, 36), (3, 16, 38), (3, 16, 40), (3, 16, 42), (3, 16, 44), (3, 16, 46), (3, 18, 0), (3, 18, 2), (3, 18, 4), (3, 18, 6), (3, 18, 8), (3, 18, 10), (3, 18, 12), (3, 18, 14), (3, 18, 16), (3, 18, 18), (3, 18, 20), (3, 18, 22), (3, 18, 24), (3, 18, 26), (3, 18, 28), (3, 18, 30), (3, 18, 32), (3, 18, 34), (3, 18, 36), (3, 18, 38), (3, 18, 40), (3, 18, 42), (3, 18, 44), (3, 18, 46), (3, 20, 0), (3, 20, 2), (3, 20, 4), (3, 20, 6), (3, 20, 8), (3, 20, 10), (3, 20, 12), (3, 20, 14), (3, 20, 16), (3, 20, 18), (3, 20, 20), (3, 20, 22), (3, 20, 24), (3, 20, 26), (3, 20, 28), (3, 20, 30), (3, 20, 32), (3, 20, 34), (3, 20, 36), (3, 20, 38), (3, 20, 40), (3, 20, 42), (3, 20, 44), (3, 20, 46), (3, 22, 0), (3, 22, 2), (3, 22, 4), (3, 22, 6), (3, 22, 8), (3, 22, 10), (3, 22, 12), (3, 22, 14), (3, 22, 16), (3, 22, 18), (3, 22, 20), (3, 22, 22), (3, 22, 24), (3, 22, 26), (3, 22, 28), (3, 22, 30), (3, 22, 32), (3, 22, 34), (3, 22, 36), (3, 22, 38), (3, 22, 40), (3, 22, 42), (3, 22, 44), (3, 22, 46), (3, 24, 0), (3, 24, 2), (3, 24, 4), (3, 24, 6), (3, 24, 8), (3, 24, 10), (3, 24, 12), (3, 24, 14), (3, 24, 16), (3, 24, 18), (3, 24, 20), (3, 24, 22), (3, 24, 24), (3, 24, 26), (3, 24, 28), (3, 24, 30), (3, 24, 32), (3, 24, 34), (3, 24, 36), (3, 24, 38), (3, 24, 40), (3, 24, 42), (3, 24, 44), (3, 24, 46), (3, 26, 0), (3, 26, 2), (3, 26, 4), (3, 26, 6), (3, 26, 8), (3, 26, 10), (3, 26, 12), (3, 26, 14), (3, 26, 16), (3, 26, 18), (3, 26, 20), (3, 26, 24), (3, 26, 26), (3, 26, 28), (3, 26, 30), (3, 26, 32), (3, 26, 34), (3, 26, 36), (3, 26, 38), (3, 26, 40), (3, 26, 42), (3, 26, 44), (3, 26, 46), (3, 28, 0), (3, 28, 2), (3, 28, 4), (3, 28, 6), (3, 28, 8), (3, 28, 10), (3, 28, 12), (3, 28, 14), (3, 28, 16), (3, 28, 18), (3, 28, 20), (3, 28, 22), (3, 28, 24), (3, 28, 26), (3, 28, 28), (3, 28, 30), (3, 28, 32), (3, 28, 34), (3, 28, 36), (3, 28, 38), (3, 28, 40), (3, 28, 42), (3, 28, 44), (3, 28, 46), (3, 30, 0), (3, 30, 2), (3, 30, 4), (3, 30, 6), (3, 30, 8), (3, 30, 10), (3, 30, 12), (3, 30, 14), (3, 30, 16), (3, 30, 18), (3, 30, 20), (3, 30, 22), (3, 30, 24), (3, 30, 26), (3, 30, 28), (3, 30, 30), (3, 30, 32), (3, 30, 34), (3, 30, 36), (3, 30, 38), (3, 30, 40), (3, 30, 42), (3, 30, 44), (3, 30, 46), (3, 32, 0), (3, 32, 2), (3, 32, 4), (3, 32, 6), (3, 32, 8), (3, 32, 10), (3, 32, 12), (3, 32, 14), (3, 32, 16), (3, 32, 18), (3, 32, 20), (3, 32, 22), (3, 32, 24), (3, 32, 26), (3, 32, 28), (3, 32, 30), (3, 32, 32), (3, 32, 34), (3, 32, 36), (3, 32, 38), (3, 32, 40), (3, 32, 42), (3, 32, 44), (3, 32, 46), (3, 34, 0), (3, 34, 2), (3, 34, 4), (3, 34, 6), (3, 34, 8), (3, 34, 10), (3, 34, 12), (3, 34, 14), (3, 34, 16), (3, 34, 18), (3, 34, 20), (3, 34, 22), (3, 34, 24), (3, 34, 26), (3, 34, 28), (3, 34, 30), (3, 34, 32), (3, 34, 34), (3, 34, 36), (3, 34, 38), (3, 34, 40), (3, 34, 42), (3, 34, 44), (3, 34, 46), (3, 36, 0), (3, 36, 2), (3, 36, 4), (3, 36, 6), (3, 36, 8), (3, 36, 10), (3, 36, 12), (3, 36, 14), (3, 36, 16), (3, 36, 18), (3, 36, 20), (3, 36, 22), (3, 36, 24), (3, 36, 26), (3, 36, 28), (3, 36, 30), (3, 36, 32), (3, 36, 34), (3, 36, 36), (3, 36, 38), (3, 36, 40), (3, 36, 42), (3, 36, 44), (3, 36, 46), (3, 38, 0), (3, 38, 2), (3, 38, 4), (3, 38, 6), (3, 38, 8), (3, 38, 10), (3, 38, 12), (3, 38, 14), (3, 38, 16), (3, 38, 18), (3, 38, 20), (3, 38, 22), (3, 38, 24), (3, 38, 26), (3, 38, 28), (3, 38, 30), (3, 38, 32), (3, 38, 34), (3, 38, 36), (3, 38, 38), (3, 38, 40), (3, 38, 42), (3, 38, 44), (3, 38, 46), (3, 40, 0), (3, 40, 2), (3, 40, 4), (3, 40, 6), (3, 40, 8), (3, 40, 10), (3, 40, 12), (3, 40, 14), (3, 40, 16), (3, 40, 18), (3, 40, 20), (3, 40, 22), (3, 40, 24), (3, 40, 26), (3, 40, 28), (3, 40, 30), (3, 40, 32), (3, 40, 34), (3, 40, 36), (3, 40, 38), (3, 40, 40), (3, 40, 42), (3, 40, 44), (3, 40, 46), (3, 42, 0), (3, 42, 2), (3, 42, 4), (3, 42, 6), (3, 42, 8), (3, 42, 10), (3, 42, 12), (3, 42, 14), (3, 42, 16), (3, 42, 18), (3, 42, 20), (3, 42, 22), (3, 42, 24), (3, 42, 26), (3, 42, 28), (3, 42, 30), (3, 42, 32), (3, 42, 34), (3, 42, 36), (3, 42, 38), (3, 42, 40), (3, 42, 42), (3, 42, 44), (3, 42, 46), (3, 44, 0), (3, 44, 2), (3, 44, 4), (3, 44, 6), (3, 44, 8), (3, 44, 10), (3, 44, 12), (3, 44, 14), (3, 44, 16), (3, 44, 18), (3, 44, 20), (3, 44, 22), (3, 44, 24), (3, 44, 26), (3, 44, 28), (3, 44, 30), (3, 44, 32), (3, 44, 34), (3, 44, 36), (3, 44, 38), (3, 44, 40), (3, 44, 42), (3, 44, 44), (3, 44, 46), (3, 46, 0), (3, 46, 2), (3, 46, 4), (3, 46, 6), (3, 46, 8), (3, 46, 10), (3, 46, 12), (3, 46, 14), (3, 46, 16), (3, 46, 18), (3, 46, 20), (3, 46, 22), (3, 46, 24), (3, 46, 26), (3, 46, 28), (3, 46, 30), (3, 46, 32), (3, 46, 34), (3, 46, 36), (3, 46, 38), (3, 46, 40), (3, 46, 42), (3, 46, 44), (3, 46, 46), (4, -48, 0), (4, -48, 2), (4, -48, 4), (4, -48, 6), (4, -48, 8), (4, -48, 10), (4, -48, 12), (4, -48, 14), (4, -48, 16), (4, -48, 18), (4, -48, 20), (4, -48, 22), (4, -48, 24), (4, -48, 26), (4, -48, 28), (4, -48, 30), (4, -48, 32), (4, -48, 34), (4, -48, 36), (4, -48, 38), (4, -48, 40), (4, -48, 42), (4, -48, 44), (4, -48, 46), (4, -46, 0), (4, -46, 2), (4, -46, 4), (4, -46, 6), (4, -46, 8), (4, -46, 10), (4, -46, 12), (4, -46, 14), (4, -46, 16), (4, -46, 18), (4, -46, 20), (4, -46, 22), (4, -46, 24), (4, -46, 26), (4, -46, 28), (4, -46, 30), (4, -46, 32), (4, -46, 34), (4, -46, 36), (4, -46, 38), (4, -46, 40), (4, -46, 42), (4, -46, 44), (4, -46, 46), (4, -44, 0), (4, -44, 2), (4, -44, 4), (4, -44, 6), (4, -44, 8), (4, -44, 10), (4, -44, 12), (4, -44, 14), (4, -44, 16), (4, -44, 18), (4, -44, 20), (4, -44, 22), (4, -44, 24), (4, -44, 26), (4, -44, 28), (4, -44, 30), (4, -44, 32), (4, -44, 34), (4, -44, 36), (4, -44, 38), (4, -44, 40), (4, -44, 42), (4, -44, 44), (4, -44, 46), (4, -42, 0), (4, -42, 2), (4, -42, 4), (4, -42, 6), (4, -42, 8), (4, -42, 10), (4, -42, 12), (4, -42, 14), (4, -42, 16), (4, -42, 18), (4, -42, 20), (4, -42, 22), (4, -42, 24), (4, -42, 26), (4, -42, 28), (4, -42, 30), (4, -42, 32), (4, -42, 34), (4, -42, 36), (4, -42, 38), (4, -42, 40), (4, -42, 42), (4, -42, 44), (4, -42, 46), (4, -40, 0), (4, -40, 2), (4, -40, 4), (4, -40, 6), (4, -40, 8), (4, -40, 10), (4, -40, 12), (4, -40, 14), (4, -40, 16), (4, -40, 18), (4, -40, 20), (4, -40, 22), (4, -40, 24), (4, -40, 26), (4, -40, 28), (4, -40, 30), (4, -40, 32), (4, -40, 34), (4, -40, 36), (4, -40, 38), (4, -40, 40), (4, -40, 42), (4, -40, 44), (4, -40, 46), (4, -38, 0), (4, -38, 2), (4, -38, 4), (4, -38, 6), (4, -38, 8), (4, -38, 10), (4, -38, 12), (4, -38, 14), (4, -38, 16), (4, -38, 18), (4, -38, 20), (4, -38, 22), (4, -38, 24), (4, -38, 26), (4, -38, 28), (4, -38, 30), (4, -38, 32), (4, -38, 34), (4, -38, 36), (4, -38, 38), (4, -38, 40), (4, -38, 42), (4, -38, 44), (4, -38, 46), (4, -36, 0), (4, -36, 2), (4, -36, 4), (4, -36, 6), (4, -36, 8), (4, -36, 10), (4, -36, 12), (4, -36, 14), (4, -36, 16), (4, -36, 18), (4, -36, 20), (4, -36, 22), (4, -36, 24), (4, -36, 26), (4, -36, 28), (4, -36, 30), (4, -36, 32), (4, -36, 36), (4, -36, 38), (4, -36, 40), (4, -36, 42), (4, -36, 44), (4, -36, 46), (4, -34, 0), (4, -34, 2), (4, -34, 4), (4, -34, 6), (4, -34, 8), (4, -34, 10), (4, -34, 12), (4, -34, 14), (4, -34, 16), (4, -34, 18), (4, -34, 20), (4, -34, 22), (4, -34, 24), (4, -34, 26), (4, -34, 28), (4, -34, 30), (4, -34, 32), (4, -34, 34), (4, -34, 36), (4, -34, 38), (4, -34, 40), (4, -34, 42), (4, -34, 44), (4, -34, 46), (4, -32, 0), (4, -32, 2), (4, -32, 4), (4, -32, 6), (4, -32, 8), (4, -32, 10), (4, -32, 12), (4, -32, 14), (4, -32, 16), (4, -32, 18), (4, -32, 20), (4, -32, 22), (4, -32, 24), (4, -32, 26), (4, -32, 28), (4, -32, 30), (4, -32, 32), (4, -32, 34), (4, -32, 36), (4, -32, 38), (4, -32, 40), (4, -32, 42), (4, -32, 44), (4, -32, 46), (4, -30, 0), (4, -30, 2), (4, -30, 4), (4, -30, 6), (4, -30, 8), (4, -30, 10), (4, -30, 12), (4, -30, 14), (4, -30, 16), (4, -30, 18), (4, -30, 20), (4, -30, 22), (4, -30, 24), (4, -30, 26), (4, -30, 28), (4, -30, 30), (4, -30, 32), (4, -30, 34), (4, -30, 36), (4, -30, 38), (4, -30, 40), (4, -30, 42), (4, -30, 44), (4, -30, 46), (4, -28, 0), (4, -28, 4), (4, -28, 6), (4, -28, 8), (4, -28, 10), (4, -28, 12), (4, -28, 14), (4, -28, 16), (4, -28, 18), (4, -28, 20), (4, -28, 22), (4, -28, 24), (4, -28, 26), (4, -28, 28), (4, -28, 30), (4, -28, 32), (4, -28, 34), (4, -28, 36), (4, -28, 38), (4, -28, 40), (4, -28, 42), (4, -28, 44), (4, -28, 46), (4, -26, 0), (4, -26, 2), (4, -26, 4), (4, -26, 6), (4, -26, 8), (4, -26, 10), (4, -26, 12), (4, -26, 14), (4, -26, 16), (4, -26, 18), (4, -26, 20), (4, -26, 22), (4, -26, 24), (4, -26, 26), (4, -26, 28), (4, -26, 30), (4, -26, 32), (4, -26, 34), (4, -26, 36), (4, -26, 38), (4, -26, 40), (4, -26, 42), (4, -26, 44), (4, -26, 46), (4, -24, 0), (4, -24, 2), (4, -24, 4), (4, -24, 6), (4, -24, 8), (4, -24, 10), (4, -24, 12), (4, -24, 14), (4, -24, 16), (4, -24, 18), (4, -24, 20), (4, -24, 22), (4, -24, 24), (4, -24, 26), (4, -24, 28), (4, -24, 30), (4, -24, 32), (4, -24, 34), (4, -24, 36), (4, -24, 38), (4, -24, 40), (4, -24, 42), (4, -24, 44), (4, -24, 46), (4, -22, 0), (4, -22, 2), (4, -22, 4), (4, -22, 6), (4, -22, 8), (4, -22, 10), (4, -22, 12), (4, -22, 14), (4, -22, 16), (4, -22, 18), (4, -22, 20), (4, -22, 22), (4, -22, 24), (4, -22, 26), (4, -22, 28), (4, -22, 30), (4, -22, 32), (4, -22, 34), (4, -22, 36), (4, -22, 38), (4, -22, 40), (4, -22, 42), (4, -22, 44), (4, -22, 46), (4, -20, 0), (4, -20, 2), (4, -20, 4), (4, -20, 6), (4, -20, 8), (4, -20, 10), (4, -20, 12), (4, -20, 14), (4, -20, 16), (4, -20, 18), (4, -20, 20), (4, -20, 22), (4, -20, 24), (4, -20, 26), (4, -20, 28), (4, -20, 30), (4, -20, 32), (4, -20, 34), (4, -20, 36), (4, -20, 38), (4, -20, 40), (4, -20, 42), (4, -20, 44), (4, -20, 46), (4, -18, 0), (4, -18, 2), (4, -18, 4), (4, -18, 6), (4, -18, 8), (4, -18, 10), (4, -18, 12), (4, -18, 14), (4, -18, 16), (4, -18, 18), (4, -18, 20), (4, -18, 22), (4, -18, 24), (4, -18, 26), (4, -18, 28), (4, -18, 30), (4, -18, 32), (4, -18, 34), (4, -18, 36), (4, -18, 38), (4, -18, 40), (4, -18, 42), (4, -18, 44), (4, -18, 46), (4, -16, 0), (4, -16, 8), (4, -16, 10), (4, -16, 12), (4, -16, 14), (4, -16, 16), (4, -16, 18), (4, -16, 20), (4, -16, 22), (4, -16, 24), (4, -16, 26), (4, -16, 28), (4, -16, 30), (4, -16, 32), (4, -16, 34), (4, -16, 36), (4, -16, 38), (4, -16, 40), (4, -16, 42), (4, -16, 44), (4, -16, 46), (4, -14, 0), (4, -14, 12), (4, -14, 14), (4, -14, 16), (4, -14, 18), (4, -14, 20), (4, -14, 22), (4, -14, 24), (4, -14, 26), (4, -14, 28), (4, -14, 30), (4, -14, 32), (4, -14, 34), (4, -14, 36), (4, -14, 38), (4, -14, 40), (4, -14, 42), (4, -14, 44), (4, -14, 46), (4, -12, 0), (4, -12, 10), (4, -12, 12), (4, -12, 16), (4, -12, 18), (4, -12, 20), (4, -12, 22), (4, -12, 24), (4, -12, 26), (4, -12, 28), (4, -12, 30), (4, -12, 32), (4, -12, 34), (4, -12, 36), (4, -12, 38), (4, -12, 40), (4, -12, 42), (4, -12, 44), (4, -12, 46), (4, -10, 0), (4, -10, 8), (4, -10, 10), (4, -10, 16), (4, -10, 18), (4, -10, 20), (4, -10, 22), (4, -10, 24), (4, -10, 26), (4, -10, 28), (4, -10, 30), (4, -10, 32), (4, -10, 34), (4, -10, 36), (4, -10, 38), (4, -10, 40), (4, -10, 42), (4, -10, 44), (4, -10, 46), (4, -8, 0), (4, -8, 6), (4, -8, 8), (4, -8, 10), (4, -8, 16), (4, -8, 18), (4, -8, 20), (4, -8, 22), (4, -8, 24), (4, -8, 26), (4, -8, 28), (4, -8, 30), (4, -8, 32), (4, -8, 34), (4, -8, 36), (4, -8, 38), (4, -8, 40), (4, -8, 42), (4, -8, 44), (4, -8, 46), (4, -6, 0), (4, -6, 4), (4, -6, 6), (4, -6, 8), (4, -6, 18), (4, -6, 20), (4, -6, 22), (4, -6, 24), (4, -6, 26), (4, -6, 28), (4, -6, 30), (4, -6, 32), (4, -6, 34), (4, -6, 36), (4, -6, 38), (4, -6, 40), (4, -6, 42), (4, -6, 44), (4, -6, 46), (4, -4, 0), (4, -4, 4), (4, -4, 6), (4, -4, 18), (4, -4, 20), (4, -4, 22), (4, -4, 24), (4, -4, 26), (4, -4, 28), (4, -4, 30), (4, -4, 32), (4, -4, 34), (4, -4, 36), (4, -4, 38), (4, -4, 40), (4, -4, 42), (4, -4, 44), (4, -4, 46), (4, -2, 0), (4, -2, 2), (4, -2, 12), (4, -2, 18), (4, -2, 20), (4, -2, 22), (4, -2, 24), (4, -2, 26), (4, -2, 28), (4, -2, 30), (4, -2, 32), (4, -2, 36), (4, -2, 38), (4, -2, 40), (4, -2, 44), (4, -2, 46), (4, 0, 0), (4, 0, 2), (4, 0, 4), (4, 0, 8), (4, 0, 10), (4, 0, 12), (4, 0, 14), (4, 0, 16), (4, 0, 18), (4, 0, 20), (4, 0, 22), (4, 0, 24), (4, 0, 26), (4, 0, 28), (4, 0, 30), (4, 0, 32), (4, 0, 34), (4, 0, 36), (4, 0, 38), (4, 0, 40), (4, 0, 42), (4, 0, 44), (4, 0, 46), (4, 2, 0), (4, 2, 2), (4, 2, 14), (4, 2, 16), (4, 2, 18), (4, 2, 20), (4, 2, 22), (4, 2, 24), (4, 2, 26), (4, 2, 28), (4, 2, 30), (4, 2, 32), (4, 2, 34), (4, 2, 36), (4, 2, 38), (4, 2, 40), (4, 2, 42), (4, 2, 44), (4, 2, 46), (4, 4, 0), (4, 4, 2), (4, 4, 12), (4, 4, 14), (4, 4, 16), (4, 4, 18), (4, 4, 20), (4, 4, 22), (4, 4, 24), (4, 4, 26), (4, 4, 28), (4, 4, 30), (4, 4, 32), (4, 4, 34), (4, 4, 36), (4, 4, 38), (4, 4, 40), (4, 4, 42), (4, 4, 44), (4, 4, 46), (4, 6, 0), (4, 6, 2), (4, 6, 10), (4, 6, 12), (4, 6, 14), (4, 6, 16), (4, 6, 18), (4, 6, 20), (4, 6, 22), (4, 6, 24), (4, 6, 26), (4, 6, 28), (4, 6, 30), (4, 6, 32), (4, 6, 34), (4, 6, 36), (4, 6, 38), (4, 6, 40), (4, 6, 42), (4, 6, 44), (4, 6, 46), (4, 8, 0), (4, 8, 2), (4, 8, 8), (4, 8, 10), (4, 8, 12), (4, 8, 14), (4, 8, 16), (4, 8, 18), (4, 8, 20), (4, 8, 22), (4, 8, 24), (4, 8, 26), (4, 8, 28), (4, 8, 30), (4, 8, 32), (4, 8, 34), (4, 8, 36), (4, 8, 38), (4, 8, 40), (4, 8, 42), (4, 8, 44), (4, 8, 46), (4, 10, 0), (4, 10, 2), (4, 10, 6), (4, 10, 8), (4, 10, 10), (4, 10, 12), (4, 10, 14), (4, 10, 16), (4, 10, 18), (4, 10, 20), (4, 10, 22), (4, 10, 24), (4, 10, 26), (4, 10, 28), (4, 10, 30), (4, 10, 32), (4, 10, 34), (4, 10, 36), (4, 10, 38), (4, 10, 40), (4, 10, 42), (4, 10, 44), (4, 10, 46), (4, 12, 0), (4, 12, 4), (4, 12, 6), (4, 12, 8), (4, 12, 10), (4, 12, 12), (4, 12, 14), (4, 12, 16), (4, 12, 18), (4, 12, 20), (4, 12, 22), (4, 12, 24), (4, 12, 26), (4, 12, 28), (4, 12, 30), (4, 12, 32), (4, 12, 34), (4, 12, 36), (4, 12, 38), (4, 12, 40), (4, 12, 42), (4, 12, 44), (4, 12, 46), (4, 14, 0), (4, 14, 4), (4, 14, 6), (4, 14, 8), (4, 14, 10), (4, 14, 12), (4, 14, 14), (4, 14, 16), (4, 14, 18), (4, 14, 20), (4, 14, 22), (4, 14, 24), (4, 14, 26), (4, 14, 28), (4, 14, 30), (4, 14, 32), (4, 14, 34), (4, 14, 36), (4, 14, 38), (4, 14, 40), (4, 14, 42), (4, 14, 44), (4, 14, 46), (4, 16, 0), (4, 16, 2), (4, 16, 4), (4, 16, 6), (4, 16, 8), (4, 16, 10), (4, 16, 12), (4, 16, 14), (4, 16, 16), (4, 16, 18), (4, 16, 20), (4, 16, 22), (4, 16, 24), (4, 16, 26), (4, 16, 28), (4, 16, 30), (4, 16, 32), (4, 16, 34), (4, 16, 36), (4, 16, 38), (4, 16, 40), (4, 16, 42), (4, 16, 44), (4, 16, 46), (4, 18, 0), (4, 18, 2), (4, 18, 4), (4, 18, 6), (4, 18, 8), (4, 18, 10), (4, 18, 12), (4, 18, 14), (4, 18, 16), (4, 18, 18), (4, 18, 20), (4, 18, 22), (4, 18, 24), (4, 18, 26), (4, 18, 28), (4, 18, 30), (4, 18, 32), (4, 18, 34), (4, 18, 36), (4, 18, 38), (4, 18, 40), (4, 18, 42), (4, 18, 44), (4, 18, 46), (4, 20, 0), (4, 20, 2), (4, 20, 4), (4, 20, 6), (4, 20, 8), (4, 20, 10), (4, 20, 12), (4, 20, 14), (4, 20, 16), (4, 20, 18), (4, 20, 20), (4, 20, 22), (4, 20, 24), (4, 20, 26), (4, 20, 30), (4, 20, 32), (4, 20, 34), (4, 20, 36), (4, 20, 38), (4, 20, 40), (4, 20, 42), (4, 20, 44), (4, 20, 46), (4, 22, 0), (4, 22, 2), (4, 22, 4), (4, 22, 6), (4, 22, 8), (4, 22, 10), (4, 22, 12), (4, 22, 14), (4, 22, 16), (4, 22, 18), (4, 22, 20), (4, 22, 22), (4, 22, 24), (4, 22, 26), (4, 22, 28), (4, 22, 30), (4, 22, 32), (4, 22, 34), (4, 22, 36), (4, 22, 38), (4, 22, 40), (4, 22, 42), (4, 22, 44), (4, 22, 46), (4, 24, 0), (4, 24, 2), (4, 24, 4), (4, 24, 6), (4, 24, 8), (4, 24, 10), (4, 24, 12), (4, 24, 14), (4, 24, 16), (4, 24, 18), (4, 24, 20), (4, 24, 22), (4, 24, 24), (4, 24, 26), (4, 24, 28), (4, 24, 30), (4, 24, 32), (4, 24, 34), (4, 24, 36), (4, 24, 38), (4, 24, 40), (4, 24, 42), (4, 24, 44), (4, 24, 46), (4, 26, 0), (4, 26, 2), (4, 26, 4), (4, 26, 6), (4, 26, 8), (4, 26, 10), (4, 26, 12), (4, 26, 14), (4, 26, 16), (4, 26, 18), (4, 26, 20), (4, 26, 22), (4, 26, 24), (4, 26, 26), (4, 26, 28), (4, 26, 30), (4, 26, 32), (4, 26, 34), (4, 26, 36), (4, 26, 38), (4, 26, 40), (4, 26, 42), (4, 26, 44), (4, 26, 46), (4, 28, 0), (4, 28, 2), (4, 28, 4), (4, 28, 6), (4, 28, 8), (4, 28, 10), (4, 28, 12), (4, 28, 14), (4, 28, 16), (4, 28, 18), (4, 28, 20), (4, 28, 22), (4, 28, 24), (4, 28, 26), (4, 28, 28), (4, 28, 30), (4, 28, 32), (4, 28, 34), (4, 28, 36), (4, 28, 38), (4, 28, 40), (4, 28, 42), (4, 28, 44), (4, 28, 46), (4, 30, 0), (4, 30, 2), (4, 30, 4), (4, 30, 6), (4, 30, 8), (4, 30, 10), (4, 30, 12), (4, 30, 14), (4, 30, 16), (4, 30, 18), (4, 30, 20), (4, 30, 22), (4, 30, 24), (4, 30, 26), (4, 30, 28), (4, 30, 30), (4, 30, 32), (4, 30, 34), (4, 30, 36), (4, 30, 38), (4, 30, 40), (4, 30, 42), (4, 30, 44), (4, 30, 46), (4, 32, 0), (4, 32, 2), (4, 32, 4), (4, 32, 6), (4, 32, 8), (4, 32, 10), (4, 32, 12), (4, 32, 14), (4, 32, 16), (4, 32, 18), (4, 32, 20), (4, 32, 22), (4, 32, 24), (4, 32, 26), (4, 32, 28), (4, 32, 30), (4, 32, 32), (4, 32, 34), (4, 32, 36), (4, 32, 38), (4, 32, 40), (4, 32, 42), (4, 32, 44), (4, 32, 46), (4, 34, 0), (4, 34, 2), (4, 34, 4), (4, 34, 6), (4, 34, 8), (4, 34, 10), (4, 34, 12), (4, 34, 14), (4, 34, 16), (4, 34, 18), (4, 34, 20), (4, 34, 22), (4, 34, 24), (4, 34, 26), (4, 34, 28), (4, 34, 30), (4, 34, 32), (4, 34, 34), (4, 34, 36), (4, 34, 38), (4, 34, 40), (4, 34, 42), (4, 34, 44), (4, 34, 46), (4, 36, 0), (4, 36, 2), (4, 36, 4), (4, 36, 6), (4, 36, 8), (4, 36, 10), (4, 36, 12), (4, 36, 14), (4, 36, 16), (4, 36, 18), (4, 36, 20), (4, 36, 22), (4, 36, 24), (4, 36, 26), (4, 36, 28), (4, 36, 30), (4, 36, 32), (4, 36, 34), (4, 36, 36), (4, 36, 38), (4, 36, 40), (4, 36, 42), (4, 36, 44), (4, 36, 46), (4, 38, 0), (4, 38, 2), (4, 38, 4), (4, 38, 6), (4, 38, 8), (4, 38, 10), (4, 38, 12), (4, 38, 14), (4, 38, 16), (4, 38, 18), (4, 38, 20), (4, 38, 22), (4, 38, 24), (4, 38, 26), (4, 38, 28), (4, 38, 30), (4, 38, 32), (4, 38, 34), (4, 38, 36), (4, 38, 38), (4, 38, 40), (4, 38, 42), (4, 38, 44), (4, 38, 46), (4, 40, 0), (4, 40, 2), (4, 40, 4), (4, 40, 6), (4, 40, 8), (4, 40, 10), (4, 40, 12), (4, 40, 14), (4, 40, 16), (4, 40, 18), (4, 40, 20), (4, 40, 22), (4, 40, 24), (4, 40, 26), (4, 40, 28), (4, 40, 30), (4, 40, 32), (4, 40, 34), (4, 40, 36), (4, 40, 38), (4, 40, 40), (4, 40, 42), (4, 40, 44), (4, 40, 46), (4, 42, 0), (4, 42, 2), (4, 42, 4), (4, 42, 6), (4, 42, 8), (4, 42, 10), (4, 42, 12), (4, 42, 14), (4, 42, 16), (4, 42, 18), (4, 42, 20), (4, 42, 22), (4, 42, 24), (4, 42, 26), (4, 42, 28), (4, 42, 30), (4, 42, 32), (4, 42, 34), (4, 42, 36), (4, 42, 38), (4, 42, 40), (4, 42, 42), (4, 42, 44), (4, 42, 46), (4, 44, 0), (4, 44, 2), (4, 44, 4), (4, 44, 6), (4, 44, 8), (4, 44, 10), (4, 44, 12), (4, 44, 14), (4, 44, 16), (4, 44, 18), (4, 44, 20), (4, 44, 22), (4, 44, 24), (4, 44, 26), (4, 44, 28), (4, 44, 30), (4, 44, 32), (4, 44, 34), (4, 44, 36), (4, 44, 38), (4, 44, 40), (4, 44, 42), (4, 44, 44), (4, 44, 46), (4, 46, 0), (4, 46, 2), (4, 46, 4), (4, 46, 6), (4, 46, 8), (4, 46, 10), (4, 46, 12), (4, 46, 14), (4, 46, 16), (4, 46, 18), (4, 46, 20), (4, 46, 22), (4, 46, 24), (4, 46, 26), (4, 46, 28), (4, 46, 30), (4, 46, 32), (4, 46, 34), (4, 46, 36), (4, 46, 38), (4, 46, 40), (4, 46, 42), (4, 46, 44), (4, 46, 46), (5, -48, 0), (5, -48, 4), (5, -48, 6), (5, -48, 8), (5, -48, 10), (5, -48, 12), (5, -48, 14), (5, -48, 16), (5, -48, 18), (5, -48, 20), (5, -48, 22), (5, -48, 24), (5, -48, 26), (5, -48, 28), (5, -48, 30), (5, -48, 32), (5, -48, 34), (5, -48, 36), (5, -48, 38), (5, -48, 40), (5, -48, 42), (5, -48, 44), (5, -48, 46), (5, -46, 0), (5, -46, 2), (5, -46, 4), (5, -46, 6), (5, -46, 8), (5, -46, 10), (5, -46, 12), (5, -46, 14), (5, -46, 16), (5, -46, 18), (5, -46, 20), (5, -46, 22), (5, -46, 24), (5, -46, 26), (5, -46, 28), (5, -46, 30), (5, -46, 32), (5, -46, 34), (5, -46, 36), (5, -46, 38), (5, -46, 40), (5, -46, 42), (5, -46, 44), (5, -46, 46), (5, -44, 0), (5, -44, 2), (5, -44, 4), (5, -44, 6), (5, -44, 8), (5, -44, 10), (5, -44, 12), (5, -44, 14), (5, -44, 16), (5, -44, 18), (5, -44, 20), (5, -44, 22), (5, -44, 24), (5, -44, 26), (5, -44, 28), (5, -44, 30), (5, -44, 32), (5, -44, 34), (5, -44, 36), (5, -44, 38), (5, -44, 40), (5, -44, 42), (5, -44, 44), (5, -44, 46), (5, -42, 0), (5, -42, 2), (5, -42, 4), (5, -42, 6), (5, -42, 8), (5, -42, 10), (5, -42, 12), (5, -42, 14), (5, -42, 16), (5, -42, 18), (5, -42, 20), (5, -42, 22), (5, -42, 24), (5, -42, 26), (5, -42, 28), (5, -42, 30), (5, -42, 32), (5, -42, 34), (5, -42, 36), (5, -42, 38), (5, -42, 40), (5, -42, 42), (5, -42, 44), (5, -42, 46), (5, -40, 0), (5, -40, 2), (5, -40, 4), (5, -40, 6), (5, -40, 8), (5, -40, 10), (5, -40, 12), (5, -40, 14), (5, -40, 16), (5, -40, 18), (5, -40, 20), (5, -40, 22), (5, -40, 24), (5, -40, 26), (5, -40, 28), (5, -40, 30), (5, -40, 32), (5, -40, 34), (5, -40, 36), (5, -40, 38), (5, -40, 40), (5, -40, 42), (5, -40, 44), (5, -40, 46), (5, -38, 0), (5, -38, 2), (5, -38, 4), (5, -38, 6), (5, -38, 8), (5, -38, 10), (5, -38, 12), (5, -38, 14), (5, -38, 16), (5, -38, 18), (5, -38, 20), (5, -38, 22), (5, -38, 24), (5, -38, 26), (5, -38, 28), (5, -38, 30), (5, -38, 32), (5, -38, 34), (5, -38, 36), (5, -38, 38), (5, -38, 40), (5, -38, 42), (5, -38, 44), (5, -38, 46), (5, -36, 0), (5, -36, 2), (5, -36, 4), (5, -36, 6), (5, -36, 8), (5, -36, 10), (5, -36, 12), (5, -36, 14), (5, -36, 16), (5, -36, 18), (5, -36, 20), (5, -36, 22), (5, -36, 24), (5, -36, 26), (5, -36, 28), (5, -36, 30), (5, -36, 32), (5, -36, 34), (5, -36, 36), (5, -36, 38), (5, -36, 40), (5, -36, 42), (5, -36, 44), (5, -36, 46), (5, -34, 0), (5, -34, 2), (5, -34, 4), (5, -34, 6), (5, -34, 8), (5, -34, 10), (5, -34, 12), (5, -34, 14), (5, -34, 16), (5, -34, 18), (5, -34, 20), (5, -34, 22), (5, -34, 24), (5, -34, 26), (5, -34, 28), (5, -34, 30), (5, -34, 32), (5, -34, 34), (5, -34, 36), (5, -34, 38), (5, -34, 40), (5, -34, 42), (5, -34, 44), (5, -34, 46), (5, -32, 0), (5, -32, 2), (5, -32, 4), (5, -32, 6), (5, -32, 8), (5, -32, 10), (5, -32, 12), (5, -32, 14), (5, -32, 16), (5, -32, 18), (5, -32, 20), (5, -32, 22), (5, -32, 24), (5, -32, 26), (5, -32, 28), (5, -32, 30), (5, -32, 32), (5, -32, 34), (5, -32, 36), (5, -32, 38), (5, -32, 40), (5, -32, 42), (5, -32, 44), (5, -32, 46), (5, -30, 0), (5, -30, 2), (5, -30, 4), (5, -30, 6), (5, -30, 8), (5, -30, 10), (5, -30, 12), (5, -30, 14), (5, -30, 16), (5, -30, 18), (5, -30, 20), (5, -30, 22), (5, -30, 24), (5, -30, 26), (5, -30, 28), (5, -30, 30), (5, -30, 32), (5, -30, 34), (5, -30, 36), (5, -30, 38), (5, -30, 40), (5, -30, 42), (5, -30, 44), (5, -30, 46), (5, -28, 0), (5, -28, 2), (5, -28, 4), (5, -28, 6), (5, -28, 8), (5, -28, 10), (5, -28, 12), (5, -28, 14), (5, -28, 16), (5, -28, 18), (5, -28, 20), (5, -28, 22), (5, -28, 24), (5, -28, 26), (5, -28, 28), (5, -28, 30), (5, -28, 32), (5, -28, 34), (5, -28, 36), (5, -28, 38), (5, -28, 40), (5, -28, 42), (5, -28, 44), (5, -28, 46), (5, -26, 0), (5, -26, 2), (5, -26, 4), (5, -26, 6), (5, -26, 8), (5, -26, 10), (5, -26, 12), (5, -26, 14), (5, -26, 16), (5, -26, 18), (5, -26, 20), (5, -26, 22), (5, -26, 24), (5, -26, 26), (5, -26, 28), (5, -26, 30), (5, -26, 32), (5, -26, 34), (5, -26, 36), (5, -26, 38), (5, -26, 40), (5, -26, 42), (5, -26, 44), (5, -26, 46), (5, -24, 0), (5, -24, 2), (5, -24, 4), (5, -24, 6), (5, -24, 8), (5, -24, 10), (5, -24, 12), (5, -24, 14), (5, -24, 16), (5, -24, 18), (5, -24, 20), (5, -24, 22), (5, -24, 24), (5, -24, 26), (5, -24, 28), (5, -24, 30), (5, -24, 32), (5, -24, 34), (5, -24, 36), (5, -24, 38), (5, -24, 40), (5, -24, 42), (5, -24, 44), (5, -24, 46), (5, -22, 0), (5, -22, 2), (5, -22, 4), (5, -22, 6), (5, -22, 8), (5, -22, 10), (5, -22, 12), (5, -22, 14), (5, -22, 16), (5, -22, 18), (5, -22, 20), (5, -22, 22), (5, -22, 24), (5, -22, 26), (5, -22, 28), (5, -22, 30), (5, -22, 32), (5, -22, 34), (5, -22, 36), (5, -22, 38), (5, -22, 40), (5, -22, 42), (5, -22, 44), (5, -22, 46), (5, -20, 0), (5, -20, 2), (5, -20, 4), (5, -20, 6), (5, -20, 8), (5, -20, 10), (5, -20, 12), (5, -20, 14), (5, -20, 16), (5, -20, 18), (5, -20, 20), (5, -20, 22), (5, -20, 24), (5, -20, 26), (5, -20, 28), (5, -20, 30), (5, -20, 32), (5, -20, 34), (5, -20, 36), (5, -20, 38), (5, -20, 40), (5, -20, 42), (5, -20, 44), (5, -20, 46), (5, -18, 0), (5, -18, 2), (5, -18, 4), (5, -18, 6), (5, -18, 8), (5, -18, 10), (5, -18, 12), (5, -18, 14), (5, -18, 16), (5, -18, 18), (5, -18, 20), (5, -18, 22), (5, -18, 24), (5, -18, 26), (5, -18, 28), (5, -18, 30), (5, -18, 32), (5, -18, 34), (5, -18, 36), (5, -18, 38), (5, -18, 40), (5, -18, 42), (5, -18, 44), (5, -18, 46), (5, -16, 0), (5, -16, 6), (5, -16, 8), (5, -16, 10), (5, -16, 12), (5, -16, 16), (5, -16, 18), (5, -16, 20), (5, -16, 22), (5, -16, 24), (5, -16, 26), (5, -16, 28), (5, -16, 30), (5, -16, 32), (5, -16, 34), (5, -16, 36), (5, -16, 38), (5, -16, 40), (5, -16, 42), (5, -16, 44), (5, -16, 46), (5, -14, 0), (5, -14, 12), (5, -14, 14), (5, -14, 16), (5, -14, 18), (5, -14, 20), (5, -14, 22), (5, -14, 24), (5, -14, 26), (5, -14, 28), (5, -14, 30), (5, -14, 32), (5, -14, 34), (5, -14, 36), (5, -14, 38), (5, -14, 40), (5, -14, 42), (5, -14, 44), (5, -14, 46), (5, -12, 0), (5, -12, 12), (5, -12, 16), (5, -12, 18), (5, -12, 20), (5, -12, 22), (5, -12, 24), (5, -12, 26), (5, -12, 28), (5, -12, 30), (5, -12, 32), (5, -12, 34), (5, -12, 36), (5, -12, 38), (5, -12, 40), (5, -12, 42), (5, -12, 44), (5, -12, 46), (5, -10, 0), (5, -10, 2), (5, -10, 8), (5, -10, 10), (5, -10, 16), (5, -10, 18), (5, -10, 20), (5, -10, 22), (5, -10, 24), (5, -10, 26), (5, -10, 28), (5, -10, 30), (5, -10, 32), (5, -10, 34), (5, -10, 36), (5, -10, 38), (5, -10, 40), (5, -10, 42), (5, -10, 44), (5, -10, 46), (5, -8, 0), (5, -8, 6), (5, -8, 8), (5, -8, 16), (5, -8, 18), (5, -8, 20), (5, -8, 22), (5, -8, 24), (5, -8, 26), (5, -8, 28), (5, -8, 30), (5, -8, 32), (5, -8, 34), (5, -8, 36), (5, -8, 38), (5, -8, 40), (5, -8, 42), (5, -8, 44), (5, -8, 46), (5, -6, 0), (5, -6, 4), (5, -6, 6), (5, -6, 8), (5, -6, 18), (5, -6, 20), (5, -6, 22), (5, -6, 24), (5, -6, 26), (5, -6, 28), (5, -6, 30), (5, -6, 32), (5, -6, 34), (5, -6, 36), (5, -6, 38), (5, -6, 40), (5, -6, 42), (5, -6, 44), (5, -6, 46), (5, -4, 0), (5, -4, 4), (5, -4, 6), (5, -4, 18), (5, -4, 20), (5, -4, 22), (5, -4, 24), (5, -4, 26), (5, -4, 28), (5, -4, 30), (5, -4, 32), (5, -4, 34), (5, -4, 36), (5, -4, 38), (5, -4, 40), (5, -4, 42), (5, -4, 44), (5, -4, 46), (5, -2, 0), (5, -2, 2), (5, -2, 6), (5, -2, 8), (5, -2, 12), (5, -2, 14), (5, -2, 16), (5, -2, 20), (5, -2, 22), (5, -2, 24), (5, -2, 26), (5, -2, 28), (5, -2, 30), (5, -2, 32), (5, -2, 34), (5, -2, 36), (5, -2, 38), (5, -2, 40), (5, -2, 42), (5, -2, 44), (5, -2, 46), (5, 0, 2), (5, 0, 4), (5, 0, 6), (5, 0, 8), (5, 0, 10), (5, 0, 14), (5, 0, 16), (5, 0, 18), (5, 0, 20), (5, 0, 22), (5, 0, 24), (5, 0, 28), (5, 0, 34), (5, 0, 36), (5, 0, 38), (5, 0, 40), (5, 0, 44), (5, 0, 46), (5, 2, 0), (5, 2, 2), (5, 2, 14), (5, 2, 16), (5, 2, 18), (5, 2, 20), (5, 2, 22), (5, 2, 24), (5, 2, 26), (5, 2, 28), (5, 2, 30), (5, 2, 32), (5, 2, 34), (5, 2, 36), (5, 2, 38), (5, 2, 40), (5, 2, 42), (5, 2, 44), (5, 2, 46), (5, 4, 0), (5, 4, 2), (5, 4, 12), (5, 4, 14), (5, 4, 16), (5, 4, 18), (5, 4, 20), (5, 4, 22), (5, 4, 24), (5, 4, 26), (5, 4, 28), (5, 4, 30), (5, 4, 32), (5, 4, 34), (5, 4, 36), (5, 4, 38), (5, 4, 40), (5, 4, 42), (5, 4, 44), (5, 4, 46), (5, 6, 0), (5, 6, 2), (5, 6, 10), (5, 6, 12), (5, 6, 14), (5, 6, 16), (5, 6, 18), (5, 6, 20), (5, 6, 22), (5, 6, 24), (5, 6, 26), (5, 6, 28), (5, 6, 30), (5, 6, 32), (5, 6, 34), (5, 6, 36), (5, 6, 38), (5, 6, 40), (5, 6, 42), (5, 6, 44), (5, 6, 46), (5, 8, 0), (5, 8, 2), (5, 8, 8), (5, 8, 10), (5, 8, 12), (5, 8, 14), (5, 8, 16), (5, 8, 18), (5, 8, 20), (5, 8, 22), (5, 8, 24), (5, 8, 26), (5, 8, 28), (5, 8, 30), (5, 8, 32), (5, 8, 34), (5, 8, 36), (5, 8, 38), (5, 8, 40), (5, 8, 42), (5, 8, 44), (5, 8, 46), (5, 10, 0), (5, 10, 2), (5, 10, 6), (5, 10, 8), (5, 10, 10), (5, 10, 12), (5, 10, 14), (5, 10, 16), (5, 10, 18), (5, 10, 20), (5, 10, 22), (5, 10, 24), (5, 10, 26), (5, 10, 28), (5, 10, 30), (5, 10, 32), (5, 10, 34), (5, 10, 36), (5, 10, 38), (5, 10, 40), (5, 10, 42), (5, 10, 44), (5, 10, 46), (5, 12, 0), (5, 12, 2), (5, 12, 4), (5, 12, 6), (5, 12, 8), (5, 12, 10), (5, 12, 12), (5, 12, 14), (5, 12, 16), (5, 12, 18), (5, 12, 20), (5, 12, 22), (5, 12, 24), (5, 12, 26), (5, 12, 28), (5, 12, 30), (5, 12, 32), (5, 12, 34), (5, 12, 36), (5, 12, 38), (5, 12, 40), (5, 12, 42), (5, 12, 44), (5, 12, 46), (5, 14, 0), (5, 14, 4), (5, 14, 6), (5, 14, 8), (5, 14, 10), (5, 14, 12), (5, 14, 14), (5, 14, 16), (5, 14, 18), (5, 14, 20), (5, 14, 22), (5, 14, 24), (5, 14, 26), (5, 14, 28), (5, 14, 30), (5, 14, 32), (5, 14, 34), (5, 14, 36), (5, 14, 38), (5, 14, 40), (5, 14, 42), (5, 14, 44), (5, 14, 46), (5, 16, 0), (5, 16, 2), (5, 16, 4), (5, 16, 6), (5, 16, 8), (5, 16, 10), (5, 16, 12), (5, 16, 14), (5, 16, 16), (5, 16, 18), (5, 16, 20), (5, 16, 22), (5, 16, 24), (5, 16, 26), (5, 16, 28), (5, 16, 30), (5, 16, 32), (5, 16, 34), (5, 16, 36), (5, 16, 38), (5, 16, 40), (5, 16, 42), (5, 16, 44), (5, 16, 46), (5, 18, 0), (5, 18, 2), (5, 18, 4), (5, 18, 6), (5, 18, 8), (5, 18, 10), (5, 18, 12), (5, 18, 14), (5, 18, 16), (5, 18, 18), (5, 18, 20), (5, 18, 22), (5, 18, 24), (5, 18, 26), (5, 18, 28), (5, 18, 30), (5, 18, 32), (5, 18, 34), (5, 18, 36), (5, 18, 38), (5, 18, 40), (5, 18, 42), (5, 18, 44), (5, 18, 46), (5, 20, 0), (5, 20, 2), (5, 20, 4), (5, 20, 6), (5, 20, 8), (5, 20, 10), (5, 20, 12), (5, 20, 14), (5, 20, 16), (5, 20, 18), (5, 20, 20), (5, 20, 22), (5, 20, 24), (5, 20, 26), (5, 20, 30), (5, 20, 32), (5, 20, 34), (5, 20, 36), (5, 20, 38), (5, 20, 40), (5, 20, 42), (5, 20, 44), (5, 20, 46), (5, 22, 0), (5, 22, 2), (5, 22, 4), (5, 22, 6), (5, 22, 8), (5, 22, 10), (5, 22, 12), (5, 22, 14), (5, 22, 16), (5, 22, 18), (5, 22, 20), (5, 22, 22), (5, 22, 24), (5, 22, 26), (5, 22, 28), (5, 22, 30), (5, 22, 32), (5, 22, 34), (5, 22, 36), (5, 22, 38), (5, 22, 40), (5, 22, 42), (5, 22, 44), (5, 22, 46), (5, 24, 0), (5, 24, 2), (5, 24, 4), (5, 24, 6), (5, 24, 8), (5, 24, 10), (5, 24, 12), (5, 24, 14), (5, 24, 16), (5, 24, 18), (5, 24, 20), (5, 24, 22), (5, 24, 24), (5, 24, 26), (5, 24, 28), (5, 24, 30), (5, 24, 32), (5, 24, 34), (5, 24, 36), (5, 24, 38), (5, 24, 40), (5, 24, 42), (5, 24, 44), (5, 24, 46), (5, 26, 0), (5, 26, 2), (5, 26, 4), (5, 26, 6), (5, 26, 8), (5, 26, 10), (5, 26, 12), (5, 26, 14), (5, 26, 16), (5, 26, 18), (5, 26, 20), (5, 26, 22), (5, 26, 24), (5, 26, 26), (5, 26, 28), (5, 26, 30), (5, 26, 32), (5, 26, 34), (5, 26, 36), (5, 26, 38), (5, 26, 40), (5, 26, 42), (5, 26, 44), (5, 26, 46), (5, 28, 0), (5, 28, 2), (5, 28, 4), (5, 28, 6), (5, 28, 8), (5, 28, 10), (5, 28, 12), (5, 28, 14), (5, 28, 16), (5, 28, 18), (5, 28, 20), (5, 28, 22), (5, 28, 24), (5, 28, 26), (5, 28, 28), (5, 28, 30), (5, 28, 32), (5, 28, 34), (5, 28, 36), (5, 28, 38), (5, 28, 40), (5, 28, 42), (5, 28, 44), (5, 28, 46), (5, 30, 0), (5, 30, 2), (5, 30, 4), (5, 30, 6), (5, 30, 8), (5, 30, 10), (5, 30, 12), (5, 30, 14), (5, 30, 16), (5, 30, 18), (5, 30, 20), (5, 30, 22), (5, 30, 24), (5, 30, 26), (5, 30, 28), (5, 30, 30), (5, 30, 32), (5, 30, 34), (5, 30, 36), (5, 30, 38), (5, 30, 40), (5, 30, 42), (5, 30, 44), (5, 30, 46), (5, 32, 0), (5, 32, 2), (5, 32, 4), (5, 32, 6), (5, 32, 8), (5, 32, 10), (5, 32, 12), (5, 32, 14), (5, 32, 16), (5, 32, 18), (5, 32, 20), (5, 32, 22), (5, 32, 24), (5, 32, 26), (5, 32, 28), (5, 32, 30), (5, 32, 32), (5, 32, 34), (5, 32, 36), (5, 32, 38), (5, 32, 40), (5, 32, 42), (5, 32, 44), (5, 32, 46), (5, 34, 0), (5, 34, 2), (5, 34, 4), (5, 34, 6), (5, 34, 8), (5, 34, 10), (5, 34, 12), (5, 34, 14), (5, 34, 16), (5, 34, 18), (5, 34, 20), (5, 34, 22), (5, 34, 24), (5, 34, 26), (5, 34, 28), (5, 34, 30), (5, 34, 32), (5, 34, 34), (5, 34, 36), (5, 34, 38), (5, 34, 40), (5, 34, 42), (5, 34, 44), (5, 34, 46), (5, 36, 0), (5, 36, 2), (5, 36, 4), (5, 36, 6), (5, 36, 8), (5, 36, 10), (5, 36, 12), (5, 36, 14), (5, 36, 16), (5, 36, 18), (5, 36, 20), (5, 36, 22), (5, 36, 24), (5, 36, 26), (5, 36, 28), (5, 36, 30), (5, 36, 32), (5, 36, 34), (5, 36, 36), (5, 36, 38), (5, 36, 40), (5, 36, 42), (5, 36, 44), (5, 36, 46), (5, 38, 0), (5, 38, 2), (5, 38, 4), (5, 38, 6), (5, 38, 8), (5, 38, 10), (5, 38, 12), (5, 38, 14), (5, 38, 16), (5, 38, 18), (5, 38, 20), (5, 38, 22), (5, 38, 24), (5, 38, 26), (5, 38, 28), (5, 38, 30), (5, 38, 32), (5, 38, 34), (5, 38, 36), (5, 38, 38), (5, 38, 40), (5, 38, 42), (5, 38, 44), (5, 38, 46), (5, 40, 0), (5, 40, 2), (5, 40, 4), (5, 40, 6), (5, 40, 8), (5, 40, 10), (5, 40, 12), (5, 40, 14), (5, 40, 16), (5, 40, 18), (5, 40, 20), (5, 40, 22), (5, 40, 24), (5, 40, 26), (5, 40, 28), (5, 40, 30), (5, 40, 32), (5, 40, 34), (5, 40, 36), (5, 40, 38), (5, 40, 40), (5, 40, 42), (5, 40, 44), (5, 40, 46), (5, 42, 0), (5, 42, 2), (5, 42, 4), (5, 42, 6), (5, 42, 8), (5, 42, 10), (5, 42, 12), (5, 42, 14), (5, 42, 16), (5, 42, 18), (5, 42, 20), (5, 42, 22), (5, 42, 24), (5, 42, 26), (5, 42, 28), (5, 42, 30), (5, 42, 32), (5, 42, 34), (5, 42, 36), (5, 42, 38), (5, 42, 40), (5, 42, 42), (5, 42, 44), (5, 42, 46), (5, 44, 0), (5, 44, 2), (5, 44, 4), (5, 44, 6), (5, 44, 8), (5, 44, 10), (5, 44, 12), (5, 44, 14), (5, 44, 16), (5, 44, 18), (5, 44, 20), (5, 44, 22), (5, 44, 24), (5, 44, 26), (5, 44, 28), (5, 44, 30), (5, 44, 32), (5, 44, 34), (5, 44, 36), (5, 44, 38), (5, 44, 40), (5, 44, 42), (5, 44, 44), (5, 44, 46), (5, 46, 0), (5, 46, 2), (5, 46, 4), (5, 46, 6), (5, 46, 8), (5, 46, 10), (5, 46, 12), (5, 46, 14), (5, 46, 16), (5, 46, 18), (5, 46, 20), (5, 46, 22), (5, 46, 24), (5, 46, 26), (5, 46, 28), (5, 46, 30), (5, 46, 32), (5, 46, 34), (5, 46, 36), (5, 46, 38), (5, 46, 40), (5, 46, 42), (5, 46, 44), (5, 46, 46)]}\n"
     ]
    }
   ],
   "source": [
    "#a successful trigger happens, may not.\n",
    "\n",
    "print(collections)"
   ]
  },
  {
   "cell_type": "code",
   "execution_count": 497,
   "id": "328973a3",
   "metadata": {},
   "outputs": [],
   "source": []
  },
  {
   "cell_type": "code",
   "execution_count": null,
   "id": "8f158a49",
   "metadata": {},
   "outputs": [],
   "source": [
    "#sometimes it cashed and need reboot\n",
    "scope.io.nrst = False\n",
    "time.sleep(0.05)\n",
    "scope.io.nrst = \"high_z\"\n",
    "time.sleep(0.05)\n",
    "\n",
    "scope"
   ]
  },
  {
   "cell_type": "markdown",
   "id": "3d1e6c39",
   "metadata": {},
   "source": [
    "***experiment above shows how a glitch success.***"
   ]
  },
  {
   "cell_type": "code",
   "execution_count": null,
   "id": "d52570c3",
   "metadata": {},
   "outputs": [],
   "source": [
    "#reboot\n",
    "scope.io.nrst = False\n",
    "time.sleep(0.05)\n",
    "scope.io.nrst = \"high_z\"\n",
    "time.sleep(0.05)"
   ]
  },
  {
   "cell_type": "markdown",
   "id": "b48f27d5",
   "metadata": {},
   "source": [
    "***next we collect cycles and power trace with/without cnt***"
   ]
  },
  {
   "cell_type": "code",
   "execution_count": 863,
   "id": "99a6acb8",
   "metadata": {},
   "outputs": [],
   "source": [
    "scope.glitch.clk_src = \"clkgen\"\n",
    "scope.glitch.trigger_src = \"ext_single\" # glitch only after scope.arm() called\n",
    "scope.glitch.output = \"clock_xor\" # glitch_out = clk ^ glitch\n",
    "\n",
    "scope.io.hs2 = \"glitch\"\n",
    "scope.arm() #launch the glitch\n"
   ]
  },
  {
   "cell_type": "code",
   "execution_count": 902,
   "id": "099cbe8f",
   "metadata": {},
   "outputs": [],
   "source": [
    "#call for address\n",
    "count_cyc_begin = scope.adc.trig_count #record the trigger cycles\n",
    "scope.arm()\n",
    "msg = bytearray([3]*32) \n",
    "target.simpleserial_write('f', msg)\n",
    "\n"
   ]
  },
  {
   "cell_type": "code",
   "execution_count": 903,
   "id": "042c86bd",
   "metadata": {
    "scrolled": true
   },
   "outputs": [
    {
     "name": "stdout",
     "output_type": "stream",
     "text": [
      "88712\n"
     ]
    }
   ],
   "source": [
    "count_cyc_end = scope.adc.trig_count -count_cyc_begin #update the trigger cycles\n",
    "print(count_cyc_end) #cycles for address"
   ]
  },
  {
   "cell_type": "code",
   "execution_count": 904,
   "id": "f8c82f9d",
   "metadata": {},
   "outputs": [],
   "source": [
    "count_cyc_begin = scope.adc.trig_count #record the trigger cycles\n",
    "scope.arm() \n",
    "msg = bytearray([3]*36) \n",
    "target.simpleserial_write('g', msg)"
   ]
  },
  {
   "cell_type": "code",
   "execution_count": 905,
   "id": "868588e5",
   "metadata": {},
   "outputs": [
    {
     "name": "stdout",
     "output_type": "stream",
     "text": [
      "89272\n"
     ]
    }
   ],
   "source": [
    "count_cyc_end = scope.adc.trig_count -count_cyc_begin #update the trigger cycles\n",
    "print(count_cyc_end)"
   ]
  },
  {
   "cell_type": "code",
   "execution_count": 908,
   "id": "abc24b18",
   "metadata": {},
   "outputs": [],
   "source": [
    "count_cyc_begin = scope.adc.trig_count #record the trigger cycles\n",
    "scope.arm()\n",
    "msg = bytearray([3]*32) \n",
    "target.simpleserial_write('a', msg)\n",
    "\n"
   ]
  },
  {
   "cell_type": "code",
   "execution_count": 909,
   "id": "354a309f",
   "metadata": {},
   "outputs": [
    {
     "name": "stdout",
     "output_type": "stream",
     "text": [
      "82384\n"
     ]
    }
   ],
   "source": [
    "count_cyc_end = scope.adc.trig_count -count_cyc_begin #update the trigger cycles\n",
    "print(count_cyc_end) #cycles "
   ]
  },
  {
   "cell_type": "code",
   "execution_count": 910,
   "id": "24f1ac04",
   "metadata": {},
   "outputs": [],
   "source": [
    "count_cyc_begin = scope.adc.trig_count #record the trigger cycles\n",
    "scope.arm()\n",
    "msg = bytearray([3]*32) \n",
    "target.simpleserial_write('b', msg)\n",
    "\n"
   ]
  },
  {
   "cell_type": "code",
   "execution_count": 914,
   "id": "b9695e84",
   "metadata": {},
   "outputs": [
    {
     "name": "stdout",
     "output_type": "stream",
     "text": [
      "89603348\n"
     ]
    }
   ],
   "source": [
    "count_cyc_end = scope.adc.trig_count -count_cyc_begin #update the trigger cycles\n",
    "print(count_cyc_end) #cycles "
   ]
  },
  {
   "cell_type": "code",
   "execution_count": 915,
   "id": "6ba5886a",
   "metadata": {},
   "outputs": [],
   "source": [
    "count_cyc_begin = scope.adc.trig_count #record the trigger cycles\n",
    "scope.arm()\n",
    "msg = bytearray([3]*32) \n",
    "target.simpleserial_write('c', msg)\n",
    "\n"
   ]
  },
  {
   "cell_type": "code",
   "execution_count": 934,
   "id": "11f88233",
   "metadata": {},
   "outputs": [
    {
     "name": "stdout",
     "output_type": "stream",
     "text": [
      "1434701680\n"
     ]
    }
   ],
   "source": [
    "count_cyc_end = scope.adc.trig_count -count_cyc_begin #update the trigger cycles\n",
    "print(count_cyc_end) #cycles "
   ]
  },
  {
   "cell_type": "markdown",
   "id": "ba13e116",
   "metadata": {},
   "source": [
    "***Trace capture***"
   ]
  },
  {
   "cell_type": "code",
   "execution_count": 1052,
   "id": "5dd89747",
   "metadata": {},
   "outputs": [],
   "source": [
    "scope.arm()\n",
    "msg = bytearray([3]*32) \n",
    "target.simpleserial_write('f', msg)\n"
   ]
  },
  {
   "cell_type": "code",
   "execution_count": 1053,
   "id": "26d269f0",
   "metadata": {},
   "outputs": [
    {
     "name": "stdout",
     "output_type": "stream",
     "text": [
      "[ 0.01367188 -0.11230469 -0.09082031 ... -0.0078125   0.09277344\n",
      "  0.14355469]\n"
     ]
    }
   ],
   "source": [
    "scope.capture() #wait for trigger, only functions having trigger() will work, otherwise it turns to timeout.\n",
    "trace1 = scope.get_last_trace()\n",
    "print(trace1)#power trace"
   ]
  },
  {
   "cell_type": "code",
   "execution_count": 1054,
   "id": "ac00c7bd",
   "metadata": {},
   "outputs": [
    {
     "data": {
      "application/javascript": [
       "/* Put everything inside the global mpl namespace */\n",
       "/* global mpl */\n",
       "window.mpl = {};\n",
       "\n",
       "mpl.get_websocket_type = function () {\n",
       "    if (typeof WebSocket !== 'undefined') {\n",
       "        return WebSocket;\n",
       "    } else if (typeof MozWebSocket !== 'undefined') {\n",
       "        return MozWebSocket;\n",
       "    } else {\n",
       "        alert(\n",
       "            'Your browser does not have WebSocket support. ' +\n",
       "                'Please try Chrome, Safari or Firefox ≥ 6. ' +\n",
       "                'Firefox 4 and 5 are also supported but you ' +\n",
       "                'have to enable WebSockets in about:config.'\n",
       "        );\n",
       "    }\n",
       "};\n",
       "\n",
       "mpl.figure = function (figure_id, websocket, ondownload, parent_element) {\n",
       "    this.id = figure_id;\n",
       "\n",
       "    this.ws = websocket;\n",
       "\n",
       "    this.supports_binary = this.ws.binaryType !== undefined;\n",
       "\n",
       "    if (!this.supports_binary) {\n",
       "        var warnings = document.getElementById('mpl-warnings');\n",
       "        if (warnings) {\n",
       "            warnings.style.display = 'block';\n",
       "            warnings.textContent =\n",
       "                'This browser does not support binary websocket messages. ' +\n",
       "                'Performance may be slow.';\n",
       "        }\n",
       "    }\n",
       "\n",
       "    this.imageObj = new Image();\n",
       "\n",
       "    this.context = undefined;\n",
       "    this.message = undefined;\n",
       "    this.canvas = undefined;\n",
       "    this.rubberband_canvas = undefined;\n",
       "    this.rubberband_context = undefined;\n",
       "    this.format_dropdown = undefined;\n",
       "\n",
       "    this.image_mode = 'full';\n",
       "\n",
       "    this.root = document.createElement('div');\n",
       "    this.root.setAttribute('style', 'display: inline-block');\n",
       "    this._root_extra_style(this.root);\n",
       "\n",
       "    parent_element.appendChild(this.root);\n",
       "\n",
       "    this._init_header(this);\n",
       "    this._init_canvas(this);\n",
       "    this._init_toolbar(this);\n",
       "\n",
       "    var fig = this;\n",
       "\n",
       "    this.waiting = false;\n",
       "\n",
       "    this.ws.onopen = function () {\n",
       "        fig.send_message('supports_binary', { value: fig.supports_binary });\n",
       "        fig.send_message('send_image_mode', {});\n",
       "        if (fig.ratio !== 1) {\n",
       "            fig.send_message('set_device_pixel_ratio', {\n",
       "                device_pixel_ratio: fig.ratio,\n",
       "            });\n",
       "        }\n",
       "        fig.send_message('refresh', {});\n",
       "    };\n",
       "\n",
       "    this.imageObj.onload = function () {\n",
       "        if (fig.image_mode === 'full') {\n",
       "            // Full images could contain transparency (where diff images\n",
       "            // almost always do), so we need to clear the canvas so that\n",
       "            // there is no ghosting.\n",
       "            fig.context.clearRect(0, 0, fig.canvas.width, fig.canvas.height);\n",
       "        }\n",
       "        fig.context.drawImage(fig.imageObj, 0, 0);\n",
       "    };\n",
       "\n",
       "    this.imageObj.onunload = function () {\n",
       "        fig.ws.close();\n",
       "    };\n",
       "\n",
       "    this.ws.onmessage = this._make_on_message_function(this);\n",
       "\n",
       "    this.ondownload = ondownload;\n",
       "};\n",
       "\n",
       "mpl.figure.prototype._init_header = function () {\n",
       "    var titlebar = document.createElement('div');\n",
       "    titlebar.classList =\n",
       "        'ui-dialog-titlebar ui-widget-header ui-corner-all ui-helper-clearfix';\n",
       "    var titletext = document.createElement('div');\n",
       "    titletext.classList = 'ui-dialog-title';\n",
       "    titletext.setAttribute(\n",
       "        'style',\n",
       "        'width: 100%; text-align: center; padding: 3px;'\n",
       "    );\n",
       "    titlebar.appendChild(titletext);\n",
       "    this.root.appendChild(titlebar);\n",
       "    this.header = titletext;\n",
       "};\n",
       "\n",
       "mpl.figure.prototype._canvas_extra_style = function (_canvas_div) {};\n",
       "\n",
       "mpl.figure.prototype._root_extra_style = function (_canvas_div) {};\n",
       "\n",
       "mpl.figure.prototype._init_canvas = function () {\n",
       "    var fig = this;\n",
       "\n",
       "    var canvas_div = (this.canvas_div = document.createElement('div'));\n",
       "    canvas_div.setAttribute('tabindex', '0');\n",
       "    canvas_div.setAttribute(\n",
       "        'style',\n",
       "        'border: 1px solid #ddd;' +\n",
       "            'box-sizing: content-box;' +\n",
       "            'clear: both;' +\n",
       "            'min-height: 1px;' +\n",
       "            'min-width: 1px;' +\n",
       "            'outline: 0;' +\n",
       "            'overflow: hidden;' +\n",
       "            'position: relative;' +\n",
       "            'resize: both;' +\n",
       "            'z-index: 2;'\n",
       "    );\n",
       "\n",
       "    function on_keyboard_event_closure(name) {\n",
       "        return function (event) {\n",
       "            return fig.key_event(event, name);\n",
       "        };\n",
       "    }\n",
       "\n",
       "    canvas_div.addEventListener(\n",
       "        'keydown',\n",
       "        on_keyboard_event_closure('key_press')\n",
       "    );\n",
       "    canvas_div.addEventListener(\n",
       "        'keyup',\n",
       "        on_keyboard_event_closure('key_release')\n",
       "    );\n",
       "\n",
       "    this._canvas_extra_style(canvas_div);\n",
       "    this.root.appendChild(canvas_div);\n",
       "\n",
       "    var canvas = (this.canvas = document.createElement('canvas'));\n",
       "    canvas.classList.add('mpl-canvas');\n",
       "    canvas.setAttribute(\n",
       "        'style',\n",
       "        'box-sizing: content-box;' +\n",
       "            'pointer-events: none;' +\n",
       "            'position: relative;' +\n",
       "            'z-index: 0;'\n",
       "    );\n",
       "\n",
       "    this.context = canvas.getContext('2d');\n",
       "\n",
       "    var backingStore =\n",
       "        this.context.backingStorePixelRatio ||\n",
       "        this.context.webkitBackingStorePixelRatio ||\n",
       "        this.context.mozBackingStorePixelRatio ||\n",
       "        this.context.msBackingStorePixelRatio ||\n",
       "        this.context.oBackingStorePixelRatio ||\n",
       "        this.context.backingStorePixelRatio ||\n",
       "        1;\n",
       "\n",
       "    this.ratio = (window.devicePixelRatio || 1) / backingStore;\n",
       "\n",
       "    var rubberband_canvas = (this.rubberband_canvas = document.createElement(\n",
       "        'canvas'\n",
       "    ));\n",
       "    rubberband_canvas.setAttribute(\n",
       "        'style',\n",
       "        'box-sizing: content-box;' +\n",
       "            'left: 0;' +\n",
       "            'pointer-events: none;' +\n",
       "            'position: absolute;' +\n",
       "            'top: 0;' +\n",
       "            'z-index: 1;'\n",
       "    );\n",
       "\n",
       "    // Apply a ponyfill if ResizeObserver is not implemented by browser.\n",
       "    if (this.ResizeObserver === undefined) {\n",
       "        if (window.ResizeObserver !== undefined) {\n",
       "            this.ResizeObserver = window.ResizeObserver;\n",
       "        } else {\n",
       "            var obs = _JSXTOOLS_RESIZE_OBSERVER({});\n",
       "            this.ResizeObserver = obs.ResizeObserver;\n",
       "        }\n",
       "    }\n",
       "\n",
       "    this.resizeObserverInstance = new this.ResizeObserver(function (entries) {\n",
       "        var nentries = entries.length;\n",
       "        for (var i = 0; i < nentries; i++) {\n",
       "            var entry = entries[i];\n",
       "            var width, height;\n",
       "            if (entry.contentBoxSize) {\n",
       "                if (entry.contentBoxSize instanceof Array) {\n",
       "                    // Chrome 84 implements new version of spec.\n",
       "                    width = entry.contentBoxSize[0].inlineSize;\n",
       "                    height = entry.contentBoxSize[0].blockSize;\n",
       "                } else {\n",
       "                    // Firefox implements old version of spec.\n",
       "                    width = entry.contentBoxSize.inlineSize;\n",
       "                    height = entry.contentBoxSize.blockSize;\n",
       "                }\n",
       "            } else {\n",
       "                // Chrome <84 implements even older version of spec.\n",
       "                width = entry.contentRect.width;\n",
       "                height = entry.contentRect.height;\n",
       "            }\n",
       "\n",
       "            // Keep the size of the canvas and rubber band canvas in sync with\n",
       "            // the canvas container.\n",
       "            if (entry.devicePixelContentBoxSize) {\n",
       "                // Chrome 84 implements new version of spec.\n",
       "                canvas.setAttribute(\n",
       "                    'width',\n",
       "                    entry.devicePixelContentBoxSize[0].inlineSize\n",
       "                );\n",
       "                canvas.setAttribute(\n",
       "                    'height',\n",
       "                    entry.devicePixelContentBoxSize[0].blockSize\n",
       "                );\n",
       "            } else {\n",
       "                canvas.setAttribute('width', width * fig.ratio);\n",
       "                canvas.setAttribute('height', height * fig.ratio);\n",
       "            }\n",
       "            /* This rescales the canvas back to display pixels, so that it\n",
       "             * appears correct on HiDPI screens. */\n",
       "            canvas.style.width = width + 'px';\n",
       "            canvas.style.height = height + 'px';\n",
       "\n",
       "            rubberband_canvas.setAttribute('width', width);\n",
       "            rubberband_canvas.setAttribute('height', height);\n",
       "\n",
       "            // And update the size in Python. We ignore the initial 0/0 size\n",
       "            // that occurs as the element is placed into the DOM, which should\n",
       "            // otherwise not happen due to the minimum size styling.\n",
       "            if (fig.ws.readyState == 1 && width != 0 && height != 0) {\n",
       "                fig.request_resize(width, height);\n",
       "            }\n",
       "        }\n",
       "    });\n",
       "    this.resizeObserverInstance.observe(canvas_div);\n",
       "\n",
       "    function on_mouse_event_closure(name) {\n",
       "        /* User Agent sniffing is bad, but WebKit is busted:\n",
       "         * https://bugs.webkit.org/show_bug.cgi?id=144526\n",
       "         * https://bugs.webkit.org/show_bug.cgi?id=181818\n",
       "         * The worst that happens here is that they get an extra browser\n",
       "         * selection when dragging, if this check fails to catch them.\n",
       "         */\n",
       "        var UA = navigator.userAgent;\n",
       "        var isWebKit = /AppleWebKit/.test(UA) && !/Chrome/.test(UA);\n",
       "        if(isWebKit) {\n",
       "            return function (event) {\n",
       "                /* This prevents the web browser from automatically changing to\n",
       "                 * the text insertion cursor when the button is pressed. We\n",
       "                 * want to control all of the cursor setting manually through\n",
       "                 * the 'cursor' event from matplotlib */\n",
       "                event.preventDefault()\n",
       "                return fig.mouse_event(event, name);\n",
       "            };\n",
       "        } else {\n",
       "            return function (event) {\n",
       "                return fig.mouse_event(event, name);\n",
       "            };\n",
       "        }\n",
       "    }\n",
       "\n",
       "    canvas_div.addEventListener(\n",
       "        'mousedown',\n",
       "        on_mouse_event_closure('button_press')\n",
       "    );\n",
       "    canvas_div.addEventListener(\n",
       "        'mouseup',\n",
       "        on_mouse_event_closure('button_release')\n",
       "    );\n",
       "    canvas_div.addEventListener(\n",
       "        'dblclick',\n",
       "        on_mouse_event_closure('dblclick')\n",
       "    );\n",
       "    // Throttle sequential mouse events to 1 every 20ms.\n",
       "    canvas_div.addEventListener(\n",
       "        'mousemove',\n",
       "        on_mouse_event_closure('motion_notify')\n",
       "    );\n",
       "\n",
       "    canvas_div.addEventListener(\n",
       "        'mouseenter',\n",
       "        on_mouse_event_closure('figure_enter')\n",
       "    );\n",
       "    canvas_div.addEventListener(\n",
       "        'mouseleave',\n",
       "        on_mouse_event_closure('figure_leave')\n",
       "    );\n",
       "\n",
       "    canvas_div.addEventListener('wheel', function (event) {\n",
       "        if (event.deltaY < 0) {\n",
       "            event.step = 1;\n",
       "        } else {\n",
       "            event.step = -1;\n",
       "        }\n",
       "        on_mouse_event_closure('scroll')(event);\n",
       "    });\n",
       "\n",
       "    canvas_div.appendChild(canvas);\n",
       "    canvas_div.appendChild(rubberband_canvas);\n",
       "\n",
       "    this.rubberband_context = rubberband_canvas.getContext('2d');\n",
       "    this.rubberband_context.strokeStyle = '#000000';\n",
       "\n",
       "    this._resize_canvas = function (width, height, forward) {\n",
       "        if (forward) {\n",
       "            canvas_div.style.width = width + 'px';\n",
       "            canvas_div.style.height = height + 'px';\n",
       "        }\n",
       "    };\n",
       "\n",
       "    // Disable right mouse context menu.\n",
       "    canvas_div.addEventListener('contextmenu', function (_e) {\n",
       "        event.preventDefault();\n",
       "        return false;\n",
       "    });\n",
       "\n",
       "    function set_focus() {\n",
       "        canvas.focus();\n",
       "        canvas_div.focus();\n",
       "    }\n",
       "\n",
       "    window.setTimeout(set_focus, 100);\n",
       "};\n",
       "\n",
       "mpl.figure.prototype._init_toolbar = function () {\n",
       "    var fig = this;\n",
       "\n",
       "    var toolbar = document.createElement('div');\n",
       "    toolbar.classList = 'mpl-toolbar';\n",
       "    this.root.appendChild(toolbar);\n",
       "\n",
       "    function on_click_closure(name) {\n",
       "        return function (_event) {\n",
       "            return fig.toolbar_button_onclick(name);\n",
       "        };\n",
       "    }\n",
       "\n",
       "    function on_mouseover_closure(tooltip) {\n",
       "        return function (event) {\n",
       "            if (!event.currentTarget.disabled) {\n",
       "                return fig.toolbar_button_onmouseover(tooltip);\n",
       "            }\n",
       "        };\n",
       "    }\n",
       "\n",
       "    fig.buttons = {};\n",
       "    var buttonGroup = document.createElement('div');\n",
       "    buttonGroup.classList = 'mpl-button-group';\n",
       "    for (var toolbar_ind in mpl.toolbar_items) {\n",
       "        var name = mpl.toolbar_items[toolbar_ind][0];\n",
       "        var tooltip = mpl.toolbar_items[toolbar_ind][1];\n",
       "        var image = mpl.toolbar_items[toolbar_ind][2];\n",
       "        var method_name = mpl.toolbar_items[toolbar_ind][3];\n",
       "\n",
       "        if (!name) {\n",
       "            /* Instead of a spacer, we start a new button group. */\n",
       "            if (buttonGroup.hasChildNodes()) {\n",
       "                toolbar.appendChild(buttonGroup);\n",
       "            }\n",
       "            buttonGroup = document.createElement('div');\n",
       "            buttonGroup.classList = 'mpl-button-group';\n",
       "            continue;\n",
       "        }\n",
       "\n",
       "        var button = (fig.buttons[name] = document.createElement('button'));\n",
       "        button.classList = 'mpl-widget';\n",
       "        button.setAttribute('role', 'button');\n",
       "        button.setAttribute('aria-disabled', 'false');\n",
       "        button.addEventListener('click', on_click_closure(method_name));\n",
       "        button.addEventListener('mouseover', on_mouseover_closure(tooltip));\n",
       "\n",
       "        var icon_img = document.createElement('img');\n",
       "        icon_img.src = '_images/' + image + '.png';\n",
       "        icon_img.srcset = '_images/' + image + '_large.png 2x';\n",
       "        icon_img.alt = tooltip;\n",
       "        button.appendChild(icon_img);\n",
       "\n",
       "        buttonGroup.appendChild(button);\n",
       "    }\n",
       "\n",
       "    if (buttonGroup.hasChildNodes()) {\n",
       "        toolbar.appendChild(buttonGroup);\n",
       "    }\n",
       "\n",
       "    var fmt_picker = document.createElement('select');\n",
       "    fmt_picker.classList = 'mpl-widget';\n",
       "    toolbar.appendChild(fmt_picker);\n",
       "    this.format_dropdown = fmt_picker;\n",
       "\n",
       "    for (var ind in mpl.extensions) {\n",
       "        var fmt = mpl.extensions[ind];\n",
       "        var option = document.createElement('option');\n",
       "        option.selected = fmt === mpl.default_extension;\n",
       "        option.innerHTML = fmt;\n",
       "        fmt_picker.appendChild(option);\n",
       "    }\n",
       "\n",
       "    var status_bar = document.createElement('span');\n",
       "    status_bar.classList = 'mpl-message';\n",
       "    toolbar.appendChild(status_bar);\n",
       "    this.message = status_bar;\n",
       "};\n",
       "\n",
       "mpl.figure.prototype.request_resize = function (x_pixels, y_pixels) {\n",
       "    // Request matplotlib to resize the figure. Matplotlib will then trigger a resize in the client,\n",
       "    // which will in turn request a refresh of the image.\n",
       "    this.send_message('resize', { width: x_pixels, height: y_pixels });\n",
       "};\n",
       "\n",
       "mpl.figure.prototype.send_message = function (type, properties) {\n",
       "    properties['type'] = type;\n",
       "    properties['figure_id'] = this.id;\n",
       "    this.ws.send(JSON.stringify(properties));\n",
       "};\n",
       "\n",
       "mpl.figure.prototype.send_draw_message = function () {\n",
       "    if (!this.waiting) {\n",
       "        this.waiting = true;\n",
       "        this.ws.send(JSON.stringify({ type: 'draw', figure_id: this.id }));\n",
       "    }\n",
       "};\n",
       "\n",
       "mpl.figure.prototype.handle_save = function (fig, _msg) {\n",
       "    var format_dropdown = fig.format_dropdown;\n",
       "    var format = format_dropdown.options[format_dropdown.selectedIndex].value;\n",
       "    fig.ondownload(fig, format);\n",
       "};\n",
       "\n",
       "mpl.figure.prototype.handle_resize = function (fig, msg) {\n",
       "    var size = msg['size'];\n",
       "    if (size[0] !== fig.canvas.width || size[1] !== fig.canvas.height) {\n",
       "        fig._resize_canvas(size[0], size[1], msg['forward']);\n",
       "        fig.send_message('refresh', {});\n",
       "    }\n",
       "};\n",
       "\n",
       "mpl.figure.prototype.handle_rubberband = function (fig, msg) {\n",
       "    var x0 = msg['x0'] / fig.ratio;\n",
       "    var y0 = (fig.canvas.height - msg['y0']) / fig.ratio;\n",
       "    var x1 = msg['x1'] / fig.ratio;\n",
       "    var y1 = (fig.canvas.height - msg['y1']) / fig.ratio;\n",
       "    x0 = Math.floor(x0) + 0.5;\n",
       "    y0 = Math.floor(y0) + 0.5;\n",
       "    x1 = Math.floor(x1) + 0.5;\n",
       "    y1 = Math.floor(y1) + 0.5;\n",
       "    var min_x = Math.min(x0, x1);\n",
       "    var min_y = Math.min(y0, y1);\n",
       "    var width = Math.abs(x1 - x0);\n",
       "    var height = Math.abs(y1 - y0);\n",
       "\n",
       "    fig.rubberband_context.clearRect(\n",
       "        0,\n",
       "        0,\n",
       "        fig.canvas.width / fig.ratio,\n",
       "        fig.canvas.height / fig.ratio\n",
       "    );\n",
       "\n",
       "    fig.rubberband_context.strokeRect(min_x, min_y, width, height);\n",
       "};\n",
       "\n",
       "mpl.figure.prototype.handle_figure_label = function (fig, msg) {\n",
       "    // Updates the figure title.\n",
       "    fig.header.textContent = msg['label'];\n",
       "};\n",
       "\n",
       "mpl.figure.prototype.handle_cursor = function (fig, msg) {\n",
       "    fig.canvas_div.style.cursor = msg['cursor'];\n",
       "};\n",
       "\n",
       "mpl.figure.prototype.handle_message = function (fig, msg) {\n",
       "    fig.message.textContent = msg['message'];\n",
       "};\n",
       "\n",
       "mpl.figure.prototype.handle_draw = function (fig, _msg) {\n",
       "    // Request the server to send over a new figure.\n",
       "    fig.send_draw_message();\n",
       "};\n",
       "\n",
       "mpl.figure.prototype.handle_image_mode = function (fig, msg) {\n",
       "    fig.image_mode = msg['mode'];\n",
       "};\n",
       "\n",
       "mpl.figure.prototype.handle_history_buttons = function (fig, msg) {\n",
       "    for (var key in msg) {\n",
       "        if (!(key in fig.buttons)) {\n",
       "            continue;\n",
       "        }\n",
       "        fig.buttons[key].disabled = !msg[key];\n",
       "        fig.buttons[key].setAttribute('aria-disabled', !msg[key]);\n",
       "    }\n",
       "};\n",
       "\n",
       "mpl.figure.prototype.handle_navigate_mode = function (fig, msg) {\n",
       "    if (msg['mode'] === 'PAN') {\n",
       "        fig.buttons['Pan'].classList.add('active');\n",
       "        fig.buttons['Zoom'].classList.remove('active');\n",
       "    } else if (msg['mode'] === 'ZOOM') {\n",
       "        fig.buttons['Pan'].classList.remove('active');\n",
       "        fig.buttons['Zoom'].classList.add('active');\n",
       "    } else {\n",
       "        fig.buttons['Pan'].classList.remove('active');\n",
       "        fig.buttons['Zoom'].classList.remove('active');\n",
       "    }\n",
       "};\n",
       "\n",
       "mpl.figure.prototype.updated_canvas_event = function () {\n",
       "    // Called whenever the canvas gets updated.\n",
       "    this.send_message('ack', {});\n",
       "};\n",
       "\n",
       "// A function to construct a web socket function for onmessage handling.\n",
       "// Called in the figure constructor.\n",
       "mpl.figure.prototype._make_on_message_function = function (fig) {\n",
       "    return function socket_on_message(evt) {\n",
       "        if (evt.data instanceof Blob) {\n",
       "            var img = evt.data;\n",
       "            if (img.type !== 'image/png') {\n",
       "                /* FIXME: We get \"Resource interpreted as Image but\n",
       "                 * transferred with MIME type text/plain:\" errors on\n",
       "                 * Chrome.  But how to set the MIME type?  It doesn't seem\n",
       "                 * to be part of the websocket stream */\n",
       "                img.type = 'image/png';\n",
       "            }\n",
       "\n",
       "            /* Free the memory for the previous frames */\n",
       "            if (fig.imageObj.src) {\n",
       "                (window.URL || window.webkitURL).revokeObjectURL(\n",
       "                    fig.imageObj.src\n",
       "                );\n",
       "            }\n",
       "\n",
       "            fig.imageObj.src = (window.URL || window.webkitURL).createObjectURL(\n",
       "                img\n",
       "            );\n",
       "            fig.updated_canvas_event();\n",
       "            fig.waiting = false;\n",
       "            return;\n",
       "        } else if (\n",
       "            typeof evt.data === 'string' &&\n",
       "            evt.data.slice(0, 21) === 'data:image/png;base64'\n",
       "        ) {\n",
       "            fig.imageObj.src = evt.data;\n",
       "            fig.updated_canvas_event();\n",
       "            fig.waiting = false;\n",
       "            return;\n",
       "        }\n",
       "\n",
       "        var msg = JSON.parse(evt.data);\n",
       "        var msg_type = msg['type'];\n",
       "\n",
       "        // Call the  \"handle_{type}\" callback, which takes\n",
       "        // the figure and JSON message as its only arguments.\n",
       "        try {\n",
       "            var callback = fig['handle_' + msg_type];\n",
       "        } catch (e) {\n",
       "            console.log(\n",
       "                \"No handler for the '\" + msg_type + \"' message type: \",\n",
       "                msg\n",
       "            );\n",
       "            return;\n",
       "        }\n",
       "\n",
       "        if (callback) {\n",
       "            try {\n",
       "                // console.log(\"Handling '\" + msg_type + \"' message: \", msg);\n",
       "                callback(fig, msg);\n",
       "            } catch (e) {\n",
       "                console.log(\n",
       "                    \"Exception inside the 'handler_\" + msg_type + \"' callback:\",\n",
       "                    e,\n",
       "                    e.stack,\n",
       "                    msg\n",
       "                );\n",
       "            }\n",
       "        }\n",
       "    };\n",
       "};\n",
       "\n",
       "function getModifiers(event) {\n",
       "    var mods = [];\n",
       "    if (event.ctrlKey) {\n",
       "        mods.push('ctrl');\n",
       "    }\n",
       "    if (event.altKey) {\n",
       "        mods.push('alt');\n",
       "    }\n",
       "    if (event.shiftKey) {\n",
       "        mods.push('shift');\n",
       "    }\n",
       "    if (event.metaKey) {\n",
       "        mods.push('meta');\n",
       "    }\n",
       "    return mods;\n",
       "}\n",
       "\n",
       "/*\n",
       " * return a copy of an object with only non-object keys\n",
       " * we need this to avoid circular references\n",
       " * https://stackoverflow.com/a/24161582/3208463\n",
       " */\n",
       "function simpleKeys(original) {\n",
       "    return Object.keys(original).reduce(function (obj, key) {\n",
       "        if (typeof original[key] !== 'object') {\n",
       "            obj[key] = original[key];\n",
       "        }\n",
       "        return obj;\n",
       "    }, {});\n",
       "}\n",
       "\n",
       "mpl.figure.prototype.mouse_event = function (event, name) {\n",
       "    if (name === 'button_press') {\n",
       "        this.canvas.focus();\n",
       "        this.canvas_div.focus();\n",
       "    }\n",
       "\n",
       "    // from https://stackoverflow.com/q/1114465\n",
       "    var boundingRect = this.canvas.getBoundingClientRect();\n",
       "    var x = (event.clientX - boundingRect.left) * this.ratio;\n",
       "    var y = (event.clientY - boundingRect.top) * this.ratio;\n",
       "\n",
       "    this.send_message(name, {\n",
       "        x: x,\n",
       "        y: y,\n",
       "        button: event.button,\n",
       "        step: event.step,\n",
       "        modifiers: getModifiers(event),\n",
       "        guiEvent: simpleKeys(event),\n",
       "    });\n",
       "\n",
       "    return false;\n",
       "};\n",
       "\n",
       "mpl.figure.prototype._key_event_extra = function (_event, _name) {\n",
       "    // Handle any extra behaviour associated with a key event\n",
       "};\n",
       "\n",
       "mpl.figure.prototype.key_event = function (event, name) {\n",
       "    // Prevent repeat events\n",
       "    if (name === 'key_press') {\n",
       "        if (event.key === this._key) {\n",
       "            return;\n",
       "        } else {\n",
       "            this._key = event.key;\n",
       "        }\n",
       "    }\n",
       "    if (name === 'key_release') {\n",
       "        this._key = null;\n",
       "    }\n",
       "\n",
       "    var value = '';\n",
       "    if (event.ctrlKey && event.key !== 'Control') {\n",
       "        value += 'ctrl+';\n",
       "    }\n",
       "    else if (event.altKey && event.key !== 'Alt') {\n",
       "        value += 'alt+';\n",
       "    }\n",
       "    else if (event.shiftKey && event.key !== 'Shift') {\n",
       "        value += 'shift+';\n",
       "    }\n",
       "\n",
       "    value += 'k' + event.key;\n",
       "\n",
       "    this._key_event_extra(event, name);\n",
       "\n",
       "    this.send_message(name, { key: value, guiEvent: simpleKeys(event) });\n",
       "    return false;\n",
       "};\n",
       "\n",
       "mpl.figure.prototype.toolbar_button_onclick = function (name) {\n",
       "    if (name === 'download') {\n",
       "        this.handle_save(this, null);\n",
       "    } else {\n",
       "        this.send_message('toolbar_button', { name: name });\n",
       "    }\n",
       "};\n",
       "\n",
       "mpl.figure.prototype.toolbar_button_onmouseover = function (tooltip) {\n",
       "    this.message.textContent = tooltip;\n",
       "};\n",
       "\n",
       "///////////////// REMAINING CONTENT GENERATED BY embed_js.py /////////////////\n",
       "// prettier-ignore\n",
       "var _JSXTOOLS_RESIZE_OBSERVER=function(A){var t,i=new WeakMap,n=new WeakMap,a=new WeakMap,r=new WeakMap,o=new Set;function s(e){if(!(this instanceof s))throw new TypeError(\"Constructor requires 'new' operator\");i.set(this,e)}function h(){throw new TypeError(\"Function is not a constructor\")}function c(e,t,i,n){e=0 in arguments?Number(arguments[0]):0,t=1 in arguments?Number(arguments[1]):0,i=2 in arguments?Number(arguments[2]):0,n=3 in arguments?Number(arguments[3]):0,this.right=(this.x=this.left=e)+(this.width=i),this.bottom=(this.y=this.top=t)+(this.height=n),Object.freeze(this)}function d(){t=requestAnimationFrame(d);var s=new WeakMap,p=new Set;o.forEach((function(t){r.get(t).forEach((function(i){var r=t instanceof window.SVGElement,o=a.get(t),d=r?0:parseFloat(o.paddingTop),f=r?0:parseFloat(o.paddingRight),l=r?0:parseFloat(o.paddingBottom),u=r?0:parseFloat(o.paddingLeft),g=r?0:parseFloat(o.borderTopWidth),m=r?0:parseFloat(o.borderRightWidth),w=r?0:parseFloat(o.borderBottomWidth),b=u+f,F=d+l,v=(r?0:parseFloat(o.borderLeftWidth))+m,W=g+w,y=r?0:t.offsetHeight-W-t.clientHeight,E=r?0:t.offsetWidth-v-t.clientWidth,R=b+v,z=F+W,M=r?t.width:parseFloat(o.width)-R-E,O=r?t.height:parseFloat(o.height)-z-y;if(n.has(t)){var k=n.get(t);if(k[0]===M&&k[1]===O)return}n.set(t,[M,O]);var S=Object.create(h.prototype);S.target=t,S.contentRect=new c(u,d,M,O),s.has(i)||(s.set(i,[]),p.add(i)),s.get(i).push(S)}))})),p.forEach((function(e){i.get(e).call(e,s.get(e),e)}))}return s.prototype.observe=function(i){if(i instanceof window.Element){r.has(i)||(r.set(i,new Set),o.add(i),a.set(i,window.getComputedStyle(i)));var n=r.get(i);n.has(this)||n.add(this),cancelAnimationFrame(t),t=requestAnimationFrame(d)}},s.prototype.unobserve=function(i){if(i instanceof window.Element&&r.has(i)){var n=r.get(i);n.has(this)&&(n.delete(this),n.size||(r.delete(i),o.delete(i))),n.size||r.delete(i),o.size||cancelAnimationFrame(t)}},A.DOMRectReadOnly=c,A.ResizeObserver=s,A.ResizeObserverEntry=h,A}; // eslint-disable-line\n",
       "mpl.toolbar_items = [[\"Home\", \"Reset original view\", \"fa fa-home\", \"home\"], [\"Back\", \"Back to previous view\", \"fa fa-arrow-left\", \"back\"], [\"Forward\", \"Forward to next view\", \"fa fa-arrow-right\", \"forward\"], [\"\", \"\", \"\", \"\"], [\"Pan\", \"Left button pans, Right button zooms\\nx/y fixes axis, CTRL fixes aspect\", \"fa fa-arrows\", \"pan\"], [\"Zoom\", \"Zoom to rectangle\\nx/y fixes axis\", \"fa fa-square-o\", \"zoom\"], [\"\", \"\", \"\", \"\"], [\"Download\", \"Download plot\", \"fa fa-floppy-o\", \"download\"]];\n",
       "\n",
       "mpl.extensions = [\"eps\", \"jpeg\", \"pgf\", \"pdf\", \"png\", \"ps\", \"raw\", \"svg\", \"tif\", \"webp\"];\n",
       "\n",
       "mpl.default_extension = \"png\";/* global mpl */\n",
       "\n",
       "var comm_websocket_adapter = function (comm) {\n",
       "    // Create a \"websocket\"-like object which calls the given IPython comm\n",
       "    // object with the appropriate methods. Currently this is a non binary\n",
       "    // socket, so there is still some room for performance tuning.\n",
       "    var ws = {};\n",
       "\n",
       "    ws.binaryType = comm.kernel.ws.binaryType;\n",
       "    ws.readyState = comm.kernel.ws.readyState;\n",
       "    function updateReadyState(_event) {\n",
       "        if (comm.kernel.ws) {\n",
       "            ws.readyState = comm.kernel.ws.readyState;\n",
       "        } else {\n",
       "            ws.readyState = 3; // Closed state.\n",
       "        }\n",
       "    }\n",
       "    comm.kernel.ws.addEventListener('open', updateReadyState);\n",
       "    comm.kernel.ws.addEventListener('close', updateReadyState);\n",
       "    comm.kernel.ws.addEventListener('error', updateReadyState);\n",
       "\n",
       "    ws.close = function () {\n",
       "        comm.close();\n",
       "    };\n",
       "    ws.send = function (m) {\n",
       "        //console.log('sending', m);\n",
       "        comm.send(m);\n",
       "    };\n",
       "    // Register the callback with on_msg.\n",
       "    comm.on_msg(function (msg) {\n",
       "        //console.log('receiving', msg['content']['data'], msg);\n",
       "        var data = msg['content']['data'];\n",
       "        if (data['blob'] !== undefined) {\n",
       "            data = {\n",
       "                data: new Blob(msg['buffers'], { type: data['blob'] }),\n",
       "            };\n",
       "        }\n",
       "        // Pass the mpl event to the overridden (by mpl) onmessage function.\n",
       "        ws.onmessage(data);\n",
       "    });\n",
       "    return ws;\n",
       "};\n",
       "\n",
       "mpl.mpl_figure_comm = function (comm, msg) {\n",
       "    // This is the function which gets called when the mpl process\n",
       "    // starts-up an IPython Comm through the \"matplotlib\" channel.\n",
       "\n",
       "    var id = msg.content.data.id;\n",
       "    // Get hold of the div created by the display call when the Comm\n",
       "    // socket was opened in Python.\n",
       "    var element = document.getElementById(id);\n",
       "    var ws_proxy = comm_websocket_adapter(comm);\n",
       "\n",
       "    function ondownload(figure, _format) {\n",
       "        window.open(figure.canvas.toDataURL());\n",
       "    }\n",
       "\n",
       "    var fig = new mpl.figure(id, ws_proxy, ondownload, element);\n",
       "\n",
       "    // Call onopen now - mpl needs it, as it is assuming we've passed it a real\n",
       "    // web socket which is closed, not our websocket->open comm proxy.\n",
       "    ws_proxy.onopen();\n",
       "\n",
       "    fig.parent_element = element;\n",
       "    fig.cell_info = mpl.find_output_cell(\"<div id='\" + id + \"'></div>\");\n",
       "    if (!fig.cell_info) {\n",
       "        console.error('Failed to find cell for figure', id, fig);\n",
       "        return;\n",
       "    }\n",
       "    fig.cell_info[0].output_area.element.on(\n",
       "        'cleared',\n",
       "        { fig: fig },\n",
       "        fig._remove_fig_handler\n",
       "    );\n",
       "};\n",
       "\n",
       "mpl.figure.prototype.handle_close = function (fig, msg) {\n",
       "    var width = fig.canvas.width / fig.ratio;\n",
       "    fig.cell_info[0].output_area.element.off(\n",
       "        'cleared',\n",
       "        fig._remove_fig_handler\n",
       "    );\n",
       "    fig.resizeObserverInstance.unobserve(fig.canvas_div);\n",
       "\n",
       "    // Update the output cell to use the data from the current canvas.\n",
       "    fig.push_to_output();\n",
       "    var dataURL = fig.canvas.toDataURL();\n",
       "    // Re-enable the keyboard manager in IPython - without this line, in FF,\n",
       "    // the notebook keyboard shortcuts fail.\n",
       "    IPython.keyboard_manager.enable();\n",
       "    fig.parent_element.innerHTML =\n",
       "        '<img src=\"' + dataURL + '\" width=\"' + width + '\">';\n",
       "    fig.close_ws(fig, msg);\n",
       "};\n",
       "\n",
       "mpl.figure.prototype.close_ws = function (fig, msg) {\n",
       "    fig.send_message('closing', msg);\n",
       "    // fig.ws.close()\n",
       "};\n",
       "\n",
       "mpl.figure.prototype.push_to_output = function (_remove_interactive) {\n",
       "    // Turn the data on the canvas into data in the output cell.\n",
       "    var width = this.canvas.width / this.ratio;\n",
       "    var dataURL = this.canvas.toDataURL();\n",
       "    this.cell_info[1]['text/html'] =\n",
       "        '<img src=\"' + dataURL + '\" width=\"' + width + '\">';\n",
       "};\n",
       "\n",
       "mpl.figure.prototype.updated_canvas_event = function () {\n",
       "    // Tell IPython that the notebook contents must change.\n",
       "    IPython.notebook.set_dirty(true);\n",
       "    this.send_message('ack', {});\n",
       "    var fig = this;\n",
       "    // Wait a second, then push the new image to the DOM so\n",
       "    // that it is saved nicely (might be nice to debounce this).\n",
       "    setTimeout(function () {\n",
       "        fig.push_to_output();\n",
       "    }, 1000);\n",
       "};\n",
       "\n",
       "mpl.figure.prototype._init_toolbar = function () {\n",
       "    var fig = this;\n",
       "\n",
       "    var toolbar = document.createElement('div');\n",
       "    toolbar.classList = 'btn-toolbar';\n",
       "    this.root.appendChild(toolbar);\n",
       "\n",
       "    function on_click_closure(name) {\n",
       "        return function (_event) {\n",
       "            return fig.toolbar_button_onclick(name);\n",
       "        };\n",
       "    }\n",
       "\n",
       "    function on_mouseover_closure(tooltip) {\n",
       "        return function (event) {\n",
       "            if (!event.currentTarget.disabled) {\n",
       "                return fig.toolbar_button_onmouseover(tooltip);\n",
       "            }\n",
       "        };\n",
       "    }\n",
       "\n",
       "    fig.buttons = {};\n",
       "    var buttonGroup = document.createElement('div');\n",
       "    buttonGroup.classList = 'btn-group';\n",
       "    var button;\n",
       "    for (var toolbar_ind in mpl.toolbar_items) {\n",
       "        var name = mpl.toolbar_items[toolbar_ind][0];\n",
       "        var tooltip = mpl.toolbar_items[toolbar_ind][1];\n",
       "        var image = mpl.toolbar_items[toolbar_ind][2];\n",
       "        var method_name = mpl.toolbar_items[toolbar_ind][3];\n",
       "\n",
       "        if (!name) {\n",
       "            /* Instead of a spacer, we start a new button group. */\n",
       "            if (buttonGroup.hasChildNodes()) {\n",
       "                toolbar.appendChild(buttonGroup);\n",
       "            }\n",
       "            buttonGroup = document.createElement('div');\n",
       "            buttonGroup.classList = 'btn-group';\n",
       "            continue;\n",
       "        }\n",
       "\n",
       "        button = fig.buttons[name] = document.createElement('button');\n",
       "        button.classList = 'btn btn-default';\n",
       "        button.href = '#';\n",
       "        button.title = name;\n",
       "        button.innerHTML = '<i class=\"fa ' + image + ' fa-lg\"></i>';\n",
       "        button.addEventListener('click', on_click_closure(method_name));\n",
       "        button.addEventListener('mouseover', on_mouseover_closure(tooltip));\n",
       "        buttonGroup.appendChild(button);\n",
       "    }\n",
       "\n",
       "    if (buttonGroup.hasChildNodes()) {\n",
       "        toolbar.appendChild(buttonGroup);\n",
       "    }\n",
       "\n",
       "    // Add the status bar.\n",
       "    var status_bar = document.createElement('span');\n",
       "    status_bar.classList = 'mpl-message pull-right';\n",
       "    toolbar.appendChild(status_bar);\n",
       "    this.message = status_bar;\n",
       "\n",
       "    // Add the close button to the window.\n",
       "    var buttongrp = document.createElement('div');\n",
       "    buttongrp.classList = 'btn-group inline pull-right';\n",
       "    button = document.createElement('button');\n",
       "    button.classList = 'btn btn-mini btn-primary';\n",
       "    button.href = '#';\n",
       "    button.title = 'Stop Interaction';\n",
       "    button.innerHTML = '<i class=\"fa fa-power-off icon-remove icon-large\"></i>';\n",
       "    button.addEventListener('click', function (_evt) {\n",
       "        fig.handle_close(fig, {});\n",
       "    });\n",
       "    button.addEventListener(\n",
       "        'mouseover',\n",
       "        on_mouseover_closure('Stop Interaction')\n",
       "    );\n",
       "    buttongrp.appendChild(button);\n",
       "    var titlebar = this.root.querySelector('.ui-dialog-titlebar');\n",
       "    titlebar.insertBefore(buttongrp, titlebar.firstChild);\n",
       "};\n",
       "\n",
       "mpl.figure.prototype._remove_fig_handler = function (event) {\n",
       "    var fig = event.data.fig;\n",
       "    if (event.target !== this) {\n",
       "        // Ignore bubbled events from children.\n",
       "        return;\n",
       "    }\n",
       "    fig.close_ws(fig, {});\n",
       "};\n",
       "\n",
       "mpl.figure.prototype._root_extra_style = function (el) {\n",
       "    el.style.boxSizing = 'content-box'; // override notebook setting of border-box.\n",
       "};\n",
       "\n",
       "mpl.figure.prototype._canvas_extra_style = function (el) {\n",
       "    // this is important to make the div 'focusable\n",
       "    el.setAttribute('tabindex', 0);\n",
       "    // reach out to IPython and tell the keyboard manager to turn it's self\n",
       "    // off when our div gets focus\n",
       "\n",
       "    // location in version 3\n",
       "    if (IPython.notebook.keyboard_manager) {\n",
       "        IPython.notebook.keyboard_manager.register_events(el);\n",
       "    } else {\n",
       "        // location in version 2\n",
       "        IPython.keyboard_manager.register_events(el);\n",
       "    }\n",
       "};\n",
       "\n",
       "mpl.figure.prototype._key_event_extra = function (event, _name) {\n",
       "    // Check for shift+enter\n",
       "    if (event.shiftKey && event.which === 13) {\n",
       "        this.canvas_div.blur();\n",
       "        // select the cell after this one\n",
       "        var index = IPython.notebook.find_cell_index(this.cell_info[0]);\n",
       "        IPython.notebook.select(index + 1);\n",
       "    }\n",
       "};\n",
       "\n",
       "mpl.figure.prototype.handle_save = function (fig, _msg) {\n",
       "    fig.ondownload(fig, null);\n",
       "};\n",
       "\n",
       "mpl.find_output_cell = function (html_output) {\n",
       "    // Return the cell and output element which can be found *uniquely* in the notebook.\n",
       "    // Note - this is a bit hacky, but it is done because the \"notebook_saving.Notebook\"\n",
       "    // IPython event is triggered only after the cells have been serialised, which for\n",
       "    // our purposes (turning an active figure into a static one), is too late.\n",
       "    var cells = IPython.notebook.get_cells();\n",
       "    var ncells = cells.length;\n",
       "    for (var i = 0; i < ncells; i++) {\n",
       "        var cell = cells[i];\n",
       "        if (cell.cell_type === 'code') {\n",
       "            for (var j = 0; j < cell.output_area.outputs.length; j++) {\n",
       "                var data = cell.output_area.outputs[j];\n",
       "                if (data.data) {\n",
       "                    // IPython >= 3 moved mimebundle to data attribute of output\n",
       "                    data = data.data;\n",
       "                }\n",
       "                if (data['text/html'] === html_output) {\n",
       "                    return [cell, data, j];\n",
       "                }\n",
       "            }\n",
       "        }\n",
       "    }\n",
       "};\n",
       "\n",
       "// Register the function which deals with the matplotlib target/channel.\n",
       "// The kernel may be null if the page has been refreshed.\n",
       "if (IPython.notebook.kernel !== null) {\n",
       "    IPython.notebook.kernel.comm_manager.register_target(\n",
       "        'matplotlib',\n",
       "        mpl.mpl_figure_comm\n",
       "    );\n",
       "}\n"
      ],
      "text/plain": [
       "<IPython.core.display.Javascript object>"
      ]
     },
     "metadata": {},
     "output_type": "display_data"
    },
    {
     "data": {
      "text/html": [
       "<img src=\"data:image/png;base64,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\" width=\"639.85\">"
      ],
      "text/plain": [
       "<IPython.core.display.HTML object>"
      ]
     },
     "metadata": {},
     "output_type": "display_data"
    }
   ],
   "source": [
    "%matplotlib notebook\n",
    "import matplotlib.pylab as plt\n",
    "plt.figure()\n",
    "plt.plot(trace1,\"r\")\n",
    "plt.show()"
   ]
  },
  {
   "cell_type": "code",
   "execution_count": 1055,
   "id": "86a5daf5",
   "metadata": {},
   "outputs": [],
   "source": [
    "scope.arm()\n",
    "msg = bytearray([3]*36) \n",
    "target.simpleserial_write('g', msg)\n"
   ]
  },
  {
   "cell_type": "code",
   "execution_count": 1056,
   "id": "ccf62461",
   "metadata": {},
   "outputs": [
    {
     "name": "stdout",
     "output_type": "stream",
     "text": [
      "[ 0.01269531 -0.11328125 -0.08984375 ... -0.00878906  0.09179688\n",
      "  0.14355469]\n"
     ]
    }
   ],
   "source": [
    "scope.capture() #wait for trigger, only functions having trigger() will work, otherwise it turns to timeout.\n",
    "trace2 = scope.get_last_trace()\n",
    "print(trace2)#power trace"
   ]
  },
  {
   "cell_type": "code",
   "execution_count": 1057,
   "id": "8bcfb0c5",
   "metadata": {
    "scrolled": true
   },
   "outputs": [
    {
     "data": {
      "application/javascript": [
       "/* Put everything inside the global mpl namespace */\n",
       "/* global mpl */\n",
       "window.mpl = {};\n",
       "\n",
       "mpl.get_websocket_type = function () {\n",
       "    if (typeof WebSocket !== 'undefined') {\n",
       "        return WebSocket;\n",
       "    } else if (typeof MozWebSocket !== 'undefined') {\n",
       "        return MozWebSocket;\n",
       "    } else {\n",
       "        alert(\n",
       "            'Your browser does not have WebSocket support. ' +\n",
       "                'Please try Chrome, Safari or Firefox ≥ 6. ' +\n",
       "                'Firefox 4 and 5 are also supported but you ' +\n",
       "                'have to enable WebSockets in about:config.'\n",
       "        );\n",
       "    }\n",
       "};\n",
       "\n",
       "mpl.figure = function (figure_id, websocket, ondownload, parent_element) {\n",
       "    this.id = figure_id;\n",
       "\n",
       "    this.ws = websocket;\n",
       "\n",
       "    this.supports_binary = this.ws.binaryType !== undefined;\n",
       "\n",
       "    if (!this.supports_binary) {\n",
       "        var warnings = document.getElementById('mpl-warnings');\n",
       "        if (warnings) {\n",
       "            warnings.style.display = 'block';\n",
       "            warnings.textContent =\n",
       "                'This browser does not support binary websocket messages. ' +\n",
       "                'Performance may be slow.';\n",
       "        }\n",
       "    }\n",
       "\n",
       "    this.imageObj = new Image();\n",
       "\n",
       "    this.context = undefined;\n",
       "    this.message = undefined;\n",
       "    this.canvas = undefined;\n",
       "    this.rubberband_canvas = undefined;\n",
       "    this.rubberband_context = undefined;\n",
       "    this.format_dropdown = undefined;\n",
       "\n",
       "    this.image_mode = 'full';\n",
       "\n",
       "    this.root = document.createElement('div');\n",
       "    this.root.setAttribute('style', 'display: inline-block');\n",
       "    this._root_extra_style(this.root);\n",
       "\n",
       "    parent_element.appendChild(this.root);\n",
       "\n",
       "    this._init_header(this);\n",
       "    this._init_canvas(this);\n",
       "    this._init_toolbar(this);\n",
       "\n",
       "    var fig = this;\n",
       "\n",
       "    this.waiting = false;\n",
       "\n",
       "    this.ws.onopen = function () {\n",
       "        fig.send_message('supports_binary', { value: fig.supports_binary });\n",
       "        fig.send_message('send_image_mode', {});\n",
       "        if (fig.ratio !== 1) {\n",
       "            fig.send_message('set_device_pixel_ratio', {\n",
       "                device_pixel_ratio: fig.ratio,\n",
       "            });\n",
       "        }\n",
       "        fig.send_message('refresh', {});\n",
       "    };\n",
       "\n",
       "    this.imageObj.onload = function () {\n",
       "        if (fig.image_mode === 'full') {\n",
       "            // Full images could contain transparency (where diff images\n",
       "            // almost always do), so we need to clear the canvas so that\n",
       "            // there is no ghosting.\n",
       "            fig.context.clearRect(0, 0, fig.canvas.width, fig.canvas.height);\n",
       "        }\n",
       "        fig.context.drawImage(fig.imageObj, 0, 0);\n",
       "    };\n",
       "\n",
       "    this.imageObj.onunload = function () {\n",
       "        fig.ws.close();\n",
       "    };\n",
       "\n",
       "    this.ws.onmessage = this._make_on_message_function(this);\n",
       "\n",
       "    this.ondownload = ondownload;\n",
       "};\n",
       "\n",
       "mpl.figure.prototype._init_header = function () {\n",
       "    var titlebar = document.createElement('div');\n",
       "    titlebar.classList =\n",
       "        'ui-dialog-titlebar ui-widget-header ui-corner-all ui-helper-clearfix';\n",
       "    var titletext = document.createElement('div');\n",
       "    titletext.classList = 'ui-dialog-title';\n",
       "    titletext.setAttribute(\n",
       "        'style',\n",
       "        'width: 100%; text-align: center; padding: 3px;'\n",
       "    );\n",
       "    titlebar.appendChild(titletext);\n",
       "    this.root.appendChild(titlebar);\n",
       "    this.header = titletext;\n",
       "};\n",
       "\n",
       "mpl.figure.prototype._canvas_extra_style = function (_canvas_div) {};\n",
       "\n",
       "mpl.figure.prototype._root_extra_style = function (_canvas_div) {};\n",
       "\n",
       "mpl.figure.prototype._init_canvas = function () {\n",
       "    var fig = this;\n",
       "\n",
       "    var canvas_div = (this.canvas_div = document.createElement('div'));\n",
       "    canvas_div.setAttribute('tabindex', '0');\n",
       "    canvas_div.setAttribute(\n",
       "        'style',\n",
       "        'border: 1px solid #ddd;' +\n",
       "            'box-sizing: content-box;' +\n",
       "            'clear: both;' +\n",
       "            'min-height: 1px;' +\n",
       "            'min-width: 1px;' +\n",
       "            'outline: 0;' +\n",
       "            'overflow: hidden;' +\n",
       "            'position: relative;' +\n",
       "            'resize: both;' +\n",
       "            'z-index: 2;'\n",
       "    );\n",
       "\n",
       "    function on_keyboard_event_closure(name) {\n",
       "        return function (event) {\n",
       "            return fig.key_event(event, name);\n",
       "        };\n",
       "    }\n",
       "\n",
       "    canvas_div.addEventListener(\n",
       "        'keydown',\n",
       "        on_keyboard_event_closure('key_press')\n",
       "    );\n",
       "    canvas_div.addEventListener(\n",
       "        'keyup',\n",
       "        on_keyboard_event_closure('key_release')\n",
       "    );\n",
       "\n",
       "    this._canvas_extra_style(canvas_div);\n",
       "    this.root.appendChild(canvas_div);\n",
       "\n",
       "    var canvas = (this.canvas = document.createElement('canvas'));\n",
       "    canvas.classList.add('mpl-canvas');\n",
       "    canvas.setAttribute(\n",
       "        'style',\n",
       "        'box-sizing: content-box;' +\n",
       "            'pointer-events: none;' +\n",
       "            'position: relative;' +\n",
       "            'z-index: 0;'\n",
       "    );\n",
       "\n",
       "    this.context = canvas.getContext('2d');\n",
       "\n",
       "    var backingStore =\n",
       "        this.context.backingStorePixelRatio ||\n",
       "        this.context.webkitBackingStorePixelRatio ||\n",
       "        this.context.mozBackingStorePixelRatio ||\n",
       "        this.context.msBackingStorePixelRatio ||\n",
       "        this.context.oBackingStorePixelRatio ||\n",
       "        this.context.backingStorePixelRatio ||\n",
       "        1;\n",
       "\n",
       "    this.ratio = (window.devicePixelRatio || 1) / backingStore;\n",
       "\n",
       "    var rubberband_canvas = (this.rubberband_canvas = document.createElement(\n",
       "        'canvas'\n",
       "    ));\n",
       "    rubberband_canvas.setAttribute(\n",
       "        'style',\n",
       "        'box-sizing: content-box;' +\n",
       "            'left: 0;' +\n",
       "            'pointer-events: none;' +\n",
       "            'position: absolute;' +\n",
       "            'top: 0;' +\n",
       "            'z-index: 1;'\n",
       "    );\n",
       "\n",
       "    // Apply a ponyfill if ResizeObserver is not implemented by browser.\n",
       "    if (this.ResizeObserver === undefined) {\n",
       "        if (window.ResizeObserver !== undefined) {\n",
       "            this.ResizeObserver = window.ResizeObserver;\n",
       "        } else {\n",
       "            var obs = _JSXTOOLS_RESIZE_OBSERVER({});\n",
       "            this.ResizeObserver = obs.ResizeObserver;\n",
       "        }\n",
       "    }\n",
       "\n",
       "    this.resizeObserverInstance = new this.ResizeObserver(function (entries) {\n",
       "        var nentries = entries.length;\n",
       "        for (var i = 0; i < nentries; i++) {\n",
       "            var entry = entries[i];\n",
       "            var width, height;\n",
       "            if (entry.contentBoxSize) {\n",
       "                if (entry.contentBoxSize instanceof Array) {\n",
       "                    // Chrome 84 implements new version of spec.\n",
       "                    width = entry.contentBoxSize[0].inlineSize;\n",
       "                    height = entry.contentBoxSize[0].blockSize;\n",
       "                } else {\n",
       "                    // Firefox implements old version of spec.\n",
       "                    width = entry.contentBoxSize.inlineSize;\n",
       "                    height = entry.contentBoxSize.blockSize;\n",
       "                }\n",
       "            } else {\n",
       "                // Chrome <84 implements even older version of spec.\n",
       "                width = entry.contentRect.width;\n",
       "                height = entry.contentRect.height;\n",
       "            }\n",
       "\n",
       "            // Keep the size of the canvas and rubber band canvas in sync with\n",
       "            // the canvas container.\n",
       "            if (entry.devicePixelContentBoxSize) {\n",
       "                // Chrome 84 implements new version of spec.\n",
       "                canvas.setAttribute(\n",
       "                    'width',\n",
       "                    entry.devicePixelContentBoxSize[0].inlineSize\n",
       "                );\n",
       "                canvas.setAttribute(\n",
       "                    'height',\n",
       "                    entry.devicePixelContentBoxSize[0].blockSize\n",
       "                );\n",
       "            } else {\n",
       "                canvas.setAttribute('width', width * fig.ratio);\n",
       "                canvas.setAttribute('height', height * fig.ratio);\n",
       "            }\n",
       "            /* This rescales the canvas back to display pixels, so that it\n",
       "             * appears correct on HiDPI screens. */\n",
       "            canvas.style.width = width + 'px';\n",
       "            canvas.style.height = height + 'px';\n",
       "\n",
       "            rubberband_canvas.setAttribute('width', width);\n",
       "            rubberband_canvas.setAttribute('height', height);\n",
       "\n",
       "            // And update the size in Python. We ignore the initial 0/0 size\n",
       "            // that occurs as the element is placed into the DOM, which should\n",
       "            // otherwise not happen due to the minimum size styling.\n",
       "            if (fig.ws.readyState == 1 && width != 0 && height != 0) {\n",
       "                fig.request_resize(width, height);\n",
       "            }\n",
       "        }\n",
       "    });\n",
       "    this.resizeObserverInstance.observe(canvas_div);\n",
       "\n",
       "    function on_mouse_event_closure(name) {\n",
       "        /* User Agent sniffing is bad, but WebKit is busted:\n",
       "         * https://bugs.webkit.org/show_bug.cgi?id=144526\n",
       "         * https://bugs.webkit.org/show_bug.cgi?id=181818\n",
       "         * The worst that happens here is that they get an extra browser\n",
       "         * selection when dragging, if this check fails to catch them.\n",
       "         */\n",
       "        var UA = navigator.userAgent;\n",
       "        var isWebKit = /AppleWebKit/.test(UA) && !/Chrome/.test(UA);\n",
       "        if(isWebKit) {\n",
       "            return function (event) {\n",
       "                /* This prevents the web browser from automatically changing to\n",
       "                 * the text insertion cursor when the button is pressed. We\n",
       "                 * want to control all of the cursor setting manually through\n",
       "                 * the 'cursor' event from matplotlib */\n",
       "                event.preventDefault()\n",
       "                return fig.mouse_event(event, name);\n",
       "            };\n",
       "        } else {\n",
       "            return function (event) {\n",
       "                return fig.mouse_event(event, name);\n",
       "            };\n",
       "        }\n",
       "    }\n",
       "\n",
       "    canvas_div.addEventListener(\n",
       "        'mousedown',\n",
       "        on_mouse_event_closure('button_press')\n",
       "    );\n",
       "    canvas_div.addEventListener(\n",
       "        'mouseup',\n",
       "        on_mouse_event_closure('button_release')\n",
       "    );\n",
       "    canvas_div.addEventListener(\n",
       "        'dblclick',\n",
       "        on_mouse_event_closure('dblclick')\n",
       "    );\n",
       "    // Throttle sequential mouse events to 1 every 20ms.\n",
       "    canvas_div.addEventListener(\n",
       "        'mousemove',\n",
       "        on_mouse_event_closure('motion_notify')\n",
       "    );\n",
       "\n",
       "    canvas_div.addEventListener(\n",
       "        'mouseenter',\n",
       "        on_mouse_event_closure('figure_enter')\n",
       "    );\n",
       "    canvas_div.addEventListener(\n",
       "        'mouseleave',\n",
       "        on_mouse_event_closure('figure_leave')\n",
       "    );\n",
       "\n",
       "    canvas_div.addEventListener('wheel', function (event) {\n",
       "        if (event.deltaY < 0) {\n",
       "            event.step = 1;\n",
       "        } else {\n",
       "            event.step = -1;\n",
       "        }\n",
       "        on_mouse_event_closure('scroll')(event);\n",
       "    });\n",
       "\n",
       "    canvas_div.appendChild(canvas);\n",
       "    canvas_div.appendChild(rubberband_canvas);\n",
       "\n",
       "    this.rubberband_context = rubberband_canvas.getContext('2d');\n",
       "    this.rubberband_context.strokeStyle = '#000000';\n",
       "\n",
       "    this._resize_canvas = function (width, height, forward) {\n",
       "        if (forward) {\n",
       "            canvas_div.style.width = width + 'px';\n",
       "            canvas_div.style.height = height + 'px';\n",
       "        }\n",
       "    };\n",
       "\n",
       "    // Disable right mouse context menu.\n",
       "    canvas_div.addEventListener('contextmenu', function (_e) {\n",
       "        event.preventDefault();\n",
       "        return false;\n",
       "    });\n",
       "\n",
       "    function set_focus() {\n",
       "        canvas.focus();\n",
       "        canvas_div.focus();\n",
       "    }\n",
       "\n",
       "    window.setTimeout(set_focus, 100);\n",
       "};\n",
       "\n",
       "mpl.figure.prototype._init_toolbar = function () {\n",
       "    var fig = this;\n",
       "\n",
       "    var toolbar = document.createElement('div');\n",
       "    toolbar.classList = 'mpl-toolbar';\n",
       "    this.root.appendChild(toolbar);\n",
       "\n",
       "    function on_click_closure(name) {\n",
       "        return function (_event) {\n",
       "            return fig.toolbar_button_onclick(name);\n",
       "        };\n",
       "    }\n",
       "\n",
       "    function on_mouseover_closure(tooltip) {\n",
       "        return function (event) {\n",
       "            if (!event.currentTarget.disabled) {\n",
       "                return fig.toolbar_button_onmouseover(tooltip);\n",
       "            }\n",
       "        };\n",
       "    }\n",
       "\n",
       "    fig.buttons = {};\n",
       "    var buttonGroup = document.createElement('div');\n",
       "    buttonGroup.classList = 'mpl-button-group';\n",
       "    for (var toolbar_ind in mpl.toolbar_items) {\n",
       "        var name = mpl.toolbar_items[toolbar_ind][0];\n",
       "        var tooltip = mpl.toolbar_items[toolbar_ind][1];\n",
       "        var image = mpl.toolbar_items[toolbar_ind][2];\n",
       "        var method_name = mpl.toolbar_items[toolbar_ind][3];\n",
       "\n",
       "        if (!name) {\n",
       "            /* Instead of a spacer, we start a new button group. */\n",
       "            if (buttonGroup.hasChildNodes()) {\n",
       "                toolbar.appendChild(buttonGroup);\n",
       "            }\n",
       "            buttonGroup = document.createElement('div');\n",
       "            buttonGroup.classList = 'mpl-button-group';\n",
       "            continue;\n",
       "        }\n",
       "\n",
       "        var button = (fig.buttons[name] = document.createElement('button'));\n",
       "        button.classList = 'mpl-widget';\n",
       "        button.setAttribute('role', 'button');\n",
       "        button.setAttribute('aria-disabled', 'false');\n",
       "        button.addEventListener('click', on_click_closure(method_name));\n",
       "        button.addEventListener('mouseover', on_mouseover_closure(tooltip));\n",
       "\n",
       "        var icon_img = document.createElement('img');\n",
       "        icon_img.src = '_images/' + image + '.png';\n",
       "        icon_img.srcset = '_images/' + image + '_large.png 2x';\n",
       "        icon_img.alt = tooltip;\n",
       "        button.appendChild(icon_img);\n",
       "\n",
       "        buttonGroup.appendChild(button);\n",
       "    }\n",
       "\n",
       "    if (buttonGroup.hasChildNodes()) {\n",
       "        toolbar.appendChild(buttonGroup);\n",
       "    }\n",
       "\n",
       "    var fmt_picker = document.createElement('select');\n",
       "    fmt_picker.classList = 'mpl-widget';\n",
       "    toolbar.appendChild(fmt_picker);\n",
       "    this.format_dropdown = fmt_picker;\n",
       "\n",
       "    for (var ind in mpl.extensions) {\n",
       "        var fmt = mpl.extensions[ind];\n",
       "        var option = document.createElement('option');\n",
       "        option.selected = fmt === mpl.default_extension;\n",
       "        option.innerHTML = fmt;\n",
       "        fmt_picker.appendChild(option);\n",
       "    }\n",
       "\n",
       "    var status_bar = document.createElement('span');\n",
       "    status_bar.classList = 'mpl-message';\n",
       "    toolbar.appendChild(status_bar);\n",
       "    this.message = status_bar;\n",
       "};\n",
       "\n",
       "mpl.figure.prototype.request_resize = function (x_pixels, y_pixels) {\n",
       "    // Request matplotlib to resize the figure. Matplotlib will then trigger a resize in the client,\n",
       "    // which will in turn request a refresh of the image.\n",
       "    this.send_message('resize', { width: x_pixels, height: y_pixels });\n",
       "};\n",
       "\n",
       "mpl.figure.prototype.send_message = function (type, properties) {\n",
       "    properties['type'] = type;\n",
       "    properties['figure_id'] = this.id;\n",
       "    this.ws.send(JSON.stringify(properties));\n",
       "};\n",
       "\n",
       "mpl.figure.prototype.send_draw_message = function () {\n",
       "    if (!this.waiting) {\n",
       "        this.waiting = true;\n",
       "        this.ws.send(JSON.stringify({ type: 'draw', figure_id: this.id }));\n",
       "    }\n",
       "};\n",
       "\n",
       "mpl.figure.prototype.handle_save = function (fig, _msg) {\n",
       "    var format_dropdown = fig.format_dropdown;\n",
       "    var format = format_dropdown.options[format_dropdown.selectedIndex].value;\n",
       "    fig.ondownload(fig, format);\n",
       "};\n",
       "\n",
       "mpl.figure.prototype.handle_resize = function (fig, msg) {\n",
       "    var size = msg['size'];\n",
       "    if (size[0] !== fig.canvas.width || size[1] !== fig.canvas.height) {\n",
       "        fig._resize_canvas(size[0], size[1], msg['forward']);\n",
       "        fig.send_message('refresh', {});\n",
       "    }\n",
       "};\n",
       "\n",
       "mpl.figure.prototype.handle_rubberband = function (fig, msg) {\n",
       "    var x0 = msg['x0'] / fig.ratio;\n",
       "    var y0 = (fig.canvas.height - msg['y0']) / fig.ratio;\n",
       "    var x1 = msg['x1'] / fig.ratio;\n",
       "    var y1 = (fig.canvas.height - msg['y1']) / fig.ratio;\n",
       "    x0 = Math.floor(x0) + 0.5;\n",
       "    y0 = Math.floor(y0) + 0.5;\n",
       "    x1 = Math.floor(x1) + 0.5;\n",
       "    y1 = Math.floor(y1) + 0.5;\n",
       "    var min_x = Math.min(x0, x1);\n",
       "    var min_y = Math.min(y0, y1);\n",
       "    var width = Math.abs(x1 - x0);\n",
       "    var height = Math.abs(y1 - y0);\n",
       "\n",
       "    fig.rubberband_context.clearRect(\n",
       "        0,\n",
       "        0,\n",
       "        fig.canvas.width / fig.ratio,\n",
       "        fig.canvas.height / fig.ratio\n",
       "    );\n",
       "\n",
       "    fig.rubberband_context.strokeRect(min_x, min_y, width, height);\n",
       "};\n",
       "\n",
       "mpl.figure.prototype.handle_figure_label = function (fig, msg) {\n",
       "    // Updates the figure title.\n",
       "    fig.header.textContent = msg['label'];\n",
       "};\n",
       "\n",
       "mpl.figure.prototype.handle_cursor = function (fig, msg) {\n",
       "    fig.canvas_div.style.cursor = msg['cursor'];\n",
       "};\n",
       "\n",
       "mpl.figure.prototype.handle_message = function (fig, msg) {\n",
       "    fig.message.textContent = msg['message'];\n",
       "};\n",
       "\n",
       "mpl.figure.prototype.handle_draw = function (fig, _msg) {\n",
       "    // Request the server to send over a new figure.\n",
       "    fig.send_draw_message();\n",
       "};\n",
       "\n",
       "mpl.figure.prototype.handle_image_mode = function (fig, msg) {\n",
       "    fig.image_mode = msg['mode'];\n",
       "};\n",
       "\n",
       "mpl.figure.prototype.handle_history_buttons = function (fig, msg) {\n",
       "    for (var key in msg) {\n",
       "        if (!(key in fig.buttons)) {\n",
       "            continue;\n",
       "        }\n",
       "        fig.buttons[key].disabled = !msg[key];\n",
       "        fig.buttons[key].setAttribute('aria-disabled', !msg[key]);\n",
       "    }\n",
       "};\n",
       "\n",
       "mpl.figure.prototype.handle_navigate_mode = function (fig, msg) {\n",
       "    if (msg['mode'] === 'PAN') {\n",
       "        fig.buttons['Pan'].classList.add('active');\n",
       "        fig.buttons['Zoom'].classList.remove('active');\n",
       "    } else if (msg['mode'] === 'ZOOM') {\n",
       "        fig.buttons['Pan'].classList.remove('active');\n",
       "        fig.buttons['Zoom'].classList.add('active');\n",
       "    } else {\n",
       "        fig.buttons['Pan'].classList.remove('active');\n",
       "        fig.buttons['Zoom'].classList.remove('active');\n",
       "    }\n",
       "};\n",
       "\n",
       "mpl.figure.prototype.updated_canvas_event = function () {\n",
       "    // Called whenever the canvas gets updated.\n",
       "    this.send_message('ack', {});\n",
       "};\n",
       "\n",
       "// A function to construct a web socket function for onmessage handling.\n",
       "// Called in the figure constructor.\n",
       "mpl.figure.prototype._make_on_message_function = function (fig) {\n",
       "    return function socket_on_message(evt) {\n",
       "        if (evt.data instanceof Blob) {\n",
       "            var img = evt.data;\n",
       "            if (img.type !== 'image/png') {\n",
       "                /* FIXME: We get \"Resource interpreted as Image but\n",
       "                 * transferred with MIME type text/plain:\" errors on\n",
       "                 * Chrome.  But how to set the MIME type?  It doesn't seem\n",
       "                 * to be part of the websocket stream */\n",
       "                img.type = 'image/png';\n",
       "            }\n",
       "\n",
       "            /* Free the memory for the previous frames */\n",
       "            if (fig.imageObj.src) {\n",
       "                (window.URL || window.webkitURL).revokeObjectURL(\n",
       "                    fig.imageObj.src\n",
       "                );\n",
       "            }\n",
       "\n",
       "            fig.imageObj.src = (window.URL || window.webkitURL).createObjectURL(\n",
       "                img\n",
       "            );\n",
       "            fig.updated_canvas_event();\n",
       "            fig.waiting = false;\n",
       "            return;\n",
       "        } else if (\n",
       "            typeof evt.data === 'string' &&\n",
       "            evt.data.slice(0, 21) === 'data:image/png;base64'\n",
       "        ) {\n",
       "            fig.imageObj.src = evt.data;\n",
       "            fig.updated_canvas_event();\n",
       "            fig.waiting = false;\n",
       "            return;\n",
       "        }\n",
       "\n",
       "        var msg = JSON.parse(evt.data);\n",
       "        var msg_type = msg['type'];\n",
       "\n",
       "        // Call the  \"handle_{type}\" callback, which takes\n",
       "        // the figure and JSON message as its only arguments.\n",
       "        try {\n",
       "            var callback = fig['handle_' + msg_type];\n",
       "        } catch (e) {\n",
       "            console.log(\n",
       "                \"No handler for the '\" + msg_type + \"' message type: \",\n",
       "                msg\n",
       "            );\n",
       "            return;\n",
       "        }\n",
       "\n",
       "        if (callback) {\n",
       "            try {\n",
       "                // console.log(\"Handling '\" + msg_type + \"' message: \", msg);\n",
       "                callback(fig, msg);\n",
       "            } catch (e) {\n",
       "                console.log(\n",
       "                    \"Exception inside the 'handler_\" + msg_type + \"' callback:\",\n",
       "                    e,\n",
       "                    e.stack,\n",
       "                    msg\n",
       "                );\n",
       "            }\n",
       "        }\n",
       "    };\n",
       "};\n",
       "\n",
       "function getModifiers(event) {\n",
       "    var mods = [];\n",
       "    if (event.ctrlKey) {\n",
       "        mods.push('ctrl');\n",
       "    }\n",
       "    if (event.altKey) {\n",
       "        mods.push('alt');\n",
       "    }\n",
       "    if (event.shiftKey) {\n",
       "        mods.push('shift');\n",
       "    }\n",
       "    if (event.metaKey) {\n",
       "        mods.push('meta');\n",
       "    }\n",
       "    return mods;\n",
       "}\n",
       "\n",
       "/*\n",
       " * return a copy of an object with only non-object keys\n",
       " * we need this to avoid circular references\n",
       " * https://stackoverflow.com/a/24161582/3208463\n",
       " */\n",
       "function simpleKeys(original) {\n",
       "    return Object.keys(original).reduce(function (obj, key) {\n",
       "        if (typeof original[key] !== 'object') {\n",
       "            obj[key] = original[key];\n",
       "        }\n",
       "        return obj;\n",
       "    }, {});\n",
       "}\n",
       "\n",
       "mpl.figure.prototype.mouse_event = function (event, name) {\n",
       "    if (name === 'button_press') {\n",
       "        this.canvas.focus();\n",
       "        this.canvas_div.focus();\n",
       "    }\n",
       "\n",
       "    // from https://stackoverflow.com/q/1114465\n",
       "    var boundingRect = this.canvas.getBoundingClientRect();\n",
       "    var x = (event.clientX - boundingRect.left) * this.ratio;\n",
       "    var y = (event.clientY - boundingRect.top) * this.ratio;\n",
       "\n",
       "    this.send_message(name, {\n",
       "        x: x,\n",
       "        y: y,\n",
       "        button: event.button,\n",
       "        step: event.step,\n",
       "        modifiers: getModifiers(event),\n",
       "        guiEvent: simpleKeys(event),\n",
       "    });\n",
       "\n",
       "    return false;\n",
       "};\n",
       "\n",
       "mpl.figure.prototype._key_event_extra = function (_event, _name) {\n",
       "    // Handle any extra behaviour associated with a key event\n",
       "};\n",
       "\n",
       "mpl.figure.prototype.key_event = function (event, name) {\n",
       "    // Prevent repeat events\n",
       "    if (name === 'key_press') {\n",
       "        if (event.key === this._key) {\n",
       "            return;\n",
       "        } else {\n",
       "            this._key = event.key;\n",
       "        }\n",
       "    }\n",
       "    if (name === 'key_release') {\n",
       "        this._key = null;\n",
       "    }\n",
       "\n",
       "    var value = '';\n",
       "    if (event.ctrlKey && event.key !== 'Control') {\n",
       "        value += 'ctrl+';\n",
       "    }\n",
       "    else if (event.altKey && event.key !== 'Alt') {\n",
       "        value += 'alt+';\n",
       "    }\n",
       "    else if (event.shiftKey && event.key !== 'Shift') {\n",
       "        value += 'shift+';\n",
       "    }\n",
       "\n",
       "    value += 'k' + event.key;\n",
       "\n",
       "    this._key_event_extra(event, name);\n",
       "\n",
       "    this.send_message(name, { key: value, guiEvent: simpleKeys(event) });\n",
       "    return false;\n",
       "};\n",
       "\n",
       "mpl.figure.prototype.toolbar_button_onclick = function (name) {\n",
       "    if (name === 'download') {\n",
       "        this.handle_save(this, null);\n",
       "    } else {\n",
       "        this.send_message('toolbar_button', { name: name });\n",
       "    }\n",
       "};\n",
       "\n",
       "mpl.figure.prototype.toolbar_button_onmouseover = function (tooltip) {\n",
       "    this.message.textContent = tooltip;\n",
       "};\n",
       "\n",
       "///////////////// REMAINING CONTENT GENERATED BY embed_js.py /////////////////\n",
       "// prettier-ignore\n",
       "var _JSXTOOLS_RESIZE_OBSERVER=function(A){var t,i=new WeakMap,n=new WeakMap,a=new WeakMap,r=new WeakMap,o=new Set;function s(e){if(!(this instanceof s))throw new TypeError(\"Constructor requires 'new' operator\");i.set(this,e)}function h(){throw new TypeError(\"Function is not a constructor\")}function c(e,t,i,n){e=0 in arguments?Number(arguments[0]):0,t=1 in arguments?Number(arguments[1]):0,i=2 in arguments?Number(arguments[2]):0,n=3 in arguments?Number(arguments[3]):0,this.right=(this.x=this.left=e)+(this.width=i),this.bottom=(this.y=this.top=t)+(this.height=n),Object.freeze(this)}function d(){t=requestAnimationFrame(d);var s=new WeakMap,p=new Set;o.forEach((function(t){r.get(t).forEach((function(i){var r=t instanceof window.SVGElement,o=a.get(t),d=r?0:parseFloat(o.paddingTop),f=r?0:parseFloat(o.paddingRight),l=r?0:parseFloat(o.paddingBottom),u=r?0:parseFloat(o.paddingLeft),g=r?0:parseFloat(o.borderTopWidth),m=r?0:parseFloat(o.borderRightWidth),w=r?0:parseFloat(o.borderBottomWidth),b=u+f,F=d+l,v=(r?0:parseFloat(o.borderLeftWidth))+m,W=g+w,y=r?0:t.offsetHeight-W-t.clientHeight,E=r?0:t.offsetWidth-v-t.clientWidth,R=b+v,z=F+W,M=r?t.width:parseFloat(o.width)-R-E,O=r?t.height:parseFloat(o.height)-z-y;if(n.has(t)){var k=n.get(t);if(k[0]===M&&k[1]===O)return}n.set(t,[M,O]);var S=Object.create(h.prototype);S.target=t,S.contentRect=new c(u,d,M,O),s.has(i)||(s.set(i,[]),p.add(i)),s.get(i).push(S)}))})),p.forEach((function(e){i.get(e).call(e,s.get(e),e)}))}return s.prototype.observe=function(i){if(i instanceof window.Element){r.has(i)||(r.set(i,new Set),o.add(i),a.set(i,window.getComputedStyle(i)));var n=r.get(i);n.has(this)||n.add(this),cancelAnimationFrame(t),t=requestAnimationFrame(d)}},s.prototype.unobserve=function(i){if(i instanceof window.Element&&r.has(i)){var n=r.get(i);n.has(this)&&(n.delete(this),n.size||(r.delete(i),o.delete(i))),n.size||r.delete(i),o.size||cancelAnimationFrame(t)}},A.DOMRectReadOnly=c,A.ResizeObserver=s,A.ResizeObserverEntry=h,A}; // eslint-disable-line\n",
       "mpl.toolbar_items = [[\"Home\", \"Reset original view\", \"fa fa-home\", \"home\"], [\"Back\", \"Back to previous view\", \"fa fa-arrow-left\", \"back\"], [\"Forward\", \"Forward to next view\", \"fa fa-arrow-right\", \"forward\"], [\"\", \"\", \"\", \"\"], [\"Pan\", \"Left button pans, Right button zooms\\nx/y fixes axis, CTRL fixes aspect\", \"fa fa-arrows\", \"pan\"], [\"Zoom\", \"Zoom to rectangle\\nx/y fixes axis\", \"fa fa-square-o\", \"zoom\"], [\"\", \"\", \"\", \"\"], [\"Download\", \"Download plot\", \"fa fa-floppy-o\", \"download\"]];\n",
       "\n",
       "mpl.extensions = [\"eps\", \"jpeg\", \"pgf\", \"pdf\", \"png\", \"ps\", \"raw\", \"svg\", \"tif\", \"webp\"];\n",
       "\n",
       "mpl.default_extension = \"png\";/* global mpl */\n",
       "\n",
       "var comm_websocket_adapter = function (comm) {\n",
       "    // Create a \"websocket\"-like object which calls the given IPython comm\n",
       "    // object with the appropriate methods. Currently this is a non binary\n",
       "    // socket, so there is still some room for performance tuning.\n",
       "    var ws = {};\n",
       "\n",
       "    ws.binaryType = comm.kernel.ws.binaryType;\n",
       "    ws.readyState = comm.kernel.ws.readyState;\n",
       "    function updateReadyState(_event) {\n",
       "        if (comm.kernel.ws) {\n",
       "            ws.readyState = comm.kernel.ws.readyState;\n",
       "        } else {\n",
       "            ws.readyState = 3; // Closed state.\n",
       "        }\n",
       "    }\n",
       "    comm.kernel.ws.addEventListener('open', updateReadyState);\n",
       "    comm.kernel.ws.addEventListener('close', updateReadyState);\n",
       "    comm.kernel.ws.addEventListener('error', updateReadyState);\n",
       "\n",
       "    ws.close = function () {\n",
       "        comm.close();\n",
       "    };\n",
       "    ws.send = function (m) {\n",
       "        //console.log('sending', m);\n",
       "        comm.send(m);\n",
       "    };\n",
       "    // Register the callback with on_msg.\n",
       "    comm.on_msg(function (msg) {\n",
       "        //console.log('receiving', msg['content']['data'], msg);\n",
       "        var data = msg['content']['data'];\n",
       "        if (data['blob'] !== undefined) {\n",
       "            data = {\n",
       "                data: new Blob(msg['buffers'], { type: data['blob'] }),\n",
       "            };\n",
       "        }\n",
       "        // Pass the mpl event to the overridden (by mpl) onmessage function.\n",
       "        ws.onmessage(data);\n",
       "    });\n",
       "    return ws;\n",
       "};\n",
       "\n",
       "mpl.mpl_figure_comm = function (comm, msg) {\n",
       "    // This is the function which gets called when the mpl process\n",
       "    // starts-up an IPython Comm through the \"matplotlib\" channel.\n",
       "\n",
       "    var id = msg.content.data.id;\n",
       "    // Get hold of the div created by the display call when the Comm\n",
       "    // socket was opened in Python.\n",
       "    var element = document.getElementById(id);\n",
       "    var ws_proxy = comm_websocket_adapter(comm);\n",
       "\n",
       "    function ondownload(figure, _format) {\n",
       "        window.open(figure.canvas.toDataURL());\n",
       "    }\n",
       "\n",
       "    var fig = new mpl.figure(id, ws_proxy, ondownload, element);\n",
       "\n",
       "    // Call onopen now - mpl needs it, as it is assuming we've passed it a real\n",
       "    // web socket which is closed, not our websocket->open comm proxy.\n",
       "    ws_proxy.onopen();\n",
       "\n",
       "    fig.parent_element = element;\n",
       "    fig.cell_info = mpl.find_output_cell(\"<div id='\" + id + \"'></div>\");\n",
       "    if (!fig.cell_info) {\n",
       "        console.error('Failed to find cell for figure', id, fig);\n",
       "        return;\n",
       "    }\n",
       "    fig.cell_info[0].output_area.element.on(\n",
       "        'cleared',\n",
       "        { fig: fig },\n",
       "        fig._remove_fig_handler\n",
       "    );\n",
       "};\n",
       "\n",
       "mpl.figure.prototype.handle_close = function (fig, msg) {\n",
       "    var width = fig.canvas.width / fig.ratio;\n",
       "    fig.cell_info[0].output_area.element.off(\n",
       "        'cleared',\n",
       "        fig._remove_fig_handler\n",
       "    );\n",
       "    fig.resizeObserverInstance.unobserve(fig.canvas_div);\n",
       "\n",
       "    // Update the output cell to use the data from the current canvas.\n",
       "    fig.push_to_output();\n",
       "    var dataURL = fig.canvas.toDataURL();\n",
       "    // Re-enable the keyboard manager in IPython - without this line, in FF,\n",
       "    // the notebook keyboard shortcuts fail.\n",
       "    IPython.keyboard_manager.enable();\n",
       "    fig.parent_element.innerHTML =\n",
       "        '<img src=\"' + dataURL + '\" width=\"' + width + '\">';\n",
       "    fig.close_ws(fig, msg);\n",
       "};\n",
       "\n",
       "mpl.figure.prototype.close_ws = function (fig, msg) {\n",
       "    fig.send_message('closing', msg);\n",
       "    // fig.ws.close()\n",
       "};\n",
       "\n",
       "mpl.figure.prototype.push_to_output = function (_remove_interactive) {\n",
       "    // Turn the data on the canvas into data in the output cell.\n",
       "    var width = this.canvas.width / this.ratio;\n",
       "    var dataURL = this.canvas.toDataURL();\n",
       "    this.cell_info[1]['text/html'] =\n",
       "        '<img src=\"' + dataURL + '\" width=\"' + width + '\">';\n",
       "};\n",
       "\n",
       "mpl.figure.prototype.updated_canvas_event = function () {\n",
       "    // Tell IPython that the notebook contents must change.\n",
       "    IPython.notebook.set_dirty(true);\n",
       "    this.send_message('ack', {});\n",
       "    var fig = this;\n",
       "    // Wait a second, then push the new image to the DOM so\n",
       "    // that it is saved nicely (might be nice to debounce this).\n",
       "    setTimeout(function () {\n",
       "        fig.push_to_output();\n",
       "    }, 1000);\n",
       "};\n",
       "\n",
       "mpl.figure.prototype._init_toolbar = function () {\n",
       "    var fig = this;\n",
       "\n",
       "    var toolbar = document.createElement('div');\n",
       "    toolbar.classList = 'btn-toolbar';\n",
       "    this.root.appendChild(toolbar);\n",
       "\n",
       "    function on_click_closure(name) {\n",
       "        return function (_event) {\n",
       "            return fig.toolbar_button_onclick(name);\n",
       "        };\n",
       "    }\n",
       "\n",
       "    function on_mouseover_closure(tooltip) {\n",
       "        return function (event) {\n",
       "            if (!event.currentTarget.disabled) {\n",
       "                return fig.toolbar_button_onmouseover(tooltip);\n",
       "            }\n",
       "        };\n",
       "    }\n",
       "\n",
       "    fig.buttons = {};\n",
       "    var buttonGroup = document.createElement('div');\n",
       "    buttonGroup.classList = 'btn-group';\n",
       "    var button;\n",
       "    for (var toolbar_ind in mpl.toolbar_items) {\n",
       "        var name = mpl.toolbar_items[toolbar_ind][0];\n",
       "        var tooltip = mpl.toolbar_items[toolbar_ind][1];\n",
       "        var image = mpl.toolbar_items[toolbar_ind][2];\n",
       "        var method_name = mpl.toolbar_items[toolbar_ind][3];\n",
       "\n",
       "        if (!name) {\n",
       "            /* Instead of a spacer, we start a new button group. */\n",
       "            if (buttonGroup.hasChildNodes()) {\n",
       "                toolbar.appendChild(buttonGroup);\n",
       "            }\n",
       "            buttonGroup = document.createElement('div');\n",
       "            buttonGroup.classList = 'btn-group';\n",
       "            continue;\n",
       "        }\n",
       "\n",
       "        button = fig.buttons[name] = document.createElement('button');\n",
       "        button.classList = 'btn btn-default';\n",
       "        button.href = '#';\n",
       "        button.title = name;\n",
       "        button.innerHTML = '<i class=\"fa ' + image + ' fa-lg\"></i>';\n",
       "        button.addEventListener('click', on_click_closure(method_name));\n",
       "        button.addEventListener('mouseover', on_mouseover_closure(tooltip));\n",
       "        buttonGroup.appendChild(button);\n",
       "    }\n",
       "\n",
       "    if (buttonGroup.hasChildNodes()) {\n",
       "        toolbar.appendChild(buttonGroup);\n",
       "    }\n",
       "\n",
       "    // Add the status bar.\n",
       "    var status_bar = document.createElement('span');\n",
       "    status_bar.classList = 'mpl-message pull-right';\n",
       "    toolbar.appendChild(status_bar);\n",
       "    this.message = status_bar;\n",
       "\n",
       "    // Add the close button to the window.\n",
       "    var buttongrp = document.createElement('div');\n",
       "    buttongrp.classList = 'btn-group inline pull-right';\n",
       "    button = document.createElement('button');\n",
       "    button.classList = 'btn btn-mini btn-primary';\n",
       "    button.href = '#';\n",
       "    button.title = 'Stop Interaction';\n",
       "    button.innerHTML = '<i class=\"fa fa-power-off icon-remove icon-large\"></i>';\n",
       "    button.addEventListener('click', function (_evt) {\n",
       "        fig.handle_close(fig, {});\n",
       "    });\n",
       "    button.addEventListener(\n",
       "        'mouseover',\n",
       "        on_mouseover_closure('Stop Interaction')\n",
       "    );\n",
       "    buttongrp.appendChild(button);\n",
       "    var titlebar = this.root.querySelector('.ui-dialog-titlebar');\n",
       "    titlebar.insertBefore(buttongrp, titlebar.firstChild);\n",
       "};\n",
       "\n",
       "mpl.figure.prototype._remove_fig_handler = function (event) {\n",
       "    var fig = event.data.fig;\n",
       "    if (event.target !== this) {\n",
       "        // Ignore bubbled events from children.\n",
       "        return;\n",
       "    }\n",
       "    fig.close_ws(fig, {});\n",
       "};\n",
       "\n",
       "mpl.figure.prototype._root_extra_style = function (el) {\n",
       "    el.style.boxSizing = 'content-box'; // override notebook setting of border-box.\n",
       "};\n",
       "\n",
       "mpl.figure.prototype._canvas_extra_style = function (el) {\n",
       "    // this is important to make the div 'focusable\n",
       "    el.setAttribute('tabindex', 0);\n",
       "    // reach out to IPython and tell the keyboard manager to turn it's self\n",
       "    // off when our div gets focus\n",
       "\n",
       "    // location in version 3\n",
       "    if (IPython.notebook.keyboard_manager) {\n",
       "        IPython.notebook.keyboard_manager.register_events(el);\n",
       "    } else {\n",
       "        // location in version 2\n",
       "        IPython.keyboard_manager.register_events(el);\n",
       "    }\n",
       "};\n",
       "\n",
       "mpl.figure.prototype._key_event_extra = function (event, _name) {\n",
       "    // Check for shift+enter\n",
       "    if (event.shiftKey && event.which === 13) {\n",
       "        this.canvas_div.blur();\n",
       "        // select the cell after this one\n",
       "        var index = IPython.notebook.find_cell_index(this.cell_info[0]);\n",
       "        IPython.notebook.select(index + 1);\n",
       "    }\n",
       "};\n",
       "\n",
       "mpl.figure.prototype.handle_save = function (fig, _msg) {\n",
       "    fig.ondownload(fig, null);\n",
       "};\n",
       "\n",
       "mpl.find_output_cell = function (html_output) {\n",
       "    // Return the cell and output element which can be found *uniquely* in the notebook.\n",
       "    // Note - this is a bit hacky, but it is done because the \"notebook_saving.Notebook\"\n",
       "    // IPython event is triggered only after the cells have been serialised, which for\n",
       "    // our purposes (turning an active figure into a static one), is too late.\n",
       "    var cells = IPython.notebook.get_cells();\n",
       "    var ncells = cells.length;\n",
       "    for (var i = 0; i < ncells; i++) {\n",
       "        var cell = cells[i];\n",
       "        if (cell.cell_type === 'code') {\n",
       "            for (var j = 0; j < cell.output_area.outputs.length; j++) {\n",
       "                var data = cell.output_area.outputs[j];\n",
       "                if (data.data) {\n",
       "                    // IPython >= 3 moved mimebundle to data attribute of output\n",
       "                    data = data.data;\n",
       "                }\n",
       "                if (data['text/html'] === html_output) {\n",
       "                    return [cell, data, j];\n",
       "                }\n",
       "            }\n",
       "        }\n",
       "    }\n",
       "};\n",
       "\n",
       "// Register the function which deals with the matplotlib target/channel.\n",
       "// The kernel may be null if the page has been refreshed.\n",
       "if (IPython.notebook.kernel !== null) {\n",
       "    IPython.notebook.kernel.comm_manager.register_target(\n",
       "        'matplotlib',\n",
       "        mpl.mpl_figure_comm\n",
       "    );\n",
       "}\n"
      ],
      "text/plain": [
       "<IPython.core.display.Javascript object>"
      ]
     },
     "metadata": {},
     "output_type": "display_data"
    },
    {
     "data": {
      "text/html": [
       "<img src=\"data:image/png;base64,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\" width=\"639.85\">"
      ],
      "text/plain": [
       "<IPython.core.display.HTML object>"
      ]
     },
     "metadata": {},
     "output_type": "display_data"
    }
   ],
   "source": [
    "%matplotlib notebook\n",
    "import matplotlib.pylab as plt\n",
    "plt.figure()\n",
    "plt.plot(trace2,\"r\")\n",
    "plt.show()"
   ]
  },
  {
   "cell_type": "markdown",
   "id": "a49c7330",
   "metadata": {},
   "source": [
    "***Two power traces look same. We can compliment TVLA if needed.***"
   ]
  },
  {
   "cell_type": "markdown",
   "id": "0d70ea32",
   "metadata": {},
   "source": [
    "***now let us look into countermeasure to see whether FA can hit the address***"
   ]
  },
  {
   "cell_type": "code",
   "execution_count": null,
   "id": "b50de735",
   "metadata": {},
   "outputs": [],
   "source": []
  },
  {
   "cell_type": "code",
   "execution_count": 1101,
   "id": "702f793a",
   "metadata": {},
   "outputs": [],
   "source": [
    "scope.glitch.clk_src = \"clkgen\"\n",
    "scope.glitch.trigger_src = \"ext_single\" # glitch only after scope.arm() called\n",
    "scope.glitch.output = \"clock_xor\" # glitch_out = clk ^ glitch\n",
    "\n",
    "scope.io.hs2 = \"glitch\"\n",
    "# scope.glitch.ext_offset = 8\n",
    "# scope.glitch.offset = 5\n",
    "# scope.glitch.width = 20\n",
    "scope.glitch.repeat = 10"
   ]
  },
  {
   "cell_type": "code",
   "execution_count": 1151,
   "id": "ba60bbfb",
   "metadata": {},
   "outputs": [],
   "source": [
    "scope.arm()\n",
    "msg = bytearray([3]*32) \n",
    "target.simpleserial_write('f', msg)\n"
   ]
  },
  {
   "cell_type": "code",
   "execution_count": 1152,
   "id": "e1539445",
   "metadata": {},
   "outputs": [
    {
     "name": "stdout",
     "output_type": "stream",
     "text": [
      "{'valid': True, 'payload': bytearray(b'D\\xb3)\\xe96\\x19\\xb8\\xac'), 'full_response': 'r44B329E93619B8AC\\n', 'rv': 0}\n"
     ]
    }
   ],
   "source": [
    "# print(target.read(5000,1000))\n",
    "result = target.simpleserial_read_witherrors('r', 8, glitch_timeout=10)\n",
    "print(result)"
   ]
  },
  {
   "cell_type": "code",
   "execution_count": 1134,
   "id": "55dd4729",
   "metadata": {},
   "outputs": [
    {
     "ename": "AttributeError",
     "evalue": "'NoneType' object has no attribute 'hex'",
     "output_type": "error",
     "traceback": [
      "\u001b[0;31m---------------------------------------------------------------------------\u001b[0m",
      "\u001b[0;31mAttributeError\u001b[0m                            Traceback (most recent call last)",
      "Cell \u001b[0;32mIn[1134], line 1\u001b[0m\n\u001b[0;32m----> 1\u001b[0m payload \u001b[38;5;241m=\u001b[39m \u001b[43mresult\u001b[49m\u001b[43m[\u001b[49m\u001b[38;5;124;43m'\u001b[39;49m\u001b[38;5;124;43mpayload\u001b[39;49m\u001b[38;5;124;43m'\u001b[39;49m\u001b[43m]\u001b[49m\u001b[38;5;241;43m.\u001b[39;49m\u001b[43mhex\u001b[49m()\n\u001b[1;32m      2\u001b[0m \u001b[38;5;28mprint\u001b[39m(payload)\n",
      "\u001b[0;31mAttributeError\u001b[0m: 'NoneType' object has no attribute 'hex'"
     ]
    }
   ],
   "source": [
    "payload = result['payload'].hex()\n",
    "print(payload)"
   ]
  },
  {
   "cell_type": "code",
   "execution_count": 1157,
   "id": "1bc87881",
   "metadata": {},
   "outputs": [],
   "source": [
    "collections = { 'faulty': [], 'reset': [],'valid': []}"
   ]
  },
  {
   "cell_type": "code",
   "execution_count": 1160,
   "id": "b277e38d",
   "metadata": {},
   "outputs": [
    {
     "name": "stderr",
     "output_type": "stream",
     "text": [
      "(ChipWhisperer Glitch WARNING|File ChipWhispererGlitch.py:934) Negative offsets <-45 may result in double glitches!\n",
      "(ChipWhisperer Glitch WARNING|File ChipWhispererGlitch.py:759) Partial reconfiguration for width = 0 may not work\n",
      "(ChipWhisperer Glitch WARNING|File ChipWhispererGlitch.py:934) Negative offsets <-45 may result in double glitches!\n",
      "(ChipWhisperer Glitch WARNING|File ChipWhispererGlitch.py:759) Partial reconfiguration for width = 0 may not work\n",
      "(ChipWhisperer Glitch WARNING|File ChipWhispererGlitch.py:759) Partial reconfiguration for width = 0 may not work\n",
      "(ChipWhisperer Glitch WARNING|File ChipWhispererGlitch.py:759) Partial reconfiguration for width = 0 may not work\n",
      "(ChipWhisperer Glitch WARNING|File ChipWhispererGlitch.py:759) Partial reconfiguration for width = 0 may not work\n",
      "(ChipWhisperer Glitch WARNING|File ChipWhispererGlitch.py:759) Partial reconfiguration for width = 0 may not work\n",
      "(ChipWhisperer Glitch WARNING|File ChipWhispererGlitch.py:759) Partial reconfiguration for width = 0 may not work\n",
      "(ChipWhisperer Glitch WARNING|File ChipWhispererGlitch.py:759) Partial reconfiguration for width = 0 may not work\n",
      "(ChipWhisperer Glitch WARNING|File ChipWhispererGlitch.py:759) Partial reconfiguration for width = 0 may not work\n",
      "(ChipWhisperer Glitch WARNING|File ChipWhispererGlitch.py:759) Partial reconfiguration for width = 0 may not work\n",
      "(ChipWhisperer Glitch WARNING|File ChipWhispererGlitch.py:759) Partial reconfiguration for width = 0 may not work\n"
     ]
    },
    {
     "name": "stdout",
     "output_type": "stream",
     "text": [
      "Trigger still high!\n"
     ]
    },
    {
     "name": "stderr",
     "output_type": "stream",
     "text": [
      "(ChipWhisperer Glitch WARNING|File ChipWhispererGlitch.py:759) Partial reconfiguration for width = 0 may not work\n",
      "(ChipWhisperer Glitch WARNING|File ChipWhispererGlitch.py:759) Partial reconfiguration for width = 0 may not work\n",
      "(ChipWhisperer Glitch WARNING|File ChipWhispererGlitch.py:759) Partial reconfiguration for width = 0 may not work\n",
      "(ChipWhisperer Glitch WARNING|File ChipWhispererGlitch.py:759) Partial reconfiguration for width = 0 may not work\n",
      "(ChipWhisperer Glitch WARNING|File ChipWhispererGlitch.py:759) Partial reconfiguration for width = 0 may not work\n",
      "(ChipWhisperer Glitch WARNING|File ChipWhispererGlitch.py:759) Partial reconfiguration for width = 0 may not work\n"
     ]
    },
    {
     "name": "stdout",
     "output_type": "stream",
     "text": [
      "Trigger still high!\n",
      "Trigger still high!\n",
      "Trigger still high!\n",
      "Trigger still high!\n",
      "2 -16 10 0 f0010523942979a4\n",
      "Trigger still high!\n",
      "Trigger still high!\n"
     ]
    },
    {
     "name": "stderr",
     "output_type": "stream",
     "text": [
      "(ChipWhisperer Glitch WARNING|File ChipWhispererGlitch.py:759) Partial reconfiguration for width = 0 may not work\n"
     ]
    },
    {
     "name": "stdout",
     "output_type": "stream",
     "text": [
      "Trigger still high!\n",
      "Trigger still high!\n",
      "Trigger still high!\n",
      "Trigger still high!\n",
      "Trigger still high!\n",
      "Trigger still high!\n",
      "Trigger still high!\n"
     ]
    },
    {
     "name": "stderr",
     "output_type": "stream",
     "text": [
      "(ChipWhisperer Glitch WARNING|File ChipWhispererGlitch.py:759) Partial reconfiguration for width = 0 may not work\n"
     ]
    },
    {
     "name": "stdout",
     "output_type": "stream",
     "text": [
      "Trigger still high!\n",
      "Trigger still high!\n",
      "Trigger still high!\n",
      "Trigger still high!\n",
      "Trigger still high!\n",
      "Trigger still high!\n"
     ]
    },
    {
     "name": "stderr",
     "output_type": "stream",
     "text": [
      "(ChipWhisperer Glitch WARNING|File ChipWhispererGlitch.py:759) Partial reconfiguration for width = 0 may not work\n"
     ]
    },
    {
     "name": "stdout",
     "output_type": "stream",
     "text": [
      "Trigger still high!\n",
      "Trigger still high!\n",
      "Trigger still high!\n",
      "Trigger still high!\n",
      "2 -10 16 0 f0010523942979a4\n"
     ]
    },
    {
     "name": "stderr",
     "output_type": "stream",
     "text": [
      "(ChipWhisperer Glitch WARNING|File ChipWhispererGlitch.py:759) Partial reconfiguration for width = 0 may not work\n"
     ]
    },
    {
     "name": "stdout",
     "output_type": "stream",
     "text": [
      "Trigger still high!\n",
      "Trigger still high!\n",
      "Trigger still high!\n",
      "Trigger still high!\n",
      "Trigger still high!\n",
      "Trigger still high!\n"
     ]
    },
    {
     "name": "stderr",
     "output_type": "stream",
     "text": [
      "(ChipWhisperer Glitch WARNING|File ChipWhispererGlitch.py:759) Partial reconfiguration for width = 0 may not work\n"
     ]
    },
    {
     "name": "stdout",
     "output_type": "stream",
     "text": [
      "Trigger still high!\n",
      "Trigger still high!\n",
      "Trigger still high!\n",
      "Trigger still high!\n",
      "Trigger still high!\n"
     ]
    },
    {
     "name": "stderr",
     "output_type": "stream",
     "text": [
      "(ChipWhisperer Glitch WARNING|File ChipWhispererGlitch.py:759) Partial reconfiguration for width = 0 may not work\n"
     ]
    },
    {
     "name": "stdout",
     "output_type": "stream",
     "text": [
      "Trigger still high!\n",
      "Trigger still high!\n",
      "Trigger still high!\n",
      "Trigger still high!\n",
      "Trigger still high!\n",
      "Trigger still high!\n"
     ]
    },
    {
     "name": "stderr",
     "output_type": "stream",
     "text": [
      "(ChipWhisperer Glitch WARNING|File ChipWhispererGlitch.py:759) Partial reconfiguration for width = 0 may not work\n"
     ]
    },
    {
     "name": "stdout",
     "output_type": "stream",
     "text": [
      "Trigger still high!\n",
      "Trigger still high!\n",
      "Trigger still high!\n",
      "Trigger still high!\n",
      "Trigger still high!\n"
     ]
    },
    {
     "name": "stderr",
     "output_type": "stream",
     "text": [
      "(ChipWhisperer Glitch WARNING|File ChipWhispererGlitch.py:762) Partial reconfiguration for offset = 0 may not work\n",
      "(ChipWhisperer Glitch WARNING|File ChipWhispererGlitch.py:759) Partial reconfiguration for width = 0 may not work\n",
      "(ChipWhisperer Glitch WARNING|File ChipWhispererGlitch.py:762) Partial reconfiguration for offset = 0 may not work\n",
      "(ChipWhisperer Glitch WARNING|File ChipWhispererGlitch.py:762) Partial reconfiguration for offset = 0 may not work\n",
      "(ChipWhisperer Glitch WARNING|File ChipWhispererGlitch.py:762) Partial reconfiguration for offset = 0 may not work\n",
      "(ChipWhisperer Glitch WARNING|File ChipWhispererGlitch.py:762) Partial reconfiguration for offset = 0 may not work\n",
      "(ChipWhisperer Glitch WARNING|File ChipWhispererGlitch.py:762) Partial reconfiguration for offset = 0 may not work\n",
      "(ChipWhisperer Glitch WARNING|File ChipWhispererGlitch.py:762) Partial reconfiguration for offset = 0 may not work\n",
      "(ChipWhisperer Glitch WARNING|File ChipWhispererGlitch.py:762) Partial reconfiguration for offset = 0 may not work\n",
      "(ChipWhisperer Glitch WARNING|File ChipWhispererGlitch.py:762) Partial reconfiguration for offset = 0 may not work\n",
      "(ChipWhisperer Glitch WARNING|File ChipWhispererGlitch.py:762) Partial reconfiguration for offset = 0 may not work\n"
     ]
    },
    {
     "name": "stdout",
     "output_type": "stream",
     "text": [
      "Trigger still high!\n"
     ]
    },
    {
     "name": "stderr",
     "output_type": "stream",
     "text": [
      "(ChipWhisperer Glitch WARNING|File ChipWhispererGlitch.py:762) Partial reconfiguration for offset = 0 may not work\n",
      "(ChipWhisperer Glitch WARNING|File ChipWhispererGlitch.py:762) Partial reconfiguration for offset = 0 may not work\n"
     ]
    },
    {
     "name": "stdout",
     "output_type": "stream",
     "text": [
      "2 0 16 0 65b23533f4ea8673\n"
     ]
    },
    {
     "name": "stderr",
     "output_type": "stream",
     "text": [
      "(ChipWhisperer Glitch WARNING|File ChipWhispererGlitch.py:762) Partial reconfiguration for offset = 0 may not work\n",
      "(ChipWhisperer Glitch WARNING|File ChipWhispererGlitch.py:762) Partial reconfiguration for offset = 0 may not work\n",
      "(ChipWhisperer Glitch WARNING|File ChipWhispererGlitch.py:762) Partial reconfiguration for offset = 0 may not work\n",
      "(ChipWhisperer Glitch WARNING|File ChipWhispererGlitch.py:762) Partial reconfiguration for offset = 0 may not work\n"
     ]
    },
    {
     "name": "stdout",
     "output_type": "stream",
     "text": [
      "Trigger still high!\n"
     ]
    },
    {
     "name": "stderr",
     "output_type": "stream",
     "text": [
      "(ChipWhisperer Glitch WARNING|File ChipWhispererGlitch.py:762) Partial reconfiguration for offset = 0 may not work\n",
      "(ChipWhisperer Glitch WARNING|File ChipWhispererGlitch.py:762) Partial reconfiguration for offset = 0 may not work\n",
      "(ChipWhisperer Glitch WARNING|File ChipWhispererGlitch.py:762) Partial reconfiguration for offset = 0 may not work\n"
     ]
    },
    {
     "name": "stdout",
     "output_type": "stream",
     "text": [
      "Trigger still high!\n"
     ]
    },
    {
     "name": "stderr",
     "output_type": "stream",
     "text": [
      "(ChipWhisperer Glitch WARNING|File ChipWhispererGlitch.py:762) Partial reconfiguration for offset = 0 may not work\n"
     ]
    },
    {
     "name": "stdout",
     "output_type": "stream",
     "text": [
      "Trigger still high!\n"
     ]
    },
    {
     "name": "stderr",
     "output_type": "stream",
     "text": [
      "(ChipWhisperer Glitch WARNING|File ChipWhispererGlitch.py:762) Partial reconfiguration for offset = 0 may not work\n",
      "(ChipWhisperer Glitch WARNING|File ChipWhispererGlitch.py:762) Partial reconfiguration for offset = 0 may not work\n",
      "(ChipWhisperer Glitch WARNING|File ChipWhispererGlitch.py:762) Partial reconfiguration for offset = 0 may not work\n",
      "(ChipWhisperer Glitch WARNING|File ChipWhispererGlitch.py:762) Partial reconfiguration for offset = 0 may not work\n",
      "(ChipWhisperer Glitch WARNING|File ChipWhispererGlitch.py:762) Partial reconfiguration for offset = 0 may not work\n",
      "(ChipWhisperer Glitch WARNING|File ChipWhispererGlitch.py:759) Partial reconfiguration for width = 0 may not work\n"
     ]
    },
    {
     "name": "stdout",
     "output_type": "stream",
     "text": [
      "Trigger still high!\n",
      "Trigger still high!\n",
      "Trigger still high!\n",
      "Trigger still high!\n",
      "Trigger still high!\n",
      "Trigger still high!\n"
     ]
    },
    {
     "name": "stderr",
     "output_type": "stream",
     "text": [
      "(ChipWhisperer Glitch WARNING|File ChipWhispererGlitch.py:759) Partial reconfiguration for width = 0 may not work\n"
     ]
    },
    {
     "name": "stdout",
     "output_type": "stream",
     "text": [
      "Trigger still high!\n",
      "Trigger still high!\n",
      "Trigger still high!\n",
      "Trigger still high!\n",
      "Trigger still high!\n"
     ]
    },
    {
     "name": "stderr",
     "output_type": "stream",
     "text": [
      "(ChipWhisperer Glitch WARNING|File ChipWhispererGlitch.py:759) Partial reconfiguration for width = 0 may not work\n"
     ]
    },
    {
     "name": "stdout",
     "output_type": "stream",
     "text": [
      "Trigger still high!\n",
      "Trigger still high!\n",
      "Trigger still high!\n",
      "Trigger still high!\n"
     ]
    },
    {
     "name": "stderr",
     "output_type": "stream",
     "text": [
      "(ChipWhisperer Glitch WARNING|File ChipWhispererGlitch.py:759) Partial reconfiguration for width = 0 may not work\n"
     ]
    },
    {
     "name": "stdout",
     "output_type": "stream",
     "text": [
      "Trigger still high!\n",
      "Trigger still high!\n",
      "2 8 8 0 f0010523942979a4\n"
     ]
    },
    {
     "name": "stderr",
     "output_type": "stream",
     "text": [
      "(ChipWhisperer Glitch WARNING|File ChipWhispererGlitch.py:759) Partial reconfiguration for width = 0 may not work\n"
     ]
    },
    {
     "name": "stdout",
     "output_type": "stream",
     "text": [
      "Trigger still high!\n"
     ]
    },
    {
     "name": "stderr",
     "output_type": "stream",
     "text": [
      "(ChipWhisperer Glitch WARNING|File ChipWhispererGlitch.py:759) Partial reconfiguration for width = 0 may not work\n",
      "(ChipWhisperer Glitch WARNING|File ChipWhispererGlitch.py:759) Partial reconfiguration for width = 0 may not work\n"
     ]
    },
    {
     "name": "stdout",
     "output_type": "stream",
     "text": [
      "Trigger still high!\n"
     ]
    },
    {
     "name": "stderr",
     "output_type": "stream",
     "text": [
      "(ChipWhisperer Glitch WARNING|File ChipWhispererGlitch.py:759) Partial reconfiguration for width = 0 may not work\n",
      "(ChipWhisperer Glitch WARNING|File ChipWhispererGlitch.py:759) Partial reconfiguration for width = 0 may not work\n",
      "(ChipWhisperer Glitch WARNING|File ChipWhispererGlitch.py:759) Partial reconfiguration for width = 0 may not work\n",
      "(ChipWhisperer Glitch WARNING|File ChipWhispererGlitch.py:759) Partial reconfiguration for width = 0 may not work\n",
      "(ChipWhisperer Glitch WARNING|File ChipWhispererGlitch.py:759) Partial reconfiguration for width = 0 may not work\n",
      "(ChipWhisperer Glitch WARNING|File ChipWhispererGlitch.py:759) Partial reconfiguration for width = 0 may not work\n"
     ]
    },
    {
     "name": "stdout",
     "output_type": "stream",
     "text": [
      "Trigger still high!\n"
     ]
    },
    {
     "name": "stderr",
     "output_type": "stream",
     "text": [
      "(ChipWhisperer Glitch WARNING|File ChipWhispererGlitch.py:759) Partial reconfiguration for width = 0 may not work\n",
      "(ChipWhisperer Glitch WARNING|File ChipWhispererGlitch.py:759) Partial reconfiguration for width = 0 may not work\n",
      "(ChipWhisperer Glitch WARNING|File ChipWhispererGlitch.py:759) Partial reconfiguration for width = 0 may not work\n",
      "(ChipWhisperer Glitch WARNING|File ChipWhispererGlitch.py:759) Partial reconfiguration for width = 0 may not work\n",
      "(ChipWhisperer Glitch WARNING|File ChipWhispererGlitch.py:759) Partial reconfiguration for width = 0 may not work\n",
      "(ChipWhisperer Glitch WARNING|File ChipWhispererGlitch.py:759) Partial reconfiguration for width = 0 may not work\n",
      "(ChipWhisperer Glitch WARNING|File ChipWhispererGlitch.py:759) Partial reconfiguration for width = 0 may not work\n",
      "(ChipWhisperer Glitch WARNING|File ChipWhispererGlitch.py:759) Partial reconfiguration for width = 0 may not work\n",
      "(ChipWhisperer Glitch WARNING|File ChipWhispererGlitch.py:759) Partial reconfiguration for width = 0 may not work\n",
      "(ChipWhisperer Glitch WARNING|File ChipWhispererGlitch.py:759) Partial reconfiguration for width = 0 may not work\n",
      "(ChipWhisperer Glitch WARNING|File ChipWhispererGlitch.py:934) Negative offsets <-45 may result in double glitches!\n",
      "(ChipWhisperer Glitch WARNING|File ChipWhispererGlitch.py:759) Partial reconfiguration for width = 0 may not work\n"
     ]
    },
    {
     "name": "stdout",
     "output_type": "stream",
     "text": [
      "Trigger still high!\n"
     ]
    },
    {
     "name": "stderr",
     "output_type": "stream",
     "text": [
      "(ChipWhisperer Glitch WARNING|File ChipWhispererGlitch.py:934) Negative offsets <-45 may result in double glitches!\n",
      "(ChipWhisperer Glitch WARNING|File ChipWhispererGlitch.py:759) Partial reconfiguration for width = 0 may not work\n",
      "(ChipWhisperer Glitch WARNING|File ChipWhispererGlitch.py:759) Partial reconfiguration for width = 0 may not work\n",
      "(ChipWhisperer Glitch WARNING|File ChipWhispererGlitch.py:759) Partial reconfiguration for width = 0 may not work\n",
      "(ChipWhisperer Glitch WARNING|File ChipWhispererGlitch.py:759) Partial reconfiguration for width = 0 may not work\n"
     ]
    },
    {
     "name": "stdout",
     "output_type": "stream",
     "text": [
      "Trigger still high!\n"
     ]
    },
    {
     "name": "stderr",
     "output_type": "stream",
     "text": [
      "(ChipWhisperer Glitch WARNING|File ChipWhispererGlitch.py:759) Partial reconfiguration for width = 0 may not work\n",
      "(ChipWhisperer Glitch WARNING|File ChipWhispererGlitch.py:759) Partial reconfiguration for width = 0 may not work\n",
      "(ChipWhisperer Glitch WARNING|File ChipWhispererGlitch.py:759) Partial reconfiguration for width = 0 may not work\n",
      "(ChipWhisperer Glitch WARNING|File ChipWhispererGlitch.py:759) Partial reconfiguration for width = 0 may not work\n",
      "(ChipWhisperer Glitch WARNING|File ChipWhispererGlitch.py:759) Partial reconfiguration for width = 0 may not work\n",
      "(ChipWhisperer Glitch WARNING|File ChipWhispererGlitch.py:759) Partial reconfiguration for width = 0 may not work\n"
     ]
    },
    {
     "name": "stdout",
     "output_type": "stream",
     "text": [
      "3 -28 2 0 65b23533f4ea8673\n"
     ]
    },
    {
     "name": "stderr",
     "output_type": "stream",
     "text": [
      "(ChipWhisperer Glitch WARNING|File ChipWhispererGlitch.py:759) Partial reconfiguration for width = 0 may not work\n",
      "(ChipWhisperer Glitch WARNING|File ChipWhispererGlitch.py:759) Partial reconfiguration for width = 0 may not work\n",
      "(ChipWhisperer Glitch WARNING|File ChipWhispererGlitch.py:759) Partial reconfiguration for width = 0 may not work\n",
      "(ChipWhisperer Glitch WARNING|File ChipWhispererGlitch.py:759) Partial reconfiguration for width = 0 may not work\n",
      "(ChipWhisperer Glitch WARNING|File ChipWhispererGlitch.py:759) Partial reconfiguration for width = 0 may not work\n",
      "(ChipWhisperer Glitch WARNING|File ChipWhispererGlitch.py:759) Partial reconfiguration for width = 0 may not work\n"
     ]
    },
    {
     "name": "stdout",
     "output_type": "stream",
     "text": [
      "Trigger still high!\n",
      "Trigger still high!\n",
      "Trigger still high!\n",
      "Trigger still high!\n"
     ]
    },
    {
     "name": "stderr",
     "output_type": "stream",
     "text": [
      "(ChipWhisperer Glitch WARNING|File ChipWhispererGlitch.py:759) Partial reconfiguration for width = 0 may not work\n"
     ]
    },
    {
     "name": "stdout",
     "output_type": "stream",
     "text": [
      "Trigger still high!\n",
      "Trigger still high!\n",
      "Trigger still high!\n",
      "Trigger still high!\n",
      "Trigger still high!\n",
      "Trigger still high!\n"
     ]
    },
    {
     "name": "stderr",
     "output_type": "stream",
     "text": [
      "(ChipWhisperer Glitch WARNING|File ChipWhispererGlitch.py:759) Partial reconfiguration for width = 0 may not work\n"
     ]
    },
    {
     "name": "stdout",
     "output_type": "stream",
     "text": [
      "Trigger still high!\n",
      "Trigger still high!\n",
      "Trigger still high!\n",
      "Trigger still high!\n",
      "Trigger still high!\n"
     ]
    },
    {
     "name": "stderr",
     "output_type": "stream",
     "text": [
      "(ChipWhisperer Glitch WARNING|File ChipWhispererGlitch.py:759) Partial reconfiguration for width = 0 may not work\n"
     ]
    },
    {
     "name": "stdout",
     "output_type": "stream",
     "text": [
      "Trigger still high!\n",
      "Trigger still high!\n",
      "Trigger still high!\n",
      "Trigger still high!\n",
      "Trigger still high!\n"
     ]
    },
    {
     "name": "stderr",
     "output_type": "stream",
     "text": [
      "(ChipWhisperer Glitch WARNING|File ChipWhispererGlitch.py:759) Partial reconfiguration for width = 0 may not work\n"
     ]
    },
    {
     "name": "stdout",
     "output_type": "stream",
     "text": [
      "Trigger still high!\n",
      "Trigger still high!\n",
      "Trigger still high!\n",
      "Trigger still high!\n",
      "Trigger still high!\n"
     ]
    },
    {
     "name": "stderr",
     "output_type": "stream",
     "text": [
      "(ChipWhisperer Glitch WARNING|File ChipWhispererGlitch.py:759) Partial reconfiguration for width = 0 may not work\n"
     ]
    },
    {
     "name": "stdout",
     "output_type": "stream",
     "text": [
      "Trigger still high!\n",
      "Trigger still high!\n",
      "Trigger still high!\n",
      "Trigger still high!\n",
      "Trigger still high!\n"
     ]
    },
    {
     "name": "stderr",
     "output_type": "stream",
     "text": [
      "(ChipWhisperer Glitch WARNING|File ChipWhispererGlitch.py:759) Partial reconfiguration for width = 0 may not work\n"
     ]
    },
    {
     "name": "stdout",
     "output_type": "stream",
     "text": [
      "Trigger still high!\n",
      "Trigger still high!\n",
      "Trigger still high!\n",
      "Trigger still high!\n",
      "Trigger still high!\n",
      "Trigger still high!\n"
     ]
    },
    {
     "name": "stderr",
     "output_type": "stream",
     "text": [
      "(ChipWhisperer Glitch WARNING|File ChipWhispererGlitch.py:759) Partial reconfiguration for width = 0 may not work\n"
     ]
    },
    {
     "name": "stdout",
     "output_type": "stream",
     "text": [
      "3 -2 4 0 0000000000000000\n",
      "Trigger still high!\n",
      "Trigger still high!\n",
      "Trigger still high!\n",
      "Trigger still high!\n",
      "Trigger still high!\n"
     ]
    },
    {
     "name": "stderr",
     "output_type": "stream",
     "text": [
      "(ChipWhisperer Glitch WARNING|File ChipWhispererGlitch.py:762) Partial reconfiguration for offset = 0 may not work\n",
      "(ChipWhisperer Glitch WARNING|File ChipWhispererGlitch.py:759) Partial reconfiguration for width = 0 may not work\n",
      "(ChipWhisperer Glitch WARNING|File ChipWhispererGlitch.py:762) Partial reconfiguration for offset = 0 may not work\n",
      "(ChipWhisperer Glitch WARNING|File ChipWhispererGlitch.py:762) Partial reconfiguration for offset = 0 may not work\n",
      "(ChipWhisperer Glitch WARNING|File ChipWhispererGlitch.py:762) Partial reconfiguration for offset = 0 may not work\n"
     ]
    },
    {
     "name": "stdout",
     "output_type": "stream",
     "text": [
      "Trigger still high!\n"
     ]
    },
    {
     "name": "stderr",
     "output_type": "stream",
     "text": [
      "(ChipWhisperer Glitch WARNING|File ChipWhispererGlitch.py:762) Partial reconfiguration for offset = 0 may not work\n"
     ]
    },
    {
     "name": "stdout",
     "output_type": "stream",
     "text": [
      "Trigger still high!\n"
     ]
    },
    {
     "name": "stderr",
     "output_type": "stream",
     "text": [
      "(ChipWhisperer Glitch WARNING|File ChipWhispererGlitch.py:762) Partial reconfiguration for offset = 0 may not work\n",
      "(ChipWhisperer Glitch WARNING|File ChipWhispererGlitch.py:762) Partial reconfiguration for offset = 0 may not work\n",
      "(ChipWhisperer Glitch WARNING|File ChipWhispererGlitch.py:762) Partial reconfiguration for offset = 0 may not work\n",
      "(ChipWhisperer Glitch WARNING|File ChipWhispererGlitch.py:762) Partial reconfiguration for offset = 0 may not work\n",
      "(ChipWhisperer Glitch WARNING|File ChipWhispererGlitch.py:762) Partial reconfiguration for offset = 0 may not work\n",
      "(ChipWhisperer Glitch WARNING|File ChipWhispererGlitch.py:762) Partial reconfiguration for offset = 0 may not work\n",
      "(ChipWhisperer Glitch WARNING|File ChipWhispererGlitch.py:762) Partial reconfiguration for offset = 0 may not work\n"
     ]
    },
    {
     "name": "stdout",
     "output_type": "stream",
     "text": [
      "Trigger still high!\n"
     ]
    },
    {
     "name": "stderr",
     "output_type": "stream",
     "text": [
      "(ChipWhisperer Glitch WARNING|File ChipWhispererGlitch.py:762) Partial reconfiguration for offset = 0 may not work\n",
      "(ChipWhisperer Glitch WARNING|File ChipWhispererGlitch.py:762) Partial reconfiguration for offset = 0 may not work\n",
      "(ChipWhisperer Glitch WARNING|File ChipWhispererGlitch.py:762) Partial reconfiguration for offset = 0 may not work\n",
      "(ChipWhisperer Glitch WARNING|File ChipWhispererGlitch.py:762) Partial reconfiguration for offset = 0 may not work\n"
     ]
    },
    {
     "name": "stdout",
     "output_type": "stream",
     "text": [
      "Trigger still high!\n"
     ]
    },
    {
     "name": "stderr",
     "output_type": "stream",
     "text": [
      "(ChipWhisperer Glitch WARNING|File ChipWhispererGlitch.py:762) Partial reconfiguration for offset = 0 may not work\n"
     ]
    },
    {
     "name": "stdout",
     "output_type": "stream",
     "text": [
      "Trigger still high!\n"
     ]
    },
    {
     "name": "stderr",
     "output_type": "stream",
     "text": [
      "(ChipWhisperer Glitch WARNING|File ChipWhispererGlitch.py:762) Partial reconfiguration for offset = 0 may not work\n",
      "(ChipWhisperer Glitch WARNING|File ChipWhispererGlitch.py:762) Partial reconfiguration for offset = 0 may not work\n"
     ]
    },
    {
     "name": "stdout",
     "output_type": "stream",
     "text": [
      "Trigger still high!\n"
     ]
    },
    {
     "name": "stderr",
     "output_type": "stream",
     "text": [
      "(ChipWhisperer Glitch WARNING|File ChipWhispererGlitch.py:762) Partial reconfiguration for offset = 0 may not work\n",
      "(ChipWhisperer Glitch WARNING|File ChipWhispererGlitch.py:762) Partial reconfiguration for offset = 0 may not work\n",
      "(ChipWhisperer Glitch WARNING|File ChipWhispererGlitch.py:762) Partial reconfiguration for offset = 0 may not work\n",
      "(ChipWhisperer Glitch WARNING|File ChipWhispererGlitch.py:762) Partial reconfiguration for offset = 0 may not work\n",
      "(ChipWhisperer Glitch WARNING|File ChipWhispererGlitch.py:762) Partial reconfiguration for offset = 0 may not work\n",
      "(ChipWhisperer Glitch WARNING|File ChipWhispererGlitch.py:762) Partial reconfiguration for offset = 0 may not work\n",
      "(ChipWhisperer Glitch WARNING|File ChipWhispererGlitch.py:759) Partial reconfiguration for width = 0 may not work\n"
     ]
    },
    {
     "name": "stdout",
     "output_type": "stream",
     "text": [
      "Trigger still high!\n",
      "Trigger still high!\n",
      "Trigger still high!\n",
      "Trigger still high!\n",
      "Trigger still high!\n",
      "Trigger still high!\n"
     ]
    },
    {
     "name": "stderr",
     "output_type": "stream",
     "text": [
      "(ChipWhisperer Glitch WARNING|File ChipWhispererGlitch.py:759) Partial reconfiguration for width = 0 may not work\n"
     ]
    },
    {
     "name": "stdout",
     "output_type": "stream",
     "text": [
      "Trigger still high!\n",
      "Trigger still high!\n",
      "Trigger still high!\n",
      "Trigger still high!\n",
      "Trigger still high!\n"
     ]
    },
    {
     "name": "stderr",
     "output_type": "stream",
     "text": [
      "(ChipWhisperer Glitch WARNING|File ChipWhispererGlitch.py:759) Partial reconfiguration for width = 0 may not work\n"
     ]
    },
    {
     "name": "stdout",
     "output_type": "stream",
     "text": [
      "Trigger still high!\n",
      "Trigger still high!\n",
      "Trigger still high!\n"
     ]
    },
    {
     "name": "stderr",
     "output_type": "stream",
     "text": [
      "(ChipWhisperer Glitch WARNING|File ChipWhispererGlitch.py:759) Partial reconfiguration for width = 0 may not work\n"
     ]
    },
    {
     "name": "stdout",
     "output_type": "stream",
     "text": [
      "Trigger still high!\n",
      "Trigger still high!\n"
     ]
    },
    {
     "name": "stderr",
     "output_type": "stream",
     "text": [
      "(ChipWhisperer Glitch WARNING|File ChipWhispererGlitch.py:759) Partial reconfiguration for width = 0 may not work\n"
     ]
    },
    {
     "name": "stdout",
     "output_type": "stream",
     "text": [
      "Trigger still high!\n",
      "Trigger still high!\n"
     ]
    },
    {
     "name": "stderr",
     "output_type": "stream",
     "text": [
      "(ChipWhisperer Glitch WARNING|File ChipWhispererGlitch.py:759) Partial reconfiguration for width = 0 may not work\n",
      "(ChipWhisperer Glitch WARNING|File ChipWhispererGlitch.py:759) Partial reconfiguration for width = 0 may not work\n",
      "(ChipWhisperer Glitch WARNING|File ChipWhispererGlitch.py:759) Partial reconfiguration for width = 0 may not work\n",
      "(ChipWhisperer Glitch WARNING|File ChipWhispererGlitch.py:759) Partial reconfiguration for width = 0 may not work\n",
      "(ChipWhisperer Glitch WARNING|File ChipWhispererGlitch.py:759) Partial reconfiguration for width = 0 may not work\n",
      "(ChipWhisperer Glitch WARNING|File ChipWhispererGlitch.py:759) Partial reconfiguration for width = 0 may not work\n",
      "(ChipWhisperer Glitch WARNING|File ChipWhispererGlitch.py:759) Partial reconfiguration for width = 0 may not work\n",
      "(ChipWhisperer Glitch WARNING|File ChipWhispererGlitch.py:759) Partial reconfiguration for width = 0 may not work\n"
     ]
    },
    {
     "name": "stdout",
     "output_type": "stream",
     "text": [
      "Trigger still high!\n"
     ]
    },
    {
     "name": "stderr",
     "output_type": "stream",
     "text": [
      "(ChipWhisperer Glitch WARNING|File ChipWhispererGlitch.py:759) Partial reconfiguration for width = 0 may not work\n",
      "(ChipWhisperer Glitch WARNING|File ChipWhispererGlitch.py:759) Partial reconfiguration for width = 0 may not work\n",
      "(ChipWhisperer Glitch WARNING|File ChipWhispererGlitch.py:759) Partial reconfiguration for width = 0 may not work\n",
      "(ChipWhisperer Glitch WARNING|File ChipWhispererGlitch.py:759) Partial reconfiguration for width = 0 may not work\n",
      "(ChipWhisperer Glitch WARNING|File ChipWhispererGlitch.py:759) Partial reconfiguration for width = 0 may not work\n",
      "(ChipWhisperer Glitch WARNING|File ChipWhispererGlitch.py:759) Partial reconfiguration for width = 0 may not work\n",
      "(ChipWhisperer Glitch WARNING|File ChipWhispererGlitch.py:759) Partial reconfiguration for width = 0 may not work\n",
      "(ChipWhisperer Glitch WARNING|File ChipWhispererGlitch.py:759) Partial reconfiguration for width = 0 may not work\n",
      "(ChipWhisperer Glitch WARNING|File ChipWhispererGlitch.py:759) Partial reconfiguration for width = 0 may not work\n",
      "(ChipWhisperer Glitch WARNING|File ChipWhispererGlitch.py:759) Partial reconfiguration for width = 0 may not work\n",
      "(ChipWhisperer Glitch WARNING|File ChipWhispererGlitch.py:934) Negative offsets <-45 may result in double glitches!\n",
      "(ChipWhisperer Glitch WARNING|File ChipWhispererGlitch.py:759) Partial reconfiguration for width = 0 may not work\n"
     ]
    },
    {
     "name": "stdout",
     "output_type": "stream",
     "text": [
      "Trigger still high!\n"
     ]
    },
    {
     "name": "stderr",
     "output_type": "stream",
     "text": [
      "(ChipWhisperer Glitch WARNING|File ChipWhispererGlitch.py:934) Negative offsets <-45 may result in double glitches!\n",
      "(ChipWhisperer Glitch WARNING|File ChipWhispererGlitch.py:759) Partial reconfiguration for width = 0 may not work\n",
      "(ChipWhisperer Glitch WARNING|File ChipWhispererGlitch.py:759) Partial reconfiguration for width = 0 may not work\n",
      "(ChipWhisperer Glitch WARNING|File ChipWhispererGlitch.py:759) Partial reconfiguration for width = 0 may not work\n",
      "(ChipWhisperer Glitch WARNING|File ChipWhispererGlitch.py:759) Partial reconfiguration for width = 0 may not work\n"
     ]
    },
    {
     "name": "stdout",
     "output_type": "stream",
     "text": [
      "Trigger still high!\n"
     ]
    },
    {
     "name": "stderr",
     "output_type": "stream",
     "text": [
      "(ChipWhisperer Glitch WARNING|File ChipWhispererGlitch.py:759) Partial reconfiguration for width = 0 may not work\n",
      "(ChipWhisperer Glitch WARNING|File ChipWhispererGlitch.py:759) Partial reconfiguration for width = 0 may not work\n",
      "(ChipWhisperer Glitch WARNING|File ChipWhispererGlitch.py:759) Partial reconfiguration for width = 0 may not work\n",
      "(ChipWhisperer Glitch WARNING|File ChipWhispererGlitch.py:759) Partial reconfiguration for width = 0 may not work\n",
      "(ChipWhisperer Glitch WARNING|File ChipWhispererGlitch.py:759) Partial reconfiguration for width = 0 may not work\n",
      "(ChipWhisperer Glitch WARNING|File ChipWhispererGlitch.py:759) Partial reconfiguration for width = 0 may not work\n",
      "(ChipWhisperer Glitch WARNING|File ChipWhispererGlitch.py:759) Partial reconfiguration for width = 0 may not work\n"
     ]
    },
    {
     "name": "stdout",
     "output_type": "stream",
     "text": [
      "Trigger still high!\n"
     ]
    },
    {
     "name": "stderr",
     "output_type": "stream",
     "text": [
      "(ChipWhisperer Glitch WARNING|File ChipWhispererGlitch.py:759) Partial reconfiguration for width = 0 may not work\n",
      "(ChipWhisperer Glitch WARNING|File ChipWhispererGlitch.py:759) Partial reconfiguration for width = 0 may not work\n",
      "(ChipWhisperer Glitch WARNING|File ChipWhispererGlitch.py:759) Partial reconfiguration for width = 0 may not work\n",
      "(ChipWhisperer Glitch WARNING|File ChipWhispererGlitch.py:759) Partial reconfiguration for width = 0 may not work\n",
      "(ChipWhisperer Glitch WARNING|File ChipWhispererGlitch.py:759) Partial reconfiguration for width = 0 may not work\n",
      "(ChipWhisperer Glitch WARNING|File ChipWhispererGlitch.py:759) Partial reconfiguration for width = 0 may not work\n",
      "(ChipWhisperer Glitch WARNING|File ChipWhispererGlitch.py:759) Partial reconfiguration for width = 0 may not work\n"
     ]
    },
    {
     "name": "stdout",
     "output_type": "stream",
     "text": [
      "Trigger still high!\n",
      "Trigger still high!\n",
      "Trigger still high!\n"
     ]
    },
    {
     "name": "stderr",
     "output_type": "stream",
     "text": [
      "(ChipWhisperer Glitch WARNING|File ChipWhispererGlitch.py:759) Partial reconfiguration for width = 0 may not work\n"
     ]
    },
    {
     "name": "stdout",
     "output_type": "stream",
     "text": [
      "Trigger still high!\n",
      "Trigger still high!\n",
      "Trigger still high!\n"
     ]
    },
    {
     "name": "stderr",
     "output_type": "stream",
     "text": [
      "(ChipWhisperer Glitch WARNING|File ChipWhispererGlitch.py:759) Partial reconfiguration for width = 0 may not work\n"
     ]
    },
    {
     "name": "stdout",
     "output_type": "stream",
     "text": [
      "Trigger still high!\n",
      "Trigger still high!\n"
     ]
    },
    {
     "name": "stderr",
     "output_type": "stream",
     "text": [
      "(ChipWhisperer Glitch WARNING|File ChipWhispererGlitch.py:759) Partial reconfiguration for width = 0 may not work\n"
     ]
    },
    {
     "name": "stdout",
     "output_type": "stream",
     "text": [
      "Trigger still high!\n",
      "Trigger still high!\n",
      "Trigger still high!\n"
     ]
    },
    {
     "name": "stderr",
     "output_type": "stream",
     "text": [
      "(ChipWhisperer Glitch WARNING|File ChipWhispererGlitch.py:759) Partial reconfiguration for width = 0 may not work\n"
     ]
    },
    {
     "name": "stdout",
     "output_type": "stream",
     "text": [
      "Trigger still high!\n",
      "Trigger still high!\n",
      "Trigger still high!\n",
      "Trigger still high!\n"
     ]
    },
    {
     "name": "stderr",
     "output_type": "stream",
     "text": [
      "(ChipWhisperer Glitch WARNING|File ChipWhispererGlitch.py:759) Partial reconfiguration for width = 0 may not work\n"
     ]
    },
    {
     "name": "stdout",
     "output_type": "stream",
     "text": [
      "Trigger still high!\n",
      "Trigger still high!\n",
      "Trigger still high!\n",
      "Trigger still high!\n",
      "Trigger still high!\n",
      "Trigger still high!\n",
      "Trigger still high!\n",
      "Trigger still high!\n",
      "Trigger still high!\n"
     ]
    },
    {
     "name": "stderr",
     "output_type": "stream",
     "text": [
      "(ChipWhisperer Glitch WARNING|File ChipWhispererGlitch.py:762) Partial reconfiguration for offset = 0 may not work\n",
      "(ChipWhisperer Glitch WARNING|File ChipWhispererGlitch.py:759) Partial reconfiguration for width = 0 may not work\n",
      "(ChipWhisperer Glitch WARNING|File ChipWhispererGlitch.py:762) Partial reconfiguration for offset = 0 may not work\n",
      "(ChipWhisperer Glitch WARNING|File ChipWhispererGlitch.py:762) Partial reconfiguration for offset = 0 may not work\n",
      "(ChipWhisperer Glitch WARNING|File ChipWhispererGlitch.py:762) Partial reconfiguration for offset = 0 may not work\n",
      "(ChipWhisperer Glitch WARNING|File ChipWhispererGlitch.py:762) Partial reconfiguration for offset = 0 may not work\n",
      "(ChipWhisperer Glitch WARNING|File ChipWhispererGlitch.py:762) Partial reconfiguration for offset = 0 may not work\n",
      "(ChipWhisperer Glitch WARNING|File ChipWhispererGlitch.py:762) Partial reconfiguration for offset = 0 may not work\n",
      "(ChipWhisperer Glitch WARNING|File ChipWhispererGlitch.py:762) Partial reconfiguration for offset = 0 may not work\n",
      "(ChipWhisperer Glitch WARNING|File ChipWhispererGlitch.py:762) Partial reconfiguration for offset = 0 may not work\n",
      "(ChipWhisperer Glitch WARNING|File ChipWhispererGlitch.py:762) Partial reconfiguration for offset = 0 may not work\n",
      "(ChipWhisperer Glitch WARNING|File ChipWhispererGlitch.py:762) Partial reconfiguration for offset = 0 may not work\n",
      "(ChipWhisperer Glitch WARNING|File ChipWhispererGlitch.py:762) Partial reconfiguration for offset = 0 may not work\n",
      "(ChipWhisperer Glitch WARNING|File ChipWhispererGlitch.py:762) Partial reconfiguration for offset = 0 may not work\n",
      "(ChipWhisperer Glitch WARNING|File ChipWhispererGlitch.py:762) Partial reconfiguration for offset = 0 may not work\n",
      "(ChipWhisperer Glitch WARNING|File ChipWhispererGlitch.py:762) Partial reconfiguration for offset = 0 may not work\n",
      "(ChipWhisperer Glitch WARNING|File ChipWhispererGlitch.py:762) Partial reconfiguration for offset = 0 may not work\n",
      "(ChipWhisperer Glitch WARNING|File ChipWhispererGlitch.py:762) Partial reconfiguration for offset = 0 may not work\n",
      "(ChipWhisperer Glitch WARNING|File ChipWhispererGlitch.py:762) Partial reconfiguration for offset = 0 may not work\n",
      "(ChipWhisperer Glitch WARNING|File ChipWhispererGlitch.py:762) Partial reconfiguration for offset = 0 may not work\n",
      "(ChipWhisperer Glitch WARNING|File ChipWhispererGlitch.py:762) Partial reconfiguration for offset = 0 may not work\n",
      "(ChipWhisperer Glitch WARNING|File ChipWhispererGlitch.py:762) Partial reconfiguration for offset = 0 may not work\n",
      "(ChipWhisperer Glitch WARNING|File ChipWhispererGlitch.py:762) Partial reconfiguration for offset = 0 may not work\n",
      "(ChipWhisperer Glitch WARNING|File ChipWhispererGlitch.py:762) Partial reconfiguration for offset = 0 may not work\n",
      "(ChipWhisperer Glitch WARNING|File ChipWhispererGlitch.py:762) Partial reconfiguration for offset = 0 may not work\n",
      "(ChipWhisperer Glitch WARNING|File ChipWhispererGlitch.py:762) Partial reconfiguration for offset = 0 may not work\n"
     ]
    },
    {
     "name": "stdout",
     "output_type": "stream",
     "text": [
      "Trigger still high!\n"
     ]
    },
    {
     "name": "stderr",
     "output_type": "stream",
     "text": [
      "(ChipWhisperer Glitch WARNING|File ChipWhispererGlitch.py:759) Partial reconfiguration for width = 0 may not work\n"
     ]
    },
    {
     "name": "stdout",
     "output_type": "stream",
     "text": [
      "Trigger still high!\n",
      "Trigger still high!\n",
      "Trigger still high!\n",
      "Trigger still high!\n"
     ]
    },
    {
     "name": "stderr",
     "output_type": "stream",
     "text": [
      "(ChipWhisperer Glitch WARNING|File ChipWhispererGlitch.py:759) Partial reconfiguration for width = 0 may not work\n"
     ]
    },
    {
     "name": "stdout",
     "output_type": "stream",
     "text": [
      "Trigger still high!\n",
      "Trigger still high!\n",
      "Trigger still high!\n"
     ]
    },
    {
     "name": "stderr",
     "output_type": "stream",
     "text": [
      "(ChipWhisperer Glitch WARNING|File ChipWhispererGlitch.py:759) Partial reconfiguration for width = 0 may not work\n"
     ]
    },
    {
     "name": "stdout",
     "output_type": "stream",
     "text": [
      "Trigger still high!\n"
     ]
    },
    {
     "name": "stderr",
     "output_type": "stream",
     "text": [
      "(ChipWhisperer Glitch WARNING|File ChipWhispererGlitch.py:759) Partial reconfiguration for width = 0 may not work\n",
      "(ChipWhisperer Glitch WARNING|File ChipWhispererGlitch.py:759) Partial reconfiguration for width = 0 may not work\n",
      "(ChipWhisperer Glitch WARNING|File ChipWhispererGlitch.py:759) Partial reconfiguration for width = 0 may not work\n",
      "(ChipWhisperer Glitch WARNING|File ChipWhispererGlitch.py:759) Partial reconfiguration for width = 0 may not work\n",
      "(ChipWhisperer Glitch WARNING|File ChipWhispererGlitch.py:759) Partial reconfiguration for width = 0 may not work\n",
      "(ChipWhisperer Glitch WARNING|File ChipWhispererGlitch.py:759) Partial reconfiguration for width = 0 may not work\n",
      "(ChipWhisperer Glitch WARNING|File ChipWhispererGlitch.py:759) Partial reconfiguration for width = 0 may not work\n"
     ]
    },
    {
     "name": "stdout",
     "output_type": "stream",
     "text": [
      "Trigger still high!\n"
     ]
    },
    {
     "name": "stderr",
     "output_type": "stream",
     "text": [
      "(ChipWhisperer Glitch WARNING|File ChipWhispererGlitch.py:759) Partial reconfiguration for width = 0 may not work\n"
     ]
    },
    {
     "name": "stdout",
     "output_type": "stream",
     "text": [
      "Trigger still high!\n"
     ]
    },
    {
     "name": "stderr",
     "output_type": "stream",
     "text": [
      "(ChipWhisperer Glitch WARNING|File ChipWhispererGlitch.py:759) Partial reconfiguration for width = 0 may not work\n",
      "(ChipWhisperer Glitch WARNING|File ChipWhispererGlitch.py:759) Partial reconfiguration for width = 0 may not work\n",
      "(ChipWhisperer Glitch WARNING|File ChipWhispererGlitch.py:759) Partial reconfiguration for width = 0 may not work\n",
      "(ChipWhisperer Glitch WARNING|File ChipWhispererGlitch.py:759) Partial reconfiguration for width = 0 may not work\n",
      "(ChipWhisperer Glitch WARNING|File ChipWhispererGlitch.py:759) Partial reconfiguration for width = 0 may not work\n",
      "(ChipWhisperer Glitch WARNING|File ChipWhispererGlitch.py:759) Partial reconfiguration for width = 0 may not work\n",
      "(ChipWhisperer Glitch WARNING|File ChipWhispererGlitch.py:759) Partial reconfiguration for width = 0 may not work\n",
      "(ChipWhisperer Glitch WARNING|File ChipWhispererGlitch.py:759) Partial reconfiguration for width = 0 may not work\n",
      "(ChipWhisperer Glitch WARNING|File ChipWhispererGlitch.py:759) Partial reconfiguration for width = 0 may not work\n",
      "(ChipWhisperer Glitch WARNING|File ChipWhispererGlitch.py:759) Partial reconfiguration for width = 0 may not work\n",
      "(ChipWhisperer Glitch WARNING|File ChipWhispererGlitch.py:759) Partial reconfiguration for width = 0 may not work\n",
      "(ChipWhisperer Glitch WARNING|File ChipWhispererGlitch.py:759) Partial reconfiguration for width = 0 may not work\n",
      "(ChipWhisperer Glitch WARNING|File ChipWhispererGlitch.py:934) Negative offsets <-45 may result in double glitches!\n",
      "(ChipWhisperer Glitch WARNING|File ChipWhispererGlitch.py:759) Partial reconfiguration for width = 0 may not work\n",
      "(ChipWhisperer Glitch WARNING|File ChipWhispererGlitch.py:934) Negative offsets <-45 may result in double glitches!\n",
      "(ChipWhisperer Glitch WARNING|File ChipWhispererGlitch.py:759) Partial reconfiguration for width = 0 may not work\n",
      "(ChipWhisperer Glitch WARNING|File ChipWhispererGlitch.py:759) Partial reconfiguration for width = 0 may not work\n",
      "(ChipWhisperer Glitch WARNING|File ChipWhispererGlitch.py:759) Partial reconfiguration for width = 0 may not work\n",
      "(ChipWhisperer Glitch WARNING|File ChipWhispererGlitch.py:759) Partial reconfiguration for width = 0 may not work\n",
      "(ChipWhisperer Glitch WARNING|File ChipWhispererGlitch.py:759) Partial reconfiguration for width = 0 may not work\n",
      "(ChipWhisperer Glitch WARNING|File ChipWhispererGlitch.py:759) Partial reconfiguration for width = 0 may not work\n",
      "(ChipWhisperer Glitch WARNING|File ChipWhispererGlitch.py:759) Partial reconfiguration for width = 0 may not work\n",
      "(ChipWhisperer Glitch WARNING|File ChipWhispererGlitch.py:759) Partial reconfiguration for width = 0 may not work\n",
      "(ChipWhisperer Glitch WARNING|File ChipWhispererGlitch.py:759) Partial reconfiguration for width = 0 may not work\n",
      "(ChipWhisperer Glitch WARNING|File ChipWhispererGlitch.py:759) Partial reconfiguration for width = 0 may not work\n",
      "(ChipWhisperer Glitch WARNING|File ChipWhispererGlitch.py:759) Partial reconfiguration for width = 0 may not work\n",
      "(ChipWhisperer Glitch WARNING|File ChipWhispererGlitch.py:759) Partial reconfiguration for width = 0 may not work\n",
      "(ChipWhisperer Glitch WARNING|File ChipWhispererGlitch.py:759) Partial reconfiguration for width = 0 may not work\n",
      "(ChipWhisperer Glitch WARNING|File ChipWhispererGlitch.py:759) Partial reconfiguration for width = 0 may not work\n",
      "(ChipWhisperer Glitch WARNING|File ChipWhispererGlitch.py:759) Partial reconfiguration for width = 0 may not work\n",
      "(ChipWhisperer Glitch WARNING|File ChipWhispererGlitch.py:759) Partial reconfiguration for width = 0 may not work\n"
     ]
    },
    {
     "name": "stdout",
     "output_type": "stream",
     "text": [
      "Trigger still high!\n",
      "Trigger still high!\n",
      "Trigger still high!\n",
      "Trigger still high!\n",
      "Trigger still high!\n"
     ]
    },
    {
     "name": "stderr",
     "output_type": "stream",
     "text": [
      "(ChipWhisperer Glitch WARNING|File ChipWhispererGlitch.py:759) Partial reconfiguration for width = 0 may not work\n"
     ]
    },
    {
     "name": "stdout",
     "output_type": "stream",
     "text": [
      "Trigger still high!\n",
      "Trigger still high!\n",
      "Trigger still high!\n",
      "Trigger still high!\n",
      "Trigger still high!\n",
      "Trigger still high!\n",
      "Trigger still high!\n"
     ]
    },
    {
     "name": "stderr",
     "output_type": "stream",
     "text": [
      "(ChipWhisperer Glitch WARNING|File ChipWhispererGlitch.py:759) Partial reconfiguration for width = 0 may not work\n"
     ]
    },
    {
     "name": "stdout",
     "output_type": "stream",
     "text": [
      "Trigger still high!\n",
      "Trigger still high!\n",
      "Trigger still high!\n",
      "Trigger still high!\n",
      "Trigger still high!\n"
     ]
    },
    {
     "name": "stderr",
     "output_type": "stream",
     "text": [
      "(ChipWhisperer Glitch WARNING|File ChipWhispererGlitch.py:759) Partial reconfiguration for width = 0 may not work\n"
     ]
    },
    {
     "name": "stdout",
     "output_type": "stream",
     "text": [
      "Trigger still high!\n",
      "Trigger still high!\n",
      "Trigger still high!\n",
      "Trigger still high!\n"
     ]
    },
    {
     "name": "stderr",
     "output_type": "stream",
     "text": [
      "(ChipWhisperer Glitch WARNING|File ChipWhispererGlitch.py:759) Partial reconfiguration for width = 0 may not work\n"
     ]
    },
    {
     "name": "stdout",
     "output_type": "stream",
     "text": [
      "Trigger still high!\n",
      "Trigger still high!\n",
      "Trigger still high!\n",
      "Trigger still high!\n",
      "Trigger still high!\n"
     ]
    },
    {
     "name": "stderr",
     "output_type": "stream",
     "text": [
      "(ChipWhisperer Glitch WARNING|File ChipWhispererGlitch.py:759) Partial reconfiguration for width = 0 may not work\n"
     ]
    },
    {
     "name": "stdout",
     "output_type": "stream",
     "text": [
      "Trigger still high!\n",
      "Trigger still high!\n",
      "Trigger still high!\n",
      "Trigger still high!\n"
     ]
    },
    {
     "name": "stderr",
     "output_type": "stream",
     "text": [
      "(ChipWhisperer Glitch WARNING|File ChipWhispererGlitch.py:759) Partial reconfiguration for width = 0 may not work\n"
     ]
    },
    {
     "name": "stdout",
     "output_type": "stream",
     "text": [
      "Trigger still high!\n",
      "Trigger still high!\n",
      "Trigger still high!\n",
      "Trigger still high!\n",
      "Trigger still high!\n",
      "Trigger still high!\n"
     ]
    },
    {
     "name": "stderr",
     "output_type": "stream",
     "text": [
      "(ChipWhisperer Glitch WARNING|File ChipWhispererGlitch.py:759) Partial reconfiguration for width = 0 may not work\n"
     ]
    },
    {
     "name": "stdout",
     "output_type": "stream",
     "text": [
      "Trigger still high!\n",
      "Trigger still high!\n",
      "Trigger still high!\n",
      "Trigger still high!\n",
      "Trigger still high!\n",
      "Trigger still high!\n"
     ]
    },
    {
     "name": "stderr",
     "output_type": "stream",
     "text": [
      "(ChipWhisperer Glitch WARNING|File ChipWhispererGlitch.py:762) Partial reconfiguration for offset = 0 may not work\n",
      "(ChipWhisperer Glitch WARNING|File ChipWhispererGlitch.py:759) Partial reconfiguration for width = 0 may not work\n",
      "(ChipWhisperer Glitch WARNING|File ChipWhispererGlitch.py:762) Partial reconfiguration for offset = 0 may not work\n",
      "(ChipWhisperer Glitch WARNING|File ChipWhispererGlitch.py:762) Partial reconfiguration for offset = 0 may not work\n",
      "(ChipWhisperer Glitch WARNING|File ChipWhispererGlitch.py:762) Partial reconfiguration for offset = 0 may not work\n",
      "(ChipWhisperer Glitch WARNING|File ChipWhispererGlitch.py:762) Partial reconfiguration for offset = 0 may not work\n",
      "(ChipWhisperer Glitch WARNING|File ChipWhispererGlitch.py:762) Partial reconfiguration for offset = 0 may not work\n",
      "(ChipWhisperer Glitch WARNING|File ChipWhispererGlitch.py:762) Partial reconfiguration for offset = 0 may not work\n",
      "(ChipWhisperer Glitch WARNING|File ChipWhispererGlitch.py:762) Partial reconfiguration for offset = 0 may not work\n",
      "(ChipWhisperer Glitch WARNING|File ChipWhispererGlitch.py:762) Partial reconfiguration for offset = 0 may not work\n",
      "(ChipWhisperer Glitch WARNING|File ChipWhispererGlitch.py:762) Partial reconfiguration for offset = 0 may not work\n",
      "(ChipWhisperer Glitch WARNING|File ChipWhispererGlitch.py:762) Partial reconfiguration for offset = 0 may not work\n",
      "(ChipWhisperer Glitch WARNING|File ChipWhispererGlitch.py:762) Partial reconfiguration for offset = 0 may not work\n",
      "(ChipWhisperer Glitch WARNING|File ChipWhispererGlitch.py:762) Partial reconfiguration for offset = 0 may not work\n"
     ]
    },
    {
     "name": "stdout",
     "output_type": "stream",
     "text": [
      "Trigger still high!\n"
     ]
    },
    {
     "name": "stderr",
     "output_type": "stream",
     "text": [
      "(ChipWhisperer Glitch WARNING|File ChipWhispererGlitch.py:762) Partial reconfiguration for offset = 0 may not work\n",
      "(ChipWhisperer Glitch WARNING|File ChipWhispererGlitch.py:762) Partial reconfiguration for offset = 0 may not work\n",
      "(ChipWhisperer Glitch WARNING|File ChipWhispererGlitch.py:762) Partial reconfiguration for offset = 0 may not work\n",
      "(ChipWhisperer Glitch WARNING|File ChipWhispererGlitch.py:762) Partial reconfiguration for offset = 0 may not work\n",
      "(ChipWhisperer Glitch WARNING|File ChipWhispererGlitch.py:762) Partial reconfiguration for offset = 0 may not work\n",
      "(ChipWhisperer Glitch WARNING|File ChipWhispererGlitch.py:762) Partial reconfiguration for offset = 0 may not work\n",
      "(ChipWhisperer Glitch WARNING|File ChipWhispererGlitch.py:762) Partial reconfiguration for offset = 0 may not work\n",
      "(ChipWhisperer Glitch WARNING|File ChipWhispererGlitch.py:762) Partial reconfiguration for offset = 0 may not work\n",
      "(ChipWhisperer Glitch WARNING|File ChipWhispererGlitch.py:762) Partial reconfiguration for offset = 0 may not work\n",
      "(ChipWhisperer Glitch WARNING|File ChipWhispererGlitch.py:762) Partial reconfiguration for offset = 0 may not work\n",
      "(ChipWhisperer Glitch WARNING|File ChipWhispererGlitch.py:762) Partial reconfiguration for offset = 0 may not work\n",
      "(ChipWhisperer Glitch WARNING|File ChipWhispererGlitch.py:762) Partial reconfiguration for offset = 0 may not work\n",
      "(ChipWhisperer Glitch WARNING|File ChipWhispererGlitch.py:759) Partial reconfiguration for width = 0 may not work\n"
     ]
    },
    {
     "name": "stdout",
     "output_type": "stream",
     "text": [
      "Trigger still high!\n",
      "Trigger still high!\n",
      "Trigger still high!\n",
      "Trigger still high!\n",
      "Trigger still high!\n",
      "Trigger still high!\n"
     ]
    },
    {
     "name": "stderr",
     "output_type": "stream",
     "text": [
      "(ChipWhisperer Glitch WARNING|File ChipWhispererGlitch.py:759) Partial reconfiguration for width = 0 may not work\n"
     ]
    },
    {
     "name": "stdout",
     "output_type": "stream",
     "text": [
      "Trigger still high!\n",
      "Trigger still high!\n",
      "Trigger still high!\n",
      "Trigger still high!\n",
      "Trigger still high!\n"
     ]
    },
    {
     "name": "stderr",
     "output_type": "stream",
     "text": [
      "(ChipWhisperer Glitch WARNING|File ChipWhispererGlitch.py:759) Partial reconfiguration for width = 0 may not work\n"
     ]
    },
    {
     "name": "stdout",
     "output_type": "stream",
     "text": [
      "Trigger still high!\n",
      "Trigger still high!\n",
      "Trigger still high!\n",
      "Trigger still high!\n"
     ]
    },
    {
     "name": "stderr",
     "output_type": "stream",
     "text": [
      "(ChipWhisperer Glitch WARNING|File ChipWhispererGlitch.py:759) Partial reconfiguration for width = 0 may not work\n"
     ]
    },
    {
     "name": "stdout",
     "output_type": "stream",
     "text": [
      "Trigger still high!\n",
      "Trigger still high!\n"
     ]
    },
    {
     "name": "stderr",
     "output_type": "stream",
     "text": [
      "(ChipWhisperer Glitch WARNING|File ChipWhispererGlitch.py:759) Partial reconfiguration for width = 0 may not work\n"
     ]
    },
    {
     "name": "stdout",
     "output_type": "stream",
     "text": [
      "Trigger still high!\n"
     ]
    },
    {
     "name": "stderr",
     "output_type": "stream",
     "text": [
      "(ChipWhisperer Glitch WARNING|File ChipWhispererGlitch.py:759) Partial reconfiguration for width = 0 may not work\n",
      "(ChipWhisperer Glitch WARNING|File ChipWhispererGlitch.py:759) Partial reconfiguration for width = 0 may not work\n"
     ]
    },
    {
     "name": "stdout",
     "output_type": "stream",
     "text": [
      "Trigger still high!\n"
     ]
    },
    {
     "name": "stderr",
     "output_type": "stream",
     "text": [
      "(ChipWhisperer Glitch WARNING|File ChipWhispererGlitch.py:759) Partial reconfiguration for width = 0 may not work\n",
      "(ChipWhisperer Glitch WARNING|File ChipWhispererGlitch.py:759) Partial reconfiguration for width = 0 may not work\n",
      "(ChipWhisperer Glitch WARNING|File ChipWhispererGlitch.py:759) Partial reconfiguration for width = 0 may not work\n",
      "(ChipWhisperer Glitch WARNING|File ChipWhispererGlitch.py:759) Partial reconfiguration for width = 0 may not work\n",
      "(ChipWhisperer Glitch WARNING|File ChipWhispererGlitch.py:759) Partial reconfiguration for width = 0 may not work\n",
      "(ChipWhisperer Glitch WARNING|File ChipWhispererGlitch.py:759) Partial reconfiguration for width = 0 may not work\n",
      "(ChipWhisperer Glitch WARNING|File ChipWhispererGlitch.py:759) Partial reconfiguration for width = 0 may not work\n",
      "(ChipWhisperer Glitch WARNING|File ChipWhispererGlitch.py:759) Partial reconfiguration for width = 0 may not work\n",
      "(ChipWhisperer Glitch WARNING|File ChipWhispererGlitch.py:759) Partial reconfiguration for width = 0 may not work\n",
      "(ChipWhisperer Glitch WARNING|File ChipWhispererGlitch.py:759) Partial reconfiguration for width = 0 may not work\n",
      "(ChipWhisperer Glitch WARNING|File ChipWhispererGlitch.py:759) Partial reconfiguration for width = 0 may not work\n",
      "(ChipWhisperer Glitch WARNING|File ChipWhispererGlitch.py:759) Partial reconfiguration for width = 0 may not work\n",
      "(ChipWhisperer Glitch WARNING|File ChipWhispererGlitch.py:759) Partial reconfiguration for width = 0 may not work\n",
      "(ChipWhisperer Glitch WARNING|File ChipWhispererGlitch.py:759) Partial reconfiguration for width = 0 may not work\n",
      "(ChipWhisperer Glitch WARNING|File ChipWhispererGlitch.py:759) Partial reconfiguration for width = 0 may not work\n",
      "(ChipWhisperer Glitch WARNING|File ChipWhispererGlitch.py:759) Partial reconfiguration for width = 0 may not work\n"
     ]
    },
    {
     "name": "stdout",
     "output_type": "stream",
     "text": [
      "Done glitching\n"
     ]
    },
    {
     "data": {
      "image/png": "[encoded data removed]",
      "text/plain": [
       "<Figure size 640x480 with 1 Axes>"
      ]
     },
     "metadata": {},
     "output_type": "display_data"
    }
   ],
   "source": [
    "import chipwhisperer.common.results.glitch as glitch\n",
    "from tqdm.notebook import trange\n",
    "import struct\n",
    "\n",
    "\n",
    "%matplotlib inline\n",
    "import matplotlib.pyplot as plt\n",
    "fig = plt.figure()\n",
    "\n",
    "\n",
    "# gc.set_range(\"width\", 0, 48)\n",
    "# gc.set_range(\"offset\", -48, 48)\n",
    "\n",
    "\n",
    "import time\n",
    "TIMES = 1\n",
    "msg1 = 32*b'\\x00'+b'\\x00'+b'\\x00'+b'\\x00'+b'\\x01'\n",
    "msg = bytearray(msg1) #simpleserial uses bytearrays\n",
    "# msg = bytearray([3]*32) #simpleserial uses bytearrays\n",
    "for lext in range(2,6,1):\n",
    "            scope.glitch.ext_offset = lext\n",
    "\n",
    "            # Useless for voltage glitching\n",
    "            for loff in range(-48, 48, 2):\n",
    "                scope.glitch.offset = loff\n",
    "\n",
    "                # Almost always INVALID after 23\n",
    "                for lwid in range(0, 48, 2):\n",
    "                    scope.glitch.width = lwid\n",
    "\n",
    "                    for i in range(TIMES):                       \n",
    "                        if scope.adc.state:\n",
    "                            # can detect crash here (fast) before timing out (slow)\n",
    "                            print(\"Trigger still high!\")\n",
    "                            collections['reset'] += [(lext, loff, lwid)]\n",
    "                            plt.plot(lwid, loff, 'xr', alpha=1)\n",
    "#                             fig.canvas.draw()\n",
    "                            #record and reboot\n",
    "                            scope.io.nrst = False\n",
    "                            time.sleep(0.05)\n",
    "                            scope.io.nrst = \"high_z\"\n",
    "                            time.sleep(0.05)\n",
    "                        \n",
    "                        scope.arm()\n",
    "                        target.simpleserial_write('g', msg)\n",
    "                        ret = scope.capture()\n",
    "\n",
    "                        time.sleep(0.1) #wait 1 min long time for WOTS\n",
    "                        result = target.simpleserial_read_witherrors('r', 8, glitch_timeout=10)\n",
    " \n",
    "                        if ret: #true means wime out\n",
    "                            print('Timeout - no trigger')       \n",
    "                            collections['reset'] += [(lext, loff, lwid)]\n",
    "                            plt.plot(scope.glitch.width, scope.glitch.offset, 'xr', alpha=1)\n",
    "#                             fig.canvas.draw()\n",
    "                            #record and reboot\n",
    "                            scope.io.nrst = False\n",
    "                            time.sleep(0.05)\n",
    "                            scope.io.nrst = \"high_z\"\n",
    "                            time.sleep(0.05)\n",
    "                        else:\n",
    "                            if result['valid'] is True:\n",
    "                                collections['valid'] += [(lext, loff, lwid)]\n",
    "                                if result['payload'] :\n",
    "                                    payload = result['payload'].hex()\n",
    "                                    if payload[:16] != 'a4c02a1a56d15111': #msg+cnt\n",
    "                                        print(lext,loff,lwid,i,payload[:64])\n",
    "                                        collections['faulty'] += [(lext, loff, lwid)]\n",
    "                                        plt.plot(scope.glitch.width, scope.glitch.offset, 'bo',alpha=1)\n",
    "                                        fig.canvas.draw()\n",
    "                            else: #reboot\n",
    "#                                 scope.io.nrst = False\n",
    "#                                 time.sleep(0.05)\n",
    "#                                 scope.io.nrst = \"high_z\"\n",
    "#                                 time.sleep(0.05) \n",
    "                                collections['reset'] += [(lext, loff, lwid)]\n",
    "                               \n",
    "#                              \n",
    "print(\"Done glitching\")"
   ]
  },
  {
   "cell_type": "markdown",
   "id": "dd26d2ca",
   "metadata": {},
   "source": [
    "***Circle points are unsuccessful Fault injections which mismatch signatures***"
   ]
  },
  {
   "cell_type": "code",
   "execution_count": 1159,
   "id": "351c28cf",
   "metadata": {},
   "outputs": [
    {
     "name": "stdout",
     "output_type": "stream",
     "text": [
      "{'faulty': [(2, -16, 10), (2, 6, 10), (3, -22, 2)], 'reset': [(2, -18, 16), (2, -18, 18), (2, -16, 2), (2, -16, 4), (2, -16, 4), (2, -16, 6), (2, -16, 6), (2, -16, 8), (2, -16, 8), (2, -16, 10), (2, -16, 12), (2, -16, 14), (2, -16, 14), (2, -16, 16), (2, -14, 2), (2, -14, 4), (2, -14, 4), (2, -14, 6), (2, -14, 6), (2, -14, 8), (2, -14, 8), (2, -14, 10), (2, -14, 10), (2, -14, 12), (2, -14, 12), (2, -14, 14), (2, -14, 16), (2, -14, 18), (2, -12, 2), (2, -12, 4), (2, -12, 4), (2, -12, 6), (2, -12, 6), (2, -12, 8), (2, -12, 8), (2, -12, 10), (2, -12, 14), (2, -12, 16), (2, -12, 16), (2, -12, 18), (2, -10, 4), (2, -10, 6), (2, -10, 6), (2, -10, 8), (2, -10, 12), (2, -10, 14), (2, -10, 14), (2, -10, 16), (2, -10, 16), (2, -10, 18), (2, -8, 2), (2, -8, 4), (2, -8, 4), (2, -8, 6), (2, -8, 10), (2, -8, 12), (2, -8, 12), (2, -8, 14), (2, -8, 14), (2, -8, 16), (2, -8, 16), (2, -8, 18), (2, -6, 2), (2, -6, 4), (2, -6, 10), (2, -6, 12), (2, -6, 12), (2, -6, 14), (2, -6, 14), (2, -6, 16), (2, -6, 16), (2, -6, 18), (2, -4, 2), (2, -4, 4), (2, -4, 8), (2, -4, 10), (2, -4, 10), (2, -4, 12), (2, -4, 12), (2, -4, 14), (2, -4, 14), (2, -4, 16), (2, -4, 16), (2, -4, 18), (2, -2, 4), (2, -2, 6), (2, -2, 8), (2, -2, 10), (2, -2, 10), (2, -2, 12), (2, -2, 14), (2, -2, 16), (2, -2, 16), (2, -2, 18), (2, 0, 0), (2, 0, 2), (2, 0, 46), (2, 2, 0), (2, 2, 4), (2, 2, 6), (2, 2, 6), (2, 2, 8), (2, 2, 8), (2, 2, 10), (2, 2, 10), (2, 2, 12), (2, 2, 12), (2, 2, 14), (2, 2, 14), (2, 2, 16), (2, 4, 4), (2, 4, 6), (2, 4, 6), (2, 4, 8), (2, 4, 8), (2, 4, 10), (2, 4, 10), (2, 4, 12), (2, 4, 12), (2, 4, 14), (2, 6, 4), (2, 6, 6), (2, 6, 6), (2, 6, 8), (2, 6, 8), (2, 6, 10), (2, 8, 4), (2, 8, 6), (2, 8, 6), (2, 8, 8), (2, 8, 8), (2, 8, 10), (2, 10, 4), (2, 10, 6), (2, 12, 2), (2, 12, 4), (2, 20, 28), (2, 20, 30), (2, 34, 2), (2, 34, 4), (3, -20, 18), (3, -20, 20), (3, -18, 16), (3, -18, 18), (3, -16, 2), (3, -16, 4), (3, -16, 4), (3, -16, 6), (3, -16, 6), (3, -16, 8), (3, -16, 8), (3, -16, 10), (3, -14, 2), (3, -14, 4), (3, -14, 4), (3, -14, 6), (3, -14, 6), (3, -14, 8), (3, -14, 8), (3, -14, 10), (3, -14, 10), (3, -14, 12), (3, -14, 12), (3, -14, 14), (3, -14, 16), (3, -14, 18), (3, -12, 2), (3, -12, 4), (3, -12, 4), (3, -12, 6), (3, -12, 6), (3, -12, 8), (3, -12, 8), (3, -12, 10), (3, -12, 14), (3, -12, 16), (3, -10, 4), (3, -10, 6), (3, -10, 6), (3, -10, 8), (3, -10, 8), (3, -10, 10), (3, -10, 12), (3, -10, 14), (3, -10, 14), (3, -10, 16), (3, -8, 4), (3, -8, 6), (3, -8, 10), (3, -8, 12), (3, -8, 12), (3, -8, 14), (3, -8, 14), (3, -8, 16), (3, -8, 16), (3, -8, 18), (3, -6, 2), (3, -6, 4), (3, -6, 10), (3, -6, 12), (3, -6, 12), (3, -6, 14), (3, -6, 14), (3, -6, 16), (3, -6, 16), (3, -6, 18), (3, -4, 2), (3, -4, 4), (3, -4, 8), (3, -4, 10), (3, -4, 10), (3, -4, 12), (3, -4, 12), (3, -4, 14), (3, -4, 14), (3, -4, 16), (3, -4, 16), (3, -4, 18), (3, -2, 4), (3, -2, 6), (3, -2, 6), (3, -2, 8), (3, -2, 8), (3, -2, 10), (3, -2, 12), (3, -2, 14), (3, -2, 14), (3, -2, 16), (3, -2, 16), (3, -2, 18), (3, -2, 40), (3, -2, 42), (3, -2, 42), (3, -2, 44), (3, 0, 2), (3, 0, 4), (3, 0, 6), (3, 0, 8), (3, 0, 38), (3, 0, 40), (3, 0, 42), (3, 0, 44), (3, 2, 4), (3, 2, 6), (3, 2, 6), (3, 2, 8), (3, 2, 8), (3, 2, 10), (3, 2, 10), (3, 2, 12), (3, 2, 12), (3, 2, 14), (3, 2, 14), (3, 2, 16), (3, 2, 46), (3, 4, 0), (3, 4, 4), (3, 4, 6), (3, 4, 6), (3, 4, 8), (3, 4, 8), (3, 4, 10), (3, 4, 10), (3, 4, 12), (3, 6, 4), (3, 6, 6), (3, 6, 6), (3, 6, 8), (3, 6, 8), (3, 6, 10), (3, 8, 4), (3, 8, 6), (3, 8, 6), (3, 8, 8), (3, 10, 4), (3, 10, 6), (3, 42, 10), (3, 42, 12), (4, -12, 2), (4, -12, 4), (4, -12, 4), (4, -12, 6), (4, -12, 6), (4, -12, 8), (4, -12, 8), (4, -12, 10), (4, -10, 4), (4, -10, 6), (4, -10, 6), (4, -10, 8), (4, -10, 12), (4, -10, 14), (4, -8, 4), (4, -8, 6), (4, -8, 10), (4, -8, 12), (4, -6, 2), (4, -6, 4), (4, -6, 10), (4, -6, 12), (4, -6, 12), (4, -6, 14), (4, -4, 2), (4, -4, 4), (4, -4, 8), (4, -4, 10), (4, -4, 10), (4, -4, 12), (4, -4, 12), (4, -4, 14), (4, -2, 6), (4, -2, 8), (4, -2, 8), (4, -2, 10), (4, -2, 10), (4, -2, 12), (4, 0, 36), (4, 0, 38), (4, 2, 4), (4, 2, 6), (4, 2, 6), (4, 2, 8), (4, 2, 8), (4, 2, 10), (4, 2, 10), (4, 2, 12), (4, 4, 4), (4, 4, 6), (4, 4, 6), (4, 4, 8), (4, 4, 8), (4, 4, 10), (4, 6, 4), (4, 6, 6), (4, 24, 28), (4, 24, 30), (4, 40, 8), (4, 40, 10), (5, -48, 2), (5, -48, 4), (5, -28, 2), (5, -28, 4), (5, -16, 2), (5, -16, 4), (5, -16, 4), (5, -16, 6), (5, -16, 6), (5, -16, 8), (5, -16, 8), (5, -16, 10), (5, -14, 2), (5, -14, 4), (5, -14, 4), (5, -14, 6), (5, -14, 6), (5, -14, 8), (5, -14, 8), (5, -14, 10), (5, -14, 10), (5, -14, 12), (5, -14, 16), (5, -14, 18), (5, -12, 2), (5, -12, 4), (5, -12, 4), (5, -12, 6), (5, -12, 6), (5, -12, 8), (5, -12, 8), (5, -12, 10), (5, -12, 14), (5, -12, 16), (5, -10, 2), (5, -10, 4), (5, -10, 4), (5, -10, 6), (5, -10, 6), (5, -10, 8), (5, -10, 12), (5, -10, 14), (5, -10, 14), (5, -10, 16), (5, -8, 2), (5, -8, 4), (5, -8, 4), (5, -8, 6), (5, -8, 12), (5, -8, 14), (5, -8, 14), (5, -8, 16), (5, -8, 16), (5, -8, 18), (5, -6, 10), (5, -6, 12), (5, -6, 12), (5, -6, 14), (5, -6, 14), (5, -6, 16), (5, -6, 16), (5, -6, 18), (5, -4, 2), (5, -4, 4), (5, -4, 8), (5, -4, 10), (5, -4, 10), (5, -4, 12), (5, -4, 12), (5, -4, 14), (5, -4, 14), (5, -4, 16), (5, -4, 16), (5, -4, 18), (5, -2, 4), (5, -2, 6), (5, -2, 6), (5, -2, 8), (5, -2, 8), (5, -2, 10), (5, -2, 10), (5, -2, 12), (5, -2, 12), (5, -2, 14), (5, -2, 14), (5, -2, 16), (5, -2, 16), (5, -2, 18), (5, -2, 18), (5, -2, 20), (5, 0, 8), (5, 0, 10), (5, 0, 44), (5, 0, 46), (5, 2, 4), (5, 2, 6), (5, 2, 6), (5, 2, 8), (5, 2, 8), (5, 2, 10), (5, 2, 10), (5, 2, 12), (5, 2, 12), (5, 2, 14), (5, 2, 14), (5, 2, 16), (5, 4, 4), (5, 4, 6), (5, 4, 6), (5, 4, 8), (5, 4, 8), (5, 4, 10), (5, 4, 10), (5, 4, 12), (5, 4, 12), (5, 4, 14), (5, 6, 4), (5, 6, 6), (5, 6, 6), (5, 6, 8), (5, 6, 8), (5, 6, 10), (5, 6, 10), (5, 6, 12), (5, 8, 4), (5, 8, 6), (5, 8, 6), (5, 8, 8), (5, 10, 4), (5, 10, 6), (5, 12, 2), (5, 12, 4), (5, 14, 2), (5, 14, 4)], 'valid': [(2, -48, 0), (2, -48, 2), (2, -48, 4), (2, -48, 6), (2, -48, 8), (2, -48, 10), (2, -48, 12), (2, -48, 14), (2, -48, 16), (2, -48, 18), (2, -48, 20), (2, -48, 22), (2, -48, 24), (2, -48, 26), (2, -48, 28), (2, -48, 30), (2, -48, 32), (2, -48, 34), (2, -48, 36), (2, -48, 38), (2, -48, 40), (2, -48, 42), (2, -48, 44), (2, -48, 46), (2, -46, 0), (2, -46, 2), (2, -46, 4), (2, -46, 6), (2, -46, 8), (2, -46, 10), (2, -46, 12), (2, -46, 14), (2, -46, 16), (2, -46, 18), (2, -46, 20), (2, -46, 22), (2, -46, 24), (2, -46, 26), (2, -46, 28), (2, -46, 30), (2, -46, 32), (2, -46, 34), (2, -46, 36), (2, -46, 38), (2, -46, 40), (2, -46, 42), (2, -46, 44), (2, -46, 46), (2, -44, 0), (2, -44, 2), (2, -44, 4), (2, -44, 6), (2, -44, 8), (2, -44, 10), (2, -44, 12), (2, -44, 14), (2, -44, 16), (2, -44, 18), (2, -44, 20), (2, -44, 22), (2, -44, 24), (2, -44, 26), (2, -44, 28), (2, -44, 30), (2, -44, 32), (2, -44, 34), (2, -44, 36), (2, -44, 38), (2, -44, 40), (2, -44, 42), (2, -44, 44), (2, -44, 46), (2, -42, 0), (2, -42, 2), (2, -42, 4), (2, -42, 6), (2, -42, 8), (2, -42, 10), (2, -42, 12), (2, -42, 14), (2, -42, 16), (2, -42, 18), (2, -42, 20), (2, -42, 22), (2, -42, 24), (2, -42, 26), (2, -42, 28), (2, -42, 30), (2, -42, 32), (2, -42, 34), (2, -42, 36), (2, -42, 38), (2, -42, 40), (2, -42, 42), (2, -42, 44), (2, -42, 46), (2, -40, 0), (2, -40, 2), (2, -40, 4), (2, -40, 6), (2, -40, 8), (2, -40, 10), (2, -40, 12), (2, -40, 14), (2, -40, 16), (2, -40, 18), (2, -40, 20), (2, -40, 22), (2, -40, 24), (2, -40, 26), (2, -40, 28), (2, -40, 30), (2, -40, 32), (2, -40, 34), (2, -40, 36), (2, -40, 38), (2, -40, 40), (2, -40, 42), (2, -40, 44), (2, -40, 46), (2, -38, 0), (2, -38, 2), (2, -38, 4), (2, -38, 6), (2, -38, 8), (2, -38, 10), (2, -38, 12), (2, -38, 14), (2, -38, 16), (2, -38, 18), (2, -38, 20), (2, -38, 22), (2, -38, 24), (2, -38, 26), (2, -38, 28), (2, -38, 30), (2, -38, 32), (2, -38, 34), (2, -38, 36), (2, -38, 38), (2, -38, 40), (2, -38, 42), (2, -38, 44), (2, -38, 46), (2, -36, 0), (2, -36, 2), (2, -36, 4), (2, -36, 6), (2, -36, 8), (2, -36, 10), (2, -36, 12), (2, -36, 14), (2, -36, 16), (2, -36, 18), (2, -36, 20), (2, -36, 22), (2, -36, 24), (2, -36, 26), (2, -36, 28), (2, -36, 30), (2, -36, 32), (2, -36, 34), (2, -36, 36), (2, -36, 38), (2, -36, 40), (2, -36, 42), (2, -36, 44), (2, -36, 46), (2, -34, 0), (2, -34, 2), (2, -34, 4), (2, -34, 6), (2, -34, 8), (2, -34, 10), (2, -34, 12), (2, -34, 14), (2, -34, 16), (2, -34, 18), (2, -34, 20), (2, -34, 22), (2, -34, 24), (2, -34, 26), (2, -34, 28), (2, -34, 30), (2, -34, 32), (2, -34, 34), (2, -34, 36), (2, -34, 38), (2, -34, 40), (2, -34, 42), (2, -34, 44), (2, -34, 46), (2, -32, 0), (2, -32, 2), (2, -32, 4), (2, -32, 6), (2, -32, 8), (2, -32, 10), (2, -32, 12), (2, -32, 14), (2, -32, 16), (2, -32, 18), (2, -32, 20), (2, -32, 22), (2, -32, 24), (2, -32, 26), (2, -32, 28), (2, -32, 30), (2, -32, 32), (2, -32, 34), (2, -32, 36), (2, -32, 38), (2, -32, 40), (2, -32, 42), (2, -32, 44), (2, -32, 46), (2, -30, 0), (2, -30, 2), (2, -30, 4), (2, -30, 6), (2, -30, 8), (2, -30, 10), (2, -30, 12), (2, -30, 14), (2, -30, 16), (2, -30, 18), (2, -30, 20), (2, -30, 22), (2, -30, 24), (2, -30, 26), (2, -30, 28), (2, -30, 30), (2, -30, 32), (2, -30, 34), (2, -30, 36), (2, -30, 38), (2, -30, 40), (2, -30, 42), (2, -30, 44), (2, -30, 46), (2, -28, 0), (2, -28, 2), (2, -28, 4), (2, -28, 6), (2, -28, 8), (2, -28, 10), (2, -28, 12), (2, -28, 14), (2, -28, 16), (2, -28, 18), (2, -28, 20), (2, -28, 22), (2, -28, 24), (2, -28, 26), (2, -28, 28), (2, -28, 30), (2, -28, 32), (2, -28, 34), (2, -28, 36), (2, -28, 38), (2, -28, 40), (2, -28, 42), (2, -28, 44), (2, -28, 46), (2, -26, 0), (2, -26, 2), (2, -26, 4), (2, -26, 6), (2, -26, 8), (2, -26, 10), (2, -26, 12), (2, -26, 14), (2, -26, 16), (2, -26, 18), (2, -26, 20), (2, -26, 22), (2, -26, 24), (2, -26, 26), (2, -26, 28), (2, -26, 30), (2, -26, 32), (2, -26, 34), (2, -26, 36), (2, -26, 38), (2, -26, 40), (2, -26, 42), (2, -26, 44), (2, -26, 46), (2, -24, 0), (2, -24, 2), (2, -24, 4), (2, -24, 6), (2, -24, 8), (2, -24, 10), (2, -24, 12), (2, -24, 14), (2, -24, 16), (2, -24, 18), (2, -24, 20), (2, -24, 22), (2, -24, 24), (2, -24, 26), (2, -24, 28), (2, -24, 30), (2, -24, 32), (2, -24, 34), (2, -24, 36), (2, -24, 38), (2, -24, 40), (2, -24, 42), (2, -24, 44), (2, -24, 46), (2, -22, 0), (2, -22, 2), (2, -22, 4), (2, -22, 6), (2, -22, 8), (2, -22, 10), (2, -22, 12), (2, -22, 14), (2, -22, 16), (2, -22, 18), (2, -22, 20), (2, -22, 22), (2, -22, 24), (2, -22, 26), (2, -22, 28), (2, -22, 30), (2, -22, 32), (2, -22, 34), (2, -22, 36), (2, -22, 38), (2, -22, 40), (2, -22, 42), (2, -22, 44), (2, -22, 46), (2, -20, 0), (2, -20, 2), (2, -20, 4), (2, -20, 6), (2, -20, 8), (2, -20, 10), (2, -20, 12), (2, -20, 14), (2, -20, 16), (2, -20, 18), (2, -20, 20), (2, -20, 22), (2, -20, 24), (2, -20, 26), (2, -20, 28), (2, -20, 30), (2, -20, 32), (2, -20, 34), (2, -20, 36), (2, -20, 38), (2, -20, 40), (2, -20, 42), (2, -20, 44), (2, -20, 46), (2, -18, 0), (2, -18, 2), (2, -18, 4), (2, -18, 6), (2, -18, 8), (2, -18, 10), (2, -18, 12), (2, -18, 14), (2, -18, 18), (2, -18, 20), (2, -18, 22), (2, -18, 24), (2, -18, 26), (2, -18, 28), (2, -18, 30), (2, -18, 32), (2, -18, 34), (2, -18, 36), (2, -18, 38), (2, -18, 40), (2, -18, 42), (2, -18, 44), (2, -18, 46), (2, -16, 0), (2, -16, 10), (2, -16, 16), (2, -16, 18), (2, -16, 20), (2, -16, 22), (2, -16, 24), (2, -16, 26), (2, -16, 28), (2, -16, 30), (2, -16, 32), (2, -16, 34), (2, -16, 36), (2, -16, 38), (2, -16, 40), (2, -16, 42), (2, -16, 44), (2, -16, 46), (2, -14, 0), (2, -14, 14), (2, -14, 18), (2, -14, 20), (2, -14, 22), (2, -14, 24), (2, -14, 26), (2, -14, 28), (2, -14, 30), (2, -14, 32), (2, -14, 34), (2, -14, 36), (2, -14, 38), (2, -14, 40), (2, -14, 42), (2, -14, 44), (2, -14, 46), (2, -12, 0), (2, -12, 10), (2, -12, 12), (2, -12, 18), (2, -12, 20), (2, -12, 22), (2, -12, 24), (2, -12, 26), (2, -12, 28), (2, -12, 30), (2, -12, 32), (2, -12, 34), (2, -12, 36), (2, -12, 38), (2, -12, 40), (2, -12, 42), (2, -12, 44), (2, -12, 46), (2, -10, 0), (2, -10, 2), (2, -10, 8), (2, -10, 10), (2, -10, 18), (2, -10, 20), (2, -10, 22), (2, -10, 24), (2, -10, 26), (2, -10, 28), (2, -10, 30), (2, -10, 32), (2, -10, 34), (2, -10, 36), (2, -10, 38), (2, -10, 40), (2, -10, 42), (2, -10, 44), (2, -10, 46), (2, -8, 0), (2, -8, 6), (2, -8, 8), (2, -8, 18), (2, -8, 20), (2, -8, 22), (2, -8, 24), (2, -8, 26), (2, -8, 28), (2, -8, 30), (2, -8, 32), (2, -8, 34), (2, -8, 36), (2, -8, 38), (2, -8, 40), (2, -8, 42), (2, -8, 44), (2, -8, 46), (2, -6, 0), (2, -6, 4), (2, -6, 6), (2, -6, 8), (2, -6, 18), (2, -6, 20), (2, -6, 22), (2, -6, 24), (2, -6, 26), (2, -6, 28), (2, -6, 30), (2, -6, 32), (2, -6, 34), (2, -6, 36), (2, -6, 38), (2, -6, 40), (2, -6, 42), (2, -6, 44), (2, -6, 46), (2, -4, 0), (2, -4, 4), (2, -4, 6), (2, -4, 18), (2, -4, 20), (2, -4, 22), (2, -4, 24), (2, -4, 26), (2, -4, 28), (2, -4, 30), (2, -4, 32), (2, -4, 34), (2, -4, 36), (2, -4, 38), (2, -4, 40), (2, -4, 42), (2, -4, 44), (2, -4, 46), (2, -2, 0), (2, -2, 2), (2, -2, 6), (2, -2, 12), (2, -2, 18), (2, -2, 20), (2, -2, 22), (2, -2, 24), (2, -2, 26), (2, -2, 28), (2, -2, 30), (2, -2, 32), (2, -2, 34), (2, -2, 36), (2, -2, 38), (2, -2, 40), (2, -2, 42), (2, -2, 44), (2, -2, 46), (2, 0, 2), (2, 0, 4), (2, 0, 6), (2, 0, 8), (2, 0, 10), (2, 0, 12), (2, 0, 14), (2, 0, 16), (2, 0, 18), (2, 0, 20), (2, 0, 22), (2, 0, 24), (2, 0, 26), (2, 0, 28), (2, 0, 30), (2, 0, 32), (2, 0, 34), (2, 0, 36), (2, 0, 38), (2, 0, 40), (2, 0, 42), (2, 0, 44), (2, 2, 0), (2, 2, 2), (2, 2, 16), (2, 2, 18), (2, 2, 20), (2, 2, 22), (2, 2, 24), (2, 2, 26), (2, 2, 28), (2, 2, 30), (2, 2, 32), (2, 2, 34), (2, 2, 36), (2, 2, 38), (2, 2, 40), (2, 2, 42), (2, 2, 44), (2, 2, 46), (2, 4, 0), (2, 4, 2), (2, 4, 14), (2, 4, 16), (2, 4, 18), (2, 4, 20), (2, 4, 22), (2, 4, 24), (2, 4, 26), (2, 4, 28), (2, 4, 30), (2, 4, 32), (2, 4, 34), (2, 4, 36), (2, 4, 38), (2, 4, 40), (2, 4, 42), (2, 4, 44), (2, 4, 46), (2, 6, 0), (2, 6, 2), (2, 6, 10), (2, 6, 12), (2, 6, 14), (2, 6, 16), (2, 6, 18), (2, 6, 20), (2, 6, 22), (2, 6, 24), (2, 6, 26), (2, 6, 28), (2, 6, 30), (2, 6, 32), (2, 6, 34), (2, 6, 36), (2, 6, 38), (2, 6, 40), (2, 6, 42), (2, 6, 44), (2, 6, 46), (2, 8, 0), (2, 8, 2), (2, 8, 10), (2, 8, 12), (2, 8, 14), (2, 8, 16), (2, 8, 18), (2, 8, 20), (2, 8, 22), (2, 8, 24), (2, 8, 26), (2, 8, 28), (2, 8, 30), (2, 8, 32), (2, 8, 34), (2, 8, 36), (2, 8, 38), (2, 8, 40), (2, 8, 42), (2, 8, 44), (2, 8, 46), (2, 10, 0), (2, 10, 2), (2, 10, 6), (2, 10, 8), (2, 10, 10), (2, 10, 12), (2, 10, 14), (2, 10, 16), (2, 10, 18), (2, 10, 20), (2, 10, 22), (2, 10, 24), (2, 10, 26), (2, 10, 28), (2, 10, 30), (2, 10, 32), (2, 10, 34), (2, 10, 36), (2, 10, 38), (2, 10, 40), (2, 10, 42), (2, 10, 44), (2, 10, 46), (2, 12, 0), (2, 12, 4), (2, 12, 6), (2, 12, 8), (2, 12, 10), (2, 12, 12), (2, 12, 14), (2, 12, 16), (2, 12, 18), (2, 12, 20), (2, 12, 22), (2, 12, 24), (2, 12, 26), (2, 12, 28), (2, 12, 30), (2, 12, 32), (2, 12, 34), (2, 12, 36), (2, 12, 38), (2, 12, 40), (2, 12, 42), (2, 12, 44), (2, 12, 46), (2, 14, 0), (2, 14, 2), (2, 14, 4), (2, 14, 6), (2, 14, 8), (2, 14, 10), (2, 14, 12), (2, 14, 14), (2, 14, 16), (2, 14, 18), (2, 14, 20), (2, 14, 22), (2, 14, 24), (2, 14, 26), (2, 14, 28), (2, 14, 30), (2, 14, 32), (2, 14, 34), (2, 14, 36), (2, 14, 38), (2, 14, 40), (2, 14, 42), (2, 14, 44), (2, 14, 46), (2, 16, 0), (2, 16, 2), (2, 16, 4), (2, 16, 6), (2, 16, 8), (2, 16, 10), (2, 16, 12), (2, 16, 14), (2, 16, 16), (2, 16, 18), (2, 16, 20), (2, 16, 22), (2, 16, 24), (2, 16, 26), (2, 16, 28), (2, 16, 30), (2, 16, 32), (2, 16, 34), (2, 16, 36), (2, 16, 38), (2, 16, 40), (2, 16, 42), (2, 16, 44), (2, 16, 46), (2, 18, 0), (2, 18, 2), (2, 18, 4), (2, 18, 6), (2, 18, 8), (2, 18, 10), (2, 18, 12), (2, 18, 14), (2, 18, 16), (2, 18, 18), (2, 18, 20), (2, 18, 22), (2, 18, 24), (2, 18, 26), (2, 18, 28), (2, 18, 30), (2, 18, 32), (2, 18, 34), (2, 18, 36), (2, 18, 38), (2, 18, 40), (2, 18, 42), (2, 18, 44), (2, 18, 46), (2, 20, 0), (2, 20, 2), (2, 20, 4), (2, 20, 6), (2, 20, 8), (2, 20, 10), (2, 20, 12), (2, 20, 14), (2, 20, 16), (2, 20, 18), (2, 20, 20), (2, 20, 22), (2, 20, 24), (2, 20, 26), (2, 20, 30), (2, 20, 32), (2, 20, 34), (2, 20, 36), (2, 20, 38), (2, 20, 40), (2, 20, 42), (2, 20, 44), (2, 20, 46), (2, 22, 0), (2, 22, 2), (2, 22, 4), (2, 22, 6), (2, 22, 8), (2, 22, 10), (2, 22, 12), (2, 22, 14), (2, 22, 16), (2, 22, 18), (2, 22, 20), (2, 22, 22), (2, 22, 24), (2, 22, 26), (2, 22, 28), (2, 22, 30), (2, 22, 32), (2, 22, 34), (2, 22, 36), (2, 22, 38), (2, 22, 40), (2, 22, 42), (2, 22, 44), (2, 22, 46), (2, 24, 0), (2, 24, 2), (2, 24, 4), (2, 24, 6), (2, 24, 8), (2, 24, 10), (2, 24, 12), (2, 24, 14), (2, 24, 16), (2, 24, 18), (2, 24, 20), (2, 24, 22), (2, 24, 24), (2, 24, 26), (2, 24, 28), (2, 24, 30), (2, 24, 32), (2, 24, 34), (2, 24, 36), (2, 24, 38), (2, 24, 40), (2, 24, 42), (2, 24, 44), (2, 24, 46), (2, 26, 0), (2, 26, 2), (2, 26, 4), (2, 26, 6), (2, 26, 8), (2, 26, 10), (2, 26, 12), (2, 26, 14), (2, 26, 16), (2, 26, 18), (2, 26, 20), (2, 26, 22), (2, 26, 24), (2, 26, 26), (2, 26, 28), (2, 26, 30), (2, 26, 32), (2, 26, 34), (2, 26, 36), (2, 26, 38), (2, 26, 40), (2, 26, 42), (2, 26, 44), (2, 26, 46), (2, 28, 0), (2, 28, 2), (2, 28, 4), (2, 28, 6), (2, 28, 8), (2, 28, 10), (2, 28, 12), (2, 28, 14), (2, 28, 16), (2, 28, 18), (2, 28, 20), (2, 28, 22), (2, 28, 24), (2, 28, 26), (2, 28, 28), (2, 28, 30), (2, 28, 32), (2, 28, 34), (2, 28, 36), (2, 28, 38), (2, 28, 40), (2, 28, 42), (2, 28, 44), (2, 28, 46), (2, 30, 0), (2, 30, 2), (2, 30, 4), (2, 30, 6), (2, 30, 8), (2, 30, 10), (2, 30, 12), (2, 30, 14), (2, 30, 16), (2, 30, 18), (2, 30, 20), (2, 30, 22), (2, 30, 24), (2, 30, 26), (2, 30, 28), (2, 30, 30), (2, 30, 32), (2, 30, 34), (2, 30, 36), (2, 30, 38), (2, 30, 40), (2, 30, 42), (2, 30, 44), (2, 30, 46), (2, 32, 0), (2, 32, 2), (2, 32, 4), (2, 32, 6), (2, 32, 8), (2, 32, 10), (2, 32, 12), (2, 32, 14), (2, 32, 16), (2, 32, 18), (2, 32, 20), (2, 32, 22), (2, 32, 24), (2, 32, 26), (2, 32, 28), (2, 32, 30), (2, 32, 32), (2, 32, 34), (2, 32, 36), (2, 32, 38), (2, 32, 40), (2, 32, 42), (2, 32, 44), (2, 32, 46), (2, 34, 0), (2, 34, 4), (2, 34, 6), (2, 34, 8), (2, 34, 10), (2, 34, 12), (2, 34, 14), (2, 34, 16), (2, 34, 18), (2, 34, 20), (2, 34, 22), (2, 34, 24), (2, 34, 26), (2, 34, 28), (2, 34, 30), (2, 34, 32), (2, 34, 34), (2, 34, 36), (2, 34, 38), (2, 34, 40), (2, 34, 42), (2, 34, 44), (2, 34, 46), (2, 36, 0), (2, 36, 2), (2, 36, 4), (2, 36, 6), (2, 36, 8), (2, 36, 10), (2, 36, 12), (2, 36, 14), (2, 36, 16), (2, 36, 18), (2, 36, 20), (2, 36, 22), (2, 36, 24), (2, 36, 26), (2, 36, 28), (2, 36, 30), (2, 36, 32), (2, 36, 34), (2, 36, 36), (2, 36, 38), (2, 36, 40), (2, 36, 42), (2, 36, 44), (2, 36, 46), (2, 38, 0), (2, 38, 2), (2, 38, 4), (2, 38, 6), (2, 38, 8), (2, 38, 10), (2, 38, 12), (2, 38, 14), (2, 38, 16), (2, 38, 18), (2, 38, 20), (2, 38, 22), (2, 38, 24), (2, 38, 26), (2, 38, 28), (2, 38, 30), (2, 38, 32), (2, 38, 34), (2, 38, 36), (2, 38, 38), (2, 38, 40), (2, 38, 42), (2, 38, 44), (2, 38, 46), (2, 40, 0), (2, 40, 2), (2, 40, 4), (2, 40, 6), (2, 40, 8), (2, 40, 10), (2, 40, 12), (2, 40, 14), (2, 40, 16), (2, 40, 18), (2, 40, 20), (2, 40, 22), (2, 40, 24), (2, 40, 26), (2, 40, 28), (2, 40, 30), (2, 40, 32), (2, 40, 34), (2, 40, 36), (2, 40, 38), (2, 40, 40), (2, 40, 42), (2, 40, 44), (2, 40, 46), (2, 42, 0), (2, 42, 2), (2, 42, 4), (2, 42, 6), (2, 42, 8), (2, 42, 10), (2, 42, 12), (2, 42, 14), (2, 42, 16), (2, 42, 18), (2, 42, 20), (2, 42, 22), (2, 42, 24), (2, 42, 26), (2, 42, 28), (2, 42, 30), (2, 42, 32), (2, 42, 34), (2, 42, 36), (2, 42, 38), (2, 42, 40), (2, 42, 42), (2, 42, 44), (2, 42, 46), (2, 44, 0), (2, 44, 2), (2, 44, 4), (2, 44, 6), (2, 44, 8), (2, 44, 10), (2, 44, 12), (2, 44, 14), (2, 44, 16), (2, 44, 18), (2, 44, 20), (2, 44, 22), (2, 44, 24), (2, 44, 26), (2, 44, 28), (2, 44, 30), (2, 44, 32), (2, 44, 34), (2, 44, 36), (2, 44, 38), (2, 44, 40), (2, 44, 42), (2, 44, 44), (2, 44, 46), (2, 46, 0), (2, 46, 2), (2, 46, 4), (2, 46, 6), (2, 46, 8), (2, 46, 10), (2, 46, 12), (2, 46, 14), (2, 46, 16), (2, 46, 18), (2, 46, 20), (2, 46, 22), (2, 46, 24), (2, 46, 26), (2, 46, 28), (2, 46, 30), (2, 46, 32), (2, 46, 34), (2, 46, 36), (2, 46, 38), (2, 46, 40), (2, 46, 42), (2, 46, 44), (2, 46, 46), (3, -48, 0), (3, -48, 2), (3, -48, 4), (3, -48, 6), (3, -48, 8), (3, -48, 10), (3, -48, 12), (3, -48, 14), (3, -48, 16), (3, -48, 18), (3, -48, 20), (3, -48, 22), (3, -48, 24), (3, -48, 26), (3, -48, 28), (3, -48, 30), (3, -48, 32), (3, -48, 34), (3, -48, 36), (3, -48, 38), (3, -48, 40), (3, -48, 42), (3, -48, 44), (3, -48, 46), (3, -46, 0), (3, -46, 2), (3, -46, 4), (3, -46, 6), (3, -46, 8), (3, -46, 10), (3, -46, 12), (3, -46, 14), (3, -46, 16), (3, -46, 18), (3, -46, 20), (3, -46, 22), (3, -46, 24), (3, -46, 26), (3, -46, 28), (3, -46, 30), (3, -46, 32), (3, -46, 34), (3, -46, 36), (3, -46, 38), (3, -46, 40), (3, -46, 42), (3, -46, 44), (3, -46, 46), (3, -44, 0), (3, -44, 2), (3, -44, 4), (3, -44, 6), (3, -44, 8), (3, -44, 10), (3, -44, 12), (3, -44, 14), (3, -44, 16), (3, -44, 18), (3, -44, 20), (3, -44, 22), (3, -44, 24), (3, -44, 26), (3, -44, 28), (3, -44, 30), (3, -44, 32), (3, -44, 34), (3, -44, 36), (3, -44, 38), (3, -44, 40), (3, -44, 42), (3, -44, 44), (3, -44, 46), (3, -42, 0), (3, -42, 2), (3, -42, 4), (3, -42, 6), (3, -42, 8), (3, -42, 10), (3, -42, 12), (3, -42, 14), (3, -42, 16), (3, -42, 18), (3, -42, 20), (3, -42, 22), (3, -42, 24), (3, -42, 26), (3, -42, 28), (3, -42, 30), (3, -42, 32), (3, -42, 34), (3, -42, 36), (3, -42, 38), (3, -42, 40), (3, -42, 42), (3, -42, 44), (3, -42, 46), (3, -40, 0), (3, -40, 2), (3, -40, 4), (3, -40, 6), (3, -40, 8), (3, -40, 10), (3, -40, 12), (3, -40, 14), (3, -40, 16), (3, -40, 18), (3, -40, 20), (3, -40, 22), (3, -40, 24), (3, -40, 26), (3, -40, 28), (3, -40, 30), (3, -40, 32), (3, -40, 34), (3, -40, 36), (3, -40, 38), (3, -40, 40), (3, -40, 42), (3, -40, 44), (3, -40, 46), (3, -38, 0), (3, -38, 2), (3, -38, 4), (3, -38, 6), (3, -38, 8), (3, -38, 10), (3, -38, 12), (3, -38, 14), (3, -38, 16), (3, -38, 18), (3, -38, 20), (3, -38, 22), (3, -38, 24), (3, -38, 26), (3, -38, 28), (3, -38, 30), (3, -38, 32), (3, -38, 34), (3, -38, 36), (3, -38, 38), (3, -38, 40), (3, -38, 42), (3, -38, 44), (3, -38, 46), (3, -36, 0), (3, -36, 2), (3, -36, 4), (3, -36, 6), (3, -36, 8), (3, -36, 10), (3, -36, 12), (3, -36, 14), (3, -36, 16), (3, -36, 18), (3, -36, 20), (3, -36, 22), (3, -36, 24), (3, -36, 26), (3, -36, 28), (3, -36, 30), (3, -36, 32), (3, -36, 34), (3, -36, 36), (3, -36, 38), (3, -36, 40), (3, -36, 42), (3, -36, 44), (3, -36, 46), (3, -34, 0), (3, -34, 2), (3, -34, 4), (3, -34, 6), (3, -34, 8), (3, -34, 10), (3, -34, 12), (3, -34, 14), (3, -34, 16), (3, -34, 18), (3, -34, 20), (3, -34, 22), (3, -34, 24), (3, -34, 26), (3, -34, 28), (3, -34, 30), (3, -34, 32), (3, -34, 34), (3, -34, 36), (3, -34, 38), (3, -34, 40), (3, -34, 42), (3, -34, 44), (3, -34, 46), (3, -32, 0), (3, -32, 2), (3, -32, 4), (3, -32, 6), (3, -32, 8), (3, -32, 10), (3, -32, 12), (3, -32, 14), (3, -32, 16), (3, -32, 18), (3, -32, 20), (3, -32, 22), (3, -32, 24), (3, -32, 26), (3, -32, 28), (3, -32, 30), (3, -32, 32), (3, -32, 34), (3, -32, 36), (3, -32, 38), (3, -32, 40), (3, -32, 42), (3, -32, 44), (3, -32, 46), (3, -30, 0), (3, -30, 2), (3, -30, 4), (3, -30, 6), (3, -30, 8), (3, -30, 10), (3, -30, 12), (3, -30, 14), (3, -30, 16), (3, -30, 18), (3, -30, 20), (3, -30, 22), (3, -30, 24), (3, -30, 26), (3, -30, 28), (3, -30, 30), (3, -30, 32), (3, -30, 34), (3, -30, 36), (3, -30, 38), (3, -30, 40), (3, -30, 42), (3, -30, 44), (3, -30, 46), (3, -28, 0), (3, -28, 2), (3, -28, 4), (3, -28, 6), (3, -28, 8), (3, -28, 10), (3, -28, 12), (3, -28, 14), (3, -28, 16), (3, -28, 18), (3, -28, 20), (3, -28, 22), (3, -28, 24), (3, -28, 26), (3, -28, 28), (3, -28, 30), (3, -28, 32), (3, -28, 34), (3, -28, 36), (3, -28, 38), (3, -28, 40), (3, -28, 42), (3, -28, 44), (3, -28, 46), (3, -26, 0), (3, -26, 2), (3, -26, 4), (3, -26, 6), (3, -26, 8), (3, -26, 10), (3, -26, 12), (3, -26, 14), (3, -26, 16), (3, -26, 18), (3, -26, 20), (3, -26, 22), (3, -26, 24), (3, -26, 26), (3, -26, 28), (3, -26, 30), (3, -26, 32), (3, -26, 34), (3, -26, 36), (3, -26, 38), (3, -26, 40), (3, -26, 42), (3, -26, 44), (3, -26, 46), (3, -24, 0), (3, -24, 2), (3, -24, 4), (3, -24, 6), (3, -24, 8), (3, -24, 10), (3, -24, 12), (3, -24, 14), (3, -24, 16), (3, -24, 18), (3, -24, 20), (3, -24, 22), (3, -24, 24), (3, -24, 26), (3, -24, 28), (3, -24, 30), (3, -24, 32), (3, -24, 34), (3, -24, 36), (3, -24, 38), (3, -24, 40), (3, -24, 42), (3, -24, 44), (3, -24, 46), (3, -22, 0), (3, -22, 2), (3, -22, 4), (3, -22, 6), (3, -22, 8), (3, -22, 10), (3, -22, 12), (3, -22, 14), (3, -22, 16), (3, -22, 18), (3, -22, 20), (3, -22, 22), (3, -22, 24), (3, -22, 26), (3, -22, 28), (3, -22, 30), (3, -22, 32), (3, -22, 34), (3, -22, 36), (3, -22, 38), (3, -22, 40), (3, -22, 42), (3, -22, 44), (3, -22, 46), (3, -20, 0), (3, -20, 2), (3, -20, 4), (3, -20, 6), (3, -20, 8), (3, -20, 10), (3, -20, 12), (3, -20, 14), (3, -20, 16), (3, -20, 20), (3, -20, 22), (3, -20, 24), (3, -20, 26), (3, -20, 28), (3, -20, 30), (3, -20, 32), (3, -20, 34), (3, -20, 36), (3, -20, 38), (3, -20, 40), (3, -20, 42), (3, -20, 44), (3, -20, 46), (3, -18, 0), (3, -18, 2), (3, -18, 4), (3, -18, 6), (3, -18, 8), (3, -18, 10), (3, -18, 12), (3, -18, 14), (3, -18, 18), (3, -18, 20), (3, -18, 22), (3, -18, 24), (3, -18, 26), (3, -18, 28), (3, -18, 30), (3, -18, 32), (3, -18, 34), (3, -18, 36), (3, -18, 38), (3, -18, 40), (3, -18, 42), (3, -18, 44), (3, -18, 46), (3, -16, 0), (3, -16, 10), (3, -16, 12), (3, -16, 14), (3, -16, 16), (3, -16, 18), (3, -16, 20), (3, -16, 22), (3, -16, 24), (3, -16, 26), (3, -16, 28), (3, -16, 30), (3, -16, 32), (3, -16, 34), (3, -16, 36), (3, -16, 38), (3, -16, 40), (3, -16, 42), (3, -16, 44), (3, -16, 46), (3, -14, 0), (3, -14, 14), (3, -14, 18), (3, -14, 20), (3, -14, 22), (3, -14, 24), (3, -14, 26), (3, -14, 28), (3, -14, 30), (3, -14, 32), (3, -14, 34), (3, -14, 36), (3, -14, 38), (3, -14, 40), (3, -14, 42), (3, -14, 44), (3, -14, 46), (3, -12, 0), (3, -12, 10), (3, -12, 12), (3, -12, 16), (3, -12, 18), (3, -12, 20), (3, -12, 22), (3, -12, 24), (3, -12, 26), (3, -12, 28), (3, -12, 30), (3, -12, 32), (3, -12, 34), (3, -12, 36), (3, -12, 38), (3, -12, 40), (3, -12, 42), (3, -12, 44), (3, -12, 46), (3, -10, 0), (3, -10, 2), (3, -10, 10), (3, -10, 16), (3, -10, 18), (3, -10, 20), (3, -10, 22), (3, -10, 24), (3, -10, 26), (3, -10, 28), (3, -10, 30), (3, -10, 32), (3, -10, 34), (3, -10, 36), (3, -10, 38), (3, -10, 40), (3, -10, 42), (3, -10, 44), (3, -10, 46), (3, -8, 0), (3, -8, 2), (3, -8, 6), (3, -8, 8), (3, -8, 18), (3, -8, 20), (3, -8, 22), (3, -8, 24), (3, -8, 26), (3, -8, 28), (3, -8, 30), (3, -8, 32), (3, -8, 34), (3, -8, 36), (3, -8, 38), (3, -8, 40), (3, -8, 42), (3, -8, 44), (3, -8, 46), (3, -6, 0), (3, -6, 4), (3, -6, 6), (3, -6, 8), (3, -6, 18), (3, -6, 20), (3, -6, 22), (3, -6, 24), (3, -6, 26), (3, -6, 28), (3, -6, 30), (3, -6, 32), (3, -6, 34), (3, -6, 36), (3, -6, 38), (3, -6, 40), (3, -6, 42), (3, -6, 44), (3, -6, 46), (3, -4, 0), (3, -4, 4), (3, -4, 6), (3, -4, 18), (3, -4, 20), (3, -4, 22), (3, -4, 24), (3, -4, 26), (3, -4, 28), (3, -4, 30), (3, -4, 32), (3, -4, 34), (3, -4, 36), (3, -4, 38), (3, -4, 40), (3, -4, 42), (3, -4, 44), (3, -4, 46), (3, -2, 0), (3, -2, 2), (3, -2, 10), (3, -2, 18), (3, -2, 20), (3, -2, 22), (3, -2, 24), (3, -2, 26), (3, -2, 28), (3, -2, 30), (3, -2, 32), (3, -2, 34), (3, -2, 36), (3, -2, 38), (3, -2, 44), (3, -2, 46), (3, 0, 0), (3, 0, 4), (3, 0, 8), (3, 0, 10), (3, 0, 12), (3, 0, 14), (3, 0, 16), (3, 0, 18), (3, 0, 20), (3, 0, 22), (3, 0, 24), (3, 0, 26), (3, 0, 28), (3, 0, 30), (3, 0, 32), (3, 0, 34), (3, 0, 36), (3, 0, 40), (3, 0, 44), (3, 0, 46), (3, 2, 0), (3, 2, 2), (3, 2, 16), (3, 2, 18), (3, 2, 20), (3, 2, 22), (3, 2, 24), (3, 2, 26), (3, 2, 28), (3, 2, 30), (3, 2, 32), (3, 2, 34), (3, 2, 36), (3, 2, 38), (3, 2, 40), (3, 2, 42), (3, 2, 44), (3, 4, 0), (3, 4, 2), (3, 4, 12), (3, 4, 14), (3, 4, 16), (3, 4, 18), (3, 4, 20), (3, 4, 22), (3, 4, 24), (3, 4, 26), (3, 4, 28), (3, 4, 30), (3, 4, 32), (3, 4, 34), (3, 4, 36), (3, 4, 38), (3, 4, 40), (3, 4, 42), (3, 4, 44), (3, 4, 46), (3, 6, 0), (3, 6, 2), (3, 6, 10), (3, 6, 12), (3, 6, 14), (3, 6, 16), (3, 6, 18), (3, 6, 20), (3, 6, 22), (3, 6, 24), (3, 6, 26), (3, 6, 28), (3, 6, 30), (3, 6, 32), (3, 6, 34), (3, 6, 36), (3, 6, 38), (3, 6, 40), (3, 6, 42), (3, 6, 44), (3, 6, 46), (3, 8, 0), (3, 8, 2), (3, 8, 8), (3, 8, 10), (3, 8, 12), (3, 8, 14), (3, 8, 16), (3, 8, 18), (3, 8, 20), (3, 8, 22), (3, 8, 24), (3, 8, 26), (3, 8, 28), (3, 8, 30), (3, 8, 32), (3, 8, 34), (3, 8, 36), (3, 8, 38), (3, 8, 40), (3, 8, 42), (3, 8, 44), (3, 8, 46), (3, 10, 0), (3, 10, 2), (3, 10, 6), (3, 10, 8), (3, 10, 10), (3, 10, 12), (3, 10, 14), (3, 10, 16), (3, 10, 18), (3, 10, 20), (3, 10, 22), (3, 10, 24), (3, 10, 26), (3, 10, 28), (3, 10, 30), (3, 10, 32), (3, 10, 34), (3, 10, 36), (3, 10, 38), (3, 10, 40), (3, 10, 42), (3, 10, 44), (3, 10, 46), (3, 12, 0), (3, 12, 2), (3, 12, 4), (3, 12, 6), (3, 12, 8), (3, 12, 10), (3, 12, 12), (3, 12, 14), (3, 12, 16), (3, 12, 18), (3, 12, 20), (3, 12, 22), (3, 12, 24), (3, 12, 26), (3, 12, 28), (3, 12, 30), (3, 12, 32), (3, 12, 34), (3, 12, 36), (3, 12, 38), (3, 12, 40), (3, 12, 42), (3, 12, 44), (3, 12, 46), (3, 14, 0), (3, 14, 2), (3, 14, 4), (3, 14, 6), (3, 14, 8), (3, 14, 10), (3, 14, 12), (3, 14, 14), (3, 14, 16), (3, 14, 18), (3, 14, 20), (3, 14, 22), (3, 14, 24), (3, 14, 26), (3, 14, 28), (3, 14, 30), (3, 14, 32), (3, 14, 34), (3, 14, 36), (3, 14, 38), (3, 14, 40), (3, 14, 42), (3, 14, 44), (3, 14, 46), (3, 16, 0), (3, 16, 2), (3, 16, 4), (3, 16, 6), (3, 16, 8), (3, 16, 10), (3, 16, 12), (3, 16, 14), (3, 16, 16), (3, 16, 18), (3, 16, 20), (3, 16, 22), (3, 16, 24), (3, 16, 26), (3, 16, 28), (3, 16, 30), (3, 16, 32), (3, 16, 34), (3, 16, 36), (3, 16, 38), (3, 16, 40), (3, 16, 42), (3, 16, 44), (3, 16, 46), (3, 18, 0), (3, 18, 2), (3, 18, 4), (3, 18, 6), (3, 18, 8), (3, 18, 10), (3, 18, 12), (3, 18, 14), (3, 18, 16), (3, 18, 18), (3, 18, 20), (3, 18, 22), (3, 18, 24), (3, 18, 26), (3, 18, 28), (3, 18, 30), (3, 18, 32), (3, 18, 34), (3, 18, 36), (3, 18, 38), (3, 18, 40), (3, 18, 42), (3, 18, 44), (3, 18, 46), (3, 20, 0), (3, 20, 2), (3, 20, 4), (3, 20, 6), (3, 20, 8), (3, 20, 10), (3, 20, 12), (3, 20, 14), (3, 20, 16), (3, 20, 18), (3, 20, 20), (3, 20, 22), (3, 20, 24), (3, 20, 26), (3, 20, 28), (3, 20, 30), (3, 20, 32), (3, 20, 34), (3, 20, 36), (3, 20, 38), (3, 20, 40), (3, 20, 42), (3, 20, 44), (3, 20, 46), (3, 22, 0), (3, 22, 2), (3, 22, 4), (3, 22, 6), (3, 22, 8), (3, 22, 10), (3, 22, 12), (3, 22, 14), (3, 22, 16), (3, 22, 18), (3, 22, 20), (3, 22, 22), (3, 22, 24), (3, 22, 26), (3, 22, 28), (3, 22, 30), (3, 22, 32), (3, 22, 34), (3, 22, 36), (3, 22, 38), (3, 22, 40), (3, 22, 42), (3, 22, 44), (3, 22, 46), (3, 24, 0), (3, 24, 2), (3, 24, 4), (3, 24, 6), (3, 24, 8), (3, 24, 10), (3, 24, 12), (3, 24, 14), (3, 24, 16), (3, 24, 18), (3, 24, 20), (3, 24, 22), (3, 24, 24), (3, 24, 26), (3, 24, 28), (3, 24, 30), (3, 24, 32), (3, 24, 34), (3, 24, 36), (3, 24, 38), (3, 24, 40), (3, 24, 42), (3, 24, 44), (3, 24, 46), (3, 26, 0), (3, 26, 2), (3, 26, 4), (3, 26, 6), (3, 26, 8), (3, 26, 10), (3, 26, 12), (3, 26, 14), (3, 26, 16), (3, 26, 18), (3, 26, 20), (3, 26, 22), (3, 26, 24), (3, 26, 26), (3, 26, 28), (3, 26, 30), (3, 26, 32), (3, 26, 34), (3, 26, 36), (3, 26, 38), (3, 26, 40), (3, 26, 42), (3, 26, 44), (3, 26, 46), (3, 28, 0), (3, 28, 2), (3, 28, 4), (3, 28, 6), (3, 28, 8), (3, 28, 10), (3, 28, 12), (3, 28, 14), (3, 28, 16), (3, 28, 18), (3, 28, 20), (3, 28, 22), (3, 28, 24), (3, 28, 26), (3, 28, 28), (3, 28, 30), (3, 28, 32), (3, 28, 34), (3, 28, 36), (3, 28, 38), (3, 28, 40), (3, 28, 42), (3, 28, 44), (3, 28, 46), (3, 30, 0), (3, 30, 2), (3, 30, 4), (3, 30, 6), (3, 30, 8), (3, 30, 10), (3, 30, 12), (3, 30, 14), (3, 30, 16), (3, 30, 18), (3, 30, 20), (3, 30, 22), (3, 30, 24), (3, 30, 26), (3, 30, 28), (3, 30, 30), (3, 30, 32), (3, 30, 34), (3, 30, 36), (3, 30, 38), (3, 30, 40), (3, 30, 42), (3, 30, 44), (3, 30, 46), (3, 32, 0), (3, 32, 2), (3, 32, 4), (3, 32, 6), (3, 32, 8), (3, 32, 10), (3, 32, 12), (3, 32, 14), (3, 32, 16), (3, 32, 18), (3, 32, 20), (3, 32, 22), (3, 32, 24), (3, 32, 26), (3, 32, 28), (3, 32, 30), (3, 32, 32), (3, 32, 34), (3, 32, 36), (3, 32, 38), (3, 32, 40), (3, 32, 42), (3, 32, 44), (3, 32, 46), (3, 34, 0), (3, 34, 2), (3, 34, 4), (3, 34, 6), (3, 34, 8), (3, 34, 10), (3, 34, 12), (3, 34, 14), (3, 34, 16), (3, 34, 18), (3, 34, 20), (3, 34, 22), (3, 34, 24), (3, 34, 26), (3, 34, 28), (3, 34, 30), (3, 34, 32), (3, 34, 34), (3, 34, 36), (3, 34, 38), (3, 34, 40), (3, 34, 42), (3, 34, 44), (3, 34, 46), (3, 36, 0), (3, 36, 2), (3, 36, 4), (3, 36, 6), (3, 36, 8), (3, 36, 10), (3, 36, 12), (3, 36, 14), (3, 36, 16), (3, 36, 18), (3, 36, 20), (3, 36, 22), (3, 36, 24), (3, 36, 26), (3, 36, 28), (3, 36, 30), (3, 36, 32), (3, 36, 34), (3, 36, 36), (3, 36, 38), (3, 36, 40), (3, 36, 42), (3, 36, 44), (3, 36, 46), (3, 38, 0), (3, 38, 2), (3, 38, 4), (3, 38, 6), (3, 38, 8), (3, 38, 10), (3, 38, 12), (3, 38, 14), (3, 38, 16), (3, 38, 18), (3, 38, 20), (3, 38, 22), (3, 38, 24), (3, 38, 26), (3, 38, 28), (3, 38, 30), (3, 38, 32), (3, 38, 34), (3, 38, 36), (3, 38, 38), (3, 38, 40), (3, 38, 42), (3, 38, 44), (3, 38, 46), (3, 40, 0), (3, 40, 2), (3, 40, 4), (3, 40, 6), (3, 40, 8), (3, 40, 10), (3, 40, 12), (3, 40, 14), (3, 40, 16), (3, 40, 18), (3, 40, 20), (3, 40, 22), (3, 40, 24), (3, 40, 26), (3, 40, 28), (3, 40, 30), (3, 40, 32), (3, 40, 34), (3, 40, 36), (3, 40, 38), (3, 40, 40), (3, 40, 42), (3, 40, 44), (3, 40, 46), (3, 42, 0), (3, 42, 2), (3, 42, 4), (3, 42, 6), (3, 42, 8), (3, 42, 12), (3, 42, 14), (3, 42, 16), (3, 42, 18), (3, 42, 20), (3, 42, 22), (3, 42, 24), (3, 42, 26), (3, 42, 28), (3, 42, 30), (3, 42, 32), (3, 42, 34), (3, 42, 36), (3, 42, 38), (3, 42, 40), (3, 42, 42), (3, 42, 44), (3, 42, 46), (3, 44, 0), (3, 44, 2), (3, 44, 4), (3, 44, 6), (3, 44, 8), (3, 44, 10), (3, 44, 12), (3, 44, 14), (3, 44, 16), (3, 44, 18), (3, 44, 20), (3, 44, 22), (3, 44, 24), (3, 44, 26), (3, 44, 28), (3, 44, 30), (3, 44, 32), (3, 44, 34), (3, 44, 36), (3, 44, 38), (3, 44, 40), (3, 44, 42), (3, 44, 44), (3, 44, 46), (3, 46, 0), (3, 46, 2), (3, 46, 4), (3, 46, 6), (3, 46, 8), (3, 46, 10), (3, 46, 12), (3, 46, 14), (3, 46, 16), (3, 46, 18), (3, 46, 20), (3, 46, 22), (3, 46, 24), (3, 46, 26), (3, 46, 28), (3, 46, 30), (3, 46, 32), (3, 46, 34), (3, 46, 36), (3, 46, 38), (3, 46, 40), (3, 46, 42), (3, 46, 44), (3, 46, 46), (4, -48, 0), (4, -48, 2), (4, -48, 4), (4, -48, 6), (4, -48, 8), (4, -48, 10), (4, -48, 12), (4, -48, 14), (4, -48, 16), (4, -48, 18), (4, -48, 20), (4, -48, 22), (4, -48, 24), (4, -48, 26), (4, -48, 28), (4, -48, 30), (4, -48, 32), (4, -48, 34), (4, -48, 36), (4, -48, 38), (4, -48, 40), (4, -48, 42), (4, -48, 44), (4, -48, 46), (4, -46, 0), (4, -46, 2), (4, -46, 4), (4, -46, 6), (4, -46, 8), (4, -46, 10), (4, -46, 12), (4, -46, 14), (4, -46, 16), (4, -46, 18), (4, -46, 20), (4, -46, 22), (4, -46, 24), (4, -46, 26), (4, -46, 28), (4, -46, 30), (4, -46, 32), (4, -46, 34), (4, -46, 36), (4, -46, 38), (4, -46, 40), (4, -46, 42), (4, -46, 44), (4, -46, 46), (4, -44, 0), (4, -44, 2), (4, -44, 4), (4, -44, 6), (4, -44, 8), (4, -44, 10), (4, -44, 12), (4, -44, 14), (4, -44, 16), (4, -44, 18), (4, -44, 20), (4, -44, 22), (4, -44, 24), (4, -44, 26), (4, -44, 28), (4, -44, 30), (4, -44, 32), (4, -44, 34), (4, -44, 36), (4, -44, 38), (4, -44, 40), (4, -44, 42), (4, -44, 44), (4, -44, 46), (4, -42, 0), (4, -42, 2), (4, -42, 4), (4, -42, 6), (4, -42, 8), (4, -42, 10), (4, -42, 12), (4, -42, 14), (4, -42, 16), (4, -42, 18), (4, -42, 20), (4, -42, 22), (4, -42, 24), (4, -42, 26), (4, -42, 28), (4, -42, 30), (4, -42, 32), (4, -42, 34), (4, -42, 36), (4, -42, 38), (4, -42, 40), (4, -42, 42), (4, -42, 44), (4, -42, 46), (4, -40, 0), (4, -40, 2), (4, -40, 4), (4, -40, 6), (4, -40, 8), (4, -40, 10), (4, -40, 12), (4, -40, 14), (4, -40, 16), (4, -40, 18), (4, -40, 20), (4, -40, 22), (4, -40, 24), (4, -40, 26), (4, -40, 28), (4, -40, 30), (4, -40, 32), (4, -40, 34), (4, -40, 36), (4, -40, 38), (4, -40, 40), (4, -40, 42), (4, -40, 44), (4, -40, 46), (4, -38, 0), (4, -38, 2), (4, -38, 4), (4, -38, 6), (4, -38, 8), (4, -38, 10), (4, -38, 12), (4, -38, 14), (4, -38, 16), (4, -38, 18), (4, -38, 20), (4, -38, 22), (4, -38, 24), (4, -38, 26), (4, -38, 28), (4, -38, 30), (4, -38, 32), (4, -38, 34), (4, -38, 36), (4, -38, 38), (4, -38, 40), (4, -38, 42), (4, -38, 44), (4, -38, 46), (4, -36, 0), (4, -36, 2), (4, -36, 4), (4, -36, 6), (4, -36, 8), (4, -36, 10), (4, -36, 12), (4, -36, 14), (4, -36, 16), (4, -36, 18), (4, -36, 20), (4, -36, 22), (4, -36, 24), (4, -36, 26), (4, -36, 28), (4, -36, 30), (4, -36, 32), (4, -36, 34), (4, -36, 36), (4, -36, 38), (4, -36, 40), (4, -36, 42), (4, -36, 44), (4, -36, 46), (4, -34, 0), (4, -34, 2), (4, -34, 4), (4, -34, 6), (4, -34, 8), (4, -34, 10), (4, -34, 12), (4, -34, 14), (4, -34, 16), (4, -34, 18), (4, -34, 20), (4, -34, 22), (4, -34, 24), (4, -34, 26), (4, -34, 28), (4, -34, 30), (4, -34, 32), (4, -34, 34), (4, -34, 36), (4, -34, 38), (4, -34, 40), (4, -34, 42), (4, -34, 44), (4, -34, 46), (4, -32, 0), (4, -32, 2), (4, -32, 4), (4, -32, 6), (4, -32, 8), (4, -32, 10), (4, -32, 12), (4, -32, 14), (4, -32, 16), (4, -32, 18), (4, -32, 20), (4, -32, 22), (4, -32, 24), (4, -32, 26), (4, -32, 28), (4, -32, 30), (4, -32, 32), (4, -32, 34), (4, -32, 36), (4, -32, 38), (4, -32, 40), (4, -32, 42), (4, -32, 44), (4, -32, 46), (4, -30, 0), (4, -30, 2), (4, -30, 4), (4, -30, 6), (4, -30, 8), (4, -30, 10), (4, -30, 12), (4, -30, 14), (4, -30, 16), (4, -30, 18), (4, -30, 20), (4, -30, 22), (4, -30, 24), (4, -30, 26), (4, -30, 28), (4, -30, 30), (4, -30, 32), (4, -30, 34), (4, -30, 36), (4, -30, 38), (4, -30, 40), (4, -30, 42), (4, -30, 44), (4, -30, 46), (4, -28, 0), (4, -28, 2), (4, -28, 4), (4, -28, 6), (4, -28, 8), (4, -28, 10), (4, -28, 12), (4, -28, 14), (4, -28, 16), (4, -28, 18), (4, -28, 20), (4, -28, 22), (4, -28, 24), (4, -28, 26), (4, -28, 28), (4, -28, 30), (4, -28, 32), (4, -28, 34), (4, -28, 36), (4, -28, 38), (4, -28, 40), (4, -28, 42), (4, -28, 44), (4, -28, 46), (4, -26, 0), (4, -26, 2), (4, -26, 4), (4, -26, 6), (4, -26, 8), (4, -26, 10), (4, -26, 12), (4, -26, 14), (4, -26, 16), (4, -26, 18), (4, -26, 20), (4, -26, 22), (4, -26, 24), (4, -26, 26), (4, -26, 28), (4, -26, 30), (4, -26, 32), (4, -26, 34), (4, -26, 36), (4, -26, 38), (4, -26, 40), (4, -26, 42), (4, -26, 44), (4, -26, 46), (4, -24, 0), (4, -24, 2), (4, -24, 4), (4, -24, 6), (4, -24, 8), (4, -24, 10), (4, -24, 12), (4, -24, 14), (4, -24, 16), (4, -24, 18), (4, -24, 20), (4, -24, 22), (4, -24, 24), (4, -24, 26), (4, -24, 28), (4, -24, 30), (4, -24, 32), (4, -24, 34), (4, -24, 36), (4, -24, 38), (4, -24, 40), (4, -24, 42), (4, -24, 44), (4, -24, 46), (4, -22, 0), (4, -22, 2), (4, -22, 4), (4, -22, 6), (4, -22, 8), (4, -22, 10), (4, -22, 12), (4, -22, 14), (4, -22, 16), (4, -22, 18), (4, -22, 20), (4, -22, 22), (4, -22, 24), (4, -22, 26), (4, -22, 28), (4, -22, 30), (4, -22, 32), (4, -22, 34), (4, -22, 36), (4, -22, 38), (4, -22, 40), (4, -22, 42), (4, -22, 44), (4, -22, 46), (4, -20, 0), (4, -20, 2), (4, -20, 4), (4, -20, 6), (4, -20, 8), (4, -20, 10), (4, -20, 12), (4, -20, 14), (4, -20, 16), (4, -20, 18), (4, -20, 20), (4, -20, 22), (4, -20, 24), (4, -20, 26), (4, -20, 28), (4, -20, 30), (4, -20, 32), (4, -20, 34), (4, -20, 36), (4, -20, 38), (4, -20, 40), (4, -20, 42), (4, -20, 44), (4, -20, 46), (4, -18, 0), (4, -18, 2), (4, -18, 4), (4, -18, 6), (4, -18, 8), (4, -18, 10), (4, -18, 12), (4, -18, 14), (4, -18, 16), (4, -18, 18), (4, -18, 20), (4, -18, 22), (4, -18, 24), (4, -18, 26), (4, -18, 28), (4, -18, 30), (4, -18, 32), (4, -18, 34), (4, -18, 36), (4, -18, 38), (4, -18, 40), (4, -18, 42), (4, -18, 44), (4, -18, 46), (4, -16, 0), (4, -16, 2), (4, -16, 4), (4, -16, 6), (4, -16, 8), (4, -16, 10), (4, -16, 12), (4, -16, 14), (4, -16, 16), (4, -16, 18), (4, -16, 20), (4, -16, 22), (4, -16, 24), (4, -16, 26), (4, -16, 28), (4, -16, 30), (4, -16, 32), (4, -16, 34), (4, -16, 36), (4, -16, 38), (4, -16, 40), (4, -16, 42), (4, -16, 44), (4, -16, 46), (4, -14, 0), (4, -14, 2), (4, -14, 4), (4, -14, 6), (4, -14, 8), (4, -14, 10), (4, -14, 12), (4, -14, 14), (4, -14, 16), (4, -14, 18), (4, -14, 20), (4, -14, 22), (4, -14, 24), (4, -14, 26), (4, -14, 28), (4, -14, 30), (4, -14, 32), (4, -14, 34), (4, -14, 36), (4, -14, 38), (4, -14, 40), (4, -14, 42), (4, -14, 44), (4, -14, 46), (4, -12, 0), (4, -12, 10), (4, -12, 12), (4, -12, 14), (4, -12, 16), (4, -12, 18), (4, -12, 20), (4, -12, 22), (4, -12, 24), (4, -12, 26), (4, -12, 28), (4, -12, 30), (4, -12, 32), (4, -12, 34), (4, -12, 36), (4, -12, 38), (4, -12, 40), (4, -12, 42), (4, -12, 44), (4, -12, 46), (4, -10, 0), (4, -10, 2), (4, -10, 8), (4, -10, 10), (4, -10, 14), (4, -10, 16), (4, -10, 18), (4, -10, 20), (4, -10, 22), (4, -10, 24), (4, -10, 26), (4, -10, 28), (4, -10, 30), (4, -10, 32), (4, -10, 34), (4, -10, 36), (4, -10, 38), (4, -10, 40), (4, -10, 42), (4, -10, 44), (4, -10, 46), (4, -8, 0), (4, -8, 2), (4, -8, 6), (4, -8, 8), (4, -8, 12), (4, -8, 14), (4, -8, 16), (4, -8, 18), (4, -8, 20), (4, -8, 22), (4, -8, 24), (4, -8, 26), (4, -8, 28), (4, -8, 30), (4, -8, 32), (4, -8, 34), (4, -8, 36), (4, -8, 38), (4, -8, 40), (4, -8, 42), (4, -8, 44), (4, -8, 46), (4, -6, 0), (4, -6, 4), (4, -6, 6), (4, -6, 8), (4, -6, 14), (4, -6, 16), (4, -6, 18), (4, -6, 20), (4, -6, 22), (4, -6, 24), (4, -6, 26), (4, -6, 28), (4, -6, 30), (4, -6, 32), (4, -6, 34), (4, -6, 36), (4, -6, 38), (4, -6, 40), (4, -6, 42), (4, -6, 44), (4, -6, 46), (4, -4, 0), (4, -4, 4), (4, -4, 6), (4, -4, 14), (4, -4, 16), (4, -4, 18), (4, -4, 20), (4, -4, 22), (4, -4, 24), (4, -4, 26), (4, -4, 28), (4, -4, 30), (4, -4, 32), (4, -4, 34), (4, -4, 36), (4, -4, 38), (4, -4, 40), (4, -4, 42), (4, -4, 44), (4, -4, 46), (4, -2, 0), (4, -2, 2), (4, -2, 4), (4, -2, 12), (4, -2, 14), (4, -2, 16), (4, -2, 18), (4, -2, 20), (4, -2, 22), (4, -2, 24), (4, -2, 26), (4, -2, 28), (4, -2, 30), (4, -2, 32), (4, -2, 34), (4, -2, 36), (4, -2, 38), (4, -2, 40), (4, -2, 42), (4, -2, 44), (4, -2, 46), (4, 0, 0), (4, 0, 2), (4, 0, 4), (4, 0, 6), (4, 0, 8), (4, 0, 10), (4, 0, 12), (4, 0, 14), (4, 0, 16), (4, 0, 18), (4, 0, 20), (4, 0, 22), (4, 0, 24), (4, 0, 26), (4, 0, 28), (4, 0, 30), (4, 0, 32), (4, 0, 34), (4, 0, 38), (4, 0, 40), (4, 0, 42), (4, 0, 44), (4, 0, 46), (4, 2, 0), (4, 2, 2), (4, 2, 12), (4, 2, 14), (4, 2, 16), (4, 2, 18), (4, 2, 20), (4, 2, 22), (4, 2, 24), (4, 2, 26), (4, 2, 28), (4, 2, 30), (4, 2, 32), (4, 2, 34), (4, 2, 36), (4, 2, 38), (4, 2, 40), (4, 2, 42), (4, 2, 44), (4, 2, 46), (4, 4, 0), (4, 4, 2), (4, 4, 10), (4, 4, 12), (4, 4, 14), (4, 4, 16), (4, 4, 18), (4, 4, 20), (4, 4, 22), (4, 4, 24), (4, 4, 26), (4, 4, 28), (4, 4, 30), (4, 4, 32), (4, 4, 34), (4, 4, 36), (4, 4, 38), (4, 4, 40), (4, 4, 42), (4, 4, 44), (4, 4, 46), (4, 6, 0), (4, 6, 2), (4, 6, 6), (4, 6, 8), (4, 6, 10), (4, 6, 12), (4, 6, 14), (4, 6, 16), (4, 6, 18), (4, 6, 20), (4, 6, 22), (4, 6, 24), (4, 6, 26), (4, 6, 28), (4, 6, 30), (4, 6, 32), (4, 6, 34), (4, 6, 36), (4, 6, 38), (4, 6, 40), (4, 6, 42), (4, 6, 44), (4, 6, 46), (4, 8, 0), (4, 8, 2), (4, 8, 4), (4, 8, 6), (4, 8, 8), (4, 8, 10), (4, 8, 12), (4, 8, 14), (4, 8, 16), (4, 8, 18), (4, 8, 20), (4, 8, 22), (4, 8, 24), (4, 8, 26), (4, 8, 28), (4, 8, 30), (4, 8, 32), (4, 8, 34), (4, 8, 36), (4, 8, 38), (4, 8, 40), (4, 8, 42), (4, 8, 44), (4, 8, 46), (4, 10, 0), (4, 10, 2), (4, 10, 4), (4, 10, 6), (4, 10, 8), (4, 10, 10), (4, 10, 12), (4, 10, 14), (4, 10, 16), (4, 10, 18), (4, 10, 20), (4, 10, 22), (4, 10, 24), (4, 10, 26), (4, 10, 28), (4, 10, 30), (4, 10, 32), (4, 10, 34), (4, 10, 36), (4, 10, 38), (4, 10, 40), (4, 10, 42), (4, 10, 44), (4, 10, 46), (4, 12, 0), (4, 12, 2), (4, 12, 4), (4, 12, 6), (4, 12, 8), (4, 12, 10), (4, 12, 12), (4, 12, 14), (4, 12, 16), (4, 12, 18), (4, 12, 20), (4, 12, 22), (4, 12, 24), (4, 12, 26), (4, 12, 28), (4, 12, 30), (4, 12, 32), (4, 12, 34), (4, 12, 36), (4, 12, 38), (4, 12, 40), (4, 12, 42), (4, 12, 44), (4, 12, 46), (4, 14, 0), (4, 14, 2), (4, 14, 4), (4, 14, 6), (4, 14, 8), (4, 14, 10), (4, 14, 12), (4, 14, 14), (4, 14, 16), (4, 14, 18), (4, 14, 20), (4, 14, 22), (4, 14, 24), (4, 14, 26), (4, 14, 28), (4, 14, 30), (4, 14, 32), (4, 14, 34), (4, 14, 36), (4, 14, 38), (4, 14, 40), (4, 14, 42), (4, 14, 44), (4, 14, 46), (4, 16, 0), (4, 16, 2), (4, 16, 4), (4, 16, 6), (4, 16, 8), (4, 16, 10), (4, 16, 12), (4, 16, 14), (4, 16, 16), (4, 16, 18), (4, 16, 20), (4, 16, 22), (4, 16, 24), (4, 16, 26), (4, 16, 28), (4, 16, 30), (4, 16, 32), (4, 16, 34), (4, 16, 36), (4, 16, 38), (4, 16, 40), (4, 16, 42), (4, 16, 44), (4, 16, 46), (4, 18, 0), (4, 18, 2), (4, 18, 4), (4, 18, 6), (4, 18, 8), (4, 18, 10), (4, 18, 12), (4, 18, 14), (4, 18, 16), (4, 18, 18), (4, 18, 20), (4, 18, 22), (4, 18, 24), (4, 18, 26), (4, 18, 28), (4, 18, 30), (4, 18, 32), (4, 18, 34), (4, 18, 36), (4, 18, 38), (4, 18, 40), (4, 18, 42), (4, 18, 44), (4, 18, 46), (4, 20, 0), (4, 20, 2), (4, 20, 4), (4, 20, 6), (4, 20, 8), (4, 20, 10), (4, 20, 12), (4, 20, 14), (4, 20, 16), (4, 20, 18), (4, 20, 20), (4, 20, 22), (4, 20, 24), (4, 20, 26), (4, 20, 28), (4, 20, 30), (4, 20, 32), (4, 20, 34), (4, 20, 36), (4, 20, 38), (4, 20, 40), (4, 20, 42), (4, 20, 44), (4, 20, 46), (4, 22, 0), (4, 22, 2), (4, 22, 4), (4, 22, 6), (4, 22, 8), (4, 22, 10), (4, 22, 12), (4, 22, 14), (4, 22, 16), (4, 22, 18), (4, 22, 20), (4, 22, 22), (4, 22, 24), (4, 22, 26), (4, 22, 28), (4, 22, 30), (4, 22, 32), (4, 22, 34), (4, 22, 36), (4, 22, 38), (4, 22, 40), (4, 22, 42), (4, 22, 44), (4, 22, 46), (4, 24, 0), (4, 24, 2), (4, 24, 4), (4, 24, 6), (4, 24, 8), (4, 24, 10), (4, 24, 12), (4, 24, 14), (4, 24, 16), (4, 24, 18), (4, 24, 20), (4, 24, 22), (4, 24, 24), (4, 24, 26), (4, 24, 30), (4, 24, 32), (4, 24, 34), (4, 24, 36), (4, 24, 38), (4, 24, 40), (4, 24, 42), (4, 24, 44), (4, 24, 46), (4, 26, 0), (4, 26, 2), (4, 26, 4), (4, 26, 6), (4, 26, 8), (4, 26, 10), (4, 26, 12), (4, 26, 14), (4, 26, 16), (4, 26, 18), (4, 26, 20), (4, 26, 22), (4, 26, 24), (4, 26, 26), (4, 26, 28), (4, 26, 30), (4, 26, 32), (4, 26, 34), (4, 26, 36), (4, 26, 38), (4, 26, 40), (4, 26, 42), (4, 26, 44), (4, 26, 46), (4, 28, 0), (4, 28, 2), (4, 28, 4), (4, 28, 6), (4, 28, 8), (4, 28, 10), (4, 28, 12), (4, 28, 14), (4, 28, 16), (4, 28, 18), (4, 28, 20), (4, 28, 22), (4, 28, 24), (4, 28, 26), (4, 28, 28), (4, 28, 30), (4, 28, 32), (4, 28, 34), (4, 28, 36), (4, 28, 38), (4, 28, 40), (4, 28, 42), (4, 28, 44), (4, 28, 46), (4, 30, 0), (4, 30, 2), (4, 30, 4), (4, 30, 6), (4, 30, 8), (4, 30, 10), (4, 30, 12), (4, 30, 14), (4, 30, 16), (4, 30, 18), (4, 30, 20), (4, 30, 22), (4, 30, 24), (4, 30, 26), (4, 30, 28), (4, 30, 30), (4, 30, 32), (4, 30, 34), (4, 30, 36), (4, 30, 38), (4, 30, 40), (4, 30, 42), (4, 30, 44), (4, 30, 46), (4, 32, 0), (4, 32, 2), (4, 32, 4), (4, 32, 6), (4, 32, 8), (4, 32, 10), (4, 32, 12), (4, 32, 14), (4, 32, 16), (4, 32, 18), (4, 32, 20), (4, 32, 22), (4, 32, 24), (4, 32, 26), (4, 32, 28), (4, 32, 30), (4, 32, 32), (4, 32, 34), (4, 32, 36), (4, 32, 38), (4, 32, 40), (4, 32, 42), (4, 32, 44), (4, 32, 46), (4, 34, 0), (4, 34, 2), (4, 34, 4), (4, 34, 6), (4, 34, 8), (4, 34, 10), (4, 34, 12), (4, 34, 14), (4, 34, 16), (4, 34, 18), (4, 34, 20), (4, 34, 22), (4, 34, 24), (4, 34, 26), (4, 34, 28), (4, 34, 30), (4, 34, 32), (4, 34, 34), (4, 34, 36), (4, 34, 38), (4, 34, 40), (4, 34, 42), (4, 34, 44), (4, 34, 46), (4, 36, 0), (4, 36, 2), (4, 36, 4), (4, 36, 6), (4, 36, 8), (4, 36, 10), (4, 36, 12), (4, 36, 14), (4, 36, 16), (4, 36, 18), (4, 36, 20), (4, 36, 22), (4, 36, 24), (4, 36, 26), (4, 36, 28), (4, 36, 30), (4, 36, 32), (4, 36, 34), (4, 36, 36), (4, 36, 38), (4, 36, 40), (4, 36, 42), (4, 36, 44), (4, 36, 46), (4, 38, 0), (4, 38, 2), (4, 38, 4), (4, 38, 6), (4, 38, 8), (4, 38, 10), (4, 38, 12), (4, 38, 14), (4, 38, 16), (4, 38, 18), (4, 38, 20), (4, 38, 22), (4, 38, 24), (4, 38, 26), (4, 38, 28), (4, 38, 30), (4, 38, 32), (4, 38, 34), (4, 38, 36), (4, 38, 38), (4, 38, 40), (4, 38, 42), (4, 38, 44), (4, 38, 46), (4, 40, 0), (4, 40, 2), (4, 40, 4), (4, 40, 6), (4, 40, 10), (4, 40, 12), (4, 40, 14), (4, 40, 16), (4, 40, 18), (4, 40, 20), (4, 40, 22), (4, 40, 24), (4, 40, 26), (4, 40, 28), (4, 40, 30), (4, 40, 32), (4, 40, 34), (4, 40, 36), (4, 40, 38), (4, 40, 40), (4, 40, 42), (4, 40, 44), (4, 40, 46), (4, 42, 0), (4, 42, 2), (4, 42, 4), (4, 42, 6), (4, 42, 8), (4, 42, 10), (4, 42, 12), (4, 42, 14), (4, 42, 16), (4, 42, 18), (4, 42, 20), (4, 42, 22), (4, 42, 24), (4, 42, 26), (4, 42, 28), (4, 42, 30), (4, 42, 32), (4, 42, 34), (4, 42, 36), (4, 42, 38), (4, 42, 40), (4, 42, 42), (4, 42, 44), (4, 42, 46), (4, 44, 0), (4, 44, 2), (4, 44, 4), (4, 44, 6), (4, 44, 8), (4, 44, 10), (4, 44, 12), (4, 44, 14), (4, 44, 16), (4, 44, 18), (4, 44, 20), (4, 44, 22), (4, 44, 24), (4, 44, 26), (4, 44, 28), (4, 44, 30), (4, 44, 32), (4, 44, 34), (4, 44, 36), (4, 44, 38), (4, 44, 40), (4, 44, 42), (4, 44, 44), (4, 44, 46), (4, 46, 0), (4, 46, 2), (4, 46, 4), (4, 46, 6), (4, 46, 8), (4, 46, 10), (4, 46, 12), (4, 46, 14), (4, 46, 16), (4, 46, 18), (4, 46, 20), (4, 46, 22), (4, 46, 24), (4, 46, 26), (4, 46, 28), (4, 46, 30), (4, 46, 32), (4, 46, 34), (4, 46, 36), (4, 46, 38), (4, 46, 40), (4, 46, 42), (4, 46, 44), (4, 46, 46), (5, -48, 0), (5, -48, 4), (5, -48, 6), (5, -48, 8), (5, -48, 10), (5, -48, 12), (5, -48, 14), (5, -48, 16), (5, -48, 18), (5, -48, 20), (5, -48, 22), (5, -48, 24), (5, -48, 26), (5, -48, 28), (5, -48, 30), (5, -48, 32), (5, -48, 34), (5, -48, 36), (5, -48, 38), (5, -48, 40), (5, -48, 42), (5, -48, 44), (5, -48, 46), (5, -46, 0), (5, -46, 2), (5, -46, 4), (5, -46, 6), (5, -46, 8), (5, -46, 10), (5, -46, 12), (5, -46, 14), (5, -46, 16), (5, -46, 18), (5, -46, 20), (5, -46, 22), (5, -46, 24), (5, -46, 26), (5, -46, 28), (5, -46, 30), (5, -46, 32), (5, -46, 34), (5, -46, 36), (5, -46, 38), (5, -46, 40), (5, -46, 42), (5, -46, 44), (5, -46, 46), (5, -44, 0), (5, -44, 2), (5, -44, 4), (5, -44, 6), (5, -44, 8), (5, -44, 10), (5, -44, 12), (5, -44, 14), (5, -44, 16), (5, -44, 18), (5, -44, 20), (5, -44, 22), (5, -44, 24), (5, -44, 26), (5, -44, 28), (5, -44, 30), (5, -44, 32), (5, -44, 34), (5, -44, 36), (5, -44, 38), (5, -44, 40), (5, -44, 42), (5, -44, 44), (5, -44, 46), (5, -42, 0), (5, -42, 2), (5, -42, 4), (5, -42, 6), (5, -42, 8), (5, -42, 10), (5, -42, 12), (5, -42, 14), (5, -42, 16), (5, -42, 18), (5, -42, 20), (5, -42, 22), (5, -42, 24), (5, -42, 26), (5, -42, 28), (5, -42, 30), (5, -42, 32), (5, -42, 34), (5, -42, 36), (5, -42, 38), (5, -42, 40), (5, -42, 42), (5, -42, 44), (5, -42, 46), (5, -40, 0), (5, -40, 2), (5, -40, 4), (5, -40, 6), (5, -40, 8), (5, -40, 10), (5, -40, 12), (5, -40, 14), (5, -40, 16), (5, -40, 18), (5, -40, 20), (5, -40, 22), (5, -40, 24), (5, -40, 26), (5, -40, 28), (5, -40, 30), (5, -40, 32), (5, -40, 34), (5, -40, 36), (5, -40, 38), (5, -40, 40), (5, -40, 42), (5, -40, 44), (5, -40, 46), (5, -38, 0), (5, -38, 2), (5, -38, 4), (5, -38, 6), (5, -38, 8), (5, -38, 10), (5, -38, 12), (5, -38, 14), (5, -38, 16), (5, -38, 18), (5, -38, 20), (5, -38, 22), (5, -38, 24), (5, -38, 26), (5, -38, 28), (5, -38, 30), (5, -38, 32), (5, -38, 34), (5, -38, 36), (5, -38, 38), (5, -38, 40), (5, -38, 42), (5, -38, 44), (5, -38, 46), (5, -36, 0), (5, -36, 2), (5, -36, 4), (5, -36, 6), (5, -36, 8), (5, -36, 10), (5, -36, 12), (5, -36, 14), (5, -36, 16), (5, -36, 18), (5, -36, 20), (5, -36, 22), (5, -36, 24), (5, -36, 26), (5, -36, 28), (5, -36, 30), (5, -36, 32), (5, -36, 34), (5, -36, 36), (5, -36, 38), (5, -36, 40), (5, -36, 42), (5, -36, 44), (5, -36, 46), (5, -34, 0), (5, -34, 2), (5, -34, 4), (5, -34, 6), (5, -34, 8), (5, -34, 10), (5, -34, 12), (5, -34, 14), (5, -34, 16), (5, -34, 18), (5, -34, 20), (5, -34, 22), (5, -34, 24), (5, -34, 26), (5, -34, 28), (5, -34, 30), (5, -34, 32), (5, -34, 34), (5, -34, 36), (5, -34, 38), (5, -34, 40), (5, -34, 42), (5, -34, 44), (5, -34, 46), (5, -32, 0), (5, -32, 2), (5, -32, 4), (5, -32, 6), (5, -32, 8), (5, -32, 10), (5, -32, 12), (5, -32, 14), (5, -32, 16), (5, -32, 18), (5, -32, 20), (5, -32, 22), (5, -32, 24), (5, -32, 26), (5, -32, 28), (5, -32, 30), (5, -32, 32), (5, -32, 34), (5, -32, 36), (5, -32, 38), (5, -32, 40), (5, -32, 42), (5, -32, 44), (5, -32, 46), (5, -30, 0), (5, -30, 2), (5, -30, 4), (5, -30, 6), (5, -30, 8), (5, -30, 10), (5, -30, 12), (5, -30, 14), (5, -30, 16), (5, -30, 18), (5, -30, 20), (5, -30, 22), (5, -30, 24), (5, -30, 26), (5, -30, 28), (5, -30, 30), (5, -30, 32), (5, -30, 34), (5, -30, 36), (5, -30, 38), (5, -30, 40), (5, -30, 42), (5, -30, 44), (5, -30, 46), (5, -28, 0), (5, -28, 4), (5, -28, 6), (5, -28, 8), (5, -28, 10), (5, -28, 12), (5, -28, 14), (5, -28, 16), (5, -28, 18), (5, -28, 20), (5, -28, 22), (5, -28, 24), (5, -28, 26), (5, -28, 28), (5, -28, 30), (5, -28, 32), (5, -28, 34), (5, -28, 36), (5, -28, 38), (5, -28, 40), (5, -28, 42), (5, -28, 44), (5, -28, 46), (5, -26, 0), (5, -26, 2), (5, -26, 4), (5, -26, 6), (5, -26, 8), (5, -26, 10), (5, -26, 12), (5, -26, 14), (5, -26, 16), (5, -26, 18), (5, -26, 20), (5, -26, 22), (5, -26, 24), (5, -26, 26), (5, -26, 28), (5, -26, 30), (5, -26, 32), (5, -26, 34), (5, -26, 36), (5, -26, 38), (5, -26, 40), (5, -26, 42), (5, -26, 44), (5, -26, 46), (5, -24, 0), (5, -24, 2), (5, -24, 4), (5, -24, 6), (5, -24, 8), (5, -24, 10), (5, -24, 12), (5, -24, 14), (5, -24, 16), (5, -24, 18), (5, -24, 20), (5, -24, 22), (5, -24, 24), (5, -24, 26), (5, -24, 28), (5, -24, 30), (5, -24, 32), (5, -24, 34), (5, -24, 36), (5, -24, 38), (5, -24, 40), (5, -24, 42), (5, -24, 44), (5, -24, 46), (5, -22, 0), (5, -22, 2), (5, -22, 4), (5, -22, 6), (5, -22, 8), (5, -22, 10), (5, -22, 12), (5, -22, 14), (5, -22, 16), (5, -22, 18), (5, -22, 20), (5, -22, 22), (5, -22, 24), (5, -22, 26), (5, -22, 28), (5, -22, 30), (5, -22, 32), (5, -22, 34), (5, -22, 36), (5, -22, 38), (5, -22, 40), (5, -22, 42), (5, -22, 44), (5, -22, 46), (5, -20, 0), (5, -20, 2), (5, -20, 4), (5, -20, 6), (5, -20, 8), (5, -20, 10), (5, -20, 12), (5, -20, 14), (5, -20, 16), (5, -20, 18), (5, -20, 20), (5, -20, 22), (5, -20, 24), (5, -20, 26), (5, -20, 28), (5, -20, 30), (5, -20, 32), (5, -20, 34), (5, -20, 36), (5, -20, 38), (5, -20, 40), (5, -20, 42), (5, -20, 44), (5, -20, 46), (5, -18, 0), (5, -18, 2), (5, -18, 4), (5, -18, 6), (5, -18, 8), (5, -18, 10), (5, -18, 12), (5, -18, 14), (5, -18, 16), (5, -18, 18), (5, -18, 20), (5, -18, 22), (5, -18, 24), (5, -18, 26), (5, -18, 28), (5, -18, 30), (5, -18, 32), (5, -18, 34), (5, -18, 36), (5, -18, 38), (5, -18, 40), (5, -18, 42), (5, -18, 44), (5, -18, 46), (5, -16, 0), (5, -16, 10), (5, -16, 12), (5, -16, 14), (5, -16, 16), (5, -16, 18), (5, -16, 20), (5, -16, 22), (5, -16, 24), (5, -16, 26), (5, -16, 28), (5, -16, 30), (5, -16, 32), (5, -16, 34), (5, -16, 36), (5, -16, 38), (5, -16, 40), (5, -16, 42), (5, -16, 44), (5, -16, 46), (5, -14, 0), (5, -14, 12), (5, -14, 14), (5, -14, 18), (5, -14, 20), (5, -14, 22), (5, -14, 24), (5, -14, 26), (5, -14, 28), (5, -14, 30), (5, -14, 32), (5, -14, 34), (5, -14, 36), (5, -14, 38), (5, -14, 40), (5, -14, 42), (5, -14, 44), (5, -14, 46), (5, -12, 0), (5, -12, 10), (5, -12, 12), (5, -12, 16), (5, -12, 18), (5, -12, 20), (5, -12, 22), (5, -12, 24), (5, -12, 26), (5, -12, 28), (5, -12, 30), (5, -12, 32), (5, -12, 34), (5, -12, 36), (5, -12, 38), (5, -12, 40), (5, -12, 42), (5, -12, 44), (5, -12, 46), (5, -10, 0), (5, -10, 8), (5, -10, 10), (5, -10, 16), (5, -10, 18), (5, -10, 20), (5, -10, 22), (5, -10, 24), (5, -10, 26), (5, -10, 28), (5, -10, 30), (5, -10, 32), (5, -10, 34), (5, -10, 36), (5, -10, 38), (5, -10, 40), (5, -10, 42), (5, -10, 44), (5, -10, 46), (5, -8, 0), (5, -8, 6), (5, -8, 8), (5, -8, 10), (5, -8, 18), (5, -8, 20), (5, -8, 22), (5, -8, 24), (5, -8, 26), (5, -8, 28), (5, -8, 30), (5, -8, 32), (5, -8, 34), (5, -8, 36), (5, -8, 38), (5, -8, 40), (5, -8, 42), (5, -8, 44), (5, -8, 46), (5, -6, 0), (5, -6, 2), (5, -6, 4), (5, -6, 6), (5, -6, 8), (5, -6, 18), (5, -6, 20), (5, -6, 22), (5, -6, 24), (5, -6, 26), (5, -6, 28), (5, -6, 30), (5, -6, 32), (5, -6, 34), (5, -6, 36), (5, -6, 38), (5, -6, 40), (5, -6, 42), (5, -6, 44), (5, -6, 46), (5, -4, 0), (5, -4, 4), (5, -4, 6), (5, -4, 18), (5, -4, 20), (5, -4, 22), (5, -4, 24), (5, -4, 26), (5, -4, 28), (5, -4, 30), (5, -4, 32), (5, -4, 34), (5, -4, 36), (5, -4, 38), (5, -4, 40), (5, -4, 42), (5, -4, 44), (5, -4, 46), (5, -2, 0), (5, -2, 2), (5, -2, 20), (5, -2, 22), (5, -2, 24), (5, -2, 26), (5, -2, 28), (5, -2, 30), (5, -2, 32), (5, -2, 34), (5, -2, 36), (5, -2, 38), (5, -2, 40), (5, -2, 42), (5, -2, 44), (5, -2, 46), (5, 0, 0), (5, 0, 2), (5, 0, 4), (5, 0, 6), (5, 0, 10), (5, 0, 12), (5, 0, 14), (5, 0, 16), (5, 0, 18), (5, 0, 20), (5, 0, 22), (5, 0, 24), (5, 0, 26), (5, 0, 28), (5, 0, 30), (5, 0, 32), (5, 0, 34), (5, 0, 36), (5, 0, 38), (5, 0, 40), (5, 0, 42), (5, 0, 46), (5, 2, 0), (5, 2, 2), (5, 2, 16), (5, 2, 18), (5, 2, 20), (5, 2, 22), (5, 2, 24), (5, 2, 26), (5, 2, 28), (5, 2, 30), (5, 2, 32), (5, 2, 34), (5, 2, 36), (5, 2, 38), (5, 2, 40), (5, 2, 42), (5, 2, 44), (5, 2, 46), (5, 4, 0), (5, 4, 2), (5, 4, 14), (5, 4, 16), (5, 4, 18), (5, 4, 20), (5, 4, 22), (5, 4, 24), (5, 4, 26), (5, 4, 28), (5, 4, 30), (5, 4, 32), (5, 4, 34), (5, 4, 36), (5, 4, 38), (5, 4, 40), (5, 4, 42), (5, 4, 44), (5, 4, 46), (5, 6, 0), (5, 6, 2), (5, 6, 12), (5, 6, 14), (5, 6, 16), (5, 6, 18), (5, 6, 20), (5, 6, 22), (5, 6, 24), (5, 6, 26), (5, 6, 28), (5, 6, 30), (5, 6, 32), (5, 6, 34), (5, 6, 36), (5, 6, 38), (5, 6, 40), (5, 6, 42), (5, 6, 44), (5, 6, 46), (5, 8, 0), (5, 8, 2), (5, 8, 8), (5, 8, 10), (5, 8, 12), (5, 8, 14), (5, 8, 16), (5, 8, 18), (5, 8, 20), (5, 8, 22), (5, 8, 24), (5, 8, 26), (5, 8, 28), (5, 8, 30), (5, 8, 32), (5, 8, 34), (5, 8, 36), (5, 8, 38), (5, 8, 40), (5, 8, 42), (5, 8, 44), (5, 8, 46), (5, 10, 0), (5, 10, 2), (5, 10, 6), (5, 10, 8), (5, 10, 10), (5, 10, 12), (5, 10, 14), (5, 10, 16), (5, 10, 18), (5, 10, 20), (5, 10, 22), (5, 10, 24), (5, 10, 26), (5, 10, 28), (5, 10, 30), (5, 10, 32), (5, 10, 34), (5, 10, 36), (5, 10, 38), (5, 10, 40), (5, 10, 42), (5, 10, 44), (5, 10, 46), (5, 12, 0), (5, 12, 4), (5, 12, 6), (5, 12, 8), (5, 12, 10), (5, 12, 12), (5, 12, 14), (5, 12, 16), (5, 12, 18), (5, 12, 20), (5, 12, 22), (5, 12, 24), (5, 12, 26), (5, 12, 28), (5, 12, 30), (5, 12, 32), (5, 12, 34), (5, 12, 36), (5, 12, 38), (5, 12, 40), (5, 12, 42), (5, 12, 44), (5, 12, 46), (5, 14, 0), (5, 14, 4), (5, 14, 6), (5, 14, 8), (5, 14, 10), (5, 14, 12), (5, 14, 14), (5, 14, 16), (5, 14, 18), (5, 14, 20), (5, 14, 22), (5, 14, 24), (5, 14, 26), (5, 14, 28), (5, 14, 30), (5, 14, 32), (5, 14, 34), (5, 14, 36), (5, 14, 38), (5, 14, 40), (5, 14, 42), (5, 14, 44), (5, 14, 46), (5, 16, 0), (5, 16, 2), (5, 16, 4), (5, 16, 6), (5, 16, 8), (5, 16, 10), (5, 16, 12), (5, 16, 14), (5, 16, 16), (5, 16, 18), (5, 16, 20), (5, 16, 22), (5, 16, 24), (5, 16, 26), (5, 16, 28), (5, 16, 30), (5, 16, 32), (5, 16, 34), (5, 16, 36), (5, 16, 38), (5, 16, 40), (5, 16, 42), (5, 16, 44), (5, 16, 46), (5, 18, 0), (5, 18, 2), (5, 18, 4), (5, 18, 6), (5, 18, 8), (5, 18, 10), (5, 18, 12), (5, 18, 14), (5, 18, 16), (5, 18, 18), (5, 18, 20), (5, 18, 22), (5, 18, 24), (5, 18, 26), (5, 18, 28), (5, 18, 30), (5, 18, 32), (5, 18, 34), (5, 18, 36), (5, 18, 38), (5, 18, 40), (5, 18, 42), (5, 18, 44), (5, 18, 46), (5, 20, 0), (5, 20, 2), (5, 20, 4), (5, 20, 6), (5, 20, 8), (5, 20, 10), (5, 20, 12), (5, 20, 14), (5, 20, 16), (5, 20, 18), (5, 20, 20), (5, 20, 22), (5, 20, 24), (5, 20, 26), (5, 20, 28), (5, 20, 30), (5, 20, 32), (5, 20, 34), (5, 20, 36), (5, 20, 38), (5, 20, 40), (5, 20, 42), (5, 20, 44), (5, 20, 46), (5, 22, 0), (5, 22, 2), (5, 22, 4), (5, 22, 6), (5, 22, 8), (5, 22, 10), (5, 22, 12), (5, 22, 14), (5, 22, 16), (5, 22, 18), (5, 22, 20), (5, 22, 22), (5, 22, 24), (5, 22, 26), (5, 22, 28), (5, 22, 30), (5, 22, 32), (5, 22, 34), (5, 22, 36), (5, 22, 38), (5, 22, 40), (5, 22, 42), (5, 22, 44), (5, 22, 46), (5, 24, 0), (5, 24, 2), (5, 24, 4), (5, 24, 6), (5, 24, 8), (5, 24, 10), (5, 24, 12), (5, 24, 14), (5, 24, 16), (5, 24, 18), (5, 24, 20), (5, 24, 22), (5, 24, 24), (5, 24, 26), (5, 24, 28), (5, 24, 30), (5, 24, 32), (5, 24, 34), (5, 24, 36), (5, 24, 38), (5, 24, 40), (5, 24, 42), (5, 24, 44), (5, 24, 46), (5, 26, 0), (5, 26, 2), (5, 26, 4), (5, 26, 6), (5, 26, 8), (5, 26, 10), (5, 26, 12), (5, 26, 14), (5, 26, 16), (5, 26, 18), (5, 26, 20), (5, 26, 22), (5, 26, 24), (5, 26, 26), (5, 26, 28), (5, 26, 30), (5, 26, 32), (5, 26, 34), (5, 26, 36), (5, 26, 38), (5, 26, 40), (5, 26, 42), (5, 26, 44), (5, 26, 46), (5, 28, 0), (5, 28, 2), (5, 28, 4), (5, 28, 6), (5, 28, 8), (5, 28, 10), (5, 28, 12), (5, 28, 14), (5, 28, 16), (5, 28, 18), (5, 28, 20), (5, 28, 22), (5, 28, 24), (5, 28, 26), (5, 28, 28), (5, 28, 30), (5, 28, 32), (5, 28, 34), (5, 28, 36), (5, 28, 38), (5, 28, 40), (5, 28, 42), (5, 28, 44), (5, 28, 46), (5, 30, 0), (5, 30, 2), (5, 30, 4), (5, 30, 6), (5, 30, 8), (5, 30, 10), (5, 30, 12), (5, 30, 14), (5, 30, 16), (5, 30, 18), (5, 30, 20), (5, 30, 22), (5, 30, 24), (5, 30, 26), (5, 30, 28), (5, 30, 30), (5, 30, 32), (5, 30, 34), (5, 30, 36), (5, 30, 38), (5, 30, 40), (5, 30, 42), (5, 30, 44), (5, 30, 46), (5, 32, 0), (5, 32, 2), (5, 32, 4), (5, 32, 6), (5, 32, 8), (5, 32, 10), (5, 32, 12), (5, 32, 14), (5, 32, 16), (5, 32, 18), (5, 32, 20), (5, 32, 22), (5, 32, 24), (5, 32, 26), (5, 32, 28), (5, 32, 30), (5, 32, 32), (5, 32, 34), (5, 32, 36), (5, 32, 38), (5, 32, 40), (5, 32, 42), (5, 32, 44), (5, 32, 46), (5, 34, 0), (5, 34, 2), (5, 34, 4), (5, 34, 6), (5, 34, 8), (5, 34, 10), (5, 34, 12), (5, 34, 14), (5, 34, 16), (5, 34, 18), (5, 34, 20), (5, 34, 22), (5, 34, 24), (5, 34, 26), (5, 34, 28), (5, 34, 30), (5, 34, 32), (5, 34, 34), (5, 34, 36), (5, 34, 38), (5, 34, 40), (5, 34, 42), (5, 34, 44), (5, 34, 46), (5, 36, 0), (5, 36, 2), (5, 36, 4), (5, 36, 6), (5, 36, 8), (5, 36, 10), (5, 36, 12), (5, 36, 14), (5, 36, 16), (5, 36, 18), (5, 36, 20), (5, 36, 22), (5, 36, 24), (5, 36, 26), (5, 36, 28), (5, 36, 30), (5, 36, 32), (5, 36, 34), (5, 36, 36), (5, 36, 38), (5, 36, 40), (5, 36, 42), (5, 36, 44), (5, 36, 46), (5, 38, 0), (5, 38, 2), (5, 38, 4), (5, 38, 6), (5, 38, 8), (5, 38, 10), (5, 38, 12), (5, 38, 14), (5, 38, 16), (5, 38, 18), (5, 38, 20), (5, 38, 22), (5, 38, 24), (5, 38, 26), (5, 38, 28), (5, 38, 30), (5, 38, 32), (5, 38, 34), (5, 38, 36), (5, 38, 38), (5, 38, 40), (5, 38, 42), (5, 38, 44), (5, 38, 46), (5, 40, 0), (5, 40, 2), (5, 40, 4), (5, 40, 6), (5, 40, 8), (5, 40, 10), (5, 40, 12), (5, 40, 14), (5, 40, 16), (5, 40, 18), (5, 40, 20), (5, 40, 22), (5, 40, 24), (5, 40, 26), (5, 40, 28), (5, 40, 30), (5, 40, 32), (5, 40, 34), (5, 40, 36), (5, 40, 38), (5, 40, 40), (5, 40, 42), (5, 40, 44), (5, 40, 46), (5, 42, 0), (5, 42, 2), (5, 42, 4), (5, 42, 6), (5, 42, 8), (5, 42, 10), (5, 42, 12), (5, 42, 14), (5, 42, 16), (5, 42, 18), (5, 42, 20), (5, 42, 22), (5, 42, 24), (5, 42, 26), (5, 42, 28), (5, 42, 30), (5, 42, 32), (5, 42, 34), (5, 42, 36), (5, 42, 38), (5, 42, 40), (5, 42, 42), (5, 42, 44), (5, 42, 46), (5, 44, 0), (5, 44, 2), (5, 44, 4), (5, 44, 6), (5, 44, 8), (5, 44, 10), (5, 44, 12), (5, 44, 14), (5, 44, 16), (5, 44, 18), (5, 44, 20), (5, 44, 22), (5, 44, 24), (5, 44, 26), (5, 44, 28), (5, 44, 30), (5, 44, 32), (5, 44, 34), (5, 44, 36), (5, 44, 38), (5, 44, 40), (5, 44, 42), (5, 44, 44), (5, 44, 46), (5, 46, 0), (5, 46, 2), (5, 46, 4), (5, 46, 6), (5, 46, 8), (5, 46, 10), (5, 46, 12), (5, 46, 14), (5, 46, 16), (5, 46, 18), (5, 46, 20), (5, 46, 22), (5, 46, 24), (5, 46, 26), (5, 46, 28), (5, 46, 30), (5, 46, 32), (5, 46, 34), (5, 46, 36), (5, 46, 38), (5, 46, 40), (5, 46, 42), (5, 46, 44), (5, 46, 46)]}\n"
     ]
    }
   ],
   "source": [
    "print(collections)"
   ]
  },
  {
   "cell_type": "markdown",
   "id": "9a1fd2df",
   "metadata": {},
   "source": [
    "***We draw the points in a 3d grids to avoid the overlap***"
   ]
  },
  {
   "cell_type": "code",
   "execution_count": 1143,
   "id": "878af3ad",
   "metadata": {},
   "outputs": [],
   "source": [
    "#reboot \n",
    "scope.io.nrst = False\n",
    "time.sleep(0.05)\n",
    "scope.io.nrst = \"high_z\"\n",
    "time.sleep(0.05)"
   ]
  },
  {
   "cell_type": "code",
   "execution_count": 995,
   "id": "a2575395",
   "metadata": {},
   "outputs": [],
   "source": [
    "#disconnection\n",
    "scope.dis()\n",
    "target.dis()"
   ]
  }
 ],
 "metadata": {
  "kernelspec": {
   "display_name": "Python 3 (ipykernel)",
   "language": "python",
   "name": "python3"
  },
  "language_info": {
   "codemirror_mode": {
    "name": "ipython",
    "version": 3
   },
   "file_extension": ".py",
   "mimetype": "text/x-python",
   "name": "python",
   "nbconvert_exporter": "python",
   "pygments_lexer": "ipython3",
   "version": "3.9.5"
  }
 },
 "nbformat": 4,
 "nbformat_minor": 5
}
